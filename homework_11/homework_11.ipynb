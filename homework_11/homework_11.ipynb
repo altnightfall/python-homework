{
  "nbformat": 4,
  "nbformat_minor": 0,
  "metadata": {
    "colab": {
      "provenance": []
    },
    "kernelspec": {
      "name": "python3",
      "display_name": "Python 3"
    },
    "language_info": {
      "name": "python"
    }
  },
  "cells": [
    {
      "cell_type": "markdown",
      "source": [
        "В данном домашнем задании предлагается воспользоваться полученными знаниями о numpy, pandas, jupyter и средствах визуализации. Для этого необходимо выбрать из каталога любой интересующий dataset и провести его анализ в вольном стиле\n",
        "# Часть 1"
      ],
      "metadata": {
        "id": "TyHxJEAKillP"
      }
    },
    {
      "cell_type": "code",
      "execution_count": 1,
      "metadata": {
        "colab": {
          "base_uri": "https://localhost:8080/"
        },
        "id": "cTjNw5tbhp-b",
        "outputId": "3a262273-409a-486d-ac2e-51246a89bf30"
      },
      "outputs": [
        {
          "output_type": "stream",
          "name": "stdout",
          "text": [
            "--2025-07-09 17:11:38--  https://archive.ics.uci.edu/static/public/2/data.csv\n",
            "Resolving archive.ics.uci.edu (archive.ics.uci.edu)... 128.195.10.252\n",
            "Connecting to archive.ics.uci.edu (archive.ics.uci.edu)|128.195.10.252|:443... connected.\n",
            "HTTP request sent, awaiting response... 200 OK\n",
            "Length: unspecified\n",
            "Saving to: ‘data.csv’\n",
            "\n",
            "data.csv                [   <=>              ]   5.10M  10.0MB/s    in 0.5s    \n",
            "\n",
            "2025-07-09 17:11:39 (10.0 MB/s) - ‘data.csv’ saved [5347052]\n",
            "\n"
          ]
        }
      ],
      "source": [
        "import pandas as pd\n",
        "import numpy as np\n",
        "!wget 'https://archive.ics.uci.edu/static/public/2/data.csv'"
      ]
    },
    {
      "cell_type": "code",
      "source": [
        "data = pd.read_csv(\"data.csv\")\n",
        "data.head()"
      ],
      "metadata": {
        "colab": {
          "base_uri": "https://localhost:8080/",
          "height": 206
        },
        "id": "7vpOXbTehsWn",
        "outputId": "612f53eb-a782-4597-bc5d-03e82e8bf9fd"
      },
      "execution_count": 2,
      "outputs": [
        {
          "output_type": "execute_result",
          "data": {
            "text/plain": [
              "   age         workclass  fnlwgt  education  education-num  \\\n",
              "0   39         State-gov   77516  Bachelors             13   \n",
              "1   50  Self-emp-not-inc   83311  Bachelors             13   \n",
              "2   38           Private  215646    HS-grad              9   \n",
              "3   53           Private  234721       11th              7   \n",
              "4   28           Private  338409  Bachelors             13   \n",
              "\n",
              "       marital-status         occupation   relationship   race     sex  \\\n",
              "0       Never-married       Adm-clerical  Not-in-family  White    Male   \n",
              "1  Married-civ-spouse    Exec-managerial        Husband  White    Male   \n",
              "2            Divorced  Handlers-cleaners  Not-in-family  White    Male   \n",
              "3  Married-civ-spouse  Handlers-cleaners        Husband  Black    Male   \n",
              "4  Married-civ-spouse     Prof-specialty           Wife  Black  Female   \n",
              "\n",
              "   capital-gain  capital-loss  hours-per-week native-country income  \n",
              "0          2174             0              40  United-States  <=50K  \n",
              "1             0             0              13  United-States  <=50K  \n",
              "2             0             0              40  United-States  <=50K  \n",
              "3             0             0              40  United-States  <=50K  \n",
              "4             0             0              40           Cuba  <=50K  "
            ],
            "text/html": [
              "\n",
              "  <div id=\"df-b75f4705-b2fc-4f9b-a7d4-9e45904c207e\" class=\"colab-df-container\">\n",
              "    <div>\n",
              "<style scoped>\n",
              "    .dataframe tbody tr th:only-of-type {\n",
              "        vertical-align: middle;\n",
              "    }\n",
              "\n",
              "    .dataframe tbody tr th {\n",
              "        vertical-align: top;\n",
              "    }\n",
              "\n",
              "    .dataframe thead th {\n",
              "        text-align: right;\n",
              "    }\n",
              "</style>\n",
              "<table border=\"1\" class=\"dataframe\">\n",
              "  <thead>\n",
              "    <tr style=\"text-align: right;\">\n",
              "      <th></th>\n",
              "      <th>age</th>\n",
              "      <th>workclass</th>\n",
              "      <th>fnlwgt</th>\n",
              "      <th>education</th>\n",
              "      <th>education-num</th>\n",
              "      <th>marital-status</th>\n",
              "      <th>occupation</th>\n",
              "      <th>relationship</th>\n",
              "      <th>race</th>\n",
              "      <th>sex</th>\n",
              "      <th>capital-gain</th>\n",
              "      <th>capital-loss</th>\n",
              "      <th>hours-per-week</th>\n",
              "      <th>native-country</th>\n",
              "      <th>income</th>\n",
              "    </tr>\n",
              "  </thead>\n",
              "  <tbody>\n",
              "    <tr>\n",
              "      <th>0</th>\n",
              "      <td>39</td>\n",
              "      <td>State-gov</td>\n",
              "      <td>77516</td>\n",
              "      <td>Bachelors</td>\n",
              "      <td>13</td>\n",
              "      <td>Never-married</td>\n",
              "      <td>Adm-clerical</td>\n",
              "      <td>Not-in-family</td>\n",
              "      <td>White</td>\n",
              "      <td>Male</td>\n",
              "      <td>2174</td>\n",
              "      <td>0</td>\n",
              "      <td>40</td>\n",
              "      <td>United-States</td>\n",
              "      <td>&lt;=50K</td>\n",
              "    </tr>\n",
              "    <tr>\n",
              "      <th>1</th>\n",
              "      <td>50</td>\n",
              "      <td>Self-emp-not-inc</td>\n",
              "      <td>83311</td>\n",
              "      <td>Bachelors</td>\n",
              "      <td>13</td>\n",
              "      <td>Married-civ-spouse</td>\n",
              "      <td>Exec-managerial</td>\n",
              "      <td>Husband</td>\n",
              "      <td>White</td>\n",
              "      <td>Male</td>\n",
              "      <td>0</td>\n",
              "      <td>0</td>\n",
              "      <td>13</td>\n",
              "      <td>United-States</td>\n",
              "      <td>&lt;=50K</td>\n",
              "    </tr>\n",
              "    <tr>\n",
              "      <th>2</th>\n",
              "      <td>38</td>\n",
              "      <td>Private</td>\n",
              "      <td>215646</td>\n",
              "      <td>HS-grad</td>\n",
              "      <td>9</td>\n",
              "      <td>Divorced</td>\n",
              "      <td>Handlers-cleaners</td>\n",
              "      <td>Not-in-family</td>\n",
              "      <td>White</td>\n",
              "      <td>Male</td>\n",
              "      <td>0</td>\n",
              "      <td>0</td>\n",
              "      <td>40</td>\n",
              "      <td>United-States</td>\n",
              "      <td>&lt;=50K</td>\n",
              "    </tr>\n",
              "    <tr>\n",
              "      <th>3</th>\n",
              "      <td>53</td>\n",
              "      <td>Private</td>\n",
              "      <td>234721</td>\n",
              "      <td>11th</td>\n",
              "      <td>7</td>\n",
              "      <td>Married-civ-spouse</td>\n",
              "      <td>Handlers-cleaners</td>\n",
              "      <td>Husband</td>\n",
              "      <td>Black</td>\n",
              "      <td>Male</td>\n",
              "      <td>0</td>\n",
              "      <td>0</td>\n",
              "      <td>40</td>\n",
              "      <td>United-States</td>\n",
              "      <td>&lt;=50K</td>\n",
              "    </tr>\n",
              "    <tr>\n",
              "      <th>4</th>\n",
              "      <td>28</td>\n",
              "      <td>Private</td>\n",
              "      <td>338409</td>\n",
              "      <td>Bachelors</td>\n",
              "      <td>13</td>\n",
              "      <td>Married-civ-spouse</td>\n",
              "      <td>Prof-specialty</td>\n",
              "      <td>Wife</td>\n",
              "      <td>Black</td>\n",
              "      <td>Female</td>\n",
              "      <td>0</td>\n",
              "      <td>0</td>\n",
              "      <td>40</td>\n",
              "      <td>Cuba</td>\n",
              "      <td>&lt;=50K</td>\n",
              "    </tr>\n",
              "  </tbody>\n",
              "</table>\n",
              "</div>\n",
              "    <div class=\"colab-df-buttons\">\n",
              "\n",
              "  <div class=\"colab-df-container\">\n",
              "    <button class=\"colab-df-convert\" onclick=\"convertToInteractive('df-b75f4705-b2fc-4f9b-a7d4-9e45904c207e')\"\n",
              "            title=\"Convert this dataframe to an interactive table.\"\n",
              "            style=\"display:none;\">\n",
              "\n",
              "  <svg xmlns=\"http://www.w3.org/2000/svg\" height=\"24px\" viewBox=\"0 -960 960 960\">\n",
              "    <path d=\"M120-120v-720h720v720H120Zm60-500h600v-160H180v160Zm220 220h160v-160H400v160Zm0 220h160v-160H400v160ZM180-400h160v-160H180v160Zm440 0h160v-160H620v160ZM180-180h160v-160H180v160Zm440 0h160v-160H620v160Z\"/>\n",
              "  </svg>\n",
              "    </button>\n",
              "\n",
              "  <style>\n",
              "    .colab-df-container {\n",
              "      display:flex;\n",
              "      gap: 12px;\n",
              "    }\n",
              "\n",
              "    .colab-df-convert {\n",
              "      background-color: #E8F0FE;\n",
              "      border: none;\n",
              "      border-radius: 50%;\n",
              "      cursor: pointer;\n",
              "      display: none;\n",
              "      fill: #1967D2;\n",
              "      height: 32px;\n",
              "      padding: 0 0 0 0;\n",
              "      width: 32px;\n",
              "    }\n",
              "\n",
              "    .colab-df-convert:hover {\n",
              "      background-color: #E2EBFA;\n",
              "      box-shadow: 0px 1px 2px rgba(60, 64, 67, 0.3), 0px 1px 3px 1px rgba(60, 64, 67, 0.15);\n",
              "      fill: #174EA6;\n",
              "    }\n",
              "\n",
              "    .colab-df-buttons div {\n",
              "      margin-bottom: 4px;\n",
              "    }\n",
              "\n",
              "    [theme=dark] .colab-df-convert {\n",
              "      background-color: #3B4455;\n",
              "      fill: #D2E3FC;\n",
              "    }\n",
              "\n",
              "    [theme=dark] .colab-df-convert:hover {\n",
              "      background-color: #434B5C;\n",
              "      box-shadow: 0px 1px 3px 1px rgba(0, 0, 0, 0.15);\n",
              "      filter: drop-shadow(0px 1px 2px rgba(0, 0, 0, 0.3));\n",
              "      fill: #FFFFFF;\n",
              "    }\n",
              "  </style>\n",
              "\n",
              "    <script>\n",
              "      const buttonEl =\n",
              "        document.querySelector('#df-b75f4705-b2fc-4f9b-a7d4-9e45904c207e button.colab-df-convert');\n",
              "      buttonEl.style.display =\n",
              "        google.colab.kernel.accessAllowed ? 'block' : 'none';\n",
              "\n",
              "      async function convertToInteractive(key) {\n",
              "        const element = document.querySelector('#df-b75f4705-b2fc-4f9b-a7d4-9e45904c207e');\n",
              "        const dataTable =\n",
              "          await google.colab.kernel.invokeFunction('convertToInteractive',\n",
              "                                                    [key], {});\n",
              "        if (!dataTable) return;\n",
              "\n",
              "        const docLinkHtml = 'Like what you see? Visit the ' +\n",
              "          '<a target=\"_blank\" href=https://colab.research.google.com/notebooks/data_table.ipynb>data table notebook</a>'\n",
              "          + ' to learn more about interactive tables.';\n",
              "        element.innerHTML = '';\n",
              "        dataTable['output_type'] = 'display_data';\n",
              "        await google.colab.output.renderOutput(dataTable, element);\n",
              "        const docLink = document.createElement('div');\n",
              "        docLink.innerHTML = docLinkHtml;\n",
              "        element.appendChild(docLink);\n",
              "      }\n",
              "    </script>\n",
              "  </div>\n",
              "\n",
              "\n",
              "    <div id=\"df-f4e43643-b2ae-4dfe-8db0-8cef706b0e00\">\n",
              "      <button class=\"colab-df-quickchart\" onclick=\"quickchart('df-f4e43643-b2ae-4dfe-8db0-8cef706b0e00')\"\n",
              "                title=\"Suggest charts\"\n",
              "                style=\"display:none;\">\n",
              "\n",
              "<svg xmlns=\"http://www.w3.org/2000/svg\" height=\"24px\"viewBox=\"0 0 24 24\"\n",
              "     width=\"24px\">\n",
              "    <g>\n",
              "        <path d=\"M19 3H5c-1.1 0-2 .9-2 2v14c0 1.1.9 2 2 2h14c1.1 0 2-.9 2-2V5c0-1.1-.9-2-2-2zM9 17H7v-7h2v7zm4 0h-2V7h2v10zm4 0h-2v-4h2v4z\"/>\n",
              "    </g>\n",
              "</svg>\n",
              "      </button>\n",
              "\n",
              "<style>\n",
              "  .colab-df-quickchart {\n",
              "      --bg-color: #E8F0FE;\n",
              "      --fill-color: #1967D2;\n",
              "      --hover-bg-color: #E2EBFA;\n",
              "      --hover-fill-color: #174EA6;\n",
              "      --disabled-fill-color: #AAA;\n",
              "      --disabled-bg-color: #DDD;\n",
              "  }\n",
              "\n",
              "  [theme=dark] .colab-df-quickchart {\n",
              "      --bg-color: #3B4455;\n",
              "      --fill-color: #D2E3FC;\n",
              "      --hover-bg-color: #434B5C;\n",
              "      --hover-fill-color: #FFFFFF;\n",
              "      --disabled-bg-color: #3B4455;\n",
              "      --disabled-fill-color: #666;\n",
              "  }\n",
              "\n",
              "  .colab-df-quickchart {\n",
              "    background-color: var(--bg-color);\n",
              "    border: none;\n",
              "    border-radius: 50%;\n",
              "    cursor: pointer;\n",
              "    display: none;\n",
              "    fill: var(--fill-color);\n",
              "    height: 32px;\n",
              "    padding: 0;\n",
              "    width: 32px;\n",
              "  }\n",
              "\n",
              "  .colab-df-quickchart:hover {\n",
              "    background-color: var(--hover-bg-color);\n",
              "    box-shadow: 0 1px 2px rgba(60, 64, 67, 0.3), 0 1px 3px 1px rgba(60, 64, 67, 0.15);\n",
              "    fill: var(--button-hover-fill-color);\n",
              "  }\n",
              "\n",
              "  .colab-df-quickchart-complete:disabled,\n",
              "  .colab-df-quickchart-complete:disabled:hover {\n",
              "    background-color: var(--disabled-bg-color);\n",
              "    fill: var(--disabled-fill-color);\n",
              "    box-shadow: none;\n",
              "  }\n",
              "\n",
              "  .colab-df-spinner {\n",
              "    border: 2px solid var(--fill-color);\n",
              "    border-color: transparent;\n",
              "    border-bottom-color: var(--fill-color);\n",
              "    animation:\n",
              "      spin 1s steps(1) infinite;\n",
              "  }\n",
              "\n",
              "  @keyframes spin {\n",
              "    0% {\n",
              "      border-color: transparent;\n",
              "      border-bottom-color: var(--fill-color);\n",
              "      border-left-color: var(--fill-color);\n",
              "    }\n",
              "    20% {\n",
              "      border-color: transparent;\n",
              "      border-left-color: var(--fill-color);\n",
              "      border-top-color: var(--fill-color);\n",
              "    }\n",
              "    30% {\n",
              "      border-color: transparent;\n",
              "      border-left-color: var(--fill-color);\n",
              "      border-top-color: var(--fill-color);\n",
              "      border-right-color: var(--fill-color);\n",
              "    }\n",
              "    40% {\n",
              "      border-color: transparent;\n",
              "      border-right-color: var(--fill-color);\n",
              "      border-top-color: var(--fill-color);\n",
              "    }\n",
              "    60% {\n",
              "      border-color: transparent;\n",
              "      border-right-color: var(--fill-color);\n",
              "    }\n",
              "    80% {\n",
              "      border-color: transparent;\n",
              "      border-right-color: var(--fill-color);\n",
              "      border-bottom-color: var(--fill-color);\n",
              "    }\n",
              "    90% {\n",
              "      border-color: transparent;\n",
              "      border-bottom-color: var(--fill-color);\n",
              "    }\n",
              "  }\n",
              "</style>\n",
              "\n",
              "      <script>\n",
              "        async function quickchart(key) {\n",
              "          const quickchartButtonEl =\n",
              "            document.querySelector('#' + key + ' button');\n",
              "          quickchartButtonEl.disabled = true;  // To prevent multiple clicks.\n",
              "          quickchartButtonEl.classList.add('colab-df-spinner');\n",
              "          try {\n",
              "            const charts = await google.colab.kernel.invokeFunction(\n",
              "                'suggestCharts', [key], {});\n",
              "          } catch (error) {\n",
              "            console.error('Error during call to suggestCharts:', error);\n",
              "          }\n",
              "          quickchartButtonEl.classList.remove('colab-df-spinner');\n",
              "          quickchartButtonEl.classList.add('colab-df-quickchart-complete');\n",
              "        }\n",
              "        (() => {\n",
              "          let quickchartButtonEl =\n",
              "            document.querySelector('#df-f4e43643-b2ae-4dfe-8db0-8cef706b0e00 button');\n",
              "          quickchartButtonEl.style.display =\n",
              "            google.colab.kernel.accessAllowed ? 'block' : 'none';\n",
              "        })();\n",
              "      </script>\n",
              "    </div>\n",
              "    </div>\n",
              "  </div>\n"
            ],
            "application/vnd.google.colaboratory.intrinsic+json": {
              "type": "dataframe",
              "variable_name": "data",
              "summary": "{\n  \"name\": \"data\",\n  \"rows\": 48842,\n  \"fields\": [\n    {\n      \"column\": \"age\",\n      \"properties\": {\n        \"dtype\": \"number\",\n        \"std\": 13,\n        \"min\": 17,\n        \"max\": 90,\n        \"num_unique_values\": 74,\n        \"samples\": [\n          28,\n          73,\n          35\n        ],\n        \"semantic_type\": \"\",\n        \"description\": \"\"\n      }\n    },\n    {\n      \"column\": \"workclass\",\n      \"properties\": {\n        \"dtype\": \"category\",\n        \"num_unique_values\": 9,\n        \"samples\": [\n          \"Without-pay\",\n          \"Self-emp-not-inc\",\n          \"?\"\n        ],\n        \"semantic_type\": \"\",\n        \"description\": \"\"\n      }\n    },\n    {\n      \"column\": \"fnlwgt\",\n      \"properties\": {\n        \"dtype\": \"number\",\n        \"std\": 105604,\n        \"min\": 12285,\n        \"max\": 1490400,\n        \"num_unique_values\": 28523,\n        \"samples\": [\n          159077,\n          199450,\n          181773\n        ],\n        \"semantic_type\": \"\",\n        \"description\": \"\"\n      }\n    },\n    {\n      \"column\": \"education\",\n      \"properties\": {\n        \"dtype\": \"category\",\n        \"num_unique_values\": 16,\n        \"samples\": [\n          \"Bachelors\",\n          \"HS-grad\",\n          \"Some-college\"\n        ],\n        \"semantic_type\": \"\",\n        \"description\": \"\"\n      }\n    },\n    {\n      \"column\": \"education-num\",\n      \"properties\": {\n        \"dtype\": \"number\",\n        \"std\": 2,\n        \"min\": 1,\n        \"max\": 16,\n        \"num_unique_values\": 16,\n        \"samples\": [\n          13,\n          9,\n          10\n        ],\n        \"semantic_type\": \"\",\n        \"description\": \"\"\n      }\n    },\n    {\n      \"column\": \"marital-status\",\n      \"properties\": {\n        \"dtype\": \"category\",\n        \"num_unique_values\": 7,\n        \"samples\": [\n          \"Never-married\",\n          \"Married-civ-spouse\",\n          \"Married-AF-spouse\"\n        ],\n        \"semantic_type\": \"\",\n        \"description\": \"\"\n      }\n    },\n    {\n      \"column\": \"occupation\",\n      \"properties\": {\n        \"dtype\": \"category\",\n        \"num_unique_values\": 15,\n        \"samples\": [\n          \"Machine-op-inspct\",\n          \"?\",\n          \"Adm-clerical\"\n        ],\n        \"semantic_type\": \"\",\n        \"description\": \"\"\n      }\n    },\n    {\n      \"column\": \"relationship\",\n      \"properties\": {\n        \"dtype\": \"category\",\n        \"num_unique_values\": 6,\n        \"samples\": [\n          \"Not-in-family\",\n          \"Husband\",\n          \"Other-relative\"\n        ],\n        \"semantic_type\": \"\",\n        \"description\": \"\"\n      }\n    },\n    {\n      \"column\": \"race\",\n      \"properties\": {\n        \"dtype\": \"category\",\n        \"num_unique_values\": 5,\n        \"samples\": [\n          \"Black\",\n          \"Other\",\n          \"Asian-Pac-Islander\"\n        ],\n        \"semantic_type\": \"\",\n        \"description\": \"\"\n      }\n    },\n    {\n      \"column\": \"sex\",\n      \"properties\": {\n        \"dtype\": \"category\",\n        \"num_unique_values\": 2,\n        \"samples\": [\n          \"Female\",\n          \"Male\"\n        ],\n        \"semantic_type\": \"\",\n        \"description\": \"\"\n      }\n    },\n    {\n      \"column\": \"capital-gain\",\n      \"properties\": {\n        \"dtype\": \"number\",\n        \"std\": 7452,\n        \"min\": 0,\n        \"max\": 99999,\n        \"num_unique_values\": 123,\n        \"samples\": [\n          2176,\n          10520\n        ],\n        \"semantic_type\": \"\",\n        \"description\": \"\"\n      }\n    },\n    {\n      \"column\": \"capital-loss\",\n      \"properties\": {\n        \"dtype\": \"number\",\n        \"std\": 403,\n        \"min\": 0,\n        \"max\": 4356,\n        \"num_unique_values\": 99,\n        \"samples\": [\n          1974,\n          419\n        ],\n        \"semantic_type\": \"\",\n        \"description\": \"\"\n      }\n    },\n    {\n      \"column\": \"hours-per-week\",\n      \"properties\": {\n        \"dtype\": \"number\",\n        \"std\": 12,\n        \"min\": 1,\n        \"max\": 99,\n        \"num_unique_values\": 96,\n        \"samples\": [\n          97,\n          88\n        ],\n        \"semantic_type\": \"\",\n        \"description\": \"\"\n      }\n    },\n    {\n      \"column\": \"native-country\",\n      \"properties\": {\n        \"dtype\": \"category\",\n        \"num_unique_values\": 42,\n        \"samples\": [\n          \"El-Salvador\",\n          \"Philippines\"\n        ],\n        \"semantic_type\": \"\",\n        \"description\": \"\"\n      }\n    },\n    {\n      \"column\": \"income\",\n      \"properties\": {\n        \"dtype\": \"category\",\n        \"num_unique_values\": 4,\n        \"samples\": [\n          \">50K\",\n          \">50K.\"\n        ],\n        \"semantic_type\": \"\",\n        \"description\": \"\"\n      }\n    }\n  ]\n}"
            }
          },
          "metadata": {},
          "execution_count": 2
        }
      ]
    },
    {
      "cell_type": "markdown",
      "source": [
        "Сколько мужчин и женщин (признак sex) представлено в этом наборе данных?"
      ],
      "metadata": {
        "id": "BTzILH_-hwfP"
      }
    },
    {
      "cell_type": "code",
      "source": [
        "data['sex'].value_counts()"
      ],
      "metadata": {
        "colab": {
          "base_uri": "https://localhost:8080/",
          "height": 178
        },
        "id": "A7GWrNi_hw9H",
        "outputId": "06e51717-0d3f-46ae-9788-97f7ab977138"
      },
      "execution_count": 3,
      "outputs": [
        {
          "output_type": "execute_result",
          "data": {
            "text/plain": [
              "sex\n",
              "Male      32650\n",
              "Female    16192\n",
              "Name: count, dtype: int64"
            ],
            "text/html": [
              "<div>\n",
              "<style scoped>\n",
              "    .dataframe tbody tr th:only-of-type {\n",
              "        vertical-align: middle;\n",
              "    }\n",
              "\n",
              "    .dataframe tbody tr th {\n",
              "        vertical-align: top;\n",
              "    }\n",
              "\n",
              "    .dataframe thead th {\n",
              "        text-align: right;\n",
              "    }\n",
              "</style>\n",
              "<table border=\"1\" class=\"dataframe\">\n",
              "  <thead>\n",
              "    <tr style=\"text-align: right;\">\n",
              "      <th></th>\n",
              "      <th>count</th>\n",
              "    </tr>\n",
              "    <tr>\n",
              "      <th>sex</th>\n",
              "      <th></th>\n",
              "    </tr>\n",
              "  </thead>\n",
              "  <tbody>\n",
              "    <tr>\n",
              "      <th>Male</th>\n",
              "      <td>32650</td>\n",
              "    </tr>\n",
              "    <tr>\n",
              "      <th>Female</th>\n",
              "      <td>16192</td>\n",
              "    </tr>\n",
              "  </tbody>\n",
              "</table>\n",
              "</div><br><label><b>dtype:</b> int64</label>"
            ]
          },
          "metadata": {},
          "execution_count": 3
        }
      ]
    },
    {
      "cell_type": "markdown",
      "source": [
        "Каков средний возраст (признак age) женщин?"
      ],
      "metadata": {
        "id": "GGGooupoh1aV"
      }
    },
    {
      "cell_type": "code",
      "source": [
        "round(data[data['sex'] == 'Female']['age'].mean(), 2)"
      ],
      "metadata": {
        "colab": {
          "base_uri": "https://localhost:8080/"
        },
        "id": "r2UdxWzch38A",
        "outputId": "40d327a4-e63c-4ba0-c58c-806437527398"
      },
      "execution_count": 4,
      "outputs": [
        {
          "output_type": "execute_result",
          "data": {
            "text/plain": [
              "np.float64(36.93)"
            ]
          },
          "metadata": {},
          "execution_count": 4
        }
      ]
    },
    {
      "cell_type": "markdown",
      "source": [
        "Какова доля граждан Германии (признак native-country)?"
      ],
      "metadata": {
        "id": "dOOcHTWyhzYT"
      }
    },
    {
      "cell_type": "code",
      "source": [
        "(float((data['native-country'] == 'Germany').sum()) / data.shape[0]) * 100"
      ],
      "metadata": {
        "colab": {
          "base_uri": "https://localhost:8080/"
        },
        "id": "16hFPcprh4P6",
        "outputId": "1195c48e-0b9e-4fa9-f1ec-d056566d2617"
      },
      "execution_count": 5,
      "outputs": [
        {
          "output_type": "execute_result",
          "data": {
            "text/plain": [
              "0.421768150362393"
            ]
          },
          "metadata": {},
          "execution_count": 5
        }
      ]
    },
    {
      "cell_type": "markdown",
      "source": [
        "Каковы средние значения и среднеквадратичные отклонения возраста тех, кто получает более 50K в год (признак ~~salary~~ income) и тех, кто получает менее 50K в год?\n"
      ],
      "metadata": {
        "id": "UEXndq3diETd"
      }
    },
    {
      "cell_type": "code",
      "source": [
        "higher = data[(data['income'] == '>50K') | (data['income'] == '>50K.')]['age']\n",
        "lower = data[(data['income'] == '<=50K') | (data['income'] == '<=50K.')]['age']\n",
        "print(f\"Заработок\\tСредний возраст\\tКвадратичное отклонение\\n >50K:\\t\\t{round(higher.mean())}\\t\\t {round(higher.std(), 1)}\\n <50K:\\t\\t{round(lower.mean())}\\t\\t {round(lower.std(), 1)}\")"
      ],
      "metadata": {
        "colab": {
          "base_uri": "https://localhost:8080/"
        },
        "id": "9ctoRT20h_OH",
        "outputId": "dd7cb9d2-1450-444a-e89f-e788da1f969c"
      },
      "execution_count": 6,
      "outputs": [
        {
          "output_type": "stream",
          "name": "stdout",
          "text": [
            "Заработок\tСредний возраст\tКвадратичное отклонение\n",
            " >50K:\t\t44\t\t 10.6\n",
            " <50K:\t\t37\t\t 14.1\n"
          ]
        }
      ]
    },
    {
      "cell_type": "markdown",
      "source": [
        "Правда ли, что люди, которые получают больше 50k, имеют как минимум высшее образование? (признак education – Bachelors, Prof-school, Assoc-acdm, Assoc-voc, Masters или Doctorate)"
      ],
      "metadata": {
        "id": "SdFGlaBNiFdU"
      }
    },
    {
      "cell_type": "code",
      "source": [
        "data[(data['income'] == '>50K') | (data['income'] == '>50K.')]['education'].unique() # Ответ - нет"
      ],
      "metadata": {
        "colab": {
          "base_uri": "https://localhost:8080/"
        },
        "id": "SSdJoMvriIpv",
        "outputId": "96867dc1-6bbf-464e-ff84-3236a52cdca9"
      },
      "execution_count": 7,
      "outputs": [
        {
          "output_type": "execute_result",
          "data": {
            "text/plain": [
              "array(['HS-grad', 'Masters', 'Bachelors', 'Some-college', 'Assoc-voc',\n",
              "       'Doctorate', 'Prof-school', 'Assoc-acdm', '7th-8th', '12th',\n",
              "       '10th', '11th', '9th', '5th-6th', '1st-4th', 'Preschool'],\n",
              "      dtype=object)"
            ]
          },
          "metadata": {},
          "execution_count": 7
        }
      ]
    },
    {
      "cell_type": "markdown",
      "source": [
        "Выведите статистику возраста для каждой расы (признак race) и каждого пола. Используйте groupby и describe. Найдите таким образом максимальный возраст мужчин расы Amer-Indian-Eskimo."
      ],
      "metadata": {
        "id": "zP1e9ynSiKmT"
      }
    },
    {
      "cell_type": "code",
      "source": [
        "for (race, sex), sub_df in data.groupby(['race', 'sex']):\n",
        "    print(f'Раса: {race}, пол: {sex}')\n",
        "    print(sub_df['age'].describe())"
      ],
      "metadata": {
        "colab": {
          "base_uri": "https://localhost:8080/"
        },
        "id": "HMH5EDyciFrk",
        "outputId": "fc6a55f6-d871-4a59-ded4-81d6f6f73dd0"
      },
      "execution_count": 8,
      "outputs": [
        {
          "output_type": "stream",
          "name": "stdout",
          "text": [
            "Раса: Amer-Indian-Eskimo, пол: Female\n",
            "count    185.000000\n",
            "mean      36.237838\n",
            "std       12.840056\n",
            "min       17.000000\n",
            "25%       26.000000\n",
            "50%       35.000000\n",
            "75%       46.000000\n",
            "max       80.000000\n",
            "Name: age, dtype: float64\n",
            "Раса: Amer-Indian-Eskimo, пол: Male\n",
            "count    285.000000\n",
            "mean      36.989474\n",
            "std       11.703943\n",
            "min       17.000000\n",
            "25%       29.000000\n",
            "50%       35.000000\n",
            "75%       44.000000\n",
            "max       82.000000\n",
            "Name: age, dtype: float64\n",
            "Раса: Asian-Pac-Islander, пол: Female\n",
            "count    517.000000\n",
            "mean      35.657640\n",
            "std       12.637799\n",
            "min       17.000000\n",
            "25%       25.000000\n",
            "50%       34.000000\n",
            "75%       44.000000\n",
            "max       81.000000\n",
            "Name: age, dtype: float64\n",
            "Раса: Asian-Pac-Islander, пол: Male\n",
            "count    1002.000000\n",
            "mean       38.994012\n",
            "std        12.824878\n",
            "min        18.000000\n",
            "25%        29.000000\n",
            "50%        37.000000\n",
            "75%        46.000000\n",
            "max        90.000000\n",
            "Name: age, dtype: float64\n",
            "Раса: Black, пол: Female\n",
            "count    2308.000000\n",
            "mean       37.905979\n",
            "std        12.736001\n",
            "min        17.000000\n",
            "25%        28.000000\n",
            "50%        36.000000\n",
            "75%        46.000000\n",
            "max        90.000000\n",
            "Name: age, dtype: float64\n",
            "Раса: Black, пол: Male\n",
            "count    2377.000000\n",
            "mean       37.922592\n",
            "std        13.036981\n",
            "min        17.000000\n",
            "25%        28.000000\n",
            "50%        36.000000\n",
            "75%        46.000000\n",
            "max        90.000000\n",
            "Name: age, dtype: float64\n",
            "Раса: Other, пол: Female\n",
            "count    155.000000\n",
            "mean      31.212903\n",
            "std       11.233061\n",
            "min       17.000000\n",
            "25%       23.000000\n",
            "50%       29.000000\n",
            "75%       37.000000\n",
            "max       74.000000\n",
            "Name: age, dtype: float64\n",
            "Раса: Other, пол: Male\n",
            "count    251.000000\n",
            "mean      35.167331\n",
            "std       11.808297\n",
            "min       17.000000\n",
            "25%       26.000000\n",
            "50%       32.000000\n",
            "75%       42.500000\n",
            "max       77.000000\n",
            "Name: age, dtype: float64\n",
            "Раса: White, пол: Female\n",
            "count    13027.000000\n",
            "mean        36.882935\n",
            "std         14.454178\n",
            "min         17.000000\n",
            "25%         25.000000\n",
            "50%         35.000000\n",
            "75%         47.000000\n",
            "max         90.000000\n",
            "Name: age, dtype: float64\n",
            "Раса: White, пол: Male\n",
            "count    28735.000000\n",
            "mean        39.704507\n",
            "std         13.475250\n",
            "min         17.000000\n",
            "25%         29.000000\n",
            "50%         38.000000\n",
            "75%         49.000000\n",
            "max         90.000000\n",
            "Name: age, dtype: float64\n"
          ]
        }
      ]
    },
    {
      "cell_type": "markdown",
      "source": [
        "Среди кого больше доля зарабатывающих много (>50K): среди женатых или холостых мужчин (признак marital-status)? Женатыми считаем тех, у кого marital-status начинается с Married (Married-civ-spouse, Married-spouse-absent или Married-AF-spouse), остальных считаем холостыми."
      ],
      "metadata": {
        "id": "quPmTcYwiPi0"
      }
    },
    {
      "cell_type": "code",
      "source": [
        "data['marital-status'].value_counts() # Смотрим какие вообще есть"
      ],
      "metadata": {
        "colab": {
          "base_uri": "https://localhost:8080/",
          "height": 335
        },
        "id": "sS04320EiPzB",
        "outputId": "cbb37182-a00f-464a-9d03-3bd0da8a5d95"
      },
      "execution_count": 9,
      "outputs": [
        {
          "output_type": "execute_result",
          "data": {
            "text/plain": [
              "marital-status\n",
              "Married-civ-spouse       22379\n",
              "Never-married            16117\n",
              "Divorced                  6633\n",
              "Separated                 1530\n",
              "Widowed                   1518\n",
              "Married-spouse-absent      628\n",
              "Married-AF-spouse           37\n",
              "Name: count, dtype: int64"
            ],
            "text/html": [
              "<div>\n",
              "<style scoped>\n",
              "    .dataframe tbody tr th:only-of-type {\n",
              "        vertical-align: middle;\n",
              "    }\n",
              "\n",
              "    .dataframe tbody tr th {\n",
              "        vertical-align: top;\n",
              "    }\n",
              "\n",
              "    .dataframe thead th {\n",
              "        text-align: right;\n",
              "    }\n",
              "</style>\n",
              "<table border=\"1\" class=\"dataframe\">\n",
              "  <thead>\n",
              "    <tr style=\"text-align: right;\">\n",
              "      <th></th>\n",
              "      <th>count</th>\n",
              "    </tr>\n",
              "    <tr>\n",
              "      <th>marital-status</th>\n",
              "      <th></th>\n",
              "    </tr>\n",
              "  </thead>\n",
              "  <tbody>\n",
              "    <tr>\n",
              "      <th>Married-civ-spouse</th>\n",
              "      <td>22379</td>\n",
              "    </tr>\n",
              "    <tr>\n",
              "      <th>Never-married</th>\n",
              "      <td>16117</td>\n",
              "    </tr>\n",
              "    <tr>\n",
              "      <th>Divorced</th>\n",
              "      <td>6633</td>\n",
              "    </tr>\n",
              "    <tr>\n",
              "      <th>Separated</th>\n",
              "      <td>1530</td>\n",
              "    </tr>\n",
              "    <tr>\n",
              "      <th>Widowed</th>\n",
              "      <td>1518</td>\n",
              "    </tr>\n",
              "    <tr>\n",
              "      <th>Married-spouse-absent</th>\n",
              "      <td>628</td>\n",
              "    </tr>\n",
              "    <tr>\n",
              "      <th>Married-AF-spouse</th>\n",
              "      <td>37</td>\n",
              "    </tr>\n",
              "  </tbody>\n",
              "</table>\n",
              "</div><br><label><b>dtype:</b> int64</label>"
            ]
          },
          "metadata": {},
          "execution_count": 9
        }
      ]
    },
    {
      "cell_type": "code",
      "source": [
        "data[(data['sex'] == 'Male') & (data['marital-status'].isin(['Never-married', 'Separated', 'Divorced']))]['income'].value_counts()"
      ],
      "metadata": {
        "colab": {
          "base_uri": "https://localhost:8080/",
          "height": 241
        },
        "id": "AYiewKTaiTfZ",
        "outputId": "ffb48ced-fccc-4084-ce87-acc724e91722"
      },
      "execution_count": 10,
      "outputs": [
        {
          "output_type": "execute_result",
          "data": {
            "text/plain": [
              "income\n",
              "<=50K     7423\n",
              "<=50K.    3765\n",
              ">50K       658\n",
              ">50K.      284\n",
              "Name: count, dtype: int64"
            ],
            "text/html": [
              "<div>\n",
              "<style scoped>\n",
              "    .dataframe tbody tr th:only-of-type {\n",
              "        vertical-align: middle;\n",
              "    }\n",
              "\n",
              "    .dataframe tbody tr th {\n",
              "        vertical-align: top;\n",
              "    }\n",
              "\n",
              "    .dataframe thead th {\n",
              "        text-align: right;\n",
              "    }\n",
              "</style>\n",
              "<table border=\"1\" class=\"dataframe\">\n",
              "  <thead>\n",
              "    <tr style=\"text-align: right;\">\n",
              "      <th></th>\n",
              "      <th>count</th>\n",
              "    </tr>\n",
              "    <tr>\n",
              "      <th>income</th>\n",
              "      <th></th>\n",
              "    </tr>\n",
              "  </thead>\n",
              "  <tbody>\n",
              "    <tr>\n",
              "      <th>&lt;=50K</th>\n",
              "      <td>7423</td>\n",
              "    </tr>\n",
              "    <tr>\n",
              "      <th>&lt;=50K.</th>\n",
              "      <td>3765</td>\n",
              "    </tr>\n",
              "    <tr>\n",
              "      <th>&gt;50K</th>\n",
              "      <td>658</td>\n",
              "    </tr>\n",
              "    <tr>\n",
              "      <th>&gt;50K.</th>\n",
              "      <td>284</td>\n",
              "    </tr>\n",
              "  </tbody>\n",
              "</table>\n",
              "</div><br><label><b>dtype:</b> int64</label>"
            ]
          },
          "metadata": {},
          "execution_count": 10
        }
      ]
    },
    {
      "cell_type": "code",
      "source": [
        "data[(data['sex'] == 'Male') & (data['marital-status'].str.startswith('Married'))]['income'].value_counts()"
      ],
      "metadata": {
        "colab": {
          "base_uri": "https://localhost:8080/",
          "height": 241
        },
        "id": "O34Mz54ciU-j",
        "outputId": "753dd9a1-b3ef-4ef2-c3b0-2afdebd74ef2"
      },
      "execution_count": 11,
      "outputs": [
        {
          "output_type": "execute_result",
          "data": {
            "text/plain": [
              "income\n",
              "<=50K     7576\n",
              ">50K      5965\n",
              "<=50K.    3742\n",
              ">50K.     2952\n",
              "Name: count, dtype: int64"
            ],
            "text/html": [
              "<div>\n",
              "<style scoped>\n",
              "    .dataframe tbody tr th:only-of-type {\n",
              "        vertical-align: middle;\n",
              "    }\n",
              "\n",
              "    .dataframe tbody tr th {\n",
              "        vertical-align: top;\n",
              "    }\n",
              "\n",
              "    .dataframe thead th {\n",
              "        text-align: right;\n",
              "    }\n",
              "</style>\n",
              "<table border=\"1\" class=\"dataframe\">\n",
              "  <thead>\n",
              "    <tr style=\"text-align: right;\">\n",
              "      <th></th>\n",
              "      <th>count</th>\n",
              "    </tr>\n",
              "    <tr>\n",
              "      <th>income</th>\n",
              "      <th></th>\n",
              "    </tr>\n",
              "  </thead>\n",
              "  <tbody>\n",
              "    <tr>\n",
              "      <th>&lt;=50K</th>\n",
              "      <td>7576</td>\n",
              "    </tr>\n",
              "    <tr>\n",
              "      <th>&gt;50K</th>\n",
              "      <td>5965</td>\n",
              "    </tr>\n",
              "    <tr>\n",
              "      <th>&lt;=50K.</th>\n",
              "      <td>3742</td>\n",
              "    </tr>\n",
              "    <tr>\n",
              "      <th>&gt;50K.</th>\n",
              "      <td>2952</td>\n",
              "    </tr>\n",
              "  </tbody>\n",
              "</table>\n",
              "</div><br><label><b>dtype:</b> int64</label>"
            ]
          },
          "metadata": {},
          "execution_count": 11
        }
      ]
    },
    {
      "cell_type": "markdown",
      "source": [
        "Какое максимальное число часов человек работает в неделю (признак hours-per-week)? Сколько людей работают такое количество часов и каков среди них процент зарабатывающих много?"
      ],
      "metadata": {
        "id": "Bmdds3DyiX61"
      }
    },
    {
      "cell_type": "code",
      "source": [
        "maximum_hours = data['hours-per-week'].max()\n",
        "print(f\"Максимум часов: {maximum_hours}\")\n",
        "people_with_max_hours = len(data[data['hours-per-week'] == maximum_hours])\n",
        "print(f\"Количество людей с такими часами: {people_with_max_hours}\")\n",
        "print(f\"Из них зарабатывают много: {round(len(data[(data['hours-per-week'] == maximum_hours) & ((data['income'] == '>50K') | (data['income'] == '>50K.'))]) / people_with_max_hours * 100, 2)}%\")"
      ],
      "metadata": {
        "colab": {
          "base_uri": "https://localhost:8080/"
        },
        "id": "wC7zvWULiYHh",
        "outputId": "0b5e4bfb-9584-4519-f8fd-e396da295da9"
      },
      "execution_count": 12,
      "outputs": [
        {
          "output_type": "stream",
          "name": "stdout",
          "text": [
            "Максимум часов: 99\n",
            "Количество людей с такими часами: 137\n",
            "Из них зарабатывают много: 29.93%\n"
          ]
        }
      ]
    },
    {
      "cell_type": "markdown",
      "source": [
        "Посчитайте среднее время работы (hours-per-week) зарабатывающих мало и много (salary) для каждой страны (native-country)."
      ],
      "metadata": {
        "id": "NpoKcASfia0I"
      }
    },
    {
      "cell_type": "code",
      "source": [
        "pd.crosstab(data['native-country'],\n",
        "            data['income'],\n",
        "            values=data['hours-per-week'],\n",
        "            aggfunc=np.mean).T"
      ],
      "metadata": {
        "colab": {
          "base_uri": "https://localhost:8080/",
          "height": 271
        },
        "id": "rChYU1DDia9U",
        "outputId": "352bd5a8-a436-4dc6-f0af-42a75e8e09d4"
      },
      "execution_count": 13,
      "outputs": [
        {
          "output_type": "stream",
          "name": "stderr",
          "text": [
            "/tmp/ipython-input-13-526114309.py:1: FutureWarning: The provided callable <function mean at 0x7dc2b09da3e0> is currently using DataFrameGroupBy.mean. In a future version of pandas, the provided callable will be used directly. To keep current behavior pass the string \"mean\" instead.\n",
            "  pd.crosstab(data['native-country'],\n"
          ]
        },
        {
          "output_type": "execute_result",
          "data": {
            "text/plain": [
              "native-country          ?   Cambodia     Canada      China   Columbia  \\\n",
              "income                                                                  \n",
              "<=50K           40.164760  41.416667  37.914634  37.381818  38.684211   \n",
              "<=50K.                NaN  40.714286  36.189189  35.451613  40.166667   \n",
              ">50K            45.547945  40.000000  45.641026  38.900000  50.000000   \n",
              ">50K.                 NaN  57.500000  46.916667  45.937500  62.500000   \n",
              "\n",
              "native-country       Cuba  Dominican-Republic    Ecuador  El-Salvador  \\\n",
              "income                                                                  \n",
              "<=50K           37.985714           42.338235  38.041667    36.030928   \n",
              "<=50K.          41.705882           39.800000  37.800000    35.382979   \n",
              ">50K            42.440000           47.000000  48.750000    45.000000   \n",
              ">50K.           44.000000           40.000000  46.000000    36.500000   \n",
              "\n",
              "native-country    England  ...   Portugal  Puerto-Rico   Scotland      South  \\\n",
              "income                     ...                                                 \n",
              "<=50K           40.483333  ...  41.939394    38.470588  39.444444  40.156250   \n",
              "<=50K.          36.050000  ...  40.227273    39.629032  42.222222  42.903226   \n",
              ">50K            44.533333  ...  41.500000    39.416667  46.666667  51.437500   \n",
              ">50K.           49.411765  ...  49.375000    40.625000        NaN  51.250000   \n",
              "\n",
              "native-country     Taiwan   Thailand  Trinadad&Tobago  United-States  \\\n",
              "income                                                                 \n",
              "<=50K           33.774194  42.866667        37.058824      38.799127   \n",
              "<=50K.          41.250000  43.300000        42.500000      38.852859   \n",
              ">50K            46.800000  58.333333        40.000000      45.505369   \n",
              ">50K.           41.333333  45.000000              NaN      45.403633   \n",
              "\n",
              "native-country    Vietnam  Yugoslavia  \n",
              "income                                 \n",
              "<=50K           37.193548        41.6  \n",
              "<=50K.          40.235294        32.4  \n",
              ">50K            39.200000        49.5  \n",
              ">50K.           40.000000        25.0  \n",
              "\n",
              "[4 rows x 42 columns]"
            ],
            "text/html": [
              "\n",
              "  <div id=\"df-92803d46-79f4-4c2a-92ee-4dfb89e4f7eb\" class=\"colab-df-container\">\n",
              "    <div>\n",
              "<style scoped>\n",
              "    .dataframe tbody tr th:only-of-type {\n",
              "        vertical-align: middle;\n",
              "    }\n",
              "\n",
              "    .dataframe tbody tr th {\n",
              "        vertical-align: top;\n",
              "    }\n",
              "\n",
              "    .dataframe thead th {\n",
              "        text-align: right;\n",
              "    }\n",
              "</style>\n",
              "<table border=\"1\" class=\"dataframe\">\n",
              "  <thead>\n",
              "    <tr style=\"text-align: right;\">\n",
              "      <th>native-country</th>\n",
              "      <th>?</th>\n",
              "      <th>Cambodia</th>\n",
              "      <th>Canada</th>\n",
              "      <th>China</th>\n",
              "      <th>Columbia</th>\n",
              "      <th>Cuba</th>\n",
              "      <th>Dominican-Republic</th>\n",
              "      <th>Ecuador</th>\n",
              "      <th>El-Salvador</th>\n",
              "      <th>England</th>\n",
              "      <th>...</th>\n",
              "      <th>Portugal</th>\n",
              "      <th>Puerto-Rico</th>\n",
              "      <th>Scotland</th>\n",
              "      <th>South</th>\n",
              "      <th>Taiwan</th>\n",
              "      <th>Thailand</th>\n",
              "      <th>Trinadad&amp;Tobago</th>\n",
              "      <th>United-States</th>\n",
              "      <th>Vietnam</th>\n",
              "      <th>Yugoslavia</th>\n",
              "    </tr>\n",
              "    <tr>\n",
              "      <th>income</th>\n",
              "      <th></th>\n",
              "      <th></th>\n",
              "      <th></th>\n",
              "      <th></th>\n",
              "      <th></th>\n",
              "      <th></th>\n",
              "      <th></th>\n",
              "      <th></th>\n",
              "      <th></th>\n",
              "      <th></th>\n",
              "      <th></th>\n",
              "      <th></th>\n",
              "      <th></th>\n",
              "      <th></th>\n",
              "      <th></th>\n",
              "      <th></th>\n",
              "      <th></th>\n",
              "      <th></th>\n",
              "      <th></th>\n",
              "      <th></th>\n",
              "      <th></th>\n",
              "    </tr>\n",
              "  </thead>\n",
              "  <tbody>\n",
              "    <tr>\n",
              "      <th>&lt;=50K</th>\n",
              "      <td>40.164760</td>\n",
              "      <td>41.416667</td>\n",
              "      <td>37.914634</td>\n",
              "      <td>37.381818</td>\n",
              "      <td>38.684211</td>\n",
              "      <td>37.985714</td>\n",
              "      <td>42.338235</td>\n",
              "      <td>38.041667</td>\n",
              "      <td>36.030928</td>\n",
              "      <td>40.483333</td>\n",
              "      <td>...</td>\n",
              "      <td>41.939394</td>\n",
              "      <td>38.470588</td>\n",
              "      <td>39.444444</td>\n",
              "      <td>40.156250</td>\n",
              "      <td>33.774194</td>\n",
              "      <td>42.866667</td>\n",
              "      <td>37.058824</td>\n",
              "      <td>38.799127</td>\n",
              "      <td>37.193548</td>\n",
              "      <td>41.6</td>\n",
              "    </tr>\n",
              "    <tr>\n",
              "      <th>&lt;=50K.</th>\n",
              "      <td>NaN</td>\n",
              "      <td>40.714286</td>\n",
              "      <td>36.189189</td>\n",
              "      <td>35.451613</td>\n",
              "      <td>40.166667</td>\n",
              "      <td>41.705882</td>\n",
              "      <td>39.800000</td>\n",
              "      <td>37.800000</td>\n",
              "      <td>35.382979</td>\n",
              "      <td>36.050000</td>\n",
              "      <td>...</td>\n",
              "      <td>40.227273</td>\n",
              "      <td>39.629032</td>\n",
              "      <td>42.222222</td>\n",
              "      <td>42.903226</td>\n",
              "      <td>41.250000</td>\n",
              "      <td>43.300000</td>\n",
              "      <td>42.500000</td>\n",
              "      <td>38.852859</td>\n",
              "      <td>40.235294</td>\n",
              "      <td>32.4</td>\n",
              "    </tr>\n",
              "    <tr>\n",
              "      <th>&gt;50K</th>\n",
              "      <td>45.547945</td>\n",
              "      <td>40.000000</td>\n",
              "      <td>45.641026</td>\n",
              "      <td>38.900000</td>\n",
              "      <td>50.000000</td>\n",
              "      <td>42.440000</td>\n",
              "      <td>47.000000</td>\n",
              "      <td>48.750000</td>\n",
              "      <td>45.000000</td>\n",
              "      <td>44.533333</td>\n",
              "      <td>...</td>\n",
              "      <td>41.500000</td>\n",
              "      <td>39.416667</td>\n",
              "      <td>46.666667</td>\n",
              "      <td>51.437500</td>\n",
              "      <td>46.800000</td>\n",
              "      <td>58.333333</td>\n",
              "      <td>40.000000</td>\n",
              "      <td>45.505369</td>\n",
              "      <td>39.200000</td>\n",
              "      <td>49.5</td>\n",
              "    </tr>\n",
              "    <tr>\n",
              "      <th>&gt;50K.</th>\n",
              "      <td>NaN</td>\n",
              "      <td>57.500000</td>\n",
              "      <td>46.916667</td>\n",
              "      <td>45.937500</td>\n",
              "      <td>62.500000</td>\n",
              "      <td>44.000000</td>\n",
              "      <td>40.000000</td>\n",
              "      <td>46.000000</td>\n",
              "      <td>36.500000</td>\n",
              "      <td>49.411765</td>\n",
              "      <td>...</td>\n",
              "      <td>49.375000</td>\n",
              "      <td>40.625000</td>\n",
              "      <td>NaN</td>\n",
              "      <td>51.250000</td>\n",
              "      <td>41.333333</td>\n",
              "      <td>45.000000</td>\n",
              "      <td>NaN</td>\n",
              "      <td>45.403633</td>\n",
              "      <td>40.000000</td>\n",
              "      <td>25.0</td>\n",
              "    </tr>\n",
              "  </tbody>\n",
              "</table>\n",
              "<p>4 rows × 42 columns</p>\n",
              "</div>\n",
              "    <div class=\"colab-df-buttons\">\n",
              "\n",
              "  <div class=\"colab-df-container\">\n",
              "    <button class=\"colab-df-convert\" onclick=\"convertToInteractive('df-92803d46-79f4-4c2a-92ee-4dfb89e4f7eb')\"\n",
              "            title=\"Convert this dataframe to an interactive table.\"\n",
              "            style=\"display:none;\">\n",
              "\n",
              "  <svg xmlns=\"http://www.w3.org/2000/svg\" height=\"24px\" viewBox=\"0 -960 960 960\">\n",
              "    <path d=\"M120-120v-720h720v720H120Zm60-500h600v-160H180v160Zm220 220h160v-160H400v160Zm0 220h160v-160H400v160ZM180-400h160v-160H180v160Zm440 0h160v-160H620v160ZM180-180h160v-160H180v160Zm440 0h160v-160H620v160Z\"/>\n",
              "  </svg>\n",
              "    </button>\n",
              "\n",
              "  <style>\n",
              "    .colab-df-container {\n",
              "      display:flex;\n",
              "      gap: 12px;\n",
              "    }\n",
              "\n",
              "    .colab-df-convert {\n",
              "      background-color: #E8F0FE;\n",
              "      border: none;\n",
              "      border-radius: 50%;\n",
              "      cursor: pointer;\n",
              "      display: none;\n",
              "      fill: #1967D2;\n",
              "      height: 32px;\n",
              "      padding: 0 0 0 0;\n",
              "      width: 32px;\n",
              "    }\n",
              "\n",
              "    .colab-df-convert:hover {\n",
              "      background-color: #E2EBFA;\n",
              "      box-shadow: 0px 1px 2px rgba(60, 64, 67, 0.3), 0px 1px 3px 1px rgba(60, 64, 67, 0.15);\n",
              "      fill: #174EA6;\n",
              "    }\n",
              "\n",
              "    .colab-df-buttons div {\n",
              "      margin-bottom: 4px;\n",
              "    }\n",
              "\n",
              "    [theme=dark] .colab-df-convert {\n",
              "      background-color: #3B4455;\n",
              "      fill: #D2E3FC;\n",
              "    }\n",
              "\n",
              "    [theme=dark] .colab-df-convert:hover {\n",
              "      background-color: #434B5C;\n",
              "      box-shadow: 0px 1px 3px 1px rgba(0, 0, 0, 0.15);\n",
              "      filter: drop-shadow(0px 1px 2px rgba(0, 0, 0, 0.3));\n",
              "      fill: #FFFFFF;\n",
              "    }\n",
              "  </style>\n",
              "\n",
              "    <script>\n",
              "      const buttonEl =\n",
              "        document.querySelector('#df-92803d46-79f4-4c2a-92ee-4dfb89e4f7eb button.colab-df-convert');\n",
              "      buttonEl.style.display =\n",
              "        google.colab.kernel.accessAllowed ? 'block' : 'none';\n",
              "\n",
              "      async function convertToInteractive(key) {\n",
              "        const element = document.querySelector('#df-92803d46-79f4-4c2a-92ee-4dfb89e4f7eb');\n",
              "        const dataTable =\n",
              "          await google.colab.kernel.invokeFunction('convertToInteractive',\n",
              "                                                    [key], {});\n",
              "        if (!dataTable) return;\n",
              "\n",
              "        const docLinkHtml = 'Like what you see? Visit the ' +\n",
              "          '<a target=\"_blank\" href=https://colab.research.google.com/notebooks/data_table.ipynb>data table notebook</a>'\n",
              "          + ' to learn more about interactive tables.';\n",
              "        element.innerHTML = '';\n",
              "        dataTable['output_type'] = 'display_data';\n",
              "        await google.colab.output.renderOutput(dataTable, element);\n",
              "        const docLink = document.createElement('div');\n",
              "        docLink.innerHTML = docLinkHtml;\n",
              "        element.appendChild(docLink);\n",
              "      }\n",
              "    </script>\n",
              "  </div>\n",
              "\n",
              "\n",
              "    <div id=\"df-aa312944-7409-4a53-91e5-dd73e90665c8\">\n",
              "      <button class=\"colab-df-quickchart\" onclick=\"quickchart('df-aa312944-7409-4a53-91e5-dd73e90665c8')\"\n",
              "                title=\"Suggest charts\"\n",
              "                style=\"display:none;\">\n",
              "\n",
              "<svg xmlns=\"http://www.w3.org/2000/svg\" height=\"24px\"viewBox=\"0 0 24 24\"\n",
              "     width=\"24px\">\n",
              "    <g>\n",
              "        <path d=\"M19 3H5c-1.1 0-2 .9-2 2v14c0 1.1.9 2 2 2h14c1.1 0 2-.9 2-2V5c0-1.1-.9-2-2-2zM9 17H7v-7h2v7zm4 0h-2V7h2v10zm4 0h-2v-4h2v4z\"/>\n",
              "    </g>\n",
              "</svg>\n",
              "      </button>\n",
              "\n",
              "<style>\n",
              "  .colab-df-quickchart {\n",
              "      --bg-color: #E8F0FE;\n",
              "      --fill-color: #1967D2;\n",
              "      --hover-bg-color: #E2EBFA;\n",
              "      --hover-fill-color: #174EA6;\n",
              "      --disabled-fill-color: #AAA;\n",
              "      --disabled-bg-color: #DDD;\n",
              "  }\n",
              "\n",
              "  [theme=dark] .colab-df-quickchart {\n",
              "      --bg-color: #3B4455;\n",
              "      --fill-color: #D2E3FC;\n",
              "      --hover-bg-color: #434B5C;\n",
              "      --hover-fill-color: #FFFFFF;\n",
              "      --disabled-bg-color: #3B4455;\n",
              "      --disabled-fill-color: #666;\n",
              "  }\n",
              "\n",
              "  .colab-df-quickchart {\n",
              "    background-color: var(--bg-color);\n",
              "    border: none;\n",
              "    border-radius: 50%;\n",
              "    cursor: pointer;\n",
              "    display: none;\n",
              "    fill: var(--fill-color);\n",
              "    height: 32px;\n",
              "    padding: 0;\n",
              "    width: 32px;\n",
              "  }\n",
              "\n",
              "  .colab-df-quickchart:hover {\n",
              "    background-color: var(--hover-bg-color);\n",
              "    box-shadow: 0 1px 2px rgba(60, 64, 67, 0.3), 0 1px 3px 1px rgba(60, 64, 67, 0.15);\n",
              "    fill: var(--button-hover-fill-color);\n",
              "  }\n",
              "\n",
              "  .colab-df-quickchart-complete:disabled,\n",
              "  .colab-df-quickchart-complete:disabled:hover {\n",
              "    background-color: var(--disabled-bg-color);\n",
              "    fill: var(--disabled-fill-color);\n",
              "    box-shadow: none;\n",
              "  }\n",
              "\n",
              "  .colab-df-spinner {\n",
              "    border: 2px solid var(--fill-color);\n",
              "    border-color: transparent;\n",
              "    border-bottom-color: var(--fill-color);\n",
              "    animation:\n",
              "      spin 1s steps(1) infinite;\n",
              "  }\n",
              "\n",
              "  @keyframes spin {\n",
              "    0% {\n",
              "      border-color: transparent;\n",
              "      border-bottom-color: var(--fill-color);\n",
              "      border-left-color: var(--fill-color);\n",
              "    }\n",
              "    20% {\n",
              "      border-color: transparent;\n",
              "      border-left-color: var(--fill-color);\n",
              "      border-top-color: var(--fill-color);\n",
              "    }\n",
              "    30% {\n",
              "      border-color: transparent;\n",
              "      border-left-color: var(--fill-color);\n",
              "      border-top-color: var(--fill-color);\n",
              "      border-right-color: var(--fill-color);\n",
              "    }\n",
              "    40% {\n",
              "      border-color: transparent;\n",
              "      border-right-color: var(--fill-color);\n",
              "      border-top-color: var(--fill-color);\n",
              "    }\n",
              "    60% {\n",
              "      border-color: transparent;\n",
              "      border-right-color: var(--fill-color);\n",
              "    }\n",
              "    80% {\n",
              "      border-color: transparent;\n",
              "      border-right-color: var(--fill-color);\n",
              "      border-bottom-color: var(--fill-color);\n",
              "    }\n",
              "    90% {\n",
              "      border-color: transparent;\n",
              "      border-bottom-color: var(--fill-color);\n",
              "    }\n",
              "  }\n",
              "</style>\n",
              "\n",
              "      <script>\n",
              "        async function quickchart(key) {\n",
              "          const quickchartButtonEl =\n",
              "            document.querySelector('#' + key + ' button');\n",
              "          quickchartButtonEl.disabled = true;  // To prevent multiple clicks.\n",
              "          quickchartButtonEl.classList.add('colab-df-spinner');\n",
              "          try {\n",
              "            const charts = await google.colab.kernel.invokeFunction(\n",
              "                'suggestCharts', [key], {});\n",
              "          } catch (error) {\n",
              "            console.error('Error during call to suggestCharts:', error);\n",
              "          }\n",
              "          quickchartButtonEl.classList.remove('colab-df-spinner');\n",
              "          quickchartButtonEl.classList.add('colab-df-quickchart-complete');\n",
              "        }\n",
              "        (() => {\n",
              "          let quickchartButtonEl =\n",
              "            document.querySelector('#df-aa312944-7409-4a53-91e5-dd73e90665c8 button');\n",
              "          quickchartButtonEl.style.display =\n",
              "            google.colab.kernel.accessAllowed ? 'block' : 'none';\n",
              "        })();\n",
              "      </script>\n",
              "    </div>\n",
              "    </div>\n",
              "  </div>\n"
            ],
            "application/vnd.google.colaboratory.intrinsic+json": {
              "type": "dataframe"
            }
          },
          "metadata": {},
          "execution_count": 13
        }
      ]
    },
    {
      "cell_type": "code",
      "source": [
        "# отключим предупреждения Anaconda\n",
        "import warnings\n",
        "warnings.simplefilter('ignore')\n",
        "\n",
        "# будем отображать графики прямо в jupyter'e\n",
        "%matplotlib inline\n",
        "import seaborn as sns\n",
        "import matplotlib.pyplot as plt\n",
        "#графики в svg выглядят более четкими\n",
        "%config InlineBackend.figure_format = 'svg'\n",
        "\n",
        "#увеличим дефолтный размер графиков\n",
        "from pylab import rcParams\n",
        "rcParams['figure.figsize'] = 15, 5"
      ],
      "metadata": {
        "id": "KjmI5aili5UH"
      },
      "execution_count": 18,
      "outputs": []
    },
    {
      "cell_type": "code",
      "source": [
        "sns.countplot(x = 'marital-status', data = data)"
      ],
      "metadata": {
        "colab": {
          "base_uri": "https://localhost:8080/",
          "height": 468
        },
        "id": "B349V36qi_fF",
        "outputId": "19b7d3c5-0a16-45f9-df72-8766ffccddea"
      },
      "execution_count": 19,
      "outputs": [
        {
          "output_type": "execute_result",
          "data": {
            "text/plain": [
              "<Axes: xlabel='marital-status', ylabel='count'>"
            ]
          },
          "metadata": {},
          "execution_count": 19
        },
        {
          "output_type": "display_data",
          "data": {
            "text/plain": [
              "<Figure size 1500x500 with 1 Axes>"
            ],
            "image/svg+xml": "<?xml version=\"1.0\" encoding=\"utf-8\" standalone=\"no\"?>\n<!DOCTYPE svg PUBLIC \"-//W3C//DTD SVG 1.1//EN\"\n  \"http://www.w3.org/Graphics/SVG/1.1/DTD/svg11.dtd\">\n<svg xmlns:xlink=\"http://www.w3.org/1999/xlink\" width=\"903.890625pt\" height=\"321.95625pt\" viewBox=\"0 0 903.890625 321.95625\" xmlns=\"http://www.w3.org/2000/svg\" version=\"1.1\">\n <metadata>\n  <rdf:RDF xmlns:dc=\"http://purl.org/dc/elements/1.1/\" xmlns:cc=\"http://creativecommons.org/ns#\" xmlns:rdf=\"http://www.w3.org/1999/02/22-rdf-syntax-ns#\">\n   <cc:Work>\n    <dc:type rdf:resource=\"http://purl.org/dc/dcmitype/StillImage\"/>\n    <dc:date>2025-07-09T17:17:49.198217</dc:date>\n    <dc:format>image/svg+xml</dc:format>\n    <dc:creator>\n     <cc:Agent>\n      <dc:title>Matplotlib v3.10.0, https://matplotlib.org/</dc:title>\n     </cc:Agent>\n    </dc:creator>\n   </cc:Work>\n  </rdf:RDF>\n </metadata>\n <defs>\n  <style type=\"text/css\">*{stroke-linejoin: round; stroke-linecap: butt}</style>\n </defs>\n <g id=\"figure_1\">\n  <g id=\"patch_1\">\n   <path d=\"M 0 321.95625 \nL 903.890625 321.95625 \nL 903.890625 0 \nL 0 0 \nz\n\" style=\"fill: #ffffff\"/>\n  </g>\n  <g id=\"axes_1\">\n   <g id=\"patch_2\">\n    <path d=\"M 59.690625 284.4 \nL 896.690625 284.4 \nL 896.690625 7.2 \nL 59.690625 7.2 \nz\n\" style=\"fill: #ffffff\"/>\n   </g>\n   <g id=\"patch_3\">\n    <path d=\"M 71.647768 284.4 \nL 167.304911 284.4 \nL 167.304911 94.271397 \nL 71.647768 94.271397 \nz\n\" clip-path=\"url(#pe42c962060)\" style=\"fill: #3274a1\"/>\n   </g>\n   <g id=\"patch_4\">\n    <path d=\"M 191.219196 284.4 \nL 286.876339 284.4 \nL 286.876339 20.4 \nL 191.219196 20.4 \nz\n\" clip-path=\"url(#pe42c962060)\" style=\"fill: #3274a1\"/>\n   </g>\n   <g id=\"patch_5\">\n    <path d=\"M 310.790625 284.4 \nL 406.447768 284.4 \nL 406.447768 206.152 \nL 310.790625 206.152 \nz\n\" clip-path=\"url(#pe42c962060)\" style=\"fill: #3274a1\"/>\n   </g>\n   <g id=\"patch_6\">\n    <path d=\"M 430.362054 284.4 \nL 526.019196 284.4 \nL 526.019196 276.991626 \nL 430.362054 276.991626 \nz\n\" clip-path=\"url(#pe42c962060)\" style=\"fill: #3274a1\"/>\n   </g>\n   <g id=\"patch_7\">\n    <path d=\"M 549.933482 284.4 \nL 645.590625 284.4 \nL 645.590625 266.350936 \nL 549.933482 266.350936 \nz\n\" clip-path=\"url(#pe42c962060)\" style=\"fill: #3274a1\"/>\n   </g>\n   <g id=\"patch_8\">\n    <path d=\"M 669.504911 284.4 \nL 765.162054 284.4 \nL 765.162054 283.963519 \nL 669.504911 283.963519 \nz\n\" clip-path=\"url(#pe42c962060)\" style=\"fill: #3274a1\"/>\n   </g>\n   <g id=\"patch_9\">\n    <path d=\"M 789.076339 284.4 \nL 884.733482 284.4 \nL 884.733482 266.492497 \nL 789.076339 266.492497 \nz\n\" clip-path=\"url(#pe42c962060)\" style=\"fill: #3274a1\"/>\n   </g>\n   <g id=\"matplotlib.axis_1\">\n    <g id=\"xtick_1\">\n     <g id=\"line2d_1\">\n      <defs>\n       <path id=\"mdf9b796fdf\" d=\"M 0 0 \nL 0 3.5 \n\" style=\"stroke: #000000; stroke-width: 0.8\"/>\n      </defs>\n      <g>\n       <use xlink:href=\"#mdf9b796fdf\" x=\"119.476339\" y=\"284.4\" style=\"stroke: #000000; stroke-width: 0.8\"/>\n      </g>\n     </g>\n     <g id=\"text_1\">\n      <!-- Never-married -->\n      <g transform=\"translate(83.484933 298.998438) scale(0.1 -0.1)\">\n       <defs>\n        <path id=\"DejaVuSans-4e\" d=\"M 628 4666 \nL 1478 4666 \nL 3547 763 \nL 3547 4666 \nL 4159 4666 \nL 4159 0 \nL 3309 0 \nL 1241 3903 \nL 1241 0 \nL 628 0 \nL 628 4666 \nz\n\" transform=\"scale(0.015625)\"/>\n        <path id=\"DejaVuSans-65\" d=\"M 3597 1894 \nL 3597 1613 \nL 953 1613 \nQ 991 1019 1311 708 \nQ 1631 397 2203 397 \nQ 2534 397 2845 478 \nQ 3156 559 3463 722 \nL 3463 178 \nQ 3153 47 2828 -22 \nQ 2503 -91 2169 -91 \nQ 1331 -91 842 396 \nQ 353 884 353 1716 \nQ 353 2575 817 3079 \nQ 1281 3584 2069 3584 \nQ 2775 3584 3186 3129 \nQ 3597 2675 3597 1894 \nz\nM 3022 2063 \nQ 3016 2534 2758 2815 \nQ 2500 3097 2075 3097 \nQ 1594 3097 1305 2825 \nQ 1016 2553 972 2059 \nL 3022 2063 \nz\n\" transform=\"scale(0.015625)\"/>\n        <path id=\"DejaVuSans-76\" d=\"M 191 3500 \nL 800 3500 \nL 1894 563 \nL 2988 3500 \nL 3597 3500 \nL 2284 0 \nL 1503 0 \nL 191 3500 \nz\n\" transform=\"scale(0.015625)\"/>\n        <path id=\"DejaVuSans-72\" d=\"M 2631 2963 \nQ 2534 3019 2420 3045 \nQ 2306 3072 2169 3072 \nQ 1681 3072 1420 2755 \nQ 1159 2438 1159 1844 \nL 1159 0 \nL 581 0 \nL 581 3500 \nL 1159 3500 \nL 1159 2956 \nQ 1341 3275 1631 3429 \nQ 1922 3584 2338 3584 \nQ 2397 3584 2469 3576 \nQ 2541 3569 2628 3553 \nL 2631 2963 \nz\n\" transform=\"scale(0.015625)\"/>\n        <path id=\"DejaVuSans-2d\" d=\"M 313 2009 \nL 1997 2009 \nL 1997 1497 \nL 313 1497 \nL 313 2009 \nz\n\" transform=\"scale(0.015625)\"/>\n        <path id=\"DejaVuSans-6d\" d=\"M 3328 2828 \nQ 3544 3216 3844 3400 \nQ 4144 3584 4550 3584 \nQ 5097 3584 5394 3201 \nQ 5691 2819 5691 2113 \nL 5691 0 \nL 5113 0 \nL 5113 2094 \nQ 5113 2597 4934 2840 \nQ 4756 3084 4391 3084 \nQ 3944 3084 3684 2787 \nQ 3425 2491 3425 1978 \nL 3425 0 \nL 2847 0 \nL 2847 2094 \nQ 2847 2600 2669 2842 \nQ 2491 3084 2119 3084 \nQ 1678 3084 1418 2786 \nQ 1159 2488 1159 1978 \nL 1159 0 \nL 581 0 \nL 581 3500 \nL 1159 3500 \nL 1159 2956 \nQ 1356 3278 1631 3431 \nQ 1906 3584 2284 3584 \nQ 2666 3584 2933 3390 \nQ 3200 3197 3328 2828 \nz\n\" transform=\"scale(0.015625)\"/>\n        <path id=\"DejaVuSans-61\" d=\"M 2194 1759 \nQ 1497 1759 1228 1600 \nQ 959 1441 959 1056 \nQ 959 750 1161 570 \nQ 1363 391 1709 391 \nQ 2188 391 2477 730 \nQ 2766 1069 2766 1631 \nL 2766 1759 \nL 2194 1759 \nz\nM 3341 1997 \nL 3341 0 \nL 2766 0 \nL 2766 531 \nQ 2569 213 2275 61 \nQ 1981 -91 1556 -91 \nQ 1019 -91 701 211 \nQ 384 513 384 1019 \nQ 384 1609 779 1909 \nQ 1175 2209 1959 2209 \nL 2766 2209 \nL 2766 2266 \nQ 2766 2663 2505 2880 \nQ 2244 3097 1772 3097 \nQ 1472 3097 1187 3025 \nQ 903 2953 641 2809 \nL 641 3341 \nQ 956 3463 1253 3523 \nQ 1550 3584 1831 3584 \nQ 2591 3584 2966 3190 \nQ 3341 2797 3341 1997 \nz\n\" transform=\"scale(0.015625)\"/>\n        <path id=\"DejaVuSans-69\" d=\"M 603 3500 \nL 1178 3500 \nL 1178 0 \nL 603 0 \nL 603 3500 \nz\nM 603 4863 \nL 1178 4863 \nL 1178 4134 \nL 603 4134 \nL 603 4863 \nz\n\" transform=\"scale(0.015625)\"/>\n        <path id=\"DejaVuSans-64\" d=\"M 2906 2969 \nL 2906 4863 \nL 3481 4863 \nL 3481 0 \nL 2906 0 \nL 2906 525 \nQ 2725 213 2448 61 \nQ 2172 -91 1784 -91 \nQ 1150 -91 751 415 \nQ 353 922 353 1747 \nQ 353 2572 751 3078 \nQ 1150 3584 1784 3584 \nQ 2172 3584 2448 3432 \nQ 2725 3281 2906 2969 \nz\nM 947 1747 \nQ 947 1113 1208 752 \nQ 1469 391 1925 391 \nQ 2381 391 2643 752 \nQ 2906 1113 2906 1747 \nQ 2906 2381 2643 2742 \nQ 2381 3103 1925 3103 \nQ 1469 3103 1208 2742 \nQ 947 2381 947 1747 \nz\n\" transform=\"scale(0.015625)\"/>\n       </defs>\n       <use xlink:href=\"#DejaVuSans-4e\"/>\n       <use xlink:href=\"#DejaVuSans-65\" transform=\"translate(74.804688 0)\"/>\n       <use xlink:href=\"#DejaVuSans-76\" transform=\"translate(136.328125 0)\"/>\n       <use xlink:href=\"#DejaVuSans-65\" transform=\"translate(195.507812 0)\"/>\n       <use xlink:href=\"#DejaVuSans-72\" transform=\"translate(257.03125 0)\"/>\n       <use xlink:href=\"#DejaVuSans-2d\" transform=\"translate(291.769531 0)\"/>\n       <use xlink:href=\"#DejaVuSans-6d\" transform=\"translate(327.853516 0)\"/>\n       <use xlink:href=\"#DejaVuSans-61\" transform=\"translate(425.265625 0)\"/>\n       <use xlink:href=\"#DejaVuSans-72\" transform=\"translate(486.544922 0)\"/>\n       <use xlink:href=\"#DejaVuSans-72\" transform=\"translate(525.908203 0)\"/>\n       <use xlink:href=\"#DejaVuSans-69\" transform=\"translate(567.021484 0)\"/>\n       <use xlink:href=\"#DejaVuSans-65\" transform=\"translate(594.804688 0)\"/>\n       <use xlink:href=\"#DejaVuSans-64\" transform=\"translate(656.328125 0)\"/>\n      </g>\n     </g>\n    </g>\n    <g id=\"xtick_2\">\n     <g id=\"line2d_2\">\n      <g>\n       <use xlink:href=\"#mdf9b796fdf\" x=\"239.047768\" y=\"284.4\" style=\"stroke: #000000; stroke-width: 0.8\"/>\n      </g>\n     </g>\n     <g id=\"text_2\">\n      <!-- Married-civ-spouse -->\n      <g transform=\"translate(191.743862 298.998438) scale(0.1 -0.1)\">\n       <defs>\n        <path id=\"DejaVuSans-4d\" d=\"M 628 4666 \nL 1569 4666 \nL 2759 1491 \nL 3956 4666 \nL 4897 4666 \nL 4897 0 \nL 4281 0 \nL 4281 4097 \nL 3078 897 \nL 2444 897 \nL 1241 4097 \nL 1241 0 \nL 628 0 \nL 628 4666 \nz\n\" transform=\"scale(0.015625)\"/>\n        <path id=\"DejaVuSans-63\" d=\"M 3122 3366 \nL 3122 2828 \nQ 2878 2963 2633 3030 \nQ 2388 3097 2138 3097 \nQ 1578 3097 1268 2742 \nQ 959 2388 959 1747 \nQ 959 1106 1268 751 \nQ 1578 397 2138 397 \nQ 2388 397 2633 464 \nQ 2878 531 3122 666 \nL 3122 134 \nQ 2881 22 2623 -34 \nQ 2366 -91 2075 -91 \nQ 1284 -91 818 406 \nQ 353 903 353 1747 \nQ 353 2603 823 3093 \nQ 1294 3584 2113 3584 \nQ 2378 3584 2631 3529 \nQ 2884 3475 3122 3366 \nz\n\" transform=\"scale(0.015625)\"/>\n        <path id=\"DejaVuSans-73\" d=\"M 2834 3397 \nL 2834 2853 \nQ 2591 2978 2328 3040 \nQ 2066 3103 1784 3103 \nQ 1356 3103 1142 2972 \nQ 928 2841 928 2578 \nQ 928 2378 1081 2264 \nQ 1234 2150 1697 2047 \nL 1894 2003 \nQ 2506 1872 2764 1633 \nQ 3022 1394 3022 966 \nQ 3022 478 2636 193 \nQ 2250 -91 1575 -91 \nQ 1294 -91 989 -36 \nQ 684 19 347 128 \nL 347 722 \nQ 666 556 975 473 \nQ 1284 391 1588 391 \nQ 1994 391 2212 530 \nQ 2431 669 2431 922 \nQ 2431 1156 2273 1281 \nQ 2116 1406 1581 1522 \nL 1381 1569 \nQ 847 1681 609 1914 \nQ 372 2147 372 2553 \nQ 372 3047 722 3315 \nQ 1072 3584 1716 3584 \nQ 2034 3584 2315 3537 \nQ 2597 3491 2834 3397 \nz\n\" transform=\"scale(0.015625)\"/>\n        <path id=\"DejaVuSans-70\" d=\"M 1159 525 \nL 1159 -1331 \nL 581 -1331 \nL 581 3500 \nL 1159 3500 \nL 1159 2969 \nQ 1341 3281 1617 3432 \nQ 1894 3584 2278 3584 \nQ 2916 3584 3314 3078 \nQ 3713 2572 3713 1747 \nQ 3713 922 3314 415 \nQ 2916 -91 2278 -91 \nQ 1894 -91 1617 61 \nQ 1341 213 1159 525 \nz\nM 3116 1747 \nQ 3116 2381 2855 2742 \nQ 2594 3103 2138 3103 \nQ 1681 3103 1420 2742 \nQ 1159 2381 1159 1747 \nQ 1159 1113 1420 752 \nQ 1681 391 2138 391 \nQ 2594 391 2855 752 \nQ 3116 1113 3116 1747 \nz\n\" transform=\"scale(0.015625)\"/>\n        <path id=\"DejaVuSans-6f\" d=\"M 1959 3097 \nQ 1497 3097 1228 2736 \nQ 959 2375 959 1747 \nQ 959 1119 1226 758 \nQ 1494 397 1959 397 \nQ 2419 397 2687 759 \nQ 2956 1122 2956 1747 \nQ 2956 2369 2687 2733 \nQ 2419 3097 1959 3097 \nz\nM 1959 3584 \nQ 2709 3584 3137 3096 \nQ 3566 2609 3566 1747 \nQ 3566 888 3137 398 \nQ 2709 -91 1959 -91 \nQ 1206 -91 779 398 \nQ 353 888 353 1747 \nQ 353 2609 779 3096 \nQ 1206 3584 1959 3584 \nz\n\" transform=\"scale(0.015625)\"/>\n        <path id=\"DejaVuSans-75\" d=\"M 544 1381 \nL 544 3500 \nL 1119 3500 \nL 1119 1403 \nQ 1119 906 1312 657 \nQ 1506 409 1894 409 \nQ 2359 409 2629 706 \nQ 2900 1003 2900 1516 \nL 2900 3500 \nL 3475 3500 \nL 3475 0 \nL 2900 0 \nL 2900 538 \nQ 2691 219 2414 64 \nQ 2138 -91 1772 -91 \nQ 1169 -91 856 284 \nQ 544 659 544 1381 \nz\nM 1991 3584 \nL 1991 3584 \nz\n\" transform=\"scale(0.015625)\"/>\n       </defs>\n       <use xlink:href=\"#DejaVuSans-4d\"/>\n       <use xlink:href=\"#DejaVuSans-61\" transform=\"translate(86.279297 0)\"/>\n       <use xlink:href=\"#DejaVuSans-72\" transform=\"translate(147.558594 0)\"/>\n       <use xlink:href=\"#DejaVuSans-72\" transform=\"translate(186.921875 0)\"/>\n       <use xlink:href=\"#DejaVuSans-69\" transform=\"translate(228.035156 0)\"/>\n       <use xlink:href=\"#DejaVuSans-65\" transform=\"translate(255.818359 0)\"/>\n       <use xlink:href=\"#DejaVuSans-64\" transform=\"translate(317.341797 0)\"/>\n       <use xlink:href=\"#DejaVuSans-2d\" transform=\"translate(380.818359 0)\"/>\n       <use xlink:href=\"#DejaVuSans-63\" transform=\"translate(416.902344 0)\"/>\n       <use xlink:href=\"#DejaVuSans-69\" transform=\"translate(471.882812 0)\"/>\n       <use xlink:href=\"#DejaVuSans-76\" transform=\"translate(499.666016 0)\"/>\n       <use xlink:href=\"#DejaVuSans-2d\" transform=\"translate(556.220703 0)\"/>\n       <use xlink:href=\"#DejaVuSans-73\" transform=\"translate(592.304688 0)\"/>\n       <use xlink:href=\"#DejaVuSans-70\" transform=\"translate(644.404297 0)\"/>\n       <use xlink:href=\"#DejaVuSans-6f\" transform=\"translate(707.880859 0)\"/>\n       <use xlink:href=\"#DejaVuSans-75\" transform=\"translate(769.0625 0)\"/>\n       <use xlink:href=\"#DejaVuSans-73\" transform=\"translate(832.441406 0)\"/>\n       <use xlink:href=\"#DejaVuSans-65\" transform=\"translate(884.541016 0)\"/>\n      </g>\n     </g>\n    </g>\n    <g id=\"xtick_3\">\n     <g id=\"line2d_3\">\n      <g>\n       <use xlink:href=\"#mdf9b796fdf\" x=\"358.619196\" y=\"284.4\" style=\"stroke: #000000; stroke-width: 0.8\"/>\n      </g>\n     </g>\n     <g id=\"text_3\">\n      <!-- Divorced -->\n      <g transform=\"translate(336.418415 298.998438) scale(0.1 -0.1)\">\n       <defs>\n        <path id=\"DejaVuSans-44\" d=\"M 1259 4147 \nL 1259 519 \nL 2022 519 \nQ 2988 519 3436 956 \nQ 3884 1394 3884 2338 \nQ 3884 3275 3436 3711 \nQ 2988 4147 2022 4147 \nL 1259 4147 \nz\nM 628 4666 \nL 1925 4666 \nQ 3281 4666 3915 4102 \nQ 4550 3538 4550 2338 \nQ 4550 1131 3912 565 \nQ 3275 0 1925 0 \nL 628 0 \nL 628 4666 \nz\n\" transform=\"scale(0.015625)\"/>\n       </defs>\n       <use xlink:href=\"#DejaVuSans-44\"/>\n       <use xlink:href=\"#DejaVuSans-69\" transform=\"translate(77.001953 0)\"/>\n       <use xlink:href=\"#DejaVuSans-76\" transform=\"translate(104.785156 0)\"/>\n       <use xlink:href=\"#DejaVuSans-6f\" transform=\"translate(163.964844 0)\"/>\n       <use xlink:href=\"#DejaVuSans-72\" transform=\"translate(225.146484 0)\"/>\n       <use xlink:href=\"#DejaVuSans-63\" transform=\"translate(264.009766 0)\"/>\n       <use xlink:href=\"#DejaVuSans-65\" transform=\"translate(318.990234 0)\"/>\n       <use xlink:href=\"#DejaVuSans-64\" transform=\"translate(380.513672 0)\"/>\n      </g>\n     </g>\n    </g>\n    <g id=\"xtick_4\">\n     <g id=\"line2d_4\">\n      <g>\n       <use xlink:href=\"#mdf9b796fdf\" x=\"478.190625\" y=\"284.4\" style=\"stroke: #000000; stroke-width: 0.8\"/>\n      </g>\n     </g>\n     <g id=\"text_4\">\n      <!-- Married-spouse-absent -->\n      <g transform=\"translate(420.804688 298.998438) scale(0.1 -0.1)\">\n       <defs>\n        <path id=\"DejaVuSans-62\" d=\"M 3116 1747 \nQ 3116 2381 2855 2742 \nQ 2594 3103 2138 3103 \nQ 1681 3103 1420 2742 \nQ 1159 2381 1159 1747 \nQ 1159 1113 1420 752 \nQ 1681 391 2138 391 \nQ 2594 391 2855 752 \nQ 3116 1113 3116 1747 \nz\nM 1159 2969 \nQ 1341 3281 1617 3432 \nQ 1894 3584 2278 3584 \nQ 2916 3584 3314 3078 \nQ 3713 2572 3713 1747 \nQ 3713 922 3314 415 \nQ 2916 -91 2278 -91 \nQ 1894 -91 1617 61 \nQ 1341 213 1159 525 \nL 1159 0 \nL 581 0 \nL 581 4863 \nL 1159 4863 \nL 1159 2969 \nz\n\" transform=\"scale(0.015625)\"/>\n        <path id=\"DejaVuSans-6e\" d=\"M 3513 2113 \nL 3513 0 \nL 2938 0 \nL 2938 2094 \nQ 2938 2591 2744 2837 \nQ 2550 3084 2163 3084 \nQ 1697 3084 1428 2787 \nQ 1159 2491 1159 1978 \nL 1159 0 \nL 581 0 \nL 581 3500 \nL 1159 3500 \nL 1159 2956 \nQ 1366 3272 1645 3428 \nQ 1925 3584 2291 3584 \nQ 2894 3584 3203 3211 \nQ 3513 2838 3513 2113 \nz\n\" transform=\"scale(0.015625)\"/>\n        <path id=\"DejaVuSans-74\" d=\"M 1172 4494 \nL 1172 3500 \nL 2356 3500 \nL 2356 3053 \nL 1172 3053 \nL 1172 1153 \nQ 1172 725 1289 603 \nQ 1406 481 1766 481 \nL 2356 481 \nL 2356 0 \nL 1766 0 \nQ 1100 0 847 248 \nQ 594 497 594 1153 \nL 594 3053 \nL 172 3053 \nL 172 3500 \nL 594 3500 \nL 594 4494 \nL 1172 4494 \nz\n\" transform=\"scale(0.015625)\"/>\n       </defs>\n       <use xlink:href=\"#DejaVuSans-4d\"/>\n       <use xlink:href=\"#DejaVuSans-61\" transform=\"translate(86.279297 0)\"/>\n       <use xlink:href=\"#DejaVuSans-72\" transform=\"translate(147.558594 0)\"/>\n       <use xlink:href=\"#DejaVuSans-72\" transform=\"translate(186.921875 0)\"/>\n       <use xlink:href=\"#DejaVuSans-69\" transform=\"translate(228.035156 0)\"/>\n       <use xlink:href=\"#DejaVuSans-65\" transform=\"translate(255.818359 0)\"/>\n       <use xlink:href=\"#DejaVuSans-64\" transform=\"translate(317.341797 0)\"/>\n       <use xlink:href=\"#DejaVuSans-2d\" transform=\"translate(380.818359 0)\"/>\n       <use xlink:href=\"#DejaVuSans-73\" transform=\"translate(416.902344 0)\"/>\n       <use xlink:href=\"#DejaVuSans-70\" transform=\"translate(469.001953 0)\"/>\n       <use xlink:href=\"#DejaVuSans-6f\" transform=\"translate(532.478516 0)\"/>\n       <use xlink:href=\"#DejaVuSans-75\" transform=\"translate(593.660156 0)\"/>\n       <use xlink:href=\"#DejaVuSans-73\" transform=\"translate(657.039062 0)\"/>\n       <use xlink:href=\"#DejaVuSans-65\" transform=\"translate(709.138672 0)\"/>\n       <use xlink:href=\"#DejaVuSans-2d\" transform=\"translate(770.662109 0)\"/>\n       <use xlink:href=\"#DejaVuSans-61\" transform=\"translate(806.746094 0)\"/>\n       <use xlink:href=\"#DejaVuSans-62\" transform=\"translate(868.025391 0)\"/>\n       <use xlink:href=\"#DejaVuSans-73\" transform=\"translate(931.501953 0)\"/>\n       <use xlink:href=\"#DejaVuSans-65\" transform=\"translate(983.601562 0)\"/>\n       <use xlink:href=\"#DejaVuSans-6e\" transform=\"translate(1045.125 0)\"/>\n       <use xlink:href=\"#DejaVuSans-74\" transform=\"translate(1108.503906 0)\"/>\n      </g>\n     </g>\n    </g>\n    <g id=\"xtick_5\">\n     <g id=\"line2d_5\">\n      <g>\n       <use xlink:href=\"#mdf9b796fdf\" x=\"597.762054\" y=\"284.4\" style=\"stroke: #000000; stroke-width: 0.8\"/>\n      </g>\n     </g>\n     <g id=\"text_5\">\n      <!-- Separated -->\n      <g transform=\"translate(571.942522 298.998438) scale(0.1 -0.1)\">\n       <defs>\n        <path id=\"DejaVuSans-53\" d=\"M 3425 4513 \nL 3425 3897 \nQ 3066 4069 2747 4153 \nQ 2428 4238 2131 4238 \nQ 1616 4238 1336 4038 \nQ 1056 3838 1056 3469 \nQ 1056 3159 1242 3001 \nQ 1428 2844 1947 2747 \nL 2328 2669 \nQ 3034 2534 3370 2195 \nQ 3706 1856 3706 1288 \nQ 3706 609 3251 259 \nQ 2797 -91 1919 -91 \nQ 1588 -91 1214 -16 \nQ 841 59 441 206 \nL 441 856 \nQ 825 641 1194 531 \nQ 1563 422 1919 422 \nQ 2459 422 2753 634 \nQ 3047 847 3047 1241 \nQ 3047 1584 2836 1778 \nQ 2625 1972 2144 2069 \nL 1759 2144 \nQ 1053 2284 737 2584 \nQ 422 2884 422 3419 \nQ 422 4038 858 4394 \nQ 1294 4750 2059 4750 \nQ 2388 4750 2728 4690 \nQ 3069 4631 3425 4513 \nz\n\" transform=\"scale(0.015625)\"/>\n       </defs>\n       <use xlink:href=\"#DejaVuSans-53\"/>\n       <use xlink:href=\"#DejaVuSans-65\" transform=\"translate(63.476562 0)\"/>\n       <use xlink:href=\"#DejaVuSans-70\" transform=\"translate(125 0)\"/>\n       <use xlink:href=\"#DejaVuSans-61\" transform=\"translate(188.476562 0)\"/>\n       <use xlink:href=\"#DejaVuSans-72\" transform=\"translate(249.755859 0)\"/>\n       <use xlink:href=\"#DejaVuSans-61\" transform=\"translate(290.869141 0)\"/>\n       <use xlink:href=\"#DejaVuSans-74\" transform=\"translate(352.148438 0)\"/>\n       <use xlink:href=\"#DejaVuSans-65\" transform=\"translate(391.357422 0)\"/>\n       <use xlink:href=\"#DejaVuSans-64\" transform=\"translate(452.880859 0)\"/>\n      </g>\n     </g>\n    </g>\n    <g id=\"xtick_6\">\n     <g id=\"line2d_6\">\n      <g>\n       <use xlink:href=\"#mdf9b796fdf\" x=\"717.333482\" y=\"284.4\" style=\"stroke: #000000; stroke-width: 0.8\"/>\n      </g>\n     </g>\n     <g id=\"text_6\">\n      <!-- Married-AF-spouse -->\n      <g transform=\"translate(670.812388 298.998438) scale(0.1 -0.1)\">\n       <defs>\n        <path id=\"DejaVuSans-41\" d=\"M 2188 4044 \nL 1331 1722 \nL 3047 1722 \nL 2188 4044 \nz\nM 1831 4666 \nL 2547 4666 \nL 4325 0 \nL 3669 0 \nL 3244 1197 \nL 1141 1197 \nL 716 0 \nL 50 0 \nL 1831 4666 \nz\n\" transform=\"scale(0.015625)\"/>\n        <path id=\"DejaVuSans-46\" d=\"M 628 4666 \nL 3309 4666 \nL 3309 4134 \nL 1259 4134 \nL 1259 2759 \nL 3109 2759 \nL 3109 2228 \nL 1259 2228 \nL 1259 0 \nL 628 0 \nL 628 4666 \nz\n\" transform=\"scale(0.015625)\"/>\n       </defs>\n       <use xlink:href=\"#DejaVuSans-4d\"/>\n       <use xlink:href=\"#DejaVuSans-61\" transform=\"translate(86.279297 0)\"/>\n       <use xlink:href=\"#DejaVuSans-72\" transform=\"translate(147.558594 0)\"/>\n       <use xlink:href=\"#DejaVuSans-72\" transform=\"translate(186.921875 0)\"/>\n       <use xlink:href=\"#DejaVuSans-69\" transform=\"translate(228.035156 0)\"/>\n       <use xlink:href=\"#DejaVuSans-65\" transform=\"translate(255.818359 0)\"/>\n       <use xlink:href=\"#DejaVuSans-64\" transform=\"translate(317.341797 0)\"/>\n       <use xlink:href=\"#DejaVuSans-2d\" transform=\"translate(380.818359 0)\"/>\n       <use xlink:href=\"#DejaVuSans-41\" transform=\"translate(414.652344 0)\"/>\n       <use xlink:href=\"#DejaVuSans-46\" transform=\"translate(483.060547 0)\"/>\n       <use xlink:href=\"#DejaVuSans-2d\" transform=\"translate(540.580078 0)\"/>\n       <use xlink:href=\"#DejaVuSans-73\" transform=\"translate(576.664062 0)\"/>\n       <use xlink:href=\"#DejaVuSans-70\" transform=\"translate(628.763672 0)\"/>\n       <use xlink:href=\"#DejaVuSans-6f\" transform=\"translate(692.240234 0)\"/>\n       <use xlink:href=\"#DejaVuSans-75\" transform=\"translate(753.421875 0)\"/>\n       <use xlink:href=\"#DejaVuSans-73\" transform=\"translate(816.800781 0)\"/>\n       <use xlink:href=\"#DejaVuSans-65\" transform=\"translate(868.900391 0)\"/>\n      </g>\n     </g>\n    </g>\n    <g id=\"xtick_7\">\n     <g id=\"line2d_7\">\n      <g>\n       <use xlink:href=\"#mdf9b796fdf\" x=\"836.904911\" y=\"284.4\" style=\"stroke: #000000; stroke-width: 0.8\"/>\n      </g>\n     </g>\n     <g id=\"text_7\">\n      <!-- Widowed -->\n      <g transform=\"translate(814.111161 298.998438) scale(0.1 -0.1)\">\n       <defs>\n        <path id=\"DejaVuSans-57\" d=\"M 213 4666 \nL 850 4666 \nL 1831 722 \nL 2809 4666 \nL 3519 4666 \nL 4500 722 \nL 5478 4666 \nL 6119 4666 \nL 4947 0 \nL 4153 0 \nL 3169 4050 \nL 2175 0 \nL 1381 0 \nL 213 4666 \nz\n\" transform=\"scale(0.015625)\"/>\n        <path id=\"DejaVuSans-77\" d=\"M 269 3500 \nL 844 3500 \nL 1563 769 \nL 2278 3500 \nL 2956 3500 \nL 3675 769 \nL 4391 3500 \nL 4966 3500 \nL 4050 0 \nL 3372 0 \nL 2619 2869 \nL 1863 0 \nL 1184 0 \nL 269 3500 \nz\n\" transform=\"scale(0.015625)\"/>\n       </defs>\n       <use xlink:href=\"#DejaVuSans-57\"/>\n       <use xlink:href=\"#DejaVuSans-69\" transform=\"translate(96.626953 0)\"/>\n       <use xlink:href=\"#DejaVuSans-64\" transform=\"translate(124.410156 0)\"/>\n       <use xlink:href=\"#DejaVuSans-6f\" transform=\"translate(187.886719 0)\"/>\n       <use xlink:href=\"#DejaVuSans-77\" transform=\"translate(249.068359 0)\"/>\n       <use xlink:href=\"#DejaVuSans-65\" transform=\"translate(330.855469 0)\"/>\n       <use xlink:href=\"#DejaVuSans-64\" transform=\"translate(392.378906 0)\"/>\n      </g>\n     </g>\n    </g>\n    <g id=\"text_8\">\n     <!-- marital-status -->\n     <g transform=\"translate(443.232031 312.676562) scale(0.1 -0.1)\">\n      <defs>\n       <path id=\"DejaVuSans-6c\" d=\"M 603 4863 \nL 1178 4863 \nL 1178 0 \nL 603 0 \nL 603 4863 \nz\n\" transform=\"scale(0.015625)\"/>\n      </defs>\n      <use xlink:href=\"#DejaVuSans-6d\"/>\n      <use xlink:href=\"#DejaVuSans-61\" transform=\"translate(97.412109 0)\"/>\n      <use xlink:href=\"#DejaVuSans-72\" transform=\"translate(158.691406 0)\"/>\n      <use xlink:href=\"#DejaVuSans-69\" transform=\"translate(199.804688 0)\"/>\n      <use xlink:href=\"#DejaVuSans-74\" transform=\"translate(227.587891 0)\"/>\n      <use xlink:href=\"#DejaVuSans-61\" transform=\"translate(266.796875 0)\"/>\n      <use xlink:href=\"#DejaVuSans-6c\" transform=\"translate(328.076172 0)\"/>\n      <use xlink:href=\"#DejaVuSans-2d\" transform=\"translate(355.859375 0)\"/>\n      <use xlink:href=\"#DejaVuSans-73\" transform=\"translate(391.943359 0)\"/>\n      <use xlink:href=\"#DejaVuSans-74\" transform=\"translate(444.042969 0)\"/>\n      <use xlink:href=\"#DejaVuSans-61\" transform=\"translate(483.251953 0)\"/>\n      <use xlink:href=\"#DejaVuSans-74\" transform=\"translate(544.53125 0)\"/>\n      <use xlink:href=\"#DejaVuSans-75\" transform=\"translate(583.740234 0)\"/>\n      <use xlink:href=\"#DejaVuSans-73\" transform=\"translate(647.119141 0)\"/>\n     </g>\n    </g>\n   </g>\n   <g id=\"matplotlib.axis_2\">\n    <g id=\"ytick_1\">\n     <g id=\"line2d_8\">\n      <defs>\n       <path id=\"m3214da316c\" d=\"M 0 0 \nL -3.5 0 \n\" style=\"stroke: #000000; stroke-width: 0.8\"/>\n      </defs>\n      <g>\n       <use xlink:href=\"#m3214da316c\" x=\"59.690625\" y=\"284.4\" style=\"stroke: #000000; stroke-width: 0.8\"/>\n      </g>\n     </g>\n     <g id=\"text_9\">\n      <!-- 0 -->\n      <g transform=\"translate(46.328125 288.199219) scale(0.1 -0.1)\">\n       <defs>\n        <path id=\"DejaVuSans-30\" d=\"M 2034 4250 \nQ 1547 4250 1301 3770 \nQ 1056 3291 1056 2328 \nQ 1056 1369 1301 889 \nQ 1547 409 2034 409 \nQ 2525 409 2770 889 \nQ 3016 1369 3016 2328 \nQ 3016 3291 2770 3770 \nQ 2525 4250 2034 4250 \nz\nM 2034 4750 \nQ 2819 4750 3233 4129 \nQ 3647 3509 3647 2328 \nQ 3647 1150 3233 529 \nQ 2819 -91 2034 -91 \nQ 1250 -91 836 529 \nQ 422 1150 422 2328 \nQ 422 3509 836 4129 \nQ 1250 4750 2034 4750 \nz\n\" transform=\"scale(0.015625)\"/>\n       </defs>\n       <use xlink:href=\"#DejaVuSans-30\"/>\n      </g>\n     </g>\n    </g>\n    <g id=\"ytick_2\">\n     <g id=\"line2d_9\">\n      <g>\n       <use xlink:href=\"#m3214da316c\" x=\"59.690625\" y=\"225.416131\" style=\"stroke: #000000; stroke-width: 0.8\"/>\n      </g>\n     </g>\n     <g id=\"text_10\">\n      <!-- 5000 -->\n      <g transform=\"translate(27.240625 229.21535) scale(0.1 -0.1)\">\n       <defs>\n        <path id=\"DejaVuSans-35\" d=\"M 691 4666 \nL 3169 4666 \nL 3169 4134 \nL 1269 4134 \nL 1269 2991 \nQ 1406 3038 1543 3061 \nQ 1681 3084 1819 3084 \nQ 2600 3084 3056 2656 \nQ 3513 2228 3513 1497 \nQ 3513 744 3044 326 \nQ 2575 -91 1722 -91 \nQ 1428 -91 1123 -41 \nQ 819 9 494 109 \nL 494 744 \nQ 775 591 1075 516 \nQ 1375 441 1709 441 \nQ 2250 441 2565 725 \nQ 2881 1009 2881 1497 \nQ 2881 1984 2565 2268 \nQ 2250 2553 1709 2553 \nQ 1456 2553 1204 2497 \nQ 953 2441 691 2322 \nL 691 4666 \nz\n\" transform=\"scale(0.015625)\"/>\n       </defs>\n       <use xlink:href=\"#DejaVuSans-35\"/>\n       <use xlink:href=\"#DejaVuSans-30\" transform=\"translate(63.623047 0)\"/>\n       <use xlink:href=\"#DejaVuSans-30\" transform=\"translate(127.246094 0)\"/>\n       <use xlink:href=\"#DejaVuSans-30\" transform=\"translate(190.869141 0)\"/>\n      </g>\n     </g>\n    </g>\n    <g id=\"ytick_3\">\n     <g id=\"line2d_10\">\n      <g>\n       <use xlink:href=\"#m3214da316c\" x=\"59.690625\" y=\"166.432262\" style=\"stroke: #000000; stroke-width: 0.8\"/>\n      </g>\n     </g>\n     <g id=\"text_11\">\n      <!-- 10000 -->\n      <g transform=\"translate(20.878125 170.231481) scale(0.1 -0.1)\">\n       <defs>\n        <path id=\"DejaVuSans-31\" d=\"M 794 531 \nL 1825 531 \nL 1825 4091 \nL 703 3866 \nL 703 4441 \nL 1819 4666 \nL 2450 4666 \nL 2450 531 \nL 3481 531 \nL 3481 0 \nL 794 0 \nL 794 531 \nz\n\" transform=\"scale(0.015625)\"/>\n       </defs>\n       <use xlink:href=\"#DejaVuSans-31\"/>\n       <use xlink:href=\"#DejaVuSans-30\" transform=\"translate(63.623047 0)\"/>\n       <use xlink:href=\"#DejaVuSans-30\" transform=\"translate(127.246094 0)\"/>\n       <use xlink:href=\"#DejaVuSans-30\" transform=\"translate(190.869141 0)\"/>\n       <use xlink:href=\"#DejaVuSans-30\" transform=\"translate(254.492188 0)\"/>\n      </g>\n     </g>\n    </g>\n    <g id=\"ytick_4\">\n     <g id=\"line2d_11\">\n      <g>\n       <use xlink:href=\"#m3214da316c\" x=\"59.690625\" y=\"107.448394\" style=\"stroke: #000000; stroke-width: 0.8\"/>\n      </g>\n     </g>\n     <g id=\"text_12\">\n      <!-- 15000 -->\n      <g transform=\"translate(20.878125 111.247612) scale(0.1 -0.1)\">\n       <use xlink:href=\"#DejaVuSans-31\"/>\n       <use xlink:href=\"#DejaVuSans-35\" transform=\"translate(63.623047 0)\"/>\n       <use xlink:href=\"#DejaVuSans-30\" transform=\"translate(127.246094 0)\"/>\n       <use xlink:href=\"#DejaVuSans-30\" transform=\"translate(190.869141 0)\"/>\n       <use xlink:href=\"#DejaVuSans-30\" transform=\"translate(254.492188 0)\"/>\n      </g>\n     </g>\n    </g>\n    <g id=\"ytick_5\">\n     <g id=\"line2d_12\">\n      <g>\n       <use xlink:href=\"#m3214da316c\" x=\"59.690625\" y=\"48.464525\" style=\"stroke: #000000; stroke-width: 0.8\"/>\n      </g>\n     </g>\n     <g id=\"text_13\">\n      <!-- 20000 -->\n      <g transform=\"translate(20.878125 52.263744) scale(0.1 -0.1)\">\n       <defs>\n        <path id=\"DejaVuSans-32\" d=\"M 1228 531 \nL 3431 531 \nL 3431 0 \nL 469 0 \nL 469 531 \nQ 828 903 1448 1529 \nQ 2069 2156 2228 2338 \nQ 2531 2678 2651 2914 \nQ 2772 3150 2772 3378 \nQ 2772 3750 2511 3984 \nQ 2250 4219 1831 4219 \nQ 1534 4219 1204 4116 \nQ 875 4013 500 3803 \nL 500 4441 \nQ 881 4594 1212 4672 \nQ 1544 4750 1819 4750 \nQ 2544 4750 2975 4387 \nQ 3406 4025 3406 3419 \nQ 3406 3131 3298 2873 \nQ 3191 2616 2906 2266 \nQ 2828 2175 2409 1742 \nQ 1991 1309 1228 531 \nz\n\" transform=\"scale(0.015625)\"/>\n       </defs>\n       <use xlink:href=\"#DejaVuSans-32\"/>\n       <use xlink:href=\"#DejaVuSans-30\" transform=\"translate(63.623047 0)\"/>\n       <use xlink:href=\"#DejaVuSans-30\" transform=\"translate(127.246094 0)\"/>\n       <use xlink:href=\"#DejaVuSans-30\" transform=\"translate(190.869141 0)\"/>\n       <use xlink:href=\"#DejaVuSans-30\" transform=\"translate(254.492188 0)\"/>\n      </g>\n     </g>\n    </g>\n    <g id=\"text_14\">\n     <!-- count -->\n     <g transform=\"translate(14.798438 159.90625) rotate(-90) scale(0.1 -0.1)\">\n      <use xlink:href=\"#DejaVuSans-63\"/>\n      <use xlink:href=\"#DejaVuSans-6f\" transform=\"translate(54.980469 0)\"/>\n      <use xlink:href=\"#DejaVuSans-75\" transform=\"translate(116.162109 0)\"/>\n      <use xlink:href=\"#DejaVuSans-6e\" transform=\"translate(179.541016 0)\"/>\n      <use xlink:href=\"#DejaVuSans-74\" transform=\"translate(242.919922 0)\"/>\n     </g>\n    </g>\n   </g>\n   <g id=\"patch_10\">\n    <path d=\"M 59.690625 284.4 \nL 59.690625 7.2 \n\" style=\"fill: none; stroke: #000000; stroke-width: 0.8; stroke-linejoin: miter; stroke-linecap: square\"/>\n   </g>\n   <g id=\"patch_11\">\n    <path d=\"M 896.690625 284.4 \nL 896.690625 7.2 \n\" style=\"fill: none; stroke: #000000; stroke-width: 0.8; stroke-linejoin: miter; stroke-linecap: square\"/>\n   </g>\n   <g id=\"patch_12\">\n    <path d=\"M 59.690625 284.4 \nL 896.690625 284.4 \n\" style=\"fill: none; stroke: #000000; stroke-width: 0.8; stroke-linejoin: miter; stroke-linecap: square\"/>\n   </g>\n   <g id=\"patch_13\">\n    <path d=\"M 59.690625 7.2 \nL 896.690625 7.2 \n\" style=\"fill: none; stroke: #000000; stroke-width: 0.8; stroke-linejoin: miter; stroke-linecap: square\"/>\n   </g>\n  </g>\n </g>\n <defs>\n  <clipPath id=\"pe42c962060\">\n   <rect x=\"59.690625\" y=\"7.2\" width=\"837\" height=\"277.2\"/>\n  </clipPath>\n </defs>\n</svg>\n"
          },
          "metadata": {}
        }
      ]
    },
    {
      "cell_type": "code",
      "source": [
        "sns.countplot(x = 'marital-status', hue = 'sex', data = data)"
      ],
      "metadata": {
        "colab": {
          "base_uri": "https://localhost:8080/",
          "height": 468
        },
        "id": "ipLgbovcjRLX",
        "outputId": "80c033d9-e067-4d0e-95e8-05d9dd12184f"
      },
      "execution_count": 20,
      "outputs": [
        {
          "output_type": "execute_result",
          "data": {
            "text/plain": [
              "<Axes: xlabel='marital-status', ylabel='count'>"
            ]
          },
          "metadata": {},
          "execution_count": 20
        },
        {
          "output_type": "display_data",
          "data": {
            "text/plain": [
              "<Figure size 1500x500 with 1 Axes>"
            ],
            "image/svg+xml": "<?xml version=\"1.0\" encoding=\"utf-8\" standalone=\"no\"?>\n<!DOCTYPE svg PUBLIC \"-//W3C//DTD SVG 1.1//EN\"\n  \"http://www.w3.org/Graphics/SVG/1.1/DTD/svg11.dtd\">\n<svg xmlns:xlink=\"http://www.w3.org/1999/xlink\" width=\"903.890625pt\" height=\"321.95625pt\" viewBox=\"0 0 903.890625 321.95625\" xmlns=\"http://www.w3.org/2000/svg\" version=\"1.1\">\n <metadata>\n  <rdf:RDF xmlns:dc=\"http://purl.org/dc/elements/1.1/\" xmlns:cc=\"http://creativecommons.org/ns#\" xmlns:rdf=\"http://www.w3.org/1999/02/22-rdf-syntax-ns#\">\n   <cc:Work>\n    <dc:type rdf:resource=\"http://purl.org/dc/dcmitype/StillImage\"/>\n    <dc:date>2025-07-09T17:18:23.755127</dc:date>\n    <dc:format>image/svg+xml</dc:format>\n    <dc:creator>\n     <cc:Agent>\n      <dc:title>Matplotlib v3.10.0, https://matplotlib.org/</dc:title>\n     </cc:Agent>\n    </dc:creator>\n   </cc:Work>\n  </rdf:RDF>\n </metadata>\n <defs>\n  <style type=\"text/css\">*{stroke-linejoin: round; stroke-linecap: butt}</style>\n </defs>\n <g id=\"figure_1\">\n  <g id=\"patch_1\">\n   <path d=\"M 0 321.95625 \nL 903.890625 321.95625 \nL 903.890625 0 \nL 0 0 \nz\n\" style=\"fill: #ffffff\"/>\n  </g>\n  <g id=\"axes_1\">\n   <g id=\"patch_2\">\n    <path d=\"M 59.690625 284.4 \nL 896.690625 284.4 \nL 896.690625 7.2 \nL 59.690625 7.2 \nz\n\" style=\"fill: #ffffff\"/>\n   </g>\n   <g id=\"patch_3\">\n    <path d=\"M 71.647768 284.4 \nL 119.476339 284.4 \nL 119.476339 166.336982 \nL 71.647768 166.336982 \nz\n\" clip-path=\"url(#pc601d70f15)\" style=\"fill: #3274a1\"/>\n   </g>\n   <g id=\"patch_4\">\n    <path d=\"M 191.219196 284.4 \nL 239.047768 284.4 \nL 239.047768 20.4 \nL 191.219196 20.4 \nz\n\" clip-path=\"url(#pc601d70f15)\" style=\"fill: #3274a1\"/>\n   </g>\n   <g id=\"patch_5\">\n    <path d=\"M 310.790625 284.4 \nL 358.619196 284.4 \nL 358.619196 249.48126 \nL 310.790625 249.48126 \nz\n\" clip-path=\"url(#pc601d70f15)\" style=\"fill: #3274a1\"/>\n   </g>\n   <g id=\"patch_6\">\n    <path d=\"M 430.362054 284.4 \nL 478.190625 284.4 \nL 478.190625 280.101493 \nL 430.362054 280.101493 \nz\n\" clip-path=\"url(#pc601d70f15)\" style=\"fill: #3274a1\"/>\n   </g>\n   <g id=\"patch_7\">\n    <path d=\"M 549.933482 284.4 \nL 597.762054 284.4 \nL 597.762054 276.453068 \nL 549.933482 276.453068 \nz\n\" clip-path=\"url(#pc601d70f15)\" style=\"fill: #3274a1\"/>\n   </g>\n   <g id=\"patch_8\">\n    <path d=\"M 669.504911 284.4 \nL 717.333482 284.4 \nL 717.333482 284.240796 \nL 669.504911 284.240796 \nz\n\" clip-path=\"url(#pc601d70f15)\" style=\"fill: #3274a1\"/>\n   </g>\n   <g id=\"patch_9\">\n    <path d=\"M 789.076339 284.4 \nL 836.904911 284.4 \nL 836.904911 280.618905 \nL 789.076339 280.618905 \nz\n\" clip-path=\"url(#pc601d70f15)\" style=\"fill: #3274a1\"/>\n   </g>\n   <g id=\"patch_10\">\n    <path d=\"M 119.476339 284.4 \nL 167.304911 284.4 \nL 167.304911 188.638806 \nL 119.476339 188.638806 \nz\n\" clip-path=\"url(#pc601d70f15)\" style=\"fill: #e1812c\"/>\n   </g>\n   <g id=\"patch_11\">\n    <path d=\"M 239.047768 284.4 \nL 286.876339 284.4 \nL 286.876339 251.497844 \nL 239.047768 251.497844 \nz\n\" clip-path=\"url(#pc601d70f15)\" style=\"fill: #e1812c\"/>\n   </g>\n   <g id=\"patch_12\">\n    <path d=\"M 358.619196 284.4 \nL 406.447768 284.4 \nL 406.447768 231.31874 \nL 358.619196 231.31874 \nz\n\" clip-path=\"url(#pc601d70f15)\" style=\"fill: #e1812c\"/>\n   </g>\n   <g id=\"patch_13\">\n    <path d=\"M 478.190625 284.4 \nL 526.019196 284.4 \nL 526.019196 280.366833 \nL 478.190625 280.366833 \nz\n\" clip-path=\"url(#pc601d70f15)\" style=\"fill: #e1812c\"/>\n   </g>\n   <g id=\"patch_14\">\n    <path d=\"M 597.762054 284.4 \nL 645.590625 284.4 \nL 645.590625 272.048425 \nL 597.762054 272.048425 \nz\n\" clip-path=\"url(#pc601d70f15)\" style=\"fill: #e1812c\"/>\n   </g>\n   <g id=\"patch_15\">\n    <path d=\"M 717.333482 284.4 \nL 765.162054 284.4 \nL 765.162054 284.068325 \nL 717.333482 284.068325 \nz\n\" clip-path=\"url(#pc601d70f15)\" style=\"fill: #e1812c\"/>\n   </g>\n   <g id=\"patch_16\">\n    <path d=\"M 836.904911 284.4 \nL 884.733482 284.4 \nL 884.733482 268.041791 \nL 836.904911 268.041791 \nz\n\" clip-path=\"url(#pc601d70f15)\" style=\"fill: #e1812c\"/>\n   </g>\n   <g id=\"patch_17\">\n    <path d=\"M 119.476339 284.4 \nL 119.476339 284.4 \nL 119.476339 284.4 \nL 119.476339 284.4 \nz\n\" clip-path=\"url(#pc601d70f15)\" style=\"fill: #3274a1\"/>\n   </g>\n   <g id=\"patch_18\">\n    <path d=\"M 119.476339 284.4 \nL 119.476339 284.4 \nL 119.476339 284.4 \nL 119.476339 284.4 \nz\n\" clip-path=\"url(#pc601d70f15)\" style=\"fill: #e1812c\"/>\n   </g>\n   <g id=\"matplotlib.axis_1\">\n    <g id=\"xtick_1\">\n     <g id=\"line2d_1\">\n      <defs>\n       <path id=\"m04105ceb5a\" d=\"M 0 0 \nL 0 3.5 \n\" style=\"stroke: #000000; stroke-width: 0.8\"/>\n      </defs>\n      <g>\n       <use xlink:href=\"#m04105ceb5a\" x=\"119.476339\" y=\"284.4\" style=\"stroke: #000000; stroke-width: 0.8\"/>\n      </g>\n     </g>\n     <g id=\"text_1\">\n      <!-- Never-married -->\n      <g transform=\"translate(83.484933 298.998438) scale(0.1 -0.1)\">\n       <defs>\n        <path id=\"DejaVuSans-4e\" d=\"M 628 4666 \nL 1478 4666 \nL 3547 763 \nL 3547 4666 \nL 4159 4666 \nL 4159 0 \nL 3309 0 \nL 1241 3903 \nL 1241 0 \nL 628 0 \nL 628 4666 \nz\n\" transform=\"scale(0.015625)\"/>\n        <path id=\"DejaVuSans-65\" d=\"M 3597 1894 \nL 3597 1613 \nL 953 1613 \nQ 991 1019 1311 708 \nQ 1631 397 2203 397 \nQ 2534 397 2845 478 \nQ 3156 559 3463 722 \nL 3463 178 \nQ 3153 47 2828 -22 \nQ 2503 -91 2169 -91 \nQ 1331 -91 842 396 \nQ 353 884 353 1716 \nQ 353 2575 817 3079 \nQ 1281 3584 2069 3584 \nQ 2775 3584 3186 3129 \nQ 3597 2675 3597 1894 \nz\nM 3022 2063 \nQ 3016 2534 2758 2815 \nQ 2500 3097 2075 3097 \nQ 1594 3097 1305 2825 \nQ 1016 2553 972 2059 \nL 3022 2063 \nz\n\" transform=\"scale(0.015625)\"/>\n        <path id=\"DejaVuSans-76\" d=\"M 191 3500 \nL 800 3500 \nL 1894 563 \nL 2988 3500 \nL 3597 3500 \nL 2284 0 \nL 1503 0 \nL 191 3500 \nz\n\" transform=\"scale(0.015625)\"/>\n        <path id=\"DejaVuSans-72\" d=\"M 2631 2963 \nQ 2534 3019 2420 3045 \nQ 2306 3072 2169 3072 \nQ 1681 3072 1420 2755 \nQ 1159 2438 1159 1844 \nL 1159 0 \nL 581 0 \nL 581 3500 \nL 1159 3500 \nL 1159 2956 \nQ 1341 3275 1631 3429 \nQ 1922 3584 2338 3584 \nQ 2397 3584 2469 3576 \nQ 2541 3569 2628 3553 \nL 2631 2963 \nz\n\" transform=\"scale(0.015625)\"/>\n        <path id=\"DejaVuSans-2d\" d=\"M 313 2009 \nL 1997 2009 \nL 1997 1497 \nL 313 1497 \nL 313 2009 \nz\n\" transform=\"scale(0.015625)\"/>\n        <path id=\"DejaVuSans-6d\" d=\"M 3328 2828 \nQ 3544 3216 3844 3400 \nQ 4144 3584 4550 3584 \nQ 5097 3584 5394 3201 \nQ 5691 2819 5691 2113 \nL 5691 0 \nL 5113 0 \nL 5113 2094 \nQ 5113 2597 4934 2840 \nQ 4756 3084 4391 3084 \nQ 3944 3084 3684 2787 \nQ 3425 2491 3425 1978 \nL 3425 0 \nL 2847 0 \nL 2847 2094 \nQ 2847 2600 2669 2842 \nQ 2491 3084 2119 3084 \nQ 1678 3084 1418 2786 \nQ 1159 2488 1159 1978 \nL 1159 0 \nL 581 0 \nL 581 3500 \nL 1159 3500 \nL 1159 2956 \nQ 1356 3278 1631 3431 \nQ 1906 3584 2284 3584 \nQ 2666 3584 2933 3390 \nQ 3200 3197 3328 2828 \nz\n\" transform=\"scale(0.015625)\"/>\n        <path id=\"DejaVuSans-61\" d=\"M 2194 1759 \nQ 1497 1759 1228 1600 \nQ 959 1441 959 1056 \nQ 959 750 1161 570 \nQ 1363 391 1709 391 \nQ 2188 391 2477 730 \nQ 2766 1069 2766 1631 \nL 2766 1759 \nL 2194 1759 \nz\nM 3341 1997 \nL 3341 0 \nL 2766 0 \nL 2766 531 \nQ 2569 213 2275 61 \nQ 1981 -91 1556 -91 \nQ 1019 -91 701 211 \nQ 384 513 384 1019 \nQ 384 1609 779 1909 \nQ 1175 2209 1959 2209 \nL 2766 2209 \nL 2766 2266 \nQ 2766 2663 2505 2880 \nQ 2244 3097 1772 3097 \nQ 1472 3097 1187 3025 \nQ 903 2953 641 2809 \nL 641 3341 \nQ 956 3463 1253 3523 \nQ 1550 3584 1831 3584 \nQ 2591 3584 2966 3190 \nQ 3341 2797 3341 1997 \nz\n\" transform=\"scale(0.015625)\"/>\n        <path id=\"DejaVuSans-69\" d=\"M 603 3500 \nL 1178 3500 \nL 1178 0 \nL 603 0 \nL 603 3500 \nz\nM 603 4863 \nL 1178 4863 \nL 1178 4134 \nL 603 4134 \nL 603 4863 \nz\n\" transform=\"scale(0.015625)\"/>\n        <path id=\"DejaVuSans-64\" d=\"M 2906 2969 \nL 2906 4863 \nL 3481 4863 \nL 3481 0 \nL 2906 0 \nL 2906 525 \nQ 2725 213 2448 61 \nQ 2172 -91 1784 -91 \nQ 1150 -91 751 415 \nQ 353 922 353 1747 \nQ 353 2572 751 3078 \nQ 1150 3584 1784 3584 \nQ 2172 3584 2448 3432 \nQ 2725 3281 2906 2969 \nz\nM 947 1747 \nQ 947 1113 1208 752 \nQ 1469 391 1925 391 \nQ 2381 391 2643 752 \nQ 2906 1113 2906 1747 \nQ 2906 2381 2643 2742 \nQ 2381 3103 1925 3103 \nQ 1469 3103 1208 2742 \nQ 947 2381 947 1747 \nz\n\" transform=\"scale(0.015625)\"/>\n       </defs>\n       <use xlink:href=\"#DejaVuSans-4e\"/>\n       <use xlink:href=\"#DejaVuSans-65\" transform=\"translate(74.804688 0)\"/>\n       <use xlink:href=\"#DejaVuSans-76\" transform=\"translate(136.328125 0)\"/>\n       <use xlink:href=\"#DejaVuSans-65\" transform=\"translate(195.507812 0)\"/>\n       <use xlink:href=\"#DejaVuSans-72\" transform=\"translate(257.03125 0)\"/>\n       <use xlink:href=\"#DejaVuSans-2d\" transform=\"translate(291.769531 0)\"/>\n       <use xlink:href=\"#DejaVuSans-6d\" transform=\"translate(327.853516 0)\"/>\n       <use xlink:href=\"#DejaVuSans-61\" transform=\"translate(425.265625 0)\"/>\n       <use xlink:href=\"#DejaVuSans-72\" transform=\"translate(486.544922 0)\"/>\n       <use xlink:href=\"#DejaVuSans-72\" transform=\"translate(525.908203 0)\"/>\n       <use xlink:href=\"#DejaVuSans-69\" transform=\"translate(567.021484 0)\"/>\n       <use xlink:href=\"#DejaVuSans-65\" transform=\"translate(594.804688 0)\"/>\n       <use xlink:href=\"#DejaVuSans-64\" transform=\"translate(656.328125 0)\"/>\n      </g>\n     </g>\n    </g>\n    <g id=\"xtick_2\">\n     <g id=\"line2d_2\">\n      <g>\n       <use xlink:href=\"#m04105ceb5a\" x=\"239.047768\" y=\"284.4\" style=\"stroke: #000000; stroke-width: 0.8\"/>\n      </g>\n     </g>\n     <g id=\"text_2\">\n      <!-- Married-civ-spouse -->\n      <g transform=\"translate(191.743862 298.998438) scale(0.1 -0.1)\">\n       <defs>\n        <path id=\"DejaVuSans-4d\" d=\"M 628 4666 \nL 1569 4666 \nL 2759 1491 \nL 3956 4666 \nL 4897 4666 \nL 4897 0 \nL 4281 0 \nL 4281 4097 \nL 3078 897 \nL 2444 897 \nL 1241 4097 \nL 1241 0 \nL 628 0 \nL 628 4666 \nz\n\" transform=\"scale(0.015625)\"/>\n        <path id=\"DejaVuSans-63\" d=\"M 3122 3366 \nL 3122 2828 \nQ 2878 2963 2633 3030 \nQ 2388 3097 2138 3097 \nQ 1578 3097 1268 2742 \nQ 959 2388 959 1747 \nQ 959 1106 1268 751 \nQ 1578 397 2138 397 \nQ 2388 397 2633 464 \nQ 2878 531 3122 666 \nL 3122 134 \nQ 2881 22 2623 -34 \nQ 2366 -91 2075 -91 \nQ 1284 -91 818 406 \nQ 353 903 353 1747 \nQ 353 2603 823 3093 \nQ 1294 3584 2113 3584 \nQ 2378 3584 2631 3529 \nQ 2884 3475 3122 3366 \nz\n\" transform=\"scale(0.015625)\"/>\n        <path id=\"DejaVuSans-73\" d=\"M 2834 3397 \nL 2834 2853 \nQ 2591 2978 2328 3040 \nQ 2066 3103 1784 3103 \nQ 1356 3103 1142 2972 \nQ 928 2841 928 2578 \nQ 928 2378 1081 2264 \nQ 1234 2150 1697 2047 \nL 1894 2003 \nQ 2506 1872 2764 1633 \nQ 3022 1394 3022 966 \nQ 3022 478 2636 193 \nQ 2250 -91 1575 -91 \nQ 1294 -91 989 -36 \nQ 684 19 347 128 \nL 347 722 \nQ 666 556 975 473 \nQ 1284 391 1588 391 \nQ 1994 391 2212 530 \nQ 2431 669 2431 922 \nQ 2431 1156 2273 1281 \nQ 2116 1406 1581 1522 \nL 1381 1569 \nQ 847 1681 609 1914 \nQ 372 2147 372 2553 \nQ 372 3047 722 3315 \nQ 1072 3584 1716 3584 \nQ 2034 3584 2315 3537 \nQ 2597 3491 2834 3397 \nz\n\" transform=\"scale(0.015625)\"/>\n        <path id=\"DejaVuSans-70\" d=\"M 1159 525 \nL 1159 -1331 \nL 581 -1331 \nL 581 3500 \nL 1159 3500 \nL 1159 2969 \nQ 1341 3281 1617 3432 \nQ 1894 3584 2278 3584 \nQ 2916 3584 3314 3078 \nQ 3713 2572 3713 1747 \nQ 3713 922 3314 415 \nQ 2916 -91 2278 -91 \nQ 1894 -91 1617 61 \nQ 1341 213 1159 525 \nz\nM 3116 1747 \nQ 3116 2381 2855 2742 \nQ 2594 3103 2138 3103 \nQ 1681 3103 1420 2742 \nQ 1159 2381 1159 1747 \nQ 1159 1113 1420 752 \nQ 1681 391 2138 391 \nQ 2594 391 2855 752 \nQ 3116 1113 3116 1747 \nz\n\" transform=\"scale(0.015625)\"/>\n        <path id=\"DejaVuSans-6f\" d=\"M 1959 3097 \nQ 1497 3097 1228 2736 \nQ 959 2375 959 1747 \nQ 959 1119 1226 758 \nQ 1494 397 1959 397 \nQ 2419 397 2687 759 \nQ 2956 1122 2956 1747 \nQ 2956 2369 2687 2733 \nQ 2419 3097 1959 3097 \nz\nM 1959 3584 \nQ 2709 3584 3137 3096 \nQ 3566 2609 3566 1747 \nQ 3566 888 3137 398 \nQ 2709 -91 1959 -91 \nQ 1206 -91 779 398 \nQ 353 888 353 1747 \nQ 353 2609 779 3096 \nQ 1206 3584 1959 3584 \nz\n\" transform=\"scale(0.015625)\"/>\n        <path id=\"DejaVuSans-75\" d=\"M 544 1381 \nL 544 3500 \nL 1119 3500 \nL 1119 1403 \nQ 1119 906 1312 657 \nQ 1506 409 1894 409 \nQ 2359 409 2629 706 \nQ 2900 1003 2900 1516 \nL 2900 3500 \nL 3475 3500 \nL 3475 0 \nL 2900 0 \nL 2900 538 \nQ 2691 219 2414 64 \nQ 2138 -91 1772 -91 \nQ 1169 -91 856 284 \nQ 544 659 544 1381 \nz\nM 1991 3584 \nL 1991 3584 \nz\n\" transform=\"scale(0.015625)\"/>\n       </defs>\n       <use xlink:href=\"#DejaVuSans-4d\"/>\n       <use xlink:href=\"#DejaVuSans-61\" transform=\"translate(86.279297 0)\"/>\n       <use xlink:href=\"#DejaVuSans-72\" transform=\"translate(147.558594 0)\"/>\n       <use xlink:href=\"#DejaVuSans-72\" transform=\"translate(186.921875 0)\"/>\n       <use xlink:href=\"#DejaVuSans-69\" transform=\"translate(228.035156 0)\"/>\n       <use xlink:href=\"#DejaVuSans-65\" transform=\"translate(255.818359 0)\"/>\n       <use xlink:href=\"#DejaVuSans-64\" transform=\"translate(317.341797 0)\"/>\n       <use xlink:href=\"#DejaVuSans-2d\" transform=\"translate(380.818359 0)\"/>\n       <use xlink:href=\"#DejaVuSans-63\" transform=\"translate(416.902344 0)\"/>\n       <use xlink:href=\"#DejaVuSans-69\" transform=\"translate(471.882812 0)\"/>\n       <use xlink:href=\"#DejaVuSans-76\" transform=\"translate(499.666016 0)\"/>\n       <use xlink:href=\"#DejaVuSans-2d\" transform=\"translate(556.220703 0)\"/>\n       <use xlink:href=\"#DejaVuSans-73\" transform=\"translate(592.304688 0)\"/>\n       <use xlink:href=\"#DejaVuSans-70\" transform=\"translate(644.404297 0)\"/>\n       <use xlink:href=\"#DejaVuSans-6f\" transform=\"translate(707.880859 0)\"/>\n       <use xlink:href=\"#DejaVuSans-75\" transform=\"translate(769.0625 0)\"/>\n       <use xlink:href=\"#DejaVuSans-73\" transform=\"translate(832.441406 0)\"/>\n       <use xlink:href=\"#DejaVuSans-65\" transform=\"translate(884.541016 0)\"/>\n      </g>\n     </g>\n    </g>\n    <g id=\"xtick_3\">\n     <g id=\"line2d_3\">\n      <g>\n       <use xlink:href=\"#m04105ceb5a\" x=\"358.619196\" y=\"284.4\" style=\"stroke: #000000; stroke-width: 0.8\"/>\n      </g>\n     </g>\n     <g id=\"text_3\">\n      <!-- Divorced -->\n      <g transform=\"translate(336.418415 298.998438) scale(0.1 -0.1)\">\n       <defs>\n        <path id=\"DejaVuSans-44\" d=\"M 1259 4147 \nL 1259 519 \nL 2022 519 \nQ 2988 519 3436 956 \nQ 3884 1394 3884 2338 \nQ 3884 3275 3436 3711 \nQ 2988 4147 2022 4147 \nL 1259 4147 \nz\nM 628 4666 \nL 1925 4666 \nQ 3281 4666 3915 4102 \nQ 4550 3538 4550 2338 \nQ 4550 1131 3912 565 \nQ 3275 0 1925 0 \nL 628 0 \nL 628 4666 \nz\n\" transform=\"scale(0.015625)\"/>\n       </defs>\n       <use xlink:href=\"#DejaVuSans-44\"/>\n       <use xlink:href=\"#DejaVuSans-69\" transform=\"translate(77.001953 0)\"/>\n       <use xlink:href=\"#DejaVuSans-76\" transform=\"translate(104.785156 0)\"/>\n       <use xlink:href=\"#DejaVuSans-6f\" transform=\"translate(163.964844 0)\"/>\n       <use xlink:href=\"#DejaVuSans-72\" transform=\"translate(225.146484 0)\"/>\n       <use xlink:href=\"#DejaVuSans-63\" transform=\"translate(264.009766 0)\"/>\n       <use xlink:href=\"#DejaVuSans-65\" transform=\"translate(318.990234 0)\"/>\n       <use xlink:href=\"#DejaVuSans-64\" transform=\"translate(380.513672 0)\"/>\n      </g>\n     </g>\n    </g>\n    <g id=\"xtick_4\">\n     <g id=\"line2d_4\">\n      <g>\n       <use xlink:href=\"#m04105ceb5a\" x=\"478.190625\" y=\"284.4\" style=\"stroke: #000000; stroke-width: 0.8\"/>\n      </g>\n     </g>\n     <g id=\"text_4\">\n      <!-- Married-spouse-absent -->\n      <g transform=\"translate(420.804688 298.998438) scale(0.1 -0.1)\">\n       <defs>\n        <path id=\"DejaVuSans-62\" d=\"M 3116 1747 \nQ 3116 2381 2855 2742 \nQ 2594 3103 2138 3103 \nQ 1681 3103 1420 2742 \nQ 1159 2381 1159 1747 \nQ 1159 1113 1420 752 \nQ 1681 391 2138 391 \nQ 2594 391 2855 752 \nQ 3116 1113 3116 1747 \nz\nM 1159 2969 \nQ 1341 3281 1617 3432 \nQ 1894 3584 2278 3584 \nQ 2916 3584 3314 3078 \nQ 3713 2572 3713 1747 \nQ 3713 922 3314 415 \nQ 2916 -91 2278 -91 \nQ 1894 -91 1617 61 \nQ 1341 213 1159 525 \nL 1159 0 \nL 581 0 \nL 581 4863 \nL 1159 4863 \nL 1159 2969 \nz\n\" transform=\"scale(0.015625)\"/>\n        <path id=\"DejaVuSans-6e\" d=\"M 3513 2113 \nL 3513 0 \nL 2938 0 \nL 2938 2094 \nQ 2938 2591 2744 2837 \nQ 2550 3084 2163 3084 \nQ 1697 3084 1428 2787 \nQ 1159 2491 1159 1978 \nL 1159 0 \nL 581 0 \nL 581 3500 \nL 1159 3500 \nL 1159 2956 \nQ 1366 3272 1645 3428 \nQ 1925 3584 2291 3584 \nQ 2894 3584 3203 3211 \nQ 3513 2838 3513 2113 \nz\n\" transform=\"scale(0.015625)\"/>\n        <path id=\"DejaVuSans-74\" d=\"M 1172 4494 \nL 1172 3500 \nL 2356 3500 \nL 2356 3053 \nL 1172 3053 \nL 1172 1153 \nQ 1172 725 1289 603 \nQ 1406 481 1766 481 \nL 2356 481 \nL 2356 0 \nL 1766 0 \nQ 1100 0 847 248 \nQ 594 497 594 1153 \nL 594 3053 \nL 172 3053 \nL 172 3500 \nL 594 3500 \nL 594 4494 \nL 1172 4494 \nz\n\" transform=\"scale(0.015625)\"/>\n       </defs>\n       <use xlink:href=\"#DejaVuSans-4d\"/>\n       <use xlink:href=\"#DejaVuSans-61\" transform=\"translate(86.279297 0)\"/>\n       <use xlink:href=\"#DejaVuSans-72\" transform=\"translate(147.558594 0)\"/>\n       <use xlink:href=\"#DejaVuSans-72\" transform=\"translate(186.921875 0)\"/>\n       <use xlink:href=\"#DejaVuSans-69\" transform=\"translate(228.035156 0)\"/>\n       <use xlink:href=\"#DejaVuSans-65\" transform=\"translate(255.818359 0)\"/>\n       <use xlink:href=\"#DejaVuSans-64\" transform=\"translate(317.341797 0)\"/>\n       <use xlink:href=\"#DejaVuSans-2d\" transform=\"translate(380.818359 0)\"/>\n       <use xlink:href=\"#DejaVuSans-73\" transform=\"translate(416.902344 0)\"/>\n       <use xlink:href=\"#DejaVuSans-70\" transform=\"translate(469.001953 0)\"/>\n       <use xlink:href=\"#DejaVuSans-6f\" transform=\"translate(532.478516 0)\"/>\n       <use xlink:href=\"#DejaVuSans-75\" transform=\"translate(593.660156 0)\"/>\n       <use xlink:href=\"#DejaVuSans-73\" transform=\"translate(657.039062 0)\"/>\n       <use xlink:href=\"#DejaVuSans-65\" transform=\"translate(709.138672 0)\"/>\n       <use xlink:href=\"#DejaVuSans-2d\" transform=\"translate(770.662109 0)\"/>\n       <use xlink:href=\"#DejaVuSans-61\" transform=\"translate(806.746094 0)\"/>\n       <use xlink:href=\"#DejaVuSans-62\" transform=\"translate(868.025391 0)\"/>\n       <use xlink:href=\"#DejaVuSans-73\" transform=\"translate(931.501953 0)\"/>\n       <use xlink:href=\"#DejaVuSans-65\" transform=\"translate(983.601562 0)\"/>\n       <use xlink:href=\"#DejaVuSans-6e\" transform=\"translate(1045.125 0)\"/>\n       <use xlink:href=\"#DejaVuSans-74\" transform=\"translate(1108.503906 0)\"/>\n      </g>\n     </g>\n    </g>\n    <g id=\"xtick_5\">\n     <g id=\"line2d_5\">\n      <g>\n       <use xlink:href=\"#m04105ceb5a\" x=\"597.762054\" y=\"284.4\" style=\"stroke: #000000; stroke-width: 0.8\"/>\n      </g>\n     </g>\n     <g id=\"text_5\">\n      <!-- Separated -->\n      <g transform=\"translate(571.942522 298.998438) scale(0.1 -0.1)\">\n       <defs>\n        <path id=\"DejaVuSans-53\" d=\"M 3425 4513 \nL 3425 3897 \nQ 3066 4069 2747 4153 \nQ 2428 4238 2131 4238 \nQ 1616 4238 1336 4038 \nQ 1056 3838 1056 3469 \nQ 1056 3159 1242 3001 \nQ 1428 2844 1947 2747 \nL 2328 2669 \nQ 3034 2534 3370 2195 \nQ 3706 1856 3706 1288 \nQ 3706 609 3251 259 \nQ 2797 -91 1919 -91 \nQ 1588 -91 1214 -16 \nQ 841 59 441 206 \nL 441 856 \nQ 825 641 1194 531 \nQ 1563 422 1919 422 \nQ 2459 422 2753 634 \nQ 3047 847 3047 1241 \nQ 3047 1584 2836 1778 \nQ 2625 1972 2144 2069 \nL 1759 2144 \nQ 1053 2284 737 2584 \nQ 422 2884 422 3419 \nQ 422 4038 858 4394 \nQ 1294 4750 2059 4750 \nQ 2388 4750 2728 4690 \nQ 3069 4631 3425 4513 \nz\n\" transform=\"scale(0.015625)\"/>\n       </defs>\n       <use xlink:href=\"#DejaVuSans-53\"/>\n       <use xlink:href=\"#DejaVuSans-65\" transform=\"translate(63.476562 0)\"/>\n       <use xlink:href=\"#DejaVuSans-70\" transform=\"translate(125 0)\"/>\n       <use xlink:href=\"#DejaVuSans-61\" transform=\"translate(188.476562 0)\"/>\n       <use xlink:href=\"#DejaVuSans-72\" transform=\"translate(249.755859 0)\"/>\n       <use xlink:href=\"#DejaVuSans-61\" transform=\"translate(290.869141 0)\"/>\n       <use xlink:href=\"#DejaVuSans-74\" transform=\"translate(352.148438 0)\"/>\n       <use xlink:href=\"#DejaVuSans-65\" transform=\"translate(391.357422 0)\"/>\n       <use xlink:href=\"#DejaVuSans-64\" transform=\"translate(452.880859 0)\"/>\n      </g>\n     </g>\n    </g>\n    <g id=\"xtick_6\">\n     <g id=\"line2d_6\">\n      <g>\n       <use xlink:href=\"#m04105ceb5a\" x=\"717.333482\" y=\"284.4\" style=\"stroke: #000000; stroke-width: 0.8\"/>\n      </g>\n     </g>\n     <g id=\"text_6\">\n      <!-- Married-AF-spouse -->\n      <g transform=\"translate(670.812388 298.998438) scale(0.1 -0.1)\">\n       <defs>\n        <path id=\"DejaVuSans-41\" d=\"M 2188 4044 \nL 1331 1722 \nL 3047 1722 \nL 2188 4044 \nz\nM 1831 4666 \nL 2547 4666 \nL 4325 0 \nL 3669 0 \nL 3244 1197 \nL 1141 1197 \nL 716 0 \nL 50 0 \nL 1831 4666 \nz\n\" transform=\"scale(0.015625)\"/>\n        <path id=\"DejaVuSans-46\" d=\"M 628 4666 \nL 3309 4666 \nL 3309 4134 \nL 1259 4134 \nL 1259 2759 \nL 3109 2759 \nL 3109 2228 \nL 1259 2228 \nL 1259 0 \nL 628 0 \nL 628 4666 \nz\n\" transform=\"scale(0.015625)\"/>\n       </defs>\n       <use xlink:href=\"#DejaVuSans-4d\"/>\n       <use xlink:href=\"#DejaVuSans-61\" transform=\"translate(86.279297 0)\"/>\n       <use xlink:href=\"#DejaVuSans-72\" transform=\"translate(147.558594 0)\"/>\n       <use xlink:href=\"#DejaVuSans-72\" transform=\"translate(186.921875 0)\"/>\n       <use xlink:href=\"#DejaVuSans-69\" transform=\"translate(228.035156 0)\"/>\n       <use xlink:href=\"#DejaVuSans-65\" transform=\"translate(255.818359 0)\"/>\n       <use xlink:href=\"#DejaVuSans-64\" transform=\"translate(317.341797 0)\"/>\n       <use xlink:href=\"#DejaVuSans-2d\" transform=\"translate(380.818359 0)\"/>\n       <use xlink:href=\"#DejaVuSans-41\" transform=\"translate(414.652344 0)\"/>\n       <use xlink:href=\"#DejaVuSans-46\" transform=\"translate(483.060547 0)\"/>\n       <use xlink:href=\"#DejaVuSans-2d\" transform=\"translate(540.580078 0)\"/>\n       <use xlink:href=\"#DejaVuSans-73\" transform=\"translate(576.664062 0)\"/>\n       <use xlink:href=\"#DejaVuSans-70\" transform=\"translate(628.763672 0)\"/>\n       <use xlink:href=\"#DejaVuSans-6f\" transform=\"translate(692.240234 0)\"/>\n       <use xlink:href=\"#DejaVuSans-75\" transform=\"translate(753.421875 0)\"/>\n       <use xlink:href=\"#DejaVuSans-73\" transform=\"translate(816.800781 0)\"/>\n       <use xlink:href=\"#DejaVuSans-65\" transform=\"translate(868.900391 0)\"/>\n      </g>\n     </g>\n    </g>\n    <g id=\"xtick_7\">\n     <g id=\"line2d_7\">\n      <g>\n       <use xlink:href=\"#m04105ceb5a\" x=\"836.904911\" y=\"284.4\" style=\"stroke: #000000; stroke-width: 0.8\"/>\n      </g>\n     </g>\n     <g id=\"text_7\">\n      <!-- Widowed -->\n      <g transform=\"translate(814.111161 298.998438) scale(0.1 -0.1)\">\n       <defs>\n        <path id=\"DejaVuSans-57\" d=\"M 213 4666 \nL 850 4666 \nL 1831 722 \nL 2809 4666 \nL 3519 4666 \nL 4500 722 \nL 5478 4666 \nL 6119 4666 \nL 4947 0 \nL 4153 0 \nL 3169 4050 \nL 2175 0 \nL 1381 0 \nL 213 4666 \nz\n\" transform=\"scale(0.015625)\"/>\n        <path id=\"DejaVuSans-77\" d=\"M 269 3500 \nL 844 3500 \nL 1563 769 \nL 2278 3500 \nL 2956 3500 \nL 3675 769 \nL 4391 3500 \nL 4966 3500 \nL 4050 0 \nL 3372 0 \nL 2619 2869 \nL 1863 0 \nL 1184 0 \nL 269 3500 \nz\n\" transform=\"scale(0.015625)\"/>\n       </defs>\n       <use xlink:href=\"#DejaVuSans-57\"/>\n       <use xlink:href=\"#DejaVuSans-69\" transform=\"translate(96.626953 0)\"/>\n       <use xlink:href=\"#DejaVuSans-64\" transform=\"translate(124.410156 0)\"/>\n       <use xlink:href=\"#DejaVuSans-6f\" transform=\"translate(187.886719 0)\"/>\n       <use xlink:href=\"#DejaVuSans-77\" transform=\"translate(249.068359 0)\"/>\n       <use xlink:href=\"#DejaVuSans-65\" transform=\"translate(330.855469 0)\"/>\n       <use xlink:href=\"#DejaVuSans-64\" transform=\"translate(392.378906 0)\"/>\n      </g>\n     </g>\n    </g>\n    <g id=\"text_8\">\n     <!-- marital-status -->\n     <g transform=\"translate(443.232031 312.676562) scale(0.1 -0.1)\">\n      <defs>\n       <path id=\"DejaVuSans-6c\" d=\"M 603 4863 \nL 1178 4863 \nL 1178 0 \nL 603 0 \nL 603 4863 \nz\n\" transform=\"scale(0.015625)\"/>\n      </defs>\n      <use xlink:href=\"#DejaVuSans-6d\"/>\n      <use xlink:href=\"#DejaVuSans-61\" transform=\"translate(97.412109 0)\"/>\n      <use xlink:href=\"#DejaVuSans-72\" transform=\"translate(158.691406 0)\"/>\n      <use xlink:href=\"#DejaVuSans-69\" transform=\"translate(199.804688 0)\"/>\n      <use xlink:href=\"#DejaVuSans-74\" transform=\"translate(227.587891 0)\"/>\n      <use xlink:href=\"#DejaVuSans-61\" transform=\"translate(266.796875 0)\"/>\n      <use xlink:href=\"#DejaVuSans-6c\" transform=\"translate(328.076172 0)\"/>\n      <use xlink:href=\"#DejaVuSans-2d\" transform=\"translate(355.859375 0)\"/>\n      <use xlink:href=\"#DejaVuSans-73\" transform=\"translate(391.943359 0)\"/>\n      <use xlink:href=\"#DejaVuSans-74\" transform=\"translate(444.042969 0)\"/>\n      <use xlink:href=\"#DejaVuSans-61\" transform=\"translate(483.251953 0)\"/>\n      <use xlink:href=\"#DejaVuSans-74\" transform=\"translate(544.53125 0)\"/>\n      <use xlink:href=\"#DejaVuSans-75\" transform=\"translate(583.740234 0)\"/>\n      <use xlink:href=\"#DejaVuSans-73\" transform=\"translate(647.119141 0)\"/>\n     </g>\n    </g>\n   </g>\n   <g id=\"matplotlib.axis_2\">\n    <g id=\"ytick_1\">\n     <g id=\"line2d_8\">\n      <defs>\n       <path id=\"m07da986717\" d=\"M 0 0 \nL -3.5 0 \n\" style=\"stroke: #000000; stroke-width: 0.8\"/>\n      </defs>\n      <g>\n       <use xlink:href=\"#m07da986717\" x=\"59.690625\" y=\"284.4\" style=\"stroke: #000000; stroke-width: 0.8\"/>\n      </g>\n     </g>\n     <g id=\"text_9\">\n      <!-- 0 -->\n      <g transform=\"translate(46.328125 288.199219) scale(0.1 -0.1)\">\n       <defs>\n        <path id=\"DejaVuSans-30\" d=\"M 2034 4250 \nQ 1547 4250 1301 3770 \nQ 1056 3291 1056 2328 \nQ 1056 1369 1301 889 \nQ 1547 409 2034 409 \nQ 2525 409 2770 889 \nQ 3016 1369 3016 2328 \nQ 3016 3291 2770 3770 \nQ 2525 4250 2034 4250 \nz\nM 2034 4750 \nQ 2819 4750 3233 4129 \nQ 3647 3509 3647 2328 \nQ 3647 1150 3233 529 \nQ 2819 -91 2034 -91 \nQ 1250 -91 836 529 \nQ 422 1150 422 2328 \nQ 422 3509 836 4129 \nQ 1250 4750 2034 4750 \nz\n\" transform=\"scale(0.015625)\"/>\n       </defs>\n       <use xlink:href=\"#DejaVuSans-30\"/>\n      </g>\n     </g>\n    </g>\n    <g id=\"ytick_2\">\n     <g id=\"line2d_9\">\n      <g>\n       <use xlink:href=\"#m07da986717\" x=\"59.690625\" y=\"251.232504\" style=\"stroke: #000000; stroke-width: 0.8\"/>\n      </g>\n     </g>\n     <g id=\"text_10\">\n      <!-- 2500 -->\n      <g transform=\"translate(27.240625 255.031723) scale(0.1 -0.1)\">\n       <defs>\n        <path id=\"DejaVuSans-32\" d=\"M 1228 531 \nL 3431 531 \nL 3431 0 \nL 469 0 \nL 469 531 \nQ 828 903 1448 1529 \nQ 2069 2156 2228 2338 \nQ 2531 2678 2651 2914 \nQ 2772 3150 2772 3378 \nQ 2772 3750 2511 3984 \nQ 2250 4219 1831 4219 \nQ 1534 4219 1204 4116 \nQ 875 4013 500 3803 \nL 500 4441 \nQ 881 4594 1212 4672 \nQ 1544 4750 1819 4750 \nQ 2544 4750 2975 4387 \nQ 3406 4025 3406 3419 \nQ 3406 3131 3298 2873 \nQ 3191 2616 2906 2266 \nQ 2828 2175 2409 1742 \nQ 1991 1309 1228 531 \nz\n\" transform=\"scale(0.015625)\"/>\n        <path id=\"DejaVuSans-35\" d=\"M 691 4666 \nL 3169 4666 \nL 3169 4134 \nL 1269 4134 \nL 1269 2991 \nQ 1406 3038 1543 3061 \nQ 1681 3084 1819 3084 \nQ 2600 3084 3056 2656 \nQ 3513 2228 3513 1497 \nQ 3513 744 3044 326 \nQ 2575 -91 1722 -91 \nQ 1428 -91 1123 -41 \nQ 819 9 494 109 \nL 494 744 \nQ 775 591 1075 516 \nQ 1375 441 1709 441 \nQ 2250 441 2565 725 \nQ 2881 1009 2881 1497 \nQ 2881 1984 2565 2268 \nQ 2250 2553 1709 2553 \nQ 1456 2553 1204 2497 \nQ 953 2441 691 2322 \nL 691 4666 \nz\n\" transform=\"scale(0.015625)\"/>\n       </defs>\n       <use xlink:href=\"#DejaVuSans-32\"/>\n       <use xlink:href=\"#DejaVuSans-35\" transform=\"translate(63.623047 0)\"/>\n       <use xlink:href=\"#DejaVuSans-30\" transform=\"translate(127.246094 0)\"/>\n       <use xlink:href=\"#DejaVuSans-30\" transform=\"translate(190.869141 0)\"/>\n      </g>\n     </g>\n    </g>\n    <g id=\"ytick_3\">\n     <g id=\"line2d_10\">\n      <g>\n       <use xlink:href=\"#m07da986717\" x=\"59.690625\" y=\"218.065008\" style=\"stroke: #000000; stroke-width: 0.8\"/>\n      </g>\n     </g>\n     <g id=\"text_11\">\n      <!-- 5000 -->\n      <g transform=\"translate(27.240625 221.864227) scale(0.1 -0.1)\">\n       <use xlink:href=\"#DejaVuSans-35\"/>\n       <use xlink:href=\"#DejaVuSans-30\" transform=\"translate(63.623047 0)\"/>\n       <use xlink:href=\"#DejaVuSans-30\" transform=\"translate(127.246094 0)\"/>\n       <use xlink:href=\"#DejaVuSans-30\" transform=\"translate(190.869141 0)\"/>\n      </g>\n     </g>\n    </g>\n    <g id=\"ytick_4\">\n     <g id=\"line2d_11\">\n      <g>\n       <use xlink:href=\"#m07da986717\" x=\"59.690625\" y=\"184.897512\" style=\"stroke: #000000; stroke-width: 0.8\"/>\n      </g>\n     </g>\n     <g id=\"text_12\">\n      <!-- 7500 -->\n      <g transform=\"translate(27.240625 188.696731) scale(0.1 -0.1)\">\n       <defs>\n        <path id=\"DejaVuSans-37\" d=\"M 525 4666 \nL 3525 4666 \nL 3525 4397 \nL 1831 0 \nL 1172 0 \nL 2766 4134 \nL 525 4134 \nL 525 4666 \nz\n\" transform=\"scale(0.015625)\"/>\n       </defs>\n       <use xlink:href=\"#DejaVuSans-37\"/>\n       <use xlink:href=\"#DejaVuSans-35\" transform=\"translate(63.623047 0)\"/>\n       <use xlink:href=\"#DejaVuSans-30\" transform=\"translate(127.246094 0)\"/>\n       <use xlink:href=\"#DejaVuSans-30\" transform=\"translate(190.869141 0)\"/>\n      </g>\n     </g>\n    </g>\n    <g id=\"ytick_5\">\n     <g id=\"line2d_12\">\n      <g>\n       <use xlink:href=\"#m07da986717\" x=\"59.690625\" y=\"151.730017\" style=\"stroke: #000000; stroke-width: 0.8\"/>\n      </g>\n     </g>\n     <g id=\"text_13\">\n      <!-- 10000 -->\n      <g transform=\"translate(20.878125 155.529235) scale(0.1 -0.1)\">\n       <defs>\n        <path id=\"DejaVuSans-31\" d=\"M 794 531 \nL 1825 531 \nL 1825 4091 \nL 703 3866 \nL 703 4441 \nL 1819 4666 \nL 2450 4666 \nL 2450 531 \nL 3481 531 \nL 3481 0 \nL 794 0 \nL 794 531 \nz\n\" transform=\"scale(0.015625)\"/>\n       </defs>\n       <use xlink:href=\"#DejaVuSans-31\"/>\n       <use xlink:href=\"#DejaVuSans-30\" transform=\"translate(63.623047 0)\"/>\n       <use xlink:href=\"#DejaVuSans-30\" transform=\"translate(127.246094 0)\"/>\n       <use xlink:href=\"#DejaVuSans-30\" transform=\"translate(190.869141 0)\"/>\n       <use xlink:href=\"#DejaVuSans-30\" transform=\"translate(254.492188 0)\"/>\n      </g>\n     </g>\n    </g>\n    <g id=\"ytick_6\">\n     <g id=\"line2d_13\">\n      <g>\n       <use xlink:href=\"#m07da986717\" x=\"59.690625\" y=\"118.562521\" style=\"stroke: #000000; stroke-width: 0.8\"/>\n      </g>\n     </g>\n     <g id=\"text_14\">\n      <!-- 12500 -->\n      <g transform=\"translate(20.878125 122.361739) scale(0.1 -0.1)\">\n       <use xlink:href=\"#DejaVuSans-31\"/>\n       <use xlink:href=\"#DejaVuSans-32\" transform=\"translate(63.623047 0)\"/>\n       <use xlink:href=\"#DejaVuSans-35\" transform=\"translate(127.246094 0)\"/>\n       <use xlink:href=\"#DejaVuSans-30\" transform=\"translate(190.869141 0)\"/>\n       <use xlink:href=\"#DejaVuSans-30\" transform=\"translate(254.492188 0)\"/>\n      </g>\n     </g>\n    </g>\n    <g id=\"ytick_7\">\n     <g id=\"line2d_14\">\n      <g>\n       <use xlink:href=\"#m07da986717\" x=\"59.690625\" y=\"85.395025\" style=\"stroke: #000000; stroke-width: 0.8\"/>\n      </g>\n     </g>\n     <g id=\"text_15\">\n      <!-- 15000 -->\n      <g transform=\"translate(20.878125 89.194244) scale(0.1 -0.1)\">\n       <use xlink:href=\"#DejaVuSans-31\"/>\n       <use xlink:href=\"#DejaVuSans-35\" transform=\"translate(63.623047 0)\"/>\n       <use xlink:href=\"#DejaVuSans-30\" transform=\"translate(127.246094 0)\"/>\n       <use xlink:href=\"#DejaVuSans-30\" transform=\"translate(190.869141 0)\"/>\n       <use xlink:href=\"#DejaVuSans-30\" transform=\"translate(254.492188 0)\"/>\n      </g>\n     </g>\n    </g>\n    <g id=\"ytick_8\">\n     <g id=\"line2d_15\">\n      <g>\n       <use xlink:href=\"#m07da986717\" x=\"59.690625\" y=\"52.227529\" style=\"stroke: #000000; stroke-width: 0.8\"/>\n      </g>\n     </g>\n     <g id=\"text_16\">\n      <!-- 17500 -->\n      <g transform=\"translate(20.878125 56.026748) scale(0.1 -0.1)\">\n       <use xlink:href=\"#DejaVuSans-31\"/>\n       <use xlink:href=\"#DejaVuSans-37\" transform=\"translate(63.623047 0)\"/>\n       <use xlink:href=\"#DejaVuSans-35\" transform=\"translate(127.246094 0)\"/>\n       <use xlink:href=\"#DejaVuSans-30\" transform=\"translate(190.869141 0)\"/>\n       <use xlink:href=\"#DejaVuSans-30\" transform=\"translate(254.492188 0)\"/>\n      </g>\n     </g>\n    </g>\n    <g id=\"ytick_9\">\n     <g id=\"line2d_16\">\n      <g>\n       <use xlink:href=\"#m07da986717\" x=\"59.690625\" y=\"19.060033\" style=\"stroke: #000000; stroke-width: 0.8\"/>\n      </g>\n     </g>\n     <g id=\"text_17\">\n      <!-- 20000 -->\n      <g transform=\"translate(20.878125 22.859252) scale(0.1 -0.1)\">\n       <use xlink:href=\"#DejaVuSans-32\"/>\n       <use xlink:href=\"#DejaVuSans-30\" transform=\"translate(63.623047 0)\"/>\n       <use xlink:href=\"#DejaVuSans-30\" transform=\"translate(127.246094 0)\"/>\n       <use xlink:href=\"#DejaVuSans-30\" transform=\"translate(190.869141 0)\"/>\n       <use xlink:href=\"#DejaVuSans-30\" transform=\"translate(254.492188 0)\"/>\n      </g>\n     </g>\n    </g>\n    <g id=\"text_18\">\n     <!-- count -->\n     <g transform=\"translate(14.798438 159.90625) rotate(-90) scale(0.1 -0.1)\">\n      <use xlink:href=\"#DejaVuSans-63\"/>\n      <use xlink:href=\"#DejaVuSans-6f\" transform=\"translate(54.980469 0)\"/>\n      <use xlink:href=\"#DejaVuSans-75\" transform=\"translate(116.162109 0)\"/>\n      <use xlink:href=\"#DejaVuSans-6e\" transform=\"translate(179.541016 0)\"/>\n      <use xlink:href=\"#DejaVuSans-74\" transform=\"translate(242.919922 0)\"/>\n     </g>\n    </g>\n   </g>\n   <g id=\"patch_19\">\n    <path d=\"M 59.690625 284.4 \nL 59.690625 7.2 \n\" style=\"fill: none; stroke: #000000; stroke-width: 0.8; stroke-linejoin: miter; stroke-linecap: square\"/>\n   </g>\n   <g id=\"patch_20\">\n    <path d=\"M 896.690625 284.4 \nL 896.690625 7.2 \n\" style=\"fill: none; stroke: #000000; stroke-width: 0.8; stroke-linejoin: miter; stroke-linecap: square\"/>\n   </g>\n   <g id=\"patch_21\">\n    <path d=\"M 59.690625 284.4 \nL 896.690625 284.4 \n\" style=\"fill: none; stroke: #000000; stroke-width: 0.8; stroke-linejoin: miter; stroke-linecap: square\"/>\n   </g>\n   <g id=\"patch_22\">\n    <path d=\"M 59.690625 7.2 \nL 896.690625 7.2 \n\" style=\"fill: none; stroke: #000000; stroke-width: 0.8; stroke-linejoin: miter; stroke-linecap: square\"/>\n   </g>\n   <g id=\"legend_1\">\n    <g id=\"patch_23\">\n     <path d=\"M 821.535938 59.234375 \nL 889.690625 59.234375 \nQ 891.690625 59.234375 891.690625 57.234375 \nL 891.690625 14.2 \nQ 891.690625 12.2 889.690625 12.2 \nL 821.535938 12.2 \nQ 819.535938 12.2 819.535938 14.2 \nL 819.535938 57.234375 \nQ 819.535938 59.234375 821.535938 59.234375 \nz\n\" style=\"fill: #ffffff; opacity: 0.8; stroke: #cccccc; stroke-linejoin: miter\"/>\n    </g>\n    <g id=\"text_19\">\n     <!-- sex -->\n     <g transform=\"translate(847.060156 23.798437) scale(0.1 -0.1)\">\n      <defs>\n       <path id=\"DejaVuSans-78\" d=\"M 3513 3500 \nL 2247 1797 \nL 3578 0 \nL 2900 0 \nL 1881 1375 \nL 863 0 \nL 184 0 \nL 1544 1831 \nL 300 3500 \nL 978 3500 \nL 1906 2253 \nL 2834 3500 \nL 3513 3500 \nz\n\" transform=\"scale(0.015625)\"/>\n      </defs>\n      <use xlink:href=\"#DejaVuSans-73\"/>\n      <use xlink:href=\"#DejaVuSans-65\" transform=\"translate(52.099609 0)\"/>\n      <use xlink:href=\"#DejaVuSans-78\" transform=\"translate(111.873047 0)\"/>\n     </g>\n    </g>\n    <g id=\"patch_24\">\n     <path d=\"M 823.535938 38.476562 \nL 843.535938 38.476562 \nL 843.535938 31.476562 \nL 823.535938 31.476562 \nz\n\" style=\"fill: #3274a1\"/>\n    </g>\n    <g id=\"text_20\">\n     <!-- Male -->\n     <g transform=\"translate(851.535938 38.476562) scale(0.1 -0.1)\">\n      <use xlink:href=\"#DejaVuSans-4d\"/>\n      <use xlink:href=\"#DejaVuSans-61\" transform=\"translate(86.279297 0)\"/>\n      <use xlink:href=\"#DejaVuSans-6c\" transform=\"translate(147.558594 0)\"/>\n      <use xlink:href=\"#DejaVuSans-65\" transform=\"translate(175.341797 0)\"/>\n     </g>\n    </g>\n    <g id=\"patch_25\">\n     <path d=\"M 823.535938 53.154687 \nL 843.535938 53.154687 \nL 843.535938 46.154687 \nL 823.535938 46.154687 \nz\n\" style=\"fill: #e1812c\"/>\n    </g>\n    <g id=\"text_21\">\n     <!-- Female -->\n     <g transform=\"translate(851.535938 53.154687) scale(0.1 -0.1)\">\n      <use xlink:href=\"#DejaVuSans-46\"/>\n      <use xlink:href=\"#DejaVuSans-65\" transform=\"translate(52.019531 0)\"/>\n      <use xlink:href=\"#DejaVuSans-6d\" transform=\"translate(113.542969 0)\"/>\n      <use xlink:href=\"#DejaVuSans-61\" transform=\"translate(210.955078 0)\"/>\n      <use xlink:href=\"#DejaVuSans-6c\" transform=\"translate(272.234375 0)\"/>\n      <use xlink:href=\"#DejaVuSans-65\" transform=\"translate(300.017578 0)\"/>\n     </g>\n    </g>\n   </g>\n  </g>\n </g>\n <defs>\n  <clipPath id=\"pc601d70f15\">\n   <rect x=\"59.690625\" y=\"7.2\" width=\"837\" height=\"277.2\"/>\n  </clipPath>\n </defs>\n</svg>\n"
          },
          "metadata": {}
        }
      ]
    },
    {
      "cell_type": "code",
      "source": [
        "sns.countplot(x = 'marital-status', hue = 'income', data = data)"
      ],
      "metadata": {
        "colab": {
          "base_uri": "https://localhost:8080/",
          "height": 468
        },
        "id": "W3I0YEp1jXBl",
        "outputId": "2ed62004-16a2-4846-dbe3-c83057bb2e8a"
      },
      "execution_count": 22,
      "outputs": [
        {
          "output_type": "execute_result",
          "data": {
            "text/plain": [
              "<Axes: xlabel='marital-status', ylabel='count'>"
            ]
          },
          "metadata": {},
          "execution_count": 22
        },
        {
          "output_type": "display_data",
          "data": {
            "text/plain": [
              "<Figure size 1500x500 with 1 Axes>"
            ],
            "image/svg+xml": "<?xml version=\"1.0\" encoding=\"utf-8\" standalone=\"no\"?>\n<!DOCTYPE svg PUBLIC \"-//W3C//DTD SVG 1.1//EN\"\n  \"http://www.w3.org/Graphics/SVG/1.1/DTD/svg11.dtd\">\n<svg xmlns:xlink=\"http://www.w3.org/1999/xlink\" width=\"903.890625pt\" height=\"321.95625pt\" viewBox=\"0 0 903.890625 321.95625\" xmlns=\"http://www.w3.org/2000/svg\" version=\"1.1\">\n <metadata>\n  <rdf:RDF xmlns:dc=\"http://purl.org/dc/elements/1.1/\" xmlns:cc=\"http://creativecommons.org/ns#\" xmlns:rdf=\"http://www.w3.org/1999/02/22-rdf-syntax-ns#\">\n   <cc:Work>\n    <dc:type rdf:resource=\"http://purl.org/dc/dcmitype/StillImage\"/>\n    <dc:date>2025-07-09T17:19:07.933299</dc:date>\n    <dc:format>image/svg+xml</dc:format>\n    <dc:creator>\n     <cc:Agent>\n      <dc:title>Matplotlib v3.10.0, https://matplotlib.org/</dc:title>\n     </cc:Agent>\n    </dc:creator>\n   </cc:Work>\n  </rdf:RDF>\n </metadata>\n <defs>\n  <style type=\"text/css\">*{stroke-linejoin: round; stroke-linecap: butt}</style>\n </defs>\n <g id=\"figure_1\">\n  <g id=\"patch_1\">\n   <path d=\"M 0 321.95625 \nL 903.890625 321.95625 \nL 903.890625 0 \nL 0 0 \nz\n\" style=\"fill: #ffffff\"/>\n  </g>\n  <g id=\"axes_1\">\n   <g id=\"patch_2\">\n    <path d=\"M 59.690625 284.4 \nL 896.690625 284.4 \nL 896.690625 7.2 \nL 59.690625 7.2 \nz\n\" style=\"fill: #ffffff\"/>\n   </g>\n   <g id=\"patch_3\">\n    <path d=\"M 71.647768 284.4 \nL 95.562054 284.4 \nL 95.562054 20.4 \nL 71.647768 20.4 \nz\n\" clip-path=\"url(#p964d4bde3f)\" style=\"fill: #3274a1\"/>\n   </g>\n   <g id=\"patch_4\">\n    <path d=\"M 191.219196 284.4 \nL 215.133482 284.4 \nL 215.133482 69.822292 \nL 191.219196 69.822292 \nz\n\" clip-path=\"url(#p964d4bde3f)\" style=\"fill: #3274a1\"/>\n   </g>\n   <g id=\"patch_5\">\n    <path d=\"M 310.790625 284.4 \nL 334.704911 284.4 \nL 334.704911 181.307378 \nL 310.790625 181.307378 \nz\n\" clip-path=\"url(#p964d4bde3f)\" style=\"fill: #3274a1\"/>\n   </g>\n   <g id=\"patch_6\">\n    <path d=\"M 430.362054 284.4 \nL 454.276339 284.4 \nL 454.276339 274.453375 \nL 430.362054 274.453375 \nz\n\" clip-path=\"url(#p964d4bde3f)\" style=\"fill: #3274a1\"/>\n   </g>\n   <g id=\"patch_7\">\n    <path d=\"M 549.933482 284.4 \nL 573.847768 284.4 \nL 573.847768 259.559341 \nL 549.933482 259.559341 \nz\n\" clip-path=\"url(#p964d4bde3f)\" style=\"fill: #3274a1\"/>\n   </g>\n   <g id=\"patch_8\">\n    <path d=\"M 669.504911 284.4 \nL 693.419196 284.4 \nL 693.419196 284.063265 \nL 669.504911 284.063265 \nz\n\" clip-path=\"url(#p964d4bde3f)\" style=\"fill: #3274a1\"/>\n   </g>\n   <g id=\"patch_9\">\n    <path d=\"M 789.076339 284.4 \nL 812.990625 284.4 \nL 812.990625 260.880377 \nL 789.076339 260.880377 \nz\n\" clip-path=\"url(#p964d4bde3f)\" style=\"fill: #3274a1\"/>\n   </g>\n   <g id=\"patch_10\">\n    <path d=\"M 95.562054 284.4 \nL 119.476339 284.4 \nL 119.476339 271.68179 \nL 95.562054 271.68179 \nz\n\" clip-path=\"url(#p964d4bde3f)\" style=\"fill: #e1812c\"/>\n   </g>\n   <g id=\"patch_11\">\n    <path d=\"M 215.133482 284.4 \nL 239.047768 284.4 \nL 239.047768 111.059341 \nL 215.133482 111.059341 \nz\n\" clip-path=\"url(#p964d4bde3f)\" style=\"fill: #e1812c\"/>\n   </g>\n   <g id=\"patch_12\">\n    <path d=\"M 334.704911 284.4 \nL 358.619196 284.4 \nL 358.619196 272.407064 \nL 334.704911 272.407064 \nz\n\" clip-path=\"url(#p964d4bde3f)\" style=\"fill: #e1812c\"/>\n   </g>\n   <g id=\"patch_13\">\n    <path d=\"M 454.276339 284.4 \nL 478.190625 284.4 \nL 478.190625 283.519309 \nL 454.276339 283.519309 \nz\n\" clip-path=\"url(#p964d4bde3f)\" style=\"fill: #e1812c\"/>\n   </g>\n   <g id=\"patch_14\">\n    <path d=\"M 573.847768 284.4 \nL 597.762054 284.4 \nL 597.762054 282.690424 \nL 573.847768 282.690424 \nz\n\" clip-path=\"url(#p964d4bde3f)\" style=\"fill: #e1812c\"/>\n   </g>\n   <g id=\"patch_15\">\n    <path d=\"M 693.419196 284.4 \nL 717.333482 284.4 \nL 717.333482 284.140973 \nL 693.419196 284.140973 \nz\n\" clip-path=\"url(#p964d4bde3f)\" style=\"fill: #e1812c\"/>\n   </g>\n   <g id=\"patch_16\">\n    <path d=\"M 812.990625 284.4 \nL 836.904911 284.4 \nL 836.904911 282.198273 \nL 812.990625 282.198273 \nz\n\" clip-path=\"url(#p964d4bde3f)\" style=\"fill: #e1812c\"/>\n   </g>\n   <g id=\"patch_17\">\n    <path d=\"M 119.476339 284.4 \nL 143.390625 284.4 \nL 143.390625 149.913344 \nL 119.476339 149.913344 \nz\n\" clip-path=\"url(#p964d4bde3f)\" style=\"fill: #3a923a\"/>\n   </g>\n   <g id=\"patch_18\">\n    <path d=\"M 239.047768 284.4 \nL 262.962054 284.4 \nL 262.962054 177.914129 \nL 239.047768 177.914129 \nz\n\" clip-path=\"url(#p964d4bde3f)\" style=\"fill: #3a923a\"/>\n   </g>\n   <g id=\"patch_19\">\n    <path d=\"M 358.619196 284.4 \nL 382.533482 284.4 \nL 382.533482 233.060911 \nL 358.619196 233.060911 \nz\n\" clip-path=\"url(#p964d4bde3f)\" style=\"fill: #3a923a\"/>\n   </g>\n   <g id=\"patch_20\">\n    <path d=\"M 478.190625 284.4 \nL 502.104911 284.4 \nL 502.104911 279.582104 \nL 478.190625 279.582104 \nz\n\" clip-path=\"url(#p964d4bde3f)\" style=\"fill: #3a923a\"/>\n   </g>\n   <g id=\"patch_21\">\n    <path d=\"M 597.762054 284.4 \nL 621.676339 284.4 \nL 621.676339 272.17394 \nL 597.762054 272.17394 \nz\n\" clip-path=\"url(#p964d4bde3f)\" style=\"fill: #3a923a\"/>\n   </g>\n   <g id=\"patch_22\">\n    <path d=\"M 717.333482 284.4 \nL 741.247768 284.4 \nL 741.247768 284.140973 \nL 717.333482 284.140973 \nz\n\" clip-path=\"url(#p964d4bde3f)\" style=\"fill: #3a923a\"/>\n   </g>\n   <g id=\"patch_23\">\n    <path d=\"M 836.904911 284.4 \nL 860.819196 284.4 \nL 860.819196 271.914914 \nL 836.904911 271.914914 \nz\n\" clip-path=\"url(#p964d4bde3f)\" style=\"fill: #3a923a\"/>\n   </g>\n   <g id=\"patch_24\">\n    <path d=\"M 143.390625 284.4 \nL 167.304911 284.4 \nL 167.304911 278.131554 \nL 143.390625 278.131554 \nz\n\" clip-path=\"url(#p964d4bde3f)\" style=\"fill: #c03d3e\"/>\n   </g>\n   <g id=\"patch_25\">\n    <path d=\"M 262.962054 284.4 \nL 286.876339 284.4 \nL 286.876339 199.128414 \nL 262.962054 199.128414 \nz\n\" clip-path=\"url(#p964d4bde3f)\" style=\"fill: #c03d3e\"/>\n   </g>\n   <g id=\"patch_26\">\n    <path d=\"M 382.533482 284.4 \nL 406.447768 284.4 \nL 406.447768 279.012245 \nL 382.533482 279.012245 \nz\n\" clip-path=\"url(#p964d4bde3f)\" style=\"fill: #c03d3e\"/>\n   </g>\n   <g id=\"patch_27\">\n    <path d=\"M 502.104911 284.4 \nL 526.019196 284.4 \nL 526.019196 283.778336 \nL 502.104911 283.778336 \nz\n\" clip-path=\"url(#p964d4bde3f)\" style=\"fill: #c03d3e\"/>\n   </g>\n   <g id=\"patch_28\">\n    <path d=\"M 621.676339 284.4 \nL 645.590625 284.4 \nL 645.590625 283.545212 \nL 621.676339 283.545212 \nz\n\" clip-path=\"url(#p964d4bde3f)\" style=\"fill: #c03d3e\"/>\n   </g>\n   <g id=\"patch_29\">\n    <path d=\"M 741.247768 284.4 \nL 765.162054 284.4 \nL 765.162054 284.296389 \nL 741.247768 284.296389 \nz\n\" clip-path=\"url(#p964d4bde3f)\" style=\"fill: #c03d3e\"/>\n   </g>\n   <g id=\"patch_30\">\n    <path d=\"M 860.819196 284.4 \nL 884.733482 284.4 \nL 884.733482 283.286185 \nL 860.819196 283.286185 \nz\n\" clip-path=\"url(#p964d4bde3f)\" style=\"fill: #c03d3e\"/>\n   </g>\n   <g id=\"patch_31\">\n    <path d=\"M 119.476339 284.4 \nL 119.476339 284.4 \nL 119.476339 284.4 \nL 119.476339 284.4 \nz\n\" clip-path=\"url(#p964d4bde3f)\" style=\"fill: #3274a1\"/>\n   </g>\n   <g id=\"patch_32\">\n    <path d=\"M 119.476339 284.4 \nL 119.476339 284.4 \nL 119.476339 284.4 \nL 119.476339 284.4 \nz\n\" clip-path=\"url(#p964d4bde3f)\" style=\"fill: #e1812c\"/>\n   </g>\n   <g id=\"patch_33\">\n    <path d=\"M 119.476339 284.4 \nL 119.476339 284.4 \nL 119.476339 284.4 \nL 119.476339 284.4 \nz\n\" clip-path=\"url(#p964d4bde3f)\" style=\"fill: #3a923a\"/>\n   </g>\n   <g id=\"patch_34\">\n    <path d=\"M 119.476339 284.4 \nL 119.476339 284.4 \nL 119.476339 284.4 \nL 119.476339 284.4 \nz\n\" clip-path=\"url(#p964d4bde3f)\" style=\"fill: #c03d3e\"/>\n   </g>\n   <g id=\"matplotlib.axis_1\">\n    <g id=\"xtick_1\">\n     <g id=\"line2d_1\">\n      <defs>\n       <path id=\"m94029513bf\" d=\"M 0 0 \nL 0 3.5 \n\" style=\"stroke: #000000; stroke-width: 0.8\"/>\n      </defs>\n      <g>\n       <use xlink:href=\"#m94029513bf\" x=\"119.476339\" y=\"284.4\" style=\"stroke: #000000; stroke-width: 0.8\"/>\n      </g>\n     </g>\n     <g id=\"text_1\">\n      <!-- Never-married -->\n      <g transform=\"translate(83.484933 298.998438) scale(0.1 -0.1)\">\n       <defs>\n        <path id=\"DejaVuSans-4e\" d=\"M 628 4666 \nL 1478 4666 \nL 3547 763 \nL 3547 4666 \nL 4159 4666 \nL 4159 0 \nL 3309 0 \nL 1241 3903 \nL 1241 0 \nL 628 0 \nL 628 4666 \nz\n\" transform=\"scale(0.015625)\"/>\n        <path id=\"DejaVuSans-65\" d=\"M 3597 1894 \nL 3597 1613 \nL 953 1613 \nQ 991 1019 1311 708 \nQ 1631 397 2203 397 \nQ 2534 397 2845 478 \nQ 3156 559 3463 722 \nL 3463 178 \nQ 3153 47 2828 -22 \nQ 2503 -91 2169 -91 \nQ 1331 -91 842 396 \nQ 353 884 353 1716 \nQ 353 2575 817 3079 \nQ 1281 3584 2069 3584 \nQ 2775 3584 3186 3129 \nQ 3597 2675 3597 1894 \nz\nM 3022 2063 \nQ 3016 2534 2758 2815 \nQ 2500 3097 2075 3097 \nQ 1594 3097 1305 2825 \nQ 1016 2553 972 2059 \nL 3022 2063 \nz\n\" transform=\"scale(0.015625)\"/>\n        <path id=\"DejaVuSans-76\" d=\"M 191 3500 \nL 800 3500 \nL 1894 563 \nL 2988 3500 \nL 3597 3500 \nL 2284 0 \nL 1503 0 \nL 191 3500 \nz\n\" transform=\"scale(0.015625)\"/>\n        <path id=\"DejaVuSans-72\" d=\"M 2631 2963 \nQ 2534 3019 2420 3045 \nQ 2306 3072 2169 3072 \nQ 1681 3072 1420 2755 \nQ 1159 2438 1159 1844 \nL 1159 0 \nL 581 0 \nL 581 3500 \nL 1159 3500 \nL 1159 2956 \nQ 1341 3275 1631 3429 \nQ 1922 3584 2338 3584 \nQ 2397 3584 2469 3576 \nQ 2541 3569 2628 3553 \nL 2631 2963 \nz\n\" transform=\"scale(0.015625)\"/>\n        <path id=\"DejaVuSans-2d\" d=\"M 313 2009 \nL 1997 2009 \nL 1997 1497 \nL 313 1497 \nL 313 2009 \nz\n\" transform=\"scale(0.015625)\"/>\n        <path id=\"DejaVuSans-6d\" d=\"M 3328 2828 \nQ 3544 3216 3844 3400 \nQ 4144 3584 4550 3584 \nQ 5097 3584 5394 3201 \nQ 5691 2819 5691 2113 \nL 5691 0 \nL 5113 0 \nL 5113 2094 \nQ 5113 2597 4934 2840 \nQ 4756 3084 4391 3084 \nQ 3944 3084 3684 2787 \nQ 3425 2491 3425 1978 \nL 3425 0 \nL 2847 0 \nL 2847 2094 \nQ 2847 2600 2669 2842 \nQ 2491 3084 2119 3084 \nQ 1678 3084 1418 2786 \nQ 1159 2488 1159 1978 \nL 1159 0 \nL 581 0 \nL 581 3500 \nL 1159 3500 \nL 1159 2956 \nQ 1356 3278 1631 3431 \nQ 1906 3584 2284 3584 \nQ 2666 3584 2933 3390 \nQ 3200 3197 3328 2828 \nz\n\" transform=\"scale(0.015625)\"/>\n        <path id=\"DejaVuSans-61\" d=\"M 2194 1759 \nQ 1497 1759 1228 1600 \nQ 959 1441 959 1056 \nQ 959 750 1161 570 \nQ 1363 391 1709 391 \nQ 2188 391 2477 730 \nQ 2766 1069 2766 1631 \nL 2766 1759 \nL 2194 1759 \nz\nM 3341 1997 \nL 3341 0 \nL 2766 0 \nL 2766 531 \nQ 2569 213 2275 61 \nQ 1981 -91 1556 -91 \nQ 1019 -91 701 211 \nQ 384 513 384 1019 \nQ 384 1609 779 1909 \nQ 1175 2209 1959 2209 \nL 2766 2209 \nL 2766 2266 \nQ 2766 2663 2505 2880 \nQ 2244 3097 1772 3097 \nQ 1472 3097 1187 3025 \nQ 903 2953 641 2809 \nL 641 3341 \nQ 956 3463 1253 3523 \nQ 1550 3584 1831 3584 \nQ 2591 3584 2966 3190 \nQ 3341 2797 3341 1997 \nz\n\" transform=\"scale(0.015625)\"/>\n        <path id=\"DejaVuSans-69\" d=\"M 603 3500 \nL 1178 3500 \nL 1178 0 \nL 603 0 \nL 603 3500 \nz\nM 603 4863 \nL 1178 4863 \nL 1178 4134 \nL 603 4134 \nL 603 4863 \nz\n\" transform=\"scale(0.015625)\"/>\n        <path id=\"DejaVuSans-64\" d=\"M 2906 2969 \nL 2906 4863 \nL 3481 4863 \nL 3481 0 \nL 2906 0 \nL 2906 525 \nQ 2725 213 2448 61 \nQ 2172 -91 1784 -91 \nQ 1150 -91 751 415 \nQ 353 922 353 1747 \nQ 353 2572 751 3078 \nQ 1150 3584 1784 3584 \nQ 2172 3584 2448 3432 \nQ 2725 3281 2906 2969 \nz\nM 947 1747 \nQ 947 1113 1208 752 \nQ 1469 391 1925 391 \nQ 2381 391 2643 752 \nQ 2906 1113 2906 1747 \nQ 2906 2381 2643 2742 \nQ 2381 3103 1925 3103 \nQ 1469 3103 1208 2742 \nQ 947 2381 947 1747 \nz\n\" transform=\"scale(0.015625)\"/>\n       </defs>\n       <use xlink:href=\"#DejaVuSans-4e\"/>\n       <use xlink:href=\"#DejaVuSans-65\" transform=\"translate(74.804688 0)\"/>\n       <use xlink:href=\"#DejaVuSans-76\" transform=\"translate(136.328125 0)\"/>\n       <use xlink:href=\"#DejaVuSans-65\" transform=\"translate(195.507812 0)\"/>\n       <use xlink:href=\"#DejaVuSans-72\" transform=\"translate(257.03125 0)\"/>\n       <use xlink:href=\"#DejaVuSans-2d\" transform=\"translate(291.769531 0)\"/>\n       <use xlink:href=\"#DejaVuSans-6d\" transform=\"translate(327.853516 0)\"/>\n       <use xlink:href=\"#DejaVuSans-61\" transform=\"translate(425.265625 0)\"/>\n       <use xlink:href=\"#DejaVuSans-72\" transform=\"translate(486.544922 0)\"/>\n       <use xlink:href=\"#DejaVuSans-72\" transform=\"translate(525.908203 0)\"/>\n       <use xlink:href=\"#DejaVuSans-69\" transform=\"translate(567.021484 0)\"/>\n       <use xlink:href=\"#DejaVuSans-65\" transform=\"translate(594.804688 0)\"/>\n       <use xlink:href=\"#DejaVuSans-64\" transform=\"translate(656.328125 0)\"/>\n      </g>\n     </g>\n    </g>\n    <g id=\"xtick_2\">\n     <g id=\"line2d_2\">\n      <g>\n       <use xlink:href=\"#m94029513bf\" x=\"239.047768\" y=\"284.4\" style=\"stroke: #000000; stroke-width: 0.8\"/>\n      </g>\n     </g>\n     <g id=\"text_2\">\n      <!-- Married-civ-spouse -->\n      <g transform=\"translate(191.743862 298.998438) scale(0.1 -0.1)\">\n       <defs>\n        <path id=\"DejaVuSans-4d\" d=\"M 628 4666 \nL 1569 4666 \nL 2759 1491 \nL 3956 4666 \nL 4897 4666 \nL 4897 0 \nL 4281 0 \nL 4281 4097 \nL 3078 897 \nL 2444 897 \nL 1241 4097 \nL 1241 0 \nL 628 0 \nL 628 4666 \nz\n\" transform=\"scale(0.015625)\"/>\n        <path id=\"DejaVuSans-63\" d=\"M 3122 3366 \nL 3122 2828 \nQ 2878 2963 2633 3030 \nQ 2388 3097 2138 3097 \nQ 1578 3097 1268 2742 \nQ 959 2388 959 1747 \nQ 959 1106 1268 751 \nQ 1578 397 2138 397 \nQ 2388 397 2633 464 \nQ 2878 531 3122 666 \nL 3122 134 \nQ 2881 22 2623 -34 \nQ 2366 -91 2075 -91 \nQ 1284 -91 818 406 \nQ 353 903 353 1747 \nQ 353 2603 823 3093 \nQ 1294 3584 2113 3584 \nQ 2378 3584 2631 3529 \nQ 2884 3475 3122 3366 \nz\n\" transform=\"scale(0.015625)\"/>\n        <path id=\"DejaVuSans-73\" d=\"M 2834 3397 \nL 2834 2853 \nQ 2591 2978 2328 3040 \nQ 2066 3103 1784 3103 \nQ 1356 3103 1142 2972 \nQ 928 2841 928 2578 \nQ 928 2378 1081 2264 \nQ 1234 2150 1697 2047 \nL 1894 2003 \nQ 2506 1872 2764 1633 \nQ 3022 1394 3022 966 \nQ 3022 478 2636 193 \nQ 2250 -91 1575 -91 \nQ 1294 -91 989 -36 \nQ 684 19 347 128 \nL 347 722 \nQ 666 556 975 473 \nQ 1284 391 1588 391 \nQ 1994 391 2212 530 \nQ 2431 669 2431 922 \nQ 2431 1156 2273 1281 \nQ 2116 1406 1581 1522 \nL 1381 1569 \nQ 847 1681 609 1914 \nQ 372 2147 372 2553 \nQ 372 3047 722 3315 \nQ 1072 3584 1716 3584 \nQ 2034 3584 2315 3537 \nQ 2597 3491 2834 3397 \nz\n\" transform=\"scale(0.015625)\"/>\n        <path id=\"DejaVuSans-70\" d=\"M 1159 525 \nL 1159 -1331 \nL 581 -1331 \nL 581 3500 \nL 1159 3500 \nL 1159 2969 \nQ 1341 3281 1617 3432 \nQ 1894 3584 2278 3584 \nQ 2916 3584 3314 3078 \nQ 3713 2572 3713 1747 \nQ 3713 922 3314 415 \nQ 2916 -91 2278 -91 \nQ 1894 -91 1617 61 \nQ 1341 213 1159 525 \nz\nM 3116 1747 \nQ 3116 2381 2855 2742 \nQ 2594 3103 2138 3103 \nQ 1681 3103 1420 2742 \nQ 1159 2381 1159 1747 \nQ 1159 1113 1420 752 \nQ 1681 391 2138 391 \nQ 2594 391 2855 752 \nQ 3116 1113 3116 1747 \nz\n\" transform=\"scale(0.015625)\"/>\n        <path id=\"DejaVuSans-6f\" d=\"M 1959 3097 \nQ 1497 3097 1228 2736 \nQ 959 2375 959 1747 \nQ 959 1119 1226 758 \nQ 1494 397 1959 397 \nQ 2419 397 2687 759 \nQ 2956 1122 2956 1747 \nQ 2956 2369 2687 2733 \nQ 2419 3097 1959 3097 \nz\nM 1959 3584 \nQ 2709 3584 3137 3096 \nQ 3566 2609 3566 1747 \nQ 3566 888 3137 398 \nQ 2709 -91 1959 -91 \nQ 1206 -91 779 398 \nQ 353 888 353 1747 \nQ 353 2609 779 3096 \nQ 1206 3584 1959 3584 \nz\n\" transform=\"scale(0.015625)\"/>\n        <path id=\"DejaVuSans-75\" d=\"M 544 1381 \nL 544 3500 \nL 1119 3500 \nL 1119 1403 \nQ 1119 906 1312 657 \nQ 1506 409 1894 409 \nQ 2359 409 2629 706 \nQ 2900 1003 2900 1516 \nL 2900 3500 \nL 3475 3500 \nL 3475 0 \nL 2900 0 \nL 2900 538 \nQ 2691 219 2414 64 \nQ 2138 -91 1772 -91 \nQ 1169 -91 856 284 \nQ 544 659 544 1381 \nz\nM 1991 3584 \nL 1991 3584 \nz\n\" transform=\"scale(0.015625)\"/>\n       </defs>\n       <use xlink:href=\"#DejaVuSans-4d\"/>\n       <use xlink:href=\"#DejaVuSans-61\" transform=\"translate(86.279297 0)\"/>\n       <use xlink:href=\"#DejaVuSans-72\" transform=\"translate(147.558594 0)\"/>\n       <use xlink:href=\"#DejaVuSans-72\" transform=\"translate(186.921875 0)\"/>\n       <use xlink:href=\"#DejaVuSans-69\" transform=\"translate(228.035156 0)\"/>\n       <use xlink:href=\"#DejaVuSans-65\" transform=\"translate(255.818359 0)\"/>\n       <use xlink:href=\"#DejaVuSans-64\" transform=\"translate(317.341797 0)\"/>\n       <use xlink:href=\"#DejaVuSans-2d\" transform=\"translate(380.818359 0)\"/>\n       <use xlink:href=\"#DejaVuSans-63\" transform=\"translate(416.902344 0)\"/>\n       <use xlink:href=\"#DejaVuSans-69\" transform=\"translate(471.882812 0)\"/>\n       <use xlink:href=\"#DejaVuSans-76\" transform=\"translate(499.666016 0)\"/>\n       <use xlink:href=\"#DejaVuSans-2d\" transform=\"translate(556.220703 0)\"/>\n       <use xlink:href=\"#DejaVuSans-73\" transform=\"translate(592.304688 0)\"/>\n       <use xlink:href=\"#DejaVuSans-70\" transform=\"translate(644.404297 0)\"/>\n       <use xlink:href=\"#DejaVuSans-6f\" transform=\"translate(707.880859 0)\"/>\n       <use xlink:href=\"#DejaVuSans-75\" transform=\"translate(769.0625 0)\"/>\n       <use xlink:href=\"#DejaVuSans-73\" transform=\"translate(832.441406 0)\"/>\n       <use xlink:href=\"#DejaVuSans-65\" transform=\"translate(884.541016 0)\"/>\n      </g>\n     </g>\n    </g>\n    <g id=\"xtick_3\">\n     <g id=\"line2d_3\">\n      <g>\n       <use xlink:href=\"#m94029513bf\" x=\"358.619196\" y=\"284.4\" style=\"stroke: #000000; stroke-width: 0.8\"/>\n      </g>\n     </g>\n     <g id=\"text_3\">\n      <!-- Divorced -->\n      <g transform=\"translate(336.418415 298.998438) scale(0.1 -0.1)\">\n       <defs>\n        <path id=\"DejaVuSans-44\" d=\"M 1259 4147 \nL 1259 519 \nL 2022 519 \nQ 2988 519 3436 956 \nQ 3884 1394 3884 2338 \nQ 3884 3275 3436 3711 \nQ 2988 4147 2022 4147 \nL 1259 4147 \nz\nM 628 4666 \nL 1925 4666 \nQ 3281 4666 3915 4102 \nQ 4550 3538 4550 2338 \nQ 4550 1131 3912 565 \nQ 3275 0 1925 0 \nL 628 0 \nL 628 4666 \nz\n\" transform=\"scale(0.015625)\"/>\n       </defs>\n       <use xlink:href=\"#DejaVuSans-44\"/>\n       <use xlink:href=\"#DejaVuSans-69\" transform=\"translate(77.001953 0)\"/>\n       <use xlink:href=\"#DejaVuSans-76\" transform=\"translate(104.785156 0)\"/>\n       <use xlink:href=\"#DejaVuSans-6f\" transform=\"translate(163.964844 0)\"/>\n       <use xlink:href=\"#DejaVuSans-72\" transform=\"translate(225.146484 0)\"/>\n       <use xlink:href=\"#DejaVuSans-63\" transform=\"translate(264.009766 0)\"/>\n       <use xlink:href=\"#DejaVuSans-65\" transform=\"translate(318.990234 0)\"/>\n       <use xlink:href=\"#DejaVuSans-64\" transform=\"translate(380.513672 0)\"/>\n      </g>\n     </g>\n    </g>\n    <g id=\"xtick_4\">\n     <g id=\"line2d_4\">\n      <g>\n       <use xlink:href=\"#m94029513bf\" x=\"478.190625\" y=\"284.4\" style=\"stroke: #000000; stroke-width: 0.8\"/>\n      </g>\n     </g>\n     <g id=\"text_4\">\n      <!-- Married-spouse-absent -->\n      <g transform=\"translate(420.804688 298.998438) scale(0.1 -0.1)\">\n       <defs>\n        <path id=\"DejaVuSans-62\" d=\"M 3116 1747 \nQ 3116 2381 2855 2742 \nQ 2594 3103 2138 3103 \nQ 1681 3103 1420 2742 \nQ 1159 2381 1159 1747 \nQ 1159 1113 1420 752 \nQ 1681 391 2138 391 \nQ 2594 391 2855 752 \nQ 3116 1113 3116 1747 \nz\nM 1159 2969 \nQ 1341 3281 1617 3432 \nQ 1894 3584 2278 3584 \nQ 2916 3584 3314 3078 \nQ 3713 2572 3713 1747 \nQ 3713 922 3314 415 \nQ 2916 -91 2278 -91 \nQ 1894 -91 1617 61 \nQ 1341 213 1159 525 \nL 1159 0 \nL 581 0 \nL 581 4863 \nL 1159 4863 \nL 1159 2969 \nz\n\" transform=\"scale(0.015625)\"/>\n        <path id=\"DejaVuSans-6e\" d=\"M 3513 2113 \nL 3513 0 \nL 2938 0 \nL 2938 2094 \nQ 2938 2591 2744 2837 \nQ 2550 3084 2163 3084 \nQ 1697 3084 1428 2787 \nQ 1159 2491 1159 1978 \nL 1159 0 \nL 581 0 \nL 581 3500 \nL 1159 3500 \nL 1159 2956 \nQ 1366 3272 1645 3428 \nQ 1925 3584 2291 3584 \nQ 2894 3584 3203 3211 \nQ 3513 2838 3513 2113 \nz\n\" transform=\"scale(0.015625)\"/>\n        <path id=\"DejaVuSans-74\" d=\"M 1172 4494 \nL 1172 3500 \nL 2356 3500 \nL 2356 3053 \nL 1172 3053 \nL 1172 1153 \nQ 1172 725 1289 603 \nQ 1406 481 1766 481 \nL 2356 481 \nL 2356 0 \nL 1766 0 \nQ 1100 0 847 248 \nQ 594 497 594 1153 \nL 594 3053 \nL 172 3053 \nL 172 3500 \nL 594 3500 \nL 594 4494 \nL 1172 4494 \nz\n\" transform=\"scale(0.015625)\"/>\n       </defs>\n       <use xlink:href=\"#DejaVuSans-4d\"/>\n       <use xlink:href=\"#DejaVuSans-61\" transform=\"translate(86.279297 0)\"/>\n       <use xlink:href=\"#DejaVuSans-72\" transform=\"translate(147.558594 0)\"/>\n       <use xlink:href=\"#DejaVuSans-72\" transform=\"translate(186.921875 0)\"/>\n       <use xlink:href=\"#DejaVuSans-69\" transform=\"translate(228.035156 0)\"/>\n       <use xlink:href=\"#DejaVuSans-65\" transform=\"translate(255.818359 0)\"/>\n       <use xlink:href=\"#DejaVuSans-64\" transform=\"translate(317.341797 0)\"/>\n       <use xlink:href=\"#DejaVuSans-2d\" transform=\"translate(380.818359 0)\"/>\n       <use xlink:href=\"#DejaVuSans-73\" transform=\"translate(416.902344 0)\"/>\n       <use xlink:href=\"#DejaVuSans-70\" transform=\"translate(469.001953 0)\"/>\n       <use xlink:href=\"#DejaVuSans-6f\" transform=\"translate(532.478516 0)\"/>\n       <use xlink:href=\"#DejaVuSans-75\" transform=\"translate(593.660156 0)\"/>\n       <use xlink:href=\"#DejaVuSans-73\" transform=\"translate(657.039062 0)\"/>\n       <use xlink:href=\"#DejaVuSans-65\" transform=\"translate(709.138672 0)\"/>\n       <use xlink:href=\"#DejaVuSans-2d\" transform=\"translate(770.662109 0)\"/>\n       <use xlink:href=\"#DejaVuSans-61\" transform=\"translate(806.746094 0)\"/>\n       <use xlink:href=\"#DejaVuSans-62\" transform=\"translate(868.025391 0)\"/>\n       <use xlink:href=\"#DejaVuSans-73\" transform=\"translate(931.501953 0)\"/>\n       <use xlink:href=\"#DejaVuSans-65\" transform=\"translate(983.601562 0)\"/>\n       <use xlink:href=\"#DejaVuSans-6e\" transform=\"translate(1045.125 0)\"/>\n       <use xlink:href=\"#DejaVuSans-74\" transform=\"translate(1108.503906 0)\"/>\n      </g>\n     </g>\n    </g>\n    <g id=\"xtick_5\">\n     <g id=\"line2d_5\">\n      <g>\n       <use xlink:href=\"#m94029513bf\" x=\"597.762054\" y=\"284.4\" style=\"stroke: #000000; stroke-width: 0.8\"/>\n      </g>\n     </g>\n     <g id=\"text_5\">\n      <!-- Separated -->\n      <g transform=\"translate(571.942522 298.998438) scale(0.1 -0.1)\">\n       <defs>\n        <path id=\"DejaVuSans-53\" d=\"M 3425 4513 \nL 3425 3897 \nQ 3066 4069 2747 4153 \nQ 2428 4238 2131 4238 \nQ 1616 4238 1336 4038 \nQ 1056 3838 1056 3469 \nQ 1056 3159 1242 3001 \nQ 1428 2844 1947 2747 \nL 2328 2669 \nQ 3034 2534 3370 2195 \nQ 3706 1856 3706 1288 \nQ 3706 609 3251 259 \nQ 2797 -91 1919 -91 \nQ 1588 -91 1214 -16 \nQ 841 59 441 206 \nL 441 856 \nQ 825 641 1194 531 \nQ 1563 422 1919 422 \nQ 2459 422 2753 634 \nQ 3047 847 3047 1241 \nQ 3047 1584 2836 1778 \nQ 2625 1972 2144 2069 \nL 1759 2144 \nQ 1053 2284 737 2584 \nQ 422 2884 422 3419 \nQ 422 4038 858 4394 \nQ 1294 4750 2059 4750 \nQ 2388 4750 2728 4690 \nQ 3069 4631 3425 4513 \nz\n\" transform=\"scale(0.015625)\"/>\n       </defs>\n       <use xlink:href=\"#DejaVuSans-53\"/>\n       <use xlink:href=\"#DejaVuSans-65\" transform=\"translate(63.476562 0)\"/>\n       <use xlink:href=\"#DejaVuSans-70\" transform=\"translate(125 0)\"/>\n       <use xlink:href=\"#DejaVuSans-61\" transform=\"translate(188.476562 0)\"/>\n       <use xlink:href=\"#DejaVuSans-72\" transform=\"translate(249.755859 0)\"/>\n       <use xlink:href=\"#DejaVuSans-61\" transform=\"translate(290.869141 0)\"/>\n       <use xlink:href=\"#DejaVuSans-74\" transform=\"translate(352.148438 0)\"/>\n       <use xlink:href=\"#DejaVuSans-65\" transform=\"translate(391.357422 0)\"/>\n       <use xlink:href=\"#DejaVuSans-64\" transform=\"translate(452.880859 0)\"/>\n      </g>\n     </g>\n    </g>\n    <g id=\"xtick_6\">\n     <g id=\"line2d_6\">\n      <g>\n       <use xlink:href=\"#m94029513bf\" x=\"717.333482\" y=\"284.4\" style=\"stroke: #000000; stroke-width: 0.8\"/>\n      </g>\n     </g>\n     <g id=\"text_6\">\n      <!-- Married-AF-spouse -->\n      <g transform=\"translate(670.812388 298.998438) scale(0.1 -0.1)\">\n       <defs>\n        <path id=\"DejaVuSans-41\" d=\"M 2188 4044 \nL 1331 1722 \nL 3047 1722 \nL 2188 4044 \nz\nM 1831 4666 \nL 2547 4666 \nL 4325 0 \nL 3669 0 \nL 3244 1197 \nL 1141 1197 \nL 716 0 \nL 50 0 \nL 1831 4666 \nz\n\" transform=\"scale(0.015625)\"/>\n        <path id=\"DejaVuSans-46\" d=\"M 628 4666 \nL 3309 4666 \nL 3309 4134 \nL 1259 4134 \nL 1259 2759 \nL 3109 2759 \nL 3109 2228 \nL 1259 2228 \nL 1259 0 \nL 628 0 \nL 628 4666 \nz\n\" transform=\"scale(0.015625)\"/>\n       </defs>\n       <use xlink:href=\"#DejaVuSans-4d\"/>\n       <use xlink:href=\"#DejaVuSans-61\" transform=\"translate(86.279297 0)\"/>\n       <use xlink:href=\"#DejaVuSans-72\" transform=\"translate(147.558594 0)\"/>\n       <use xlink:href=\"#DejaVuSans-72\" transform=\"translate(186.921875 0)\"/>\n       <use xlink:href=\"#DejaVuSans-69\" transform=\"translate(228.035156 0)\"/>\n       <use xlink:href=\"#DejaVuSans-65\" transform=\"translate(255.818359 0)\"/>\n       <use xlink:href=\"#DejaVuSans-64\" transform=\"translate(317.341797 0)\"/>\n       <use xlink:href=\"#DejaVuSans-2d\" transform=\"translate(380.818359 0)\"/>\n       <use xlink:href=\"#DejaVuSans-41\" transform=\"translate(414.652344 0)\"/>\n       <use xlink:href=\"#DejaVuSans-46\" transform=\"translate(483.060547 0)\"/>\n       <use xlink:href=\"#DejaVuSans-2d\" transform=\"translate(540.580078 0)\"/>\n       <use xlink:href=\"#DejaVuSans-73\" transform=\"translate(576.664062 0)\"/>\n       <use xlink:href=\"#DejaVuSans-70\" transform=\"translate(628.763672 0)\"/>\n       <use xlink:href=\"#DejaVuSans-6f\" transform=\"translate(692.240234 0)\"/>\n       <use xlink:href=\"#DejaVuSans-75\" transform=\"translate(753.421875 0)\"/>\n       <use xlink:href=\"#DejaVuSans-73\" transform=\"translate(816.800781 0)\"/>\n       <use xlink:href=\"#DejaVuSans-65\" transform=\"translate(868.900391 0)\"/>\n      </g>\n     </g>\n    </g>\n    <g id=\"xtick_7\">\n     <g id=\"line2d_7\">\n      <g>\n       <use xlink:href=\"#m94029513bf\" x=\"836.904911\" y=\"284.4\" style=\"stroke: #000000; stroke-width: 0.8\"/>\n      </g>\n     </g>\n     <g id=\"text_7\">\n      <!-- Widowed -->\n      <g transform=\"translate(814.111161 298.998438) scale(0.1 -0.1)\">\n       <defs>\n        <path id=\"DejaVuSans-57\" d=\"M 213 4666 \nL 850 4666 \nL 1831 722 \nL 2809 4666 \nL 3519 4666 \nL 4500 722 \nL 5478 4666 \nL 6119 4666 \nL 4947 0 \nL 4153 0 \nL 3169 4050 \nL 2175 0 \nL 1381 0 \nL 213 4666 \nz\n\" transform=\"scale(0.015625)\"/>\n        <path id=\"DejaVuSans-77\" d=\"M 269 3500 \nL 844 3500 \nL 1563 769 \nL 2278 3500 \nL 2956 3500 \nL 3675 769 \nL 4391 3500 \nL 4966 3500 \nL 4050 0 \nL 3372 0 \nL 2619 2869 \nL 1863 0 \nL 1184 0 \nL 269 3500 \nz\n\" transform=\"scale(0.015625)\"/>\n       </defs>\n       <use xlink:href=\"#DejaVuSans-57\"/>\n       <use xlink:href=\"#DejaVuSans-69\" transform=\"translate(96.626953 0)\"/>\n       <use xlink:href=\"#DejaVuSans-64\" transform=\"translate(124.410156 0)\"/>\n       <use xlink:href=\"#DejaVuSans-6f\" transform=\"translate(187.886719 0)\"/>\n       <use xlink:href=\"#DejaVuSans-77\" transform=\"translate(249.068359 0)\"/>\n       <use xlink:href=\"#DejaVuSans-65\" transform=\"translate(330.855469 0)\"/>\n       <use xlink:href=\"#DejaVuSans-64\" transform=\"translate(392.378906 0)\"/>\n      </g>\n     </g>\n    </g>\n    <g id=\"text_8\">\n     <!-- marital-status -->\n     <g transform=\"translate(443.232031 312.676562) scale(0.1 -0.1)\">\n      <defs>\n       <path id=\"DejaVuSans-6c\" d=\"M 603 4863 \nL 1178 4863 \nL 1178 0 \nL 603 0 \nL 603 4863 \nz\n\" transform=\"scale(0.015625)\"/>\n      </defs>\n      <use xlink:href=\"#DejaVuSans-6d\"/>\n      <use xlink:href=\"#DejaVuSans-61\" transform=\"translate(97.412109 0)\"/>\n      <use xlink:href=\"#DejaVuSans-72\" transform=\"translate(158.691406 0)\"/>\n      <use xlink:href=\"#DejaVuSans-69\" transform=\"translate(199.804688 0)\"/>\n      <use xlink:href=\"#DejaVuSans-74\" transform=\"translate(227.587891 0)\"/>\n      <use xlink:href=\"#DejaVuSans-61\" transform=\"translate(266.796875 0)\"/>\n      <use xlink:href=\"#DejaVuSans-6c\" transform=\"translate(328.076172 0)\"/>\n      <use xlink:href=\"#DejaVuSans-2d\" transform=\"translate(355.859375 0)\"/>\n      <use xlink:href=\"#DejaVuSans-73\" transform=\"translate(391.943359 0)\"/>\n      <use xlink:href=\"#DejaVuSans-74\" transform=\"translate(444.042969 0)\"/>\n      <use xlink:href=\"#DejaVuSans-61\" transform=\"translate(483.251953 0)\"/>\n      <use xlink:href=\"#DejaVuSans-74\" transform=\"translate(544.53125 0)\"/>\n      <use xlink:href=\"#DejaVuSans-75\" transform=\"translate(583.740234 0)\"/>\n      <use xlink:href=\"#DejaVuSans-73\" transform=\"translate(647.119141 0)\"/>\n     </g>\n    </g>\n   </g>\n   <g id=\"matplotlib.axis_2\">\n    <g id=\"ytick_1\">\n     <g id=\"line2d_8\">\n      <defs>\n       <path id=\"me7948db481\" d=\"M 0 0 \nL -3.5 0 \n\" style=\"stroke: #000000; stroke-width: 0.8\"/>\n      </defs>\n      <g>\n       <use xlink:href=\"#me7948db481\" x=\"59.690625\" y=\"284.4\" style=\"stroke: #000000; stroke-width: 0.8\"/>\n      </g>\n     </g>\n     <g id=\"text_9\">\n      <!-- 0 -->\n      <g transform=\"translate(46.328125 288.199219) scale(0.1 -0.1)\">\n       <defs>\n        <path id=\"DejaVuSans-30\" d=\"M 2034 4250 \nQ 1547 4250 1301 3770 \nQ 1056 3291 1056 2328 \nQ 1056 1369 1301 889 \nQ 1547 409 2034 409 \nQ 2525 409 2770 889 \nQ 3016 1369 3016 2328 \nQ 3016 3291 2770 3770 \nQ 2525 4250 2034 4250 \nz\nM 2034 4750 \nQ 2819 4750 3233 4129 \nQ 3647 3509 3647 2328 \nQ 3647 1150 3233 529 \nQ 2819 -91 2034 -91 \nQ 1250 -91 836 529 \nQ 422 1150 422 2328 \nQ 422 3509 836 4129 \nQ 1250 4750 2034 4750 \nz\n\" transform=\"scale(0.015625)\"/>\n       </defs>\n       <use xlink:href=\"#DejaVuSans-30\"/>\n      </g>\n     </g>\n    </g>\n    <g id=\"ytick_2\">\n     <g id=\"line2d_9\">\n      <g>\n       <use xlink:href=\"#me7948db481\" x=\"59.690625\" y=\"232.594662\" style=\"stroke: #000000; stroke-width: 0.8\"/>\n      </g>\n     </g>\n     <g id=\"text_10\">\n      <!-- 2000 -->\n      <g transform=\"translate(27.240625 236.393881) scale(0.1 -0.1)\">\n       <defs>\n        <path id=\"DejaVuSans-32\" d=\"M 1228 531 \nL 3431 531 \nL 3431 0 \nL 469 0 \nL 469 531 \nQ 828 903 1448 1529 \nQ 2069 2156 2228 2338 \nQ 2531 2678 2651 2914 \nQ 2772 3150 2772 3378 \nQ 2772 3750 2511 3984 \nQ 2250 4219 1831 4219 \nQ 1534 4219 1204 4116 \nQ 875 4013 500 3803 \nL 500 4441 \nQ 881 4594 1212 4672 \nQ 1544 4750 1819 4750 \nQ 2544 4750 2975 4387 \nQ 3406 4025 3406 3419 \nQ 3406 3131 3298 2873 \nQ 3191 2616 2906 2266 \nQ 2828 2175 2409 1742 \nQ 1991 1309 1228 531 \nz\n\" transform=\"scale(0.015625)\"/>\n       </defs>\n       <use xlink:href=\"#DejaVuSans-32\"/>\n       <use xlink:href=\"#DejaVuSans-30\" transform=\"translate(63.623047 0)\"/>\n       <use xlink:href=\"#DejaVuSans-30\" transform=\"translate(127.246094 0)\"/>\n       <use xlink:href=\"#DejaVuSans-30\" transform=\"translate(190.869141 0)\"/>\n      </g>\n     </g>\n    </g>\n    <g id=\"ytick_3\">\n     <g id=\"line2d_10\">\n      <g>\n       <use xlink:href=\"#me7948db481\" x=\"59.690625\" y=\"180.789325\" style=\"stroke: #000000; stroke-width: 0.8\"/>\n      </g>\n     </g>\n     <g id=\"text_11\">\n      <!-- 4000 -->\n      <g transform=\"translate(27.240625 184.588544) scale(0.1 -0.1)\">\n       <defs>\n        <path id=\"DejaVuSans-34\" d=\"M 2419 4116 \nL 825 1625 \nL 2419 1625 \nL 2419 4116 \nz\nM 2253 4666 \nL 3047 4666 \nL 3047 1625 \nL 3713 1625 \nL 3713 1100 \nL 3047 1100 \nL 3047 0 \nL 2419 0 \nL 2419 1100 \nL 313 1100 \nL 313 1709 \nL 2253 4666 \nz\n\" transform=\"scale(0.015625)\"/>\n       </defs>\n       <use xlink:href=\"#DejaVuSans-34\"/>\n       <use xlink:href=\"#DejaVuSans-30\" transform=\"translate(63.623047 0)\"/>\n       <use xlink:href=\"#DejaVuSans-30\" transform=\"translate(127.246094 0)\"/>\n       <use xlink:href=\"#DejaVuSans-30\" transform=\"translate(190.869141 0)\"/>\n      </g>\n     </g>\n    </g>\n    <g id=\"ytick_4\">\n     <g id=\"line2d_11\">\n      <g>\n       <use xlink:href=\"#me7948db481\" x=\"59.690625\" y=\"128.983987\" style=\"stroke: #000000; stroke-width: 0.8\"/>\n      </g>\n     </g>\n     <g id=\"text_12\">\n      <!-- 6000 -->\n      <g transform=\"translate(27.240625 132.783206) scale(0.1 -0.1)\">\n       <defs>\n        <path id=\"DejaVuSans-36\" d=\"M 2113 2584 \nQ 1688 2584 1439 2293 \nQ 1191 2003 1191 1497 \nQ 1191 994 1439 701 \nQ 1688 409 2113 409 \nQ 2538 409 2786 701 \nQ 3034 994 3034 1497 \nQ 3034 2003 2786 2293 \nQ 2538 2584 2113 2584 \nz\nM 3366 4563 \nL 3366 3988 \nQ 3128 4100 2886 4159 \nQ 2644 4219 2406 4219 \nQ 1781 4219 1451 3797 \nQ 1122 3375 1075 2522 \nQ 1259 2794 1537 2939 \nQ 1816 3084 2150 3084 \nQ 2853 3084 3261 2657 \nQ 3669 2231 3669 1497 \nQ 3669 778 3244 343 \nQ 2819 -91 2113 -91 \nQ 1303 -91 875 529 \nQ 447 1150 447 2328 \nQ 447 3434 972 4092 \nQ 1497 4750 2381 4750 \nQ 2619 4750 2861 4703 \nQ 3103 4656 3366 4563 \nz\n\" transform=\"scale(0.015625)\"/>\n       </defs>\n       <use xlink:href=\"#DejaVuSans-36\"/>\n       <use xlink:href=\"#DejaVuSans-30\" transform=\"translate(63.623047 0)\"/>\n       <use xlink:href=\"#DejaVuSans-30\" transform=\"translate(127.246094 0)\"/>\n       <use xlink:href=\"#DejaVuSans-30\" transform=\"translate(190.869141 0)\"/>\n      </g>\n     </g>\n    </g>\n    <g id=\"ytick_5\">\n     <g id=\"line2d_12\">\n      <g>\n       <use xlink:href=\"#me7948db481\" x=\"59.690625\" y=\"77.17865\" style=\"stroke: #000000; stroke-width: 0.8\"/>\n      </g>\n     </g>\n     <g id=\"text_13\">\n      <!-- 8000 -->\n      <g transform=\"translate(27.240625 80.977869) scale(0.1 -0.1)\">\n       <defs>\n        <path id=\"DejaVuSans-38\" d=\"M 2034 2216 \nQ 1584 2216 1326 1975 \nQ 1069 1734 1069 1313 \nQ 1069 891 1326 650 \nQ 1584 409 2034 409 \nQ 2484 409 2743 651 \nQ 3003 894 3003 1313 \nQ 3003 1734 2745 1975 \nQ 2488 2216 2034 2216 \nz\nM 1403 2484 \nQ 997 2584 770 2862 \nQ 544 3141 544 3541 \nQ 544 4100 942 4425 \nQ 1341 4750 2034 4750 \nQ 2731 4750 3128 4425 \nQ 3525 4100 3525 3541 \nQ 3525 3141 3298 2862 \nQ 3072 2584 2669 2484 \nQ 3125 2378 3379 2068 \nQ 3634 1759 3634 1313 \nQ 3634 634 3220 271 \nQ 2806 -91 2034 -91 \nQ 1263 -91 848 271 \nQ 434 634 434 1313 \nQ 434 1759 690 2068 \nQ 947 2378 1403 2484 \nz\nM 1172 3481 \nQ 1172 3119 1398 2916 \nQ 1625 2713 2034 2713 \nQ 2441 2713 2670 2916 \nQ 2900 3119 2900 3481 \nQ 2900 3844 2670 4047 \nQ 2441 4250 2034 4250 \nQ 1625 4250 1398 4047 \nQ 1172 3844 1172 3481 \nz\n\" transform=\"scale(0.015625)\"/>\n       </defs>\n       <use xlink:href=\"#DejaVuSans-38\"/>\n       <use xlink:href=\"#DejaVuSans-30\" transform=\"translate(63.623047 0)\"/>\n       <use xlink:href=\"#DejaVuSans-30\" transform=\"translate(127.246094 0)\"/>\n       <use xlink:href=\"#DejaVuSans-30\" transform=\"translate(190.869141 0)\"/>\n      </g>\n     </g>\n    </g>\n    <g id=\"ytick_6\">\n     <g id=\"line2d_13\">\n      <g>\n       <use xlink:href=\"#me7948db481\" x=\"59.690625\" y=\"25.373312\" style=\"stroke: #000000; stroke-width: 0.8\"/>\n      </g>\n     </g>\n     <g id=\"text_14\">\n      <!-- 10000 -->\n      <g transform=\"translate(20.878125 29.172531) scale(0.1 -0.1)\">\n       <defs>\n        <path id=\"DejaVuSans-31\" d=\"M 794 531 \nL 1825 531 \nL 1825 4091 \nL 703 3866 \nL 703 4441 \nL 1819 4666 \nL 2450 4666 \nL 2450 531 \nL 3481 531 \nL 3481 0 \nL 794 0 \nL 794 531 \nz\n\" transform=\"scale(0.015625)\"/>\n       </defs>\n       <use xlink:href=\"#DejaVuSans-31\"/>\n       <use xlink:href=\"#DejaVuSans-30\" transform=\"translate(63.623047 0)\"/>\n       <use xlink:href=\"#DejaVuSans-30\" transform=\"translate(127.246094 0)\"/>\n       <use xlink:href=\"#DejaVuSans-30\" transform=\"translate(190.869141 0)\"/>\n       <use xlink:href=\"#DejaVuSans-30\" transform=\"translate(254.492188 0)\"/>\n      </g>\n     </g>\n    </g>\n    <g id=\"text_15\">\n     <!-- count -->\n     <g transform=\"translate(14.798438 159.90625) rotate(-90) scale(0.1 -0.1)\">\n      <use xlink:href=\"#DejaVuSans-63\"/>\n      <use xlink:href=\"#DejaVuSans-6f\" transform=\"translate(54.980469 0)\"/>\n      <use xlink:href=\"#DejaVuSans-75\" transform=\"translate(116.162109 0)\"/>\n      <use xlink:href=\"#DejaVuSans-6e\" transform=\"translate(179.541016 0)\"/>\n      <use xlink:href=\"#DejaVuSans-74\" transform=\"translate(242.919922 0)\"/>\n     </g>\n    </g>\n   </g>\n   <g id=\"patch_35\">\n    <path d=\"M 59.690625 284.4 \nL 59.690625 7.2 \n\" style=\"fill: none; stroke: #000000; stroke-width: 0.8; stroke-linejoin: miter; stroke-linecap: square\"/>\n   </g>\n   <g id=\"patch_36\">\n    <path d=\"M 896.690625 284.4 \nL 896.690625 7.2 \n\" style=\"fill: none; stroke: #000000; stroke-width: 0.8; stroke-linejoin: miter; stroke-linecap: square\"/>\n   </g>\n   <g id=\"patch_37\">\n    <path d=\"M 59.690625 284.4 \nL 896.690625 284.4 \n\" style=\"fill: none; stroke: #000000; stroke-width: 0.8; stroke-linejoin: miter; stroke-linecap: square\"/>\n   </g>\n   <g id=\"patch_38\">\n    <path d=\"M 59.690625 7.2 \nL 896.690625 7.2 \n\" style=\"fill: none; stroke: #000000; stroke-width: 0.8; stroke-linejoin: miter; stroke-linecap: square\"/>\n   </g>\n   <g id=\"legend_1\">\n    <g id=\"patch_39\">\n     <path d=\"M 818.470313 88.590625 \nL 889.690625 88.590625 \nQ 891.690625 88.590625 891.690625 86.590625 \nL 891.690625 14.2 \nQ 891.690625 12.2 889.690625 12.2 \nL 818.470313 12.2 \nQ 816.470313 12.2 816.470313 14.2 \nL 816.470313 86.590625 \nQ 816.470313 88.590625 818.470313 88.590625 \nz\n\" style=\"fill: #ffffff; opacity: 0.8; stroke: #cccccc; stroke-linejoin: miter\"/>\n    </g>\n    <g id=\"text_16\">\n     <!-- income -->\n     <g transform=\"translate(835.767188 23.798437) scale(0.1 -0.1)\">\n      <use xlink:href=\"#DejaVuSans-69\"/>\n      <use xlink:href=\"#DejaVuSans-6e\" transform=\"translate(27.783203 0)\"/>\n      <use xlink:href=\"#DejaVuSans-63\" transform=\"translate(91.162109 0)\"/>\n      <use xlink:href=\"#DejaVuSans-6f\" transform=\"translate(146.142578 0)\"/>\n      <use xlink:href=\"#DejaVuSans-6d\" transform=\"translate(207.324219 0)\"/>\n      <use xlink:href=\"#DejaVuSans-65\" transform=\"translate(304.736328 0)\"/>\n     </g>\n    </g>\n    <g id=\"patch_40\">\n     <path d=\"M 820.470313 38.476562 \nL 840.470313 38.476562 \nL 840.470313 31.476562 \nL 820.470313 31.476562 \nz\n\" style=\"fill: #3274a1\"/>\n    </g>\n    <g id=\"text_17\">\n     <!-- &lt;=50K -->\n     <g transform=\"translate(848.470313 38.476562) scale(0.1 -0.1)\">\n      <defs>\n       <path id=\"DejaVuSans-3c\" d=\"M 4684 3150 \nL 1459 2003 \nL 4684 863 \nL 4684 294 \nL 678 1747 \nL 678 2266 \nL 4684 3719 \nL 4684 3150 \nz\n\" transform=\"scale(0.015625)\"/>\n       <path id=\"DejaVuSans-3d\" d=\"M 678 2906 \nL 4684 2906 \nL 4684 2381 \nL 678 2381 \nL 678 2906 \nz\nM 678 1631 \nL 4684 1631 \nL 4684 1100 \nL 678 1100 \nL 678 1631 \nz\n\" transform=\"scale(0.015625)\"/>\n       <path id=\"DejaVuSans-35\" d=\"M 691 4666 \nL 3169 4666 \nL 3169 4134 \nL 1269 4134 \nL 1269 2991 \nQ 1406 3038 1543 3061 \nQ 1681 3084 1819 3084 \nQ 2600 3084 3056 2656 \nQ 3513 2228 3513 1497 \nQ 3513 744 3044 326 \nQ 2575 -91 1722 -91 \nQ 1428 -91 1123 -41 \nQ 819 9 494 109 \nL 494 744 \nQ 775 591 1075 516 \nQ 1375 441 1709 441 \nQ 2250 441 2565 725 \nQ 2881 1009 2881 1497 \nQ 2881 1984 2565 2268 \nQ 2250 2553 1709 2553 \nQ 1456 2553 1204 2497 \nQ 953 2441 691 2322 \nL 691 4666 \nz\n\" transform=\"scale(0.015625)\"/>\n       <path id=\"DejaVuSans-4b\" d=\"M 628 4666 \nL 1259 4666 \nL 1259 2694 \nL 3353 4666 \nL 4166 4666 \nL 1850 2491 \nL 4331 0 \nL 3500 0 \nL 1259 2247 \nL 1259 0 \nL 628 0 \nL 628 4666 \nz\n\" transform=\"scale(0.015625)\"/>\n      </defs>\n      <use xlink:href=\"#DejaVuSans-3c\"/>\n      <use xlink:href=\"#DejaVuSans-3d\" transform=\"translate(83.789062 0)\"/>\n      <use xlink:href=\"#DejaVuSans-35\" transform=\"translate(167.578125 0)\"/>\n      <use xlink:href=\"#DejaVuSans-30\" transform=\"translate(231.201172 0)\"/>\n      <use xlink:href=\"#DejaVuSans-4b\" transform=\"translate(294.824219 0)\"/>\n     </g>\n    </g>\n    <g id=\"patch_41\">\n     <path d=\"M 820.470313 53.154688 \nL 840.470313 53.154688 \nL 840.470313 46.154688 \nL 820.470313 46.154688 \nz\n\" style=\"fill: #e1812c\"/>\n    </g>\n    <g id=\"text_18\">\n     <!-- &gt;50K -->\n     <g transform=\"translate(848.470313 53.154688) scale(0.1 -0.1)\">\n      <defs>\n       <path id=\"DejaVuSans-3e\" d=\"M 678 3150 \nL 678 3719 \nL 4684 2266 \nL 4684 1747 \nL 678 294 \nL 678 863 \nL 3897 2003 \nL 678 3150 \nz\n\" transform=\"scale(0.015625)\"/>\n      </defs>\n      <use xlink:href=\"#DejaVuSans-3e\"/>\n      <use xlink:href=\"#DejaVuSans-35\" transform=\"translate(83.789062 0)\"/>\n      <use xlink:href=\"#DejaVuSans-30\" transform=\"translate(147.412109 0)\"/>\n      <use xlink:href=\"#DejaVuSans-4b\" transform=\"translate(211.035156 0)\"/>\n     </g>\n    </g>\n    <g id=\"patch_42\">\n     <path d=\"M 820.470313 67.832812 \nL 840.470313 67.832812 \nL 840.470313 60.832812 \nL 820.470313 60.832812 \nz\n\" style=\"fill: #3a923a\"/>\n    </g>\n    <g id=\"text_19\">\n     <!-- &lt;=50K. -->\n     <g transform=\"translate(848.470313 67.832812) scale(0.1 -0.1)\">\n      <defs>\n       <path id=\"DejaVuSans-2e\" d=\"M 684 794 \nL 1344 794 \nL 1344 0 \nL 684 0 \nL 684 794 \nz\n\" transform=\"scale(0.015625)\"/>\n      </defs>\n      <use xlink:href=\"#DejaVuSans-3c\"/>\n      <use xlink:href=\"#DejaVuSans-3d\" transform=\"translate(83.789062 0)\"/>\n      <use xlink:href=\"#DejaVuSans-35\" transform=\"translate(167.578125 0)\"/>\n      <use xlink:href=\"#DejaVuSans-30\" transform=\"translate(231.201172 0)\"/>\n      <use xlink:href=\"#DejaVuSans-4b\" transform=\"translate(294.824219 0)\"/>\n      <use xlink:href=\"#DejaVuSans-2e\" transform=\"translate(360.400391 0)\"/>\n     </g>\n    </g>\n    <g id=\"patch_43\">\n     <path d=\"M 820.470313 82.510938 \nL 840.470313 82.510938 \nL 840.470313 75.510938 \nL 820.470313 75.510938 \nz\n\" style=\"fill: #c03d3e\"/>\n    </g>\n    <g id=\"text_20\">\n     <!-- &gt;50K. -->\n     <g transform=\"translate(848.470313 82.510938) scale(0.1 -0.1)\">\n      <use xlink:href=\"#DejaVuSans-3e\"/>\n      <use xlink:href=\"#DejaVuSans-35\" transform=\"translate(83.789062 0)\"/>\n      <use xlink:href=\"#DejaVuSans-30\" transform=\"translate(147.412109 0)\"/>\n      <use xlink:href=\"#DejaVuSans-4b\" transform=\"translate(211.035156 0)\"/>\n      <use xlink:href=\"#DejaVuSans-2e\" transform=\"translate(276.611328 0)\"/>\n     </g>\n    </g>\n   </g>\n  </g>\n </g>\n <defs>\n  <clipPath id=\"p964d4bde3f\">\n   <rect x=\"59.690625\" y=\"7.2\" width=\"837\" height=\"277.2\"/>\n  </clipPath>\n </defs>\n</svg>\n"
          },
          "metadata": {}
        }
      ]
    },
    {
      "cell_type": "code",
      "source": [
        "data.groupby('education')['hours-per-week'].mean().plot(title='Average Hours Worked per Week by Education Level')"
      ],
      "metadata": {
        "colab": {
          "base_uri": "https://localhost:8080/",
          "height": 488
        },
        "id": "J7G7XzByjnWi",
        "outputId": "d645d241-b404-4cf3-eaa3-67bab737c4e8"
      },
      "execution_count": 28,
      "outputs": [
        {
          "output_type": "execute_result",
          "data": {
            "text/plain": [
              "<Axes: title={'center': 'Average Hours Worked per Week by Education Level'}, xlabel='education'>"
            ]
          },
          "metadata": {},
          "execution_count": 28
        },
        {
          "output_type": "display_data",
          "data": {
            "text/plain": [
              "<Figure size 1500x500 with 1 Axes>"
            ],
            "image/svg+xml": "<?xml version=\"1.0\" encoding=\"utf-8\" standalone=\"no\"?>\n<!DOCTYPE svg PUBLIC \"-//W3C//DTD SVG 1.1//EN\"\n  \"http://www.w3.org/Graphics/SVG/1.1/DTD/svg11.dtd\">\n<svg xmlns:xlink=\"http://www.w3.org/1999/xlink\" width=\"871.125pt\" height=\"337.074375pt\" viewBox=\"0 0 871.125 337.074375\" xmlns=\"http://www.w3.org/2000/svg\" version=\"1.1\">\n <metadata>\n  <rdf:RDF xmlns:dc=\"http://purl.org/dc/elements/1.1/\" xmlns:cc=\"http://creativecommons.org/ns#\" xmlns:rdf=\"http://www.w3.org/1999/02/22-rdf-syntax-ns#\">\n   <cc:Work>\n    <dc:type rdf:resource=\"http://purl.org/dc/dcmitype/StillImage\"/>\n    <dc:date>2025-07-09T17:24:05.367518</dc:date>\n    <dc:format>image/svg+xml</dc:format>\n    <dc:creator>\n     <cc:Agent>\n      <dc:title>Matplotlib v3.10.0, https://matplotlib.org/</dc:title>\n     </cc:Agent>\n    </dc:creator>\n   </cc:Work>\n  </rdf:RDF>\n </metadata>\n <defs>\n  <style type=\"text/css\">*{stroke-linejoin: round; stroke-linecap: butt}</style>\n </defs>\n <g id=\"figure_1\">\n  <g id=\"patch_1\">\n   <path d=\"M 0 337.074375 \nL 871.125 337.074375 \nL 871.125 0 \nL 0 0 \nz\n\" style=\"fill: #ffffff\"/>\n  </g>\n  <g id=\"axes_1\">\n   <g id=\"patch_2\">\n    <path d=\"M 26.925 299.518125 \nL 863.925 299.518125 \nL 863.925 22.318125 \nL 26.925 22.318125 \nz\n\" style=\"fill: #ffffff\"/>\n   </g>\n   <g id=\"matplotlib.axis_1\">\n    <g id=\"xtick_1\">\n     <g id=\"line2d_1\">\n      <defs>\n       <path id=\"m57d8128703\" d=\"M 0 0 \nL 0 3.5 \n\" style=\"stroke: #000000; stroke-width: 0.8\"/>\n      </defs>\n      <g>\n       <use xlink:href=\"#m57d8128703\" x=\"64.970455\" y=\"299.518125\" style=\"stroke: #000000; stroke-width: 0.8\"/>\n      </g>\n     </g>\n     <g id=\"text_1\">\n      <!-- 10th -->\n      <g transform=\"translate(53.479048 314.116563) scale(0.1 -0.1)\">\n       <defs>\n        <path id=\"DejaVuSans-31\" d=\"M 794 531 \nL 1825 531 \nL 1825 4091 \nL 703 3866 \nL 703 4441 \nL 1819 4666 \nL 2450 4666 \nL 2450 531 \nL 3481 531 \nL 3481 0 \nL 794 0 \nL 794 531 \nz\n\" transform=\"scale(0.015625)\"/>\n        <path id=\"DejaVuSans-30\" d=\"M 2034 4250 \nQ 1547 4250 1301 3770 \nQ 1056 3291 1056 2328 \nQ 1056 1369 1301 889 \nQ 1547 409 2034 409 \nQ 2525 409 2770 889 \nQ 3016 1369 3016 2328 \nQ 3016 3291 2770 3770 \nQ 2525 4250 2034 4250 \nz\nM 2034 4750 \nQ 2819 4750 3233 4129 \nQ 3647 3509 3647 2328 \nQ 3647 1150 3233 529 \nQ 2819 -91 2034 -91 \nQ 1250 -91 836 529 \nQ 422 1150 422 2328 \nQ 422 3509 836 4129 \nQ 1250 4750 2034 4750 \nz\n\" transform=\"scale(0.015625)\"/>\n        <path id=\"DejaVuSans-74\" d=\"M 1172 4494 \nL 1172 3500 \nL 2356 3500 \nL 2356 3053 \nL 1172 3053 \nL 1172 1153 \nQ 1172 725 1289 603 \nQ 1406 481 1766 481 \nL 2356 481 \nL 2356 0 \nL 1766 0 \nQ 1100 0 847 248 \nQ 594 497 594 1153 \nL 594 3053 \nL 172 3053 \nL 172 3500 \nL 594 3500 \nL 594 4494 \nL 1172 4494 \nz\n\" transform=\"scale(0.015625)\"/>\n        <path id=\"DejaVuSans-68\" d=\"M 3513 2113 \nL 3513 0 \nL 2938 0 \nL 2938 2094 \nQ 2938 2591 2744 2837 \nQ 2550 3084 2163 3084 \nQ 1697 3084 1428 2787 \nQ 1159 2491 1159 1978 \nL 1159 0 \nL 581 0 \nL 581 4863 \nL 1159 4863 \nL 1159 2956 \nQ 1366 3272 1645 3428 \nQ 1925 3584 2291 3584 \nQ 2894 3584 3203 3211 \nQ 3513 2838 3513 2113 \nz\n\" transform=\"scale(0.015625)\"/>\n       </defs>\n       <use xlink:href=\"#DejaVuSans-31\"/>\n       <use xlink:href=\"#DejaVuSans-30\" transform=\"translate(63.623047 0)\"/>\n       <use xlink:href=\"#DejaVuSans-74\" transform=\"translate(127.246094 0)\"/>\n       <use xlink:href=\"#DejaVuSans-68\" transform=\"translate(166.455078 0)\"/>\n      </g>\n     </g>\n    </g>\n    <g id=\"xtick_2\">\n     <g id=\"line2d_2\">\n      <g>\n       <use xlink:href=\"#m57d8128703\" x=\"166.425\" y=\"299.518125\" style=\"stroke: #000000; stroke-width: 0.8\"/>\n      </g>\n     </g>\n     <g id=\"text_2\">\n      <!-- 12th -->\n      <g transform=\"translate(154.933594 314.116563) scale(0.1 -0.1)\">\n       <defs>\n        <path id=\"DejaVuSans-32\" d=\"M 1228 531 \nL 3431 531 \nL 3431 0 \nL 469 0 \nL 469 531 \nQ 828 903 1448 1529 \nQ 2069 2156 2228 2338 \nQ 2531 2678 2651 2914 \nQ 2772 3150 2772 3378 \nQ 2772 3750 2511 3984 \nQ 2250 4219 1831 4219 \nQ 1534 4219 1204 4116 \nQ 875 4013 500 3803 \nL 500 4441 \nQ 881 4594 1212 4672 \nQ 1544 4750 1819 4750 \nQ 2544 4750 2975 4387 \nQ 3406 4025 3406 3419 \nQ 3406 3131 3298 2873 \nQ 3191 2616 2906 2266 \nQ 2828 2175 2409 1742 \nQ 1991 1309 1228 531 \nz\n\" transform=\"scale(0.015625)\"/>\n       </defs>\n       <use xlink:href=\"#DejaVuSans-31\"/>\n       <use xlink:href=\"#DejaVuSans-32\" transform=\"translate(63.623047 0)\"/>\n       <use xlink:href=\"#DejaVuSans-74\" transform=\"translate(127.246094 0)\"/>\n       <use xlink:href=\"#DejaVuSans-68\" transform=\"translate(166.455078 0)\"/>\n      </g>\n     </g>\n    </g>\n    <g id=\"xtick_3\">\n     <g id=\"line2d_3\">\n      <g>\n       <use xlink:href=\"#m57d8128703\" x=\"267.879545\" y=\"299.518125\" style=\"stroke: #000000; stroke-width: 0.8\"/>\n      </g>\n     </g>\n     <g id=\"text_3\">\n      <!-- 5th-6th -->\n      <g transform=\"translate(249.455327 314.116563) scale(0.1 -0.1)\">\n       <defs>\n        <path id=\"DejaVuSans-35\" d=\"M 691 4666 \nL 3169 4666 \nL 3169 4134 \nL 1269 4134 \nL 1269 2991 \nQ 1406 3038 1543 3061 \nQ 1681 3084 1819 3084 \nQ 2600 3084 3056 2656 \nQ 3513 2228 3513 1497 \nQ 3513 744 3044 326 \nQ 2575 -91 1722 -91 \nQ 1428 -91 1123 -41 \nQ 819 9 494 109 \nL 494 744 \nQ 775 591 1075 516 \nQ 1375 441 1709 441 \nQ 2250 441 2565 725 \nQ 2881 1009 2881 1497 \nQ 2881 1984 2565 2268 \nQ 2250 2553 1709 2553 \nQ 1456 2553 1204 2497 \nQ 953 2441 691 2322 \nL 691 4666 \nz\n\" transform=\"scale(0.015625)\"/>\n        <path id=\"DejaVuSans-2d\" d=\"M 313 2009 \nL 1997 2009 \nL 1997 1497 \nL 313 1497 \nL 313 2009 \nz\n\" transform=\"scale(0.015625)\"/>\n        <path id=\"DejaVuSans-36\" d=\"M 2113 2584 \nQ 1688 2584 1439 2293 \nQ 1191 2003 1191 1497 \nQ 1191 994 1439 701 \nQ 1688 409 2113 409 \nQ 2538 409 2786 701 \nQ 3034 994 3034 1497 \nQ 3034 2003 2786 2293 \nQ 2538 2584 2113 2584 \nz\nM 3366 4563 \nL 3366 3988 \nQ 3128 4100 2886 4159 \nQ 2644 4219 2406 4219 \nQ 1781 4219 1451 3797 \nQ 1122 3375 1075 2522 \nQ 1259 2794 1537 2939 \nQ 1816 3084 2150 3084 \nQ 2853 3084 3261 2657 \nQ 3669 2231 3669 1497 \nQ 3669 778 3244 343 \nQ 2819 -91 2113 -91 \nQ 1303 -91 875 529 \nQ 447 1150 447 2328 \nQ 447 3434 972 4092 \nQ 1497 4750 2381 4750 \nQ 2619 4750 2861 4703 \nQ 3103 4656 3366 4563 \nz\n\" transform=\"scale(0.015625)\"/>\n       </defs>\n       <use xlink:href=\"#DejaVuSans-35\"/>\n       <use xlink:href=\"#DejaVuSans-74\" transform=\"translate(63.623047 0)\"/>\n       <use xlink:href=\"#DejaVuSans-68\" transform=\"translate(102.832031 0)\"/>\n       <use xlink:href=\"#DejaVuSans-2d\" transform=\"translate(166.210938 0)\"/>\n       <use xlink:href=\"#DejaVuSans-36\" transform=\"translate(202.294922 0)\"/>\n       <use xlink:href=\"#DejaVuSans-74\" transform=\"translate(265.917969 0)\"/>\n       <use xlink:href=\"#DejaVuSans-68\" transform=\"translate(305.126953 0)\"/>\n      </g>\n     </g>\n    </g>\n    <g id=\"xtick_4\">\n     <g id=\"line2d_4\">\n      <g>\n       <use xlink:href=\"#m57d8128703\" x=\"369.334091\" y=\"299.518125\" style=\"stroke: #000000; stroke-width: 0.8\"/>\n      </g>\n     </g>\n     <g id=\"text_4\">\n      <!-- 9th -->\n      <g transform=\"translate(361.023935 314.116563) scale(0.1 -0.1)\">\n       <defs>\n        <path id=\"DejaVuSans-39\" d=\"M 703 97 \nL 703 672 \nQ 941 559 1184 500 \nQ 1428 441 1663 441 \nQ 2288 441 2617 861 \nQ 2947 1281 2994 2138 \nQ 2813 1869 2534 1725 \nQ 2256 1581 1919 1581 \nQ 1219 1581 811 2004 \nQ 403 2428 403 3163 \nQ 403 3881 828 4315 \nQ 1253 4750 1959 4750 \nQ 2769 4750 3195 4129 \nQ 3622 3509 3622 2328 \nQ 3622 1225 3098 567 \nQ 2575 -91 1691 -91 \nQ 1453 -91 1209 -44 \nQ 966 3 703 97 \nz\nM 1959 2075 \nQ 2384 2075 2632 2365 \nQ 2881 2656 2881 3163 \nQ 2881 3666 2632 3958 \nQ 2384 4250 1959 4250 \nQ 1534 4250 1286 3958 \nQ 1038 3666 1038 3163 \nQ 1038 2656 1286 2365 \nQ 1534 2075 1959 2075 \nz\n\" transform=\"scale(0.015625)\"/>\n       </defs>\n       <use xlink:href=\"#DejaVuSans-39\"/>\n       <use xlink:href=\"#DejaVuSans-74\" transform=\"translate(63.623047 0)\"/>\n       <use xlink:href=\"#DejaVuSans-68\" transform=\"translate(102.832031 0)\"/>\n      </g>\n     </g>\n    </g>\n    <g id=\"xtick_5\">\n     <g id=\"line2d_5\">\n      <g>\n       <use xlink:href=\"#m57d8128703\" x=\"470.788636\" y=\"299.518125\" style=\"stroke: #000000; stroke-width: 0.8\"/>\n      </g>\n     </g>\n     <g id=\"text_5\">\n      <!-- Assoc-voc -->\n      <g transform=\"translate(445.90973 314.116563) scale(0.1 -0.1)\">\n       <defs>\n        <path id=\"DejaVuSans-41\" d=\"M 2188 4044 \nL 1331 1722 \nL 3047 1722 \nL 2188 4044 \nz\nM 1831 4666 \nL 2547 4666 \nL 4325 0 \nL 3669 0 \nL 3244 1197 \nL 1141 1197 \nL 716 0 \nL 50 0 \nL 1831 4666 \nz\n\" transform=\"scale(0.015625)\"/>\n        <path id=\"DejaVuSans-73\" d=\"M 2834 3397 \nL 2834 2853 \nQ 2591 2978 2328 3040 \nQ 2066 3103 1784 3103 \nQ 1356 3103 1142 2972 \nQ 928 2841 928 2578 \nQ 928 2378 1081 2264 \nQ 1234 2150 1697 2047 \nL 1894 2003 \nQ 2506 1872 2764 1633 \nQ 3022 1394 3022 966 \nQ 3022 478 2636 193 \nQ 2250 -91 1575 -91 \nQ 1294 -91 989 -36 \nQ 684 19 347 128 \nL 347 722 \nQ 666 556 975 473 \nQ 1284 391 1588 391 \nQ 1994 391 2212 530 \nQ 2431 669 2431 922 \nQ 2431 1156 2273 1281 \nQ 2116 1406 1581 1522 \nL 1381 1569 \nQ 847 1681 609 1914 \nQ 372 2147 372 2553 \nQ 372 3047 722 3315 \nQ 1072 3584 1716 3584 \nQ 2034 3584 2315 3537 \nQ 2597 3491 2834 3397 \nz\n\" transform=\"scale(0.015625)\"/>\n        <path id=\"DejaVuSans-6f\" d=\"M 1959 3097 \nQ 1497 3097 1228 2736 \nQ 959 2375 959 1747 \nQ 959 1119 1226 758 \nQ 1494 397 1959 397 \nQ 2419 397 2687 759 \nQ 2956 1122 2956 1747 \nQ 2956 2369 2687 2733 \nQ 2419 3097 1959 3097 \nz\nM 1959 3584 \nQ 2709 3584 3137 3096 \nQ 3566 2609 3566 1747 \nQ 3566 888 3137 398 \nQ 2709 -91 1959 -91 \nQ 1206 -91 779 398 \nQ 353 888 353 1747 \nQ 353 2609 779 3096 \nQ 1206 3584 1959 3584 \nz\n\" transform=\"scale(0.015625)\"/>\n        <path id=\"DejaVuSans-63\" d=\"M 3122 3366 \nL 3122 2828 \nQ 2878 2963 2633 3030 \nQ 2388 3097 2138 3097 \nQ 1578 3097 1268 2742 \nQ 959 2388 959 1747 \nQ 959 1106 1268 751 \nQ 1578 397 2138 397 \nQ 2388 397 2633 464 \nQ 2878 531 3122 666 \nL 3122 134 \nQ 2881 22 2623 -34 \nQ 2366 -91 2075 -91 \nQ 1284 -91 818 406 \nQ 353 903 353 1747 \nQ 353 2603 823 3093 \nQ 1294 3584 2113 3584 \nQ 2378 3584 2631 3529 \nQ 2884 3475 3122 3366 \nz\n\" transform=\"scale(0.015625)\"/>\n        <path id=\"DejaVuSans-76\" d=\"M 191 3500 \nL 800 3500 \nL 1894 563 \nL 2988 3500 \nL 3597 3500 \nL 2284 0 \nL 1503 0 \nL 191 3500 \nz\n\" transform=\"scale(0.015625)\"/>\n       </defs>\n       <use xlink:href=\"#DejaVuSans-41\"/>\n       <use xlink:href=\"#DejaVuSans-73\" transform=\"translate(68.408203 0)\"/>\n       <use xlink:href=\"#DejaVuSans-73\" transform=\"translate(120.507812 0)\"/>\n       <use xlink:href=\"#DejaVuSans-6f\" transform=\"translate(172.607422 0)\"/>\n       <use xlink:href=\"#DejaVuSans-63\" transform=\"translate(233.789062 0)\"/>\n       <use xlink:href=\"#DejaVuSans-2d\" transform=\"translate(288.769531 0)\"/>\n       <use xlink:href=\"#DejaVuSans-76\" transform=\"translate(322.228516 0)\"/>\n       <use xlink:href=\"#DejaVuSans-6f\" transform=\"translate(381.408203 0)\"/>\n       <use xlink:href=\"#DejaVuSans-63\" transform=\"translate(442.589844 0)\"/>\n      </g>\n     </g>\n    </g>\n    <g id=\"xtick_6\">\n     <g id=\"line2d_6\">\n      <g>\n       <use xlink:href=\"#m57d8128703\" x=\"572.243182\" y=\"299.518125\" style=\"stroke: #000000; stroke-width: 0.8\"/>\n      </g>\n     </g>\n     <g id=\"text_6\">\n      <!-- Doctorate -->\n      <g transform=\"translate(547.408807 314.116563) scale(0.1 -0.1)\">\n       <defs>\n        <path id=\"DejaVuSans-44\" d=\"M 1259 4147 \nL 1259 519 \nL 2022 519 \nQ 2988 519 3436 956 \nQ 3884 1394 3884 2338 \nQ 3884 3275 3436 3711 \nQ 2988 4147 2022 4147 \nL 1259 4147 \nz\nM 628 4666 \nL 1925 4666 \nQ 3281 4666 3915 4102 \nQ 4550 3538 4550 2338 \nQ 4550 1131 3912 565 \nQ 3275 0 1925 0 \nL 628 0 \nL 628 4666 \nz\n\" transform=\"scale(0.015625)\"/>\n        <path id=\"DejaVuSans-72\" d=\"M 2631 2963 \nQ 2534 3019 2420 3045 \nQ 2306 3072 2169 3072 \nQ 1681 3072 1420 2755 \nQ 1159 2438 1159 1844 \nL 1159 0 \nL 581 0 \nL 581 3500 \nL 1159 3500 \nL 1159 2956 \nQ 1341 3275 1631 3429 \nQ 1922 3584 2338 3584 \nQ 2397 3584 2469 3576 \nQ 2541 3569 2628 3553 \nL 2631 2963 \nz\n\" transform=\"scale(0.015625)\"/>\n        <path id=\"DejaVuSans-61\" d=\"M 2194 1759 \nQ 1497 1759 1228 1600 \nQ 959 1441 959 1056 \nQ 959 750 1161 570 \nQ 1363 391 1709 391 \nQ 2188 391 2477 730 \nQ 2766 1069 2766 1631 \nL 2766 1759 \nL 2194 1759 \nz\nM 3341 1997 \nL 3341 0 \nL 2766 0 \nL 2766 531 \nQ 2569 213 2275 61 \nQ 1981 -91 1556 -91 \nQ 1019 -91 701 211 \nQ 384 513 384 1019 \nQ 384 1609 779 1909 \nQ 1175 2209 1959 2209 \nL 2766 2209 \nL 2766 2266 \nQ 2766 2663 2505 2880 \nQ 2244 3097 1772 3097 \nQ 1472 3097 1187 3025 \nQ 903 2953 641 2809 \nL 641 3341 \nQ 956 3463 1253 3523 \nQ 1550 3584 1831 3584 \nQ 2591 3584 2966 3190 \nQ 3341 2797 3341 1997 \nz\n\" transform=\"scale(0.015625)\"/>\n        <path id=\"DejaVuSans-65\" d=\"M 3597 1894 \nL 3597 1613 \nL 953 1613 \nQ 991 1019 1311 708 \nQ 1631 397 2203 397 \nQ 2534 397 2845 478 \nQ 3156 559 3463 722 \nL 3463 178 \nQ 3153 47 2828 -22 \nQ 2503 -91 2169 -91 \nQ 1331 -91 842 396 \nQ 353 884 353 1716 \nQ 353 2575 817 3079 \nQ 1281 3584 2069 3584 \nQ 2775 3584 3186 3129 \nQ 3597 2675 3597 1894 \nz\nM 3022 2063 \nQ 3016 2534 2758 2815 \nQ 2500 3097 2075 3097 \nQ 1594 3097 1305 2825 \nQ 1016 2553 972 2059 \nL 3022 2063 \nz\n\" transform=\"scale(0.015625)\"/>\n       </defs>\n       <use xlink:href=\"#DejaVuSans-44\"/>\n       <use xlink:href=\"#DejaVuSans-6f\" transform=\"translate(77.001953 0)\"/>\n       <use xlink:href=\"#DejaVuSans-63\" transform=\"translate(138.183594 0)\"/>\n       <use xlink:href=\"#DejaVuSans-74\" transform=\"translate(193.164062 0)\"/>\n       <use xlink:href=\"#DejaVuSans-6f\" transform=\"translate(232.373047 0)\"/>\n       <use xlink:href=\"#DejaVuSans-72\" transform=\"translate(293.554688 0)\"/>\n       <use xlink:href=\"#DejaVuSans-61\" transform=\"translate(334.667969 0)\"/>\n       <use xlink:href=\"#DejaVuSans-74\" transform=\"translate(395.947266 0)\"/>\n       <use xlink:href=\"#DejaVuSans-65\" transform=\"translate(435.15625 0)\"/>\n      </g>\n     </g>\n    </g>\n    <g id=\"xtick_7\">\n     <g id=\"line2d_7\">\n      <g>\n       <use xlink:href=\"#m57d8128703\" x=\"673.697727\" y=\"299.518125\" style=\"stroke: #000000; stroke-width: 0.8\"/>\n      </g>\n     </g>\n     <g id=\"text_7\">\n      <!-- Masters -->\n      <g transform=\"translate(654.01804 314.116563) scale(0.1 -0.1)\">\n       <defs>\n        <path id=\"DejaVuSans-4d\" d=\"M 628 4666 \nL 1569 4666 \nL 2759 1491 \nL 3956 4666 \nL 4897 4666 \nL 4897 0 \nL 4281 0 \nL 4281 4097 \nL 3078 897 \nL 2444 897 \nL 1241 4097 \nL 1241 0 \nL 628 0 \nL 628 4666 \nz\n\" transform=\"scale(0.015625)\"/>\n       </defs>\n       <use xlink:href=\"#DejaVuSans-4d\"/>\n       <use xlink:href=\"#DejaVuSans-61\" transform=\"translate(86.279297 0)\"/>\n       <use xlink:href=\"#DejaVuSans-73\" transform=\"translate(147.558594 0)\"/>\n       <use xlink:href=\"#DejaVuSans-74\" transform=\"translate(199.658203 0)\"/>\n       <use xlink:href=\"#DejaVuSans-65\" transform=\"translate(238.867188 0)\"/>\n       <use xlink:href=\"#DejaVuSans-72\" transform=\"translate(300.390625 0)\"/>\n       <use xlink:href=\"#DejaVuSans-73\" transform=\"translate(341.503906 0)\"/>\n      </g>\n     </g>\n    </g>\n    <g id=\"xtick_8\">\n     <g id=\"line2d_8\">\n      <g>\n       <use xlink:href=\"#m57d8128703\" x=\"775.152273\" y=\"299.518125\" style=\"stroke: #000000; stroke-width: 0.8\"/>\n      </g>\n     </g>\n     <g id=\"text_8\">\n      <!-- Prof-school -->\n      <g transform=\"translate(747.903054 314.116563) scale(0.1 -0.1)\">\n       <defs>\n        <path id=\"DejaVuSans-50\" d=\"M 1259 4147 \nL 1259 2394 \nL 2053 2394 \nQ 2494 2394 2734 2622 \nQ 2975 2850 2975 3272 \nQ 2975 3691 2734 3919 \nQ 2494 4147 2053 4147 \nL 1259 4147 \nz\nM 628 4666 \nL 2053 4666 \nQ 2838 4666 3239 4311 \nQ 3641 3956 3641 3272 \nQ 3641 2581 3239 2228 \nQ 2838 1875 2053 1875 \nL 1259 1875 \nL 1259 0 \nL 628 0 \nL 628 4666 \nz\n\" transform=\"scale(0.015625)\"/>\n        <path id=\"DejaVuSans-66\" d=\"M 2375 4863 \nL 2375 4384 \nL 1825 4384 \nQ 1516 4384 1395 4259 \nQ 1275 4134 1275 3809 \nL 1275 3500 \nL 2222 3500 \nL 2222 3053 \nL 1275 3053 \nL 1275 0 \nL 697 0 \nL 697 3053 \nL 147 3053 \nL 147 3500 \nL 697 3500 \nL 697 3744 \nQ 697 4328 969 4595 \nQ 1241 4863 1831 4863 \nL 2375 4863 \nz\n\" transform=\"scale(0.015625)\"/>\n        <path id=\"DejaVuSans-6c\" d=\"M 603 4863 \nL 1178 4863 \nL 1178 0 \nL 603 0 \nL 603 4863 \nz\n\" transform=\"scale(0.015625)\"/>\n       </defs>\n       <use xlink:href=\"#DejaVuSans-50\"/>\n       <use xlink:href=\"#DejaVuSans-72\" transform=\"translate(58.552734 0)\"/>\n       <use xlink:href=\"#DejaVuSans-6f\" transform=\"translate(97.416016 0)\"/>\n       <use xlink:href=\"#DejaVuSans-66\" transform=\"translate(158.597656 0)\"/>\n       <use xlink:href=\"#DejaVuSans-2d\" transform=\"translate(188.302734 0)\"/>\n       <use xlink:href=\"#DejaVuSans-73\" transform=\"translate(224.386719 0)\"/>\n       <use xlink:href=\"#DejaVuSans-63\" transform=\"translate(276.486328 0)\"/>\n       <use xlink:href=\"#DejaVuSans-68\" transform=\"translate(331.466797 0)\"/>\n       <use xlink:href=\"#DejaVuSans-6f\" transform=\"translate(394.845703 0)\"/>\n       <use xlink:href=\"#DejaVuSans-6f\" transform=\"translate(456.027344 0)\"/>\n       <use xlink:href=\"#DejaVuSans-6c\" transform=\"translate(517.208984 0)\"/>\n      </g>\n     </g>\n    </g>\n    <g id=\"text_9\">\n     <!-- education -->\n     <g transform=\"translate(420.614844 327.794688) scale(0.1 -0.1)\">\n      <defs>\n       <path id=\"DejaVuSans-64\" d=\"M 2906 2969 \nL 2906 4863 \nL 3481 4863 \nL 3481 0 \nL 2906 0 \nL 2906 525 \nQ 2725 213 2448 61 \nQ 2172 -91 1784 -91 \nQ 1150 -91 751 415 \nQ 353 922 353 1747 \nQ 353 2572 751 3078 \nQ 1150 3584 1784 3584 \nQ 2172 3584 2448 3432 \nQ 2725 3281 2906 2969 \nz\nM 947 1747 \nQ 947 1113 1208 752 \nQ 1469 391 1925 391 \nQ 2381 391 2643 752 \nQ 2906 1113 2906 1747 \nQ 2906 2381 2643 2742 \nQ 2381 3103 1925 3103 \nQ 1469 3103 1208 2742 \nQ 947 2381 947 1747 \nz\n\" transform=\"scale(0.015625)\"/>\n       <path id=\"DejaVuSans-75\" d=\"M 544 1381 \nL 544 3500 \nL 1119 3500 \nL 1119 1403 \nQ 1119 906 1312 657 \nQ 1506 409 1894 409 \nQ 2359 409 2629 706 \nQ 2900 1003 2900 1516 \nL 2900 3500 \nL 3475 3500 \nL 3475 0 \nL 2900 0 \nL 2900 538 \nQ 2691 219 2414 64 \nQ 2138 -91 1772 -91 \nQ 1169 -91 856 284 \nQ 544 659 544 1381 \nz\nM 1991 3584 \nL 1991 3584 \nz\n\" transform=\"scale(0.015625)\"/>\n       <path id=\"DejaVuSans-69\" d=\"M 603 3500 \nL 1178 3500 \nL 1178 0 \nL 603 0 \nL 603 3500 \nz\nM 603 4863 \nL 1178 4863 \nL 1178 4134 \nL 603 4134 \nL 603 4863 \nz\n\" transform=\"scale(0.015625)\"/>\n       <path id=\"DejaVuSans-6e\" d=\"M 3513 2113 \nL 3513 0 \nL 2938 0 \nL 2938 2094 \nQ 2938 2591 2744 2837 \nQ 2550 3084 2163 3084 \nQ 1697 3084 1428 2787 \nQ 1159 2491 1159 1978 \nL 1159 0 \nL 581 0 \nL 581 3500 \nL 1159 3500 \nL 1159 2956 \nQ 1366 3272 1645 3428 \nQ 1925 3584 2291 3584 \nQ 2894 3584 3203 3211 \nQ 3513 2838 3513 2113 \nz\n\" transform=\"scale(0.015625)\"/>\n      </defs>\n      <use xlink:href=\"#DejaVuSans-65\"/>\n      <use xlink:href=\"#DejaVuSans-64\" transform=\"translate(61.523438 0)\"/>\n      <use xlink:href=\"#DejaVuSans-75\" transform=\"translate(125 0)\"/>\n      <use xlink:href=\"#DejaVuSans-63\" transform=\"translate(188.378906 0)\"/>\n      <use xlink:href=\"#DejaVuSans-61\" transform=\"translate(243.359375 0)\"/>\n      <use xlink:href=\"#DejaVuSans-74\" transform=\"translate(304.638672 0)\"/>\n      <use xlink:href=\"#DejaVuSans-69\" transform=\"translate(343.847656 0)\"/>\n      <use xlink:href=\"#DejaVuSans-6f\" transform=\"translate(371.630859 0)\"/>\n      <use xlink:href=\"#DejaVuSans-6e\" transform=\"translate(432.8125 0)\"/>\n     </g>\n    </g>\n   </g>\n   <g id=\"matplotlib.axis_2\">\n    <g id=\"ytick_1\">\n     <g id=\"line2d_9\">\n      <defs>\n       <path id=\"me361a8a0d3\" d=\"M 0 0 \nL -3.5 0 \n\" style=\"stroke: #000000; stroke-width: 0.8\"/>\n      </defs>\n      <g>\n       <use xlink:href=\"#me361a8a0d3\" x=\"26.925\" y=\"286.04041\" style=\"stroke: #000000; stroke-width: 0.8\"/>\n      </g>\n     </g>\n     <g id=\"text_10\">\n      <!-- 34 -->\n      <g transform=\"translate(7.2 289.839629) scale(0.1 -0.1)\">\n       <defs>\n        <path id=\"DejaVuSans-33\" d=\"M 2597 2516 \nQ 3050 2419 3304 2112 \nQ 3559 1806 3559 1356 \nQ 3559 666 3084 287 \nQ 2609 -91 1734 -91 \nQ 1441 -91 1130 -33 \nQ 819 25 488 141 \nL 488 750 \nQ 750 597 1062 519 \nQ 1375 441 1716 441 \nQ 2309 441 2620 675 \nQ 2931 909 2931 1356 \nQ 2931 1769 2642 2001 \nQ 2353 2234 1838 2234 \nL 1294 2234 \nL 1294 2753 \nL 1863 2753 \nQ 2328 2753 2575 2939 \nQ 2822 3125 2822 3475 \nQ 2822 3834 2567 4026 \nQ 2313 4219 1838 4219 \nQ 1578 4219 1281 4162 \nQ 984 4106 628 3988 \nL 628 4550 \nQ 988 4650 1302 4700 \nQ 1616 4750 1894 4750 \nQ 2613 4750 3031 4423 \nQ 3450 4097 3450 3541 \nQ 3450 3153 3228 2886 \nQ 3006 2619 2597 2516 \nz\n\" transform=\"scale(0.015625)\"/>\n        <path id=\"DejaVuSans-34\" d=\"M 2419 4116 \nL 825 1625 \nL 2419 1625 \nL 2419 4116 \nz\nM 2253 4666 \nL 3047 4666 \nL 3047 1625 \nL 3713 1625 \nL 3713 1100 \nL 3047 1100 \nL 3047 0 \nL 2419 0 \nL 2419 1100 \nL 313 1100 \nL 313 1709 \nL 2253 4666 \nz\n\" transform=\"scale(0.015625)\"/>\n       </defs>\n       <use xlink:href=\"#DejaVuSans-33\"/>\n       <use xlink:href=\"#DejaVuSans-34\" transform=\"translate(63.623047 0)\"/>\n      </g>\n     </g>\n    </g>\n    <g id=\"ytick_2\">\n     <g id=\"line2d_10\">\n      <g>\n       <use xlink:href=\"#me361a8a0d3\" x=\"26.925\" y=\"249.053923\" style=\"stroke: #000000; stroke-width: 0.8\"/>\n      </g>\n     </g>\n     <g id=\"text_11\">\n      <!-- 36 -->\n      <g transform=\"translate(7.2 252.853141) scale(0.1 -0.1)\">\n       <use xlink:href=\"#DejaVuSans-33\"/>\n       <use xlink:href=\"#DejaVuSans-36\" transform=\"translate(63.623047 0)\"/>\n      </g>\n     </g>\n    </g>\n    <g id=\"ytick_3\">\n     <g id=\"line2d_11\">\n      <g>\n       <use xlink:href=\"#me361a8a0d3\" x=\"26.925\" y=\"212.067435\" style=\"stroke: #000000; stroke-width: 0.8\"/>\n      </g>\n     </g>\n     <g id=\"text_12\">\n      <!-- 38 -->\n      <g transform=\"translate(7.2 215.866654) scale(0.1 -0.1)\">\n       <defs>\n        <path id=\"DejaVuSans-38\" d=\"M 2034 2216 \nQ 1584 2216 1326 1975 \nQ 1069 1734 1069 1313 \nQ 1069 891 1326 650 \nQ 1584 409 2034 409 \nQ 2484 409 2743 651 \nQ 3003 894 3003 1313 \nQ 3003 1734 2745 1975 \nQ 2488 2216 2034 2216 \nz\nM 1403 2484 \nQ 997 2584 770 2862 \nQ 544 3141 544 3541 \nQ 544 4100 942 4425 \nQ 1341 4750 2034 4750 \nQ 2731 4750 3128 4425 \nQ 3525 4100 3525 3541 \nQ 3525 3141 3298 2862 \nQ 3072 2584 2669 2484 \nQ 3125 2378 3379 2068 \nQ 3634 1759 3634 1313 \nQ 3634 634 3220 271 \nQ 2806 -91 2034 -91 \nQ 1263 -91 848 271 \nQ 434 634 434 1313 \nQ 434 1759 690 2068 \nQ 947 2378 1403 2484 \nz\nM 1172 3481 \nQ 1172 3119 1398 2916 \nQ 1625 2713 2034 2713 \nQ 2441 2713 2670 2916 \nQ 2900 3119 2900 3481 \nQ 2900 3844 2670 4047 \nQ 2441 4250 2034 4250 \nQ 1625 4250 1398 4047 \nQ 1172 3844 1172 3481 \nz\n\" transform=\"scale(0.015625)\"/>\n       </defs>\n       <use xlink:href=\"#DejaVuSans-33\"/>\n       <use xlink:href=\"#DejaVuSans-38\" transform=\"translate(63.623047 0)\"/>\n      </g>\n     </g>\n    </g>\n    <g id=\"ytick_4\">\n     <g id=\"line2d_12\">\n      <g>\n       <use xlink:href=\"#me361a8a0d3\" x=\"26.925\" y=\"175.080948\" style=\"stroke: #000000; stroke-width: 0.8\"/>\n      </g>\n     </g>\n     <g id=\"text_13\">\n      <!-- 40 -->\n      <g transform=\"translate(7.2 178.880166) scale(0.1 -0.1)\">\n       <use xlink:href=\"#DejaVuSans-34\"/>\n       <use xlink:href=\"#DejaVuSans-30\" transform=\"translate(63.623047 0)\"/>\n      </g>\n     </g>\n    </g>\n    <g id=\"ytick_5\">\n     <g id=\"line2d_13\">\n      <g>\n       <use xlink:href=\"#me361a8a0d3\" x=\"26.925\" y=\"138.09446\" style=\"stroke: #000000; stroke-width: 0.8\"/>\n      </g>\n     </g>\n     <g id=\"text_14\">\n      <!-- 42 -->\n      <g transform=\"translate(7.2 141.893679) scale(0.1 -0.1)\">\n       <use xlink:href=\"#DejaVuSans-34\"/>\n       <use xlink:href=\"#DejaVuSans-32\" transform=\"translate(63.623047 0)\"/>\n      </g>\n     </g>\n    </g>\n    <g id=\"ytick_6\">\n     <g id=\"line2d_14\">\n      <g>\n       <use xlink:href=\"#me361a8a0d3\" x=\"26.925\" y=\"101.107972\" style=\"stroke: #000000; stroke-width: 0.8\"/>\n      </g>\n     </g>\n     <g id=\"text_15\">\n      <!-- 44 -->\n      <g transform=\"translate(7.2 104.907191) scale(0.1 -0.1)\">\n       <use xlink:href=\"#DejaVuSans-34\"/>\n       <use xlink:href=\"#DejaVuSans-34\" transform=\"translate(63.623047 0)\"/>\n      </g>\n     </g>\n    </g>\n    <g id=\"ytick_7\">\n     <g id=\"line2d_15\">\n      <g>\n       <use xlink:href=\"#me361a8a0d3\" x=\"26.925\" y=\"64.121485\" style=\"stroke: #000000; stroke-width: 0.8\"/>\n      </g>\n     </g>\n     <g id=\"text_16\">\n      <!-- 46 -->\n      <g transform=\"translate(7.2 67.920704) scale(0.1 -0.1)\">\n       <use xlink:href=\"#DejaVuSans-34\"/>\n       <use xlink:href=\"#DejaVuSans-36\" transform=\"translate(63.623047 0)\"/>\n      </g>\n     </g>\n    </g>\n    <g id=\"ytick_8\">\n     <g id=\"line2d_16\">\n      <g>\n       <use xlink:href=\"#me361a8a0d3\" x=\"26.925\" y=\"27.134997\" style=\"stroke: #000000; stroke-width: 0.8\"/>\n      </g>\n     </g>\n     <g id=\"text_17\">\n      <!-- 48 -->\n      <g transform=\"translate(7.2 30.934216) scale(0.1 -0.1)\">\n       <use xlink:href=\"#DejaVuSans-34\"/>\n       <use xlink:href=\"#DejaVuSans-38\" transform=\"translate(63.623047 0)\"/>\n      </g>\n     </g>\n    </g>\n   </g>\n   <g id=\"line2d_17\">\n    <path d=\"M 64.970455 230.813646 \nL 115.697727 286.918125 \nL 166.425 260.622756 \nL 217.152273 197.991606 \nL 267.879545 194.991159 \nL 318.606818 193.516097 \nL 369.334091 205.413781 \nL 420.061364 160.110776 \nL 470.788636 144.411415 \nL 521.515909 129.171614 \nL 572.243182 53.349326 \nL 622.970455 163.230931 \nL 673.697727 108.952115 \nL 724.425 238.581845 \nL 775.152273 34.918125 \nL 825.879545 196.056278 \n\" clip-path=\"url(#p1484189f69)\" style=\"fill: none; stroke: #1f77b4; stroke-width: 1.5; stroke-linecap: square\"/>\n   </g>\n   <g id=\"patch_3\">\n    <path d=\"M 26.925 299.518125 \nL 26.925 22.318125 \n\" style=\"fill: none; stroke: #000000; stroke-width: 0.8; stroke-linejoin: miter; stroke-linecap: square\"/>\n   </g>\n   <g id=\"patch_4\">\n    <path d=\"M 863.925 299.518125 \nL 863.925 22.318125 \n\" style=\"fill: none; stroke: #000000; stroke-width: 0.8; stroke-linejoin: miter; stroke-linecap: square\"/>\n   </g>\n   <g id=\"patch_5\">\n    <path d=\"M 26.925 299.518125 \nL 863.925 299.518125 \n\" style=\"fill: none; stroke: #000000; stroke-width: 0.8; stroke-linejoin: miter; stroke-linecap: square\"/>\n   </g>\n   <g id=\"patch_6\">\n    <path d=\"M 26.925 22.318125 \nL 863.925 22.318125 \n\" style=\"fill: none; stroke: #000000; stroke-width: 0.8; stroke-linejoin: miter; stroke-linecap: square\"/>\n   </g>\n   <g id=\"text_18\">\n    <!-- Average Hours Worked per Week by Education Level -->\n    <g transform=\"translate(287.90625 16.318125) scale(0.12 -0.12)\">\n     <defs>\n      <path id=\"DejaVuSans-67\" d=\"M 2906 1791 \nQ 2906 2416 2648 2759 \nQ 2391 3103 1925 3103 \nQ 1463 3103 1205 2759 \nQ 947 2416 947 1791 \nQ 947 1169 1205 825 \nQ 1463 481 1925 481 \nQ 2391 481 2648 825 \nQ 2906 1169 2906 1791 \nz\nM 3481 434 \nQ 3481 -459 3084 -895 \nQ 2688 -1331 1869 -1331 \nQ 1566 -1331 1297 -1286 \nQ 1028 -1241 775 -1147 \nL 775 -588 \nQ 1028 -725 1275 -790 \nQ 1522 -856 1778 -856 \nQ 2344 -856 2625 -561 \nQ 2906 -266 2906 331 \nL 2906 616 \nQ 2728 306 2450 153 \nQ 2172 0 1784 0 \nQ 1141 0 747 490 \nQ 353 981 353 1791 \nQ 353 2603 747 3093 \nQ 1141 3584 1784 3584 \nQ 2172 3584 2450 3431 \nQ 2728 3278 2906 2969 \nL 2906 3500 \nL 3481 3500 \nL 3481 434 \nz\n\" transform=\"scale(0.015625)\"/>\n      <path id=\"DejaVuSans-20\" transform=\"scale(0.015625)\"/>\n      <path id=\"DejaVuSans-48\" d=\"M 628 4666 \nL 1259 4666 \nL 1259 2753 \nL 3553 2753 \nL 3553 4666 \nL 4184 4666 \nL 4184 0 \nL 3553 0 \nL 3553 2222 \nL 1259 2222 \nL 1259 0 \nL 628 0 \nL 628 4666 \nz\n\" transform=\"scale(0.015625)\"/>\n      <path id=\"DejaVuSans-57\" d=\"M 213 4666 \nL 850 4666 \nL 1831 722 \nL 2809 4666 \nL 3519 4666 \nL 4500 722 \nL 5478 4666 \nL 6119 4666 \nL 4947 0 \nL 4153 0 \nL 3169 4050 \nL 2175 0 \nL 1381 0 \nL 213 4666 \nz\n\" transform=\"scale(0.015625)\"/>\n      <path id=\"DejaVuSans-6b\" d=\"M 581 4863 \nL 1159 4863 \nL 1159 1991 \nL 2875 3500 \nL 3609 3500 \nL 1753 1863 \nL 3688 0 \nL 2938 0 \nL 1159 1709 \nL 1159 0 \nL 581 0 \nL 581 4863 \nz\n\" transform=\"scale(0.015625)\"/>\n      <path id=\"DejaVuSans-70\" d=\"M 1159 525 \nL 1159 -1331 \nL 581 -1331 \nL 581 3500 \nL 1159 3500 \nL 1159 2969 \nQ 1341 3281 1617 3432 \nQ 1894 3584 2278 3584 \nQ 2916 3584 3314 3078 \nQ 3713 2572 3713 1747 \nQ 3713 922 3314 415 \nQ 2916 -91 2278 -91 \nQ 1894 -91 1617 61 \nQ 1341 213 1159 525 \nz\nM 3116 1747 \nQ 3116 2381 2855 2742 \nQ 2594 3103 2138 3103 \nQ 1681 3103 1420 2742 \nQ 1159 2381 1159 1747 \nQ 1159 1113 1420 752 \nQ 1681 391 2138 391 \nQ 2594 391 2855 752 \nQ 3116 1113 3116 1747 \nz\n\" transform=\"scale(0.015625)\"/>\n      <path id=\"DejaVuSans-62\" d=\"M 3116 1747 \nQ 3116 2381 2855 2742 \nQ 2594 3103 2138 3103 \nQ 1681 3103 1420 2742 \nQ 1159 2381 1159 1747 \nQ 1159 1113 1420 752 \nQ 1681 391 2138 391 \nQ 2594 391 2855 752 \nQ 3116 1113 3116 1747 \nz\nM 1159 2969 \nQ 1341 3281 1617 3432 \nQ 1894 3584 2278 3584 \nQ 2916 3584 3314 3078 \nQ 3713 2572 3713 1747 \nQ 3713 922 3314 415 \nQ 2916 -91 2278 -91 \nQ 1894 -91 1617 61 \nQ 1341 213 1159 525 \nL 1159 0 \nL 581 0 \nL 581 4863 \nL 1159 4863 \nL 1159 2969 \nz\n\" transform=\"scale(0.015625)\"/>\n      <path id=\"DejaVuSans-79\" d=\"M 2059 -325 \nQ 1816 -950 1584 -1140 \nQ 1353 -1331 966 -1331 \nL 506 -1331 \nL 506 -850 \nL 844 -850 \nQ 1081 -850 1212 -737 \nQ 1344 -625 1503 -206 \nL 1606 56 \nL 191 3500 \nL 800 3500 \nL 1894 763 \nL 2988 3500 \nL 3597 3500 \nL 2059 -325 \nz\n\" transform=\"scale(0.015625)\"/>\n      <path id=\"DejaVuSans-45\" d=\"M 628 4666 \nL 3578 4666 \nL 3578 4134 \nL 1259 4134 \nL 1259 2753 \nL 3481 2753 \nL 3481 2222 \nL 1259 2222 \nL 1259 531 \nL 3634 531 \nL 3634 0 \nL 628 0 \nL 628 4666 \nz\n\" transform=\"scale(0.015625)\"/>\n      <path id=\"DejaVuSans-4c\" d=\"M 628 4666 \nL 1259 4666 \nL 1259 531 \nL 3531 531 \nL 3531 0 \nL 628 0 \nL 628 4666 \nz\n\" transform=\"scale(0.015625)\"/>\n     </defs>\n     <use xlink:href=\"#DejaVuSans-41\"/>\n     <use xlink:href=\"#DejaVuSans-76\" transform=\"translate(62.533203 0)\"/>\n     <use xlink:href=\"#DejaVuSans-65\" transform=\"translate(121.712891 0)\"/>\n     <use xlink:href=\"#DejaVuSans-72\" transform=\"translate(183.236328 0)\"/>\n     <use xlink:href=\"#DejaVuSans-61\" transform=\"translate(224.349609 0)\"/>\n     <use xlink:href=\"#DejaVuSans-67\" transform=\"translate(285.628906 0)\"/>\n     <use xlink:href=\"#DejaVuSans-65\" transform=\"translate(349.105469 0)\"/>\n     <use xlink:href=\"#DejaVuSans-20\" transform=\"translate(410.628906 0)\"/>\n     <use xlink:href=\"#DejaVuSans-48\" transform=\"translate(442.416016 0)\"/>\n     <use xlink:href=\"#DejaVuSans-6f\" transform=\"translate(517.611328 0)\"/>\n     <use xlink:href=\"#DejaVuSans-75\" transform=\"translate(578.792969 0)\"/>\n     <use xlink:href=\"#DejaVuSans-72\" transform=\"translate(642.171875 0)\"/>\n     <use xlink:href=\"#DejaVuSans-73\" transform=\"translate(683.285156 0)\"/>\n     <use xlink:href=\"#DejaVuSans-20\" transform=\"translate(735.384766 0)\"/>\n     <use xlink:href=\"#DejaVuSans-57\" transform=\"translate(767.171875 0)\"/>\n     <use xlink:href=\"#DejaVuSans-6f\" transform=\"translate(860.173828 0)\"/>\n     <use xlink:href=\"#DejaVuSans-72\" transform=\"translate(921.355469 0)\"/>\n     <use xlink:href=\"#DejaVuSans-6b\" transform=\"translate(962.46875 0)\"/>\n     <use xlink:href=\"#DejaVuSans-65\" transform=\"translate(1016.753906 0)\"/>\n     <use xlink:href=\"#DejaVuSans-64\" transform=\"translate(1078.277344 0)\"/>\n     <use xlink:href=\"#DejaVuSans-20\" transform=\"translate(1141.753906 0)\"/>\n     <use xlink:href=\"#DejaVuSans-70\" transform=\"translate(1173.541016 0)\"/>\n     <use xlink:href=\"#DejaVuSans-65\" transform=\"translate(1237.017578 0)\"/>\n     <use xlink:href=\"#DejaVuSans-72\" transform=\"translate(1298.541016 0)\"/>\n     <use xlink:href=\"#DejaVuSans-20\" transform=\"translate(1339.654297 0)\"/>\n     <use xlink:href=\"#DejaVuSans-57\" transform=\"translate(1371.441406 0)\"/>\n     <use xlink:href=\"#DejaVuSans-65\" transform=\"translate(1464.443359 0)\"/>\n     <use xlink:href=\"#DejaVuSans-65\" transform=\"translate(1525.966797 0)\"/>\n     <use xlink:href=\"#DejaVuSans-6b\" transform=\"translate(1587.490234 0)\"/>\n     <use xlink:href=\"#DejaVuSans-20\" transform=\"translate(1645.400391 0)\"/>\n     <use xlink:href=\"#DejaVuSans-62\" transform=\"translate(1677.1875 0)\"/>\n     <use xlink:href=\"#DejaVuSans-79\" transform=\"translate(1740.664062 0)\"/>\n     <use xlink:href=\"#DejaVuSans-20\" transform=\"translate(1799.84375 0)\"/>\n     <use xlink:href=\"#DejaVuSans-45\" transform=\"translate(1831.630859 0)\"/>\n     <use xlink:href=\"#DejaVuSans-64\" transform=\"translate(1894.814453 0)\"/>\n     <use xlink:href=\"#DejaVuSans-75\" transform=\"translate(1958.291016 0)\"/>\n     <use xlink:href=\"#DejaVuSans-63\" transform=\"translate(2021.669922 0)\"/>\n     <use xlink:href=\"#DejaVuSans-61\" transform=\"translate(2076.650391 0)\"/>\n     <use xlink:href=\"#DejaVuSans-74\" transform=\"translate(2137.929688 0)\"/>\n     <use xlink:href=\"#DejaVuSans-69\" transform=\"translate(2177.138672 0)\"/>\n     <use xlink:href=\"#DejaVuSans-6f\" transform=\"translate(2204.921875 0)\"/>\n     <use xlink:href=\"#DejaVuSans-6e\" transform=\"translate(2266.103516 0)\"/>\n     <use xlink:href=\"#DejaVuSans-20\" transform=\"translate(2329.482422 0)\"/>\n     <use xlink:href=\"#DejaVuSans-4c\" transform=\"translate(2361.269531 0)\"/>\n     <use xlink:href=\"#DejaVuSans-65\" transform=\"translate(2415.232422 0)\"/>\n     <use xlink:href=\"#DejaVuSans-76\" transform=\"translate(2476.755859 0)\"/>\n     <use xlink:href=\"#DejaVuSans-65\" transform=\"translate(2535.935547 0)\"/>\n     <use xlink:href=\"#DejaVuSans-6c\" transform=\"translate(2597.458984 0)\"/>\n    </g>\n   </g>\n  </g>\n </g>\n <defs>\n  <clipPath id=\"p1484189f69\">\n   <rect x=\"26.925\" y=\"22.318125\" width=\"837\" height=\"277.2\"/>\n  </clipPath>\n </defs>\n</svg>\n"
          },
          "metadata": {}
        }
      ]
    },
    {
      "cell_type": "code",
      "source": [
        "data['income'].value_counts().plot(kind='pie', autopct='%.1f%%', title='Distribution of Income')\n",
        "plt.ylabel('')"
      ],
      "metadata": {
        "colab": {
          "base_uri": "https://localhost:8080/",
          "height": 448
        },
        "id": "pA5d8YhxkyAh",
        "outputId": "c56f72cc-593f-4644-cc20-1ba6767323bc"
      },
      "execution_count": 34,
      "outputs": [
        {
          "output_type": "execute_result",
          "data": {
            "text/plain": [
              "Text(0, 0.5, '')"
            ]
          },
          "metadata": {},
          "execution_count": 34
        },
        {
          "output_type": "display_data",
          "data": {
            "text/plain": [
              "<Figure size 1500x500 with 1 Axes>"
            ],
            "image/svg+xml": "<?xml version=\"1.0\" encoding=\"utf-8\" standalone=\"no\"?>\n<!DOCTYPE svg PUBLIC \"-//W3C//DTD SVG 1.1//EN\"\n  \"http://www.w3.org/Graphics/SVG/1.1/DTD/svg11.dtd\">\n<svg xmlns:xlink=\"http://www.w3.org/1999/xlink\" width=\"302.095572pt\" height=\"306.718125pt\" viewBox=\"0 0 302.095572 306.718125\" xmlns=\"http://www.w3.org/2000/svg\" version=\"1.1\">\n <metadata>\n  <rdf:RDF xmlns:dc=\"http://purl.org/dc/elements/1.1/\" xmlns:cc=\"http://creativecommons.org/ns#\" xmlns:rdf=\"http://www.w3.org/1999/02/22-rdf-syntax-ns#\">\n   <cc:Work>\n    <dc:type rdf:resource=\"http://purl.org/dc/dcmitype/StillImage\"/>\n    <dc:date>2025-07-09T17:25:07.573075</dc:date>\n    <dc:format>image/svg+xml</dc:format>\n    <dc:creator>\n     <cc:Agent>\n      <dc:title>Matplotlib v3.10.0, https://matplotlib.org/</dc:title>\n     </cc:Agent>\n    </dc:creator>\n   </cc:Work>\n  </rdf:RDF>\n </metadata>\n <defs>\n  <style type=\"text/css\">*{stroke-linejoin: round; stroke-linecap: butt}</style>\n </defs>\n <g id=\"figure_1\">\n  <g id=\"patch_1\">\n   <path d=\"M 0 306.718125 \nL 302.095572 306.718125 \nL 302.095572 0 \nL 0 0 \nz\n\" style=\"fill: #ffffff\"/>\n  </g>\n  <g id=\"axes_1\">\n   <g id=\"patch_2\">\n    <path d=\"M 256.68 160.918125 \nC 256.68 146.178069 253.740752 131.584905 248.034566 117.994148 \nC 242.328381 104.40339 233.968989 92.085915 223.446453 81.763828 \nC 212.923917 71.441741 200.447963 63.320769 186.749984 57.877001 \nC 173.052005 52.433233 158.405015 49.775166 143.667685 50.05863 \nC 128.930355 50.342094 114.396414 53.561437 100.917905 59.527929 \nC 87.439395 65.49442 75.284956 74.089142 65.167135 84.808234 \nC 55.049314 95.527326 47.169767 108.157147 41.990429 121.957281 \nC 36.811091 135.757415 34.43519 150.452812 35.002012 165.181966 \nL 145.8 160.918125 \nz\n\" style=\"fill: #1f77b4\"/>\n   </g>\n   <g id=\"patch_3\">\n    <path d=\"M 35.002011 165.181952 \nC 35.572291 180.001068 39.109884 194.55627 45.404895 207.98401 \nC 51.699906 221.411754 60.625344 233.441118 71.651645 243.358382 \nC 82.677946 253.275647 95.582667 260.880746 109.600135 265.722439 \nC 123.617604 270.564132 138.465013 272.544753 153.261482 271.546786 \nL 145.8 160.918125 \nz\n\" style=\"fill: #ff7f0e\"/>\n   </g>\n   <g id=\"patch_4\">\n    <path d=\"M 153.261482 271.546786 \nC 171.957836 270.285789 190.03291 264.305583 205.792042 254.166872 \nC 221.551174 244.028161 234.485932 230.058003 243.383526 213.566294 \nL 145.8 160.918125 \nz\n\" style=\"fill: #2ca02c\"/>\n   </g>\n   <g id=\"patch_5\">\n    <path d=\"M 243.383526 213.566294 \nC 247.730433 205.509294 251.062804 196.944891 253.304499 188.068768 \nC 255.546193 179.192643 256.68 170.07293 256.68 160.918106 \nL 145.8 160.918125 \nz\n\" style=\"fill: #d62728\"/>\n   </g>\n   <g id=\"matplotlib.axis_1\"/>\n   <g id=\"matplotlib.axis_2\"/>\n   <g id=\"text_1\">\n    <!-- &lt;=50K -->\n    <g transform=\"translate(107.412259 41.732056) scale(0.1 -0.1)\">\n     <defs>\n      <path id=\"DejaVuSans-3c\" d=\"M 4684 3150 \nL 1459 2003 \nL 4684 863 \nL 4684 294 \nL 678 1747 \nL 678 2266 \nL 4684 3719 \nL 4684 3150 \nz\n\" transform=\"scale(0.015625)\"/>\n      <path id=\"DejaVuSans-3d\" d=\"M 678 2906 \nL 4684 2906 \nL 4684 2381 \nL 678 2381 \nL 678 2906 \nz\nM 678 1631 \nL 4684 1631 \nL 4684 1100 \nL 678 1100 \nL 678 1631 \nz\n\" transform=\"scale(0.015625)\"/>\n      <path id=\"DejaVuSans-35\" d=\"M 691 4666 \nL 3169 4666 \nL 3169 4134 \nL 1269 4134 \nL 1269 2991 \nQ 1406 3038 1543 3061 \nQ 1681 3084 1819 3084 \nQ 2600 3084 3056 2656 \nQ 3513 2228 3513 1497 \nQ 3513 744 3044 326 \nQ 2575 -91 1722 -91 \nQ 1428 -91 1123 -41 \nQ 819 9 494 109 \nL 494 744 \nQ 775 591 1075 516 \nQ 1375 441 1709 441 \nQ 2250 441 2565 725 \nQ 2881 1009 2881 1497 \nQ 2881 1984 2565 2268 \nQ 2250 2553 1709 2553 \nQ 1456 2553 1204 2497 \nQ 953 2441 691 2322 \nL 691 4666 \nz\n\" transform=\"scale(0.015625)\"/>\n      <path id=\"DejaVuSans-30\" d=\"M 2034 4250 \nQ 1547 4250 1301 3770 \nQ 1056 3291 1056 2328 \nQ 1056 1369 1301 889 \nQ 1547 409 2034 409 \nQ 2525 409 2770 889 \nQ 3016 1369 3016 2328 \nQ 3016 3291 2770 3770 \nQ 2525 4250 2034 4250 \nz\nM 2034 4750 \nQ 2819 4750 3233 4129 \nQ 3647 3509 3647 2328 \nQ 3647 1150 3233 529 \nQ 2819 -91 2034 -91 \nQ 1250 -91 836 529 \nQ 422 1150 422 2328 \nQ 422 3509 836 4129 \nQ 1250 4750 2034 4750 \nz\n\" transform=\"scale(0.015625)\"/>\n      <path id=\"DejaVuSans-4b\" d=\"M 628 4666 \nL 1259 4666 \nL 1259 2694 \nL 3353 4666 \nL 4166 4666 \nL 1850 2491 \nL 4331 0 \nL 3500 0 \nL 1259 2247 \nL 1259 0 \nL 628 0 \nL 628 4666 \nz\n\" transform=\"scale(0.015625)\"/>\n     </defs>\n     <use xlink:href=\"#DejaVuSans-3c\"/>\n     <use xlink:href=\"#DejaVuSans-3d\" transform=\"translate(83.789062 0)\"/>\n     <use xlink:href=\"#DejaVuSans-35\" transform=\"translate(167.578125 0)\"/>\n     <use xlink:href=\"#DejaVuSans-30\" transform=\"translate(231.201172 0)\"/>\n     <use xlink:href=\"#DejaVuSans-4b\" transform=\"translate(294.824219 0)\"/>\n    </g>\n   </g>\n   <g id=\"text_2\">\n    <!-- 50.6% -->\n    <g transform=\"translate(128.637013 97.161803) scale(0.1 -0.1)\">\n     <defs>\n      <path id=\"DejaVuSans-2e\" d=\"M 684 794 \nL 1344 794 \nL 1344 0 \nL 684 0 \nL 684 794 \nz\n\" transform=\"scale(0.015625)\"/>\n      <path id=\"DejaVuSans-36\" d=\"M 2113 2584 \nQ 1688 2584 1439 2293 \nQ 1191 2003 1191 1497 \nQ 1191 994 1439 701 \nQ 1688 409 2113 409 \nQ 2538 409 2786 701 \nQ 3034 994 3034 1497 \nQ 3034 2003 2786 2293 \nQ 2538 2584 2113 2584 \nz\nM 3366 4563 \nL 3366 3988 \nQ 3128 4100 2886 4159 \nQ 2644 4219 2406 4219 \nQ 1781 4219 1451 3797 \nQ 1122 3375 1075 2522 \nQ 1259 2794 1537 2939 \nQ 1816 3084 2150 3084 \nQ 2853 3084 3261 2657 \nQ 3669 2231 3669 1497 \nQ 3669 778 3244 343 \nQ 2819 -91 2113 -91 \nQ 1303 -91 875 529 \nQ 447 1150 447 2328 \nQ 447 3434 972 4092 \nQ 1497 4750 2381 4750 \nQ 2619 4750 2861 4703 \nQ 3103 4656 3366 4563 \nz\n\" transform=\"scale(0.015625)\"/>\n      <path id=\"DejaVuSans-25\" d=\"M 4653 2053 \nQ 4381 2053 4226 1822 \nQ 4072 1591 4072 1178 \nQ 4072 772 4226 539 \nQ 4381 306 4653 306 \nQ 4919 306 5073 539 \nQ 5228 772 5228 1178 \nQ 5228 1588 5073 1820 \nQ 4919 2053 4653 2053 \nz\nM 4653 2450 \nQ 5147 2450 5437 2106 \nQ 5728 1763 5728 1178 \nQ 5728 594 5436 251 \nQ 5144 -91 4653 -91 \nQ 4153 -91 3862 251 \nQ 3572 594 3572 1178 \nQ 3572 1766 3864 2108 \nQ 4156 2450 4653 2450 \nz\nM 1428 4353 \nQ 1159 4353 1004 4120 \nQ 850 3888 850 3481 \nQ 850 3069 1003 2837 \nQ 1156 2606 1428 2606 \nQ 1700 2606 1854 2837 \nQ 2009 3069 2009 3481 \nQ 2009 3884 1853 4118 \nQ 1697 4353 1428 4353 \nz\nM 4250 4750 \nL 4750 4750 \nL 1831 -91 \nL 1331 -91 \nL 4250 4750 \nz\nM 1428 4750 \nQ 1922 4750 2215 4408 \nQ 2509 4066 2509 3481 \nQ 2509 2891 2217 2550 \nQ 1925 2209 1428 2209 \nQ 931 2209 642 2551 \nQ 353 2894 353 3481 \nQ 353 4063 643 4406 \nQ 934 4750 1428 4750 \nz\n\" transform=\"scale(0.015625)\"/>\n     </defs>\n     <use xlink:href=\"#DejaVuSans-35\"/>\n     <use xlink:href=\"#DejaVuSans-30\" transform=\"translate(63.623047 0)\"/>\n     <use xlink:href=\"#DejaVuSans-2e\" transform=\"translate(127.246094 0)\"/>\n     <use xlink:href=\"#DejaVuSans-36\" transform=\"translate(159.033203 0)\"/>\n     <use xlink:href=\"#DejaVuSans-25\" transform=\"translate(222.65625 0)\"/>\n    </g>\n   </g>\n   <g id=\"text_3\">\n    <!-- &lt;=50K. -->\n    <g transform=\"translate(25.016546 254.361826) scale(0.1 -0.1)\">\n     <use xlink:href=\"#DejaVuSans-3c\"/>\n     <use xlink:href=\"#DejaVuSans-3d\" transform=\"translate(83.789062 0)\"/>\n     <use xlink:href=\"#DejaVuSans-35\" transform=\"translate(167.578125 0)\"/>\n     <use xlink:href=\"#DejaVuSans-30\" transform=\"translate(231.201172 0)\"/>\n     <use xlink:href=\"#DejaVuSans-4b\" transform=\"translate(294.824219 0)\"/>\n     <use xlink:href=\"#DejaVuSans-2e\" transform=\"translate(360.400391 0)\"/>\n    </g>\n   </g>\n   <g id=\"text_4\">\n    <!-- 25.5% -->\n    <g transform=\"translate(85.42742 213.141678) scale(0.1 -0.1)\">\n     <defs>\n      <path id=\"DejaVuSans-32\" d=\"M 1228 531 \nL 3431 531 \nL 3431 0 \nL 469 0 \nL 469 531 \nQ 828 903 1448 1529 \nQ 2069 2156 2228 2338 \nQ 2531 2678 2651 2914 \nQ 2772 3150 2772 3378 \nQ 2772 3750 2511 3984 \nQ 2250 4219 1831 4219 \nQ 1534 4219 1204 4116 \nQ 875 4013 500 3803 \nL 500 4441 \nQ 881 4594 1212 4672 \nQ 1544 4750 1819 4750 \nQ 2544 4750 2975 4387 \nQ 3406 4025 3406 3419 \nQ 3406 3131 3298 2873 \nQ 3191 2616 2906 2266 \nQ 2828 2175 2409 1742 \nQ 1991 1309 1228 531 \nz\n\" transform=\"scale(0.015625)\"/>\n     </defs>\n     <use xlink:href=\"#DejaVuSans-32\"/>\n     <use xlink:href=\"#DejaVuSans-35\" transform=\"translate(63.623047 0)\"/>\n     <use xlink:href=\"#DejaVuSans-2e\" transform=\"translate(127.246094 0)\"/>\n     <use xlink:href=\"#DejaVuSans-35\" transform=\"translate(159.033203 0)\"/>\n     <use xlink:href=\"#DejaVuSans-25\" transform=\"translate(222.65625 0)\"/>\n    </g>\n   </g>\n   <g id=\"text_5\">\n    <!-- &gt;50K -->\n    <g transform=\"translate(211.791295 266.251093) scale(0.1 -0.1)\">\n     <defs>\n      <path id=\"DejaVuSans-3e\" d=\"M 678 3150 \nL 678 3719 \nL 4684 2266 \nL 4684 1747 \nL 678 294 \nL 678 863 \nL 3897 2003 \nL 678 3150 \nz\n\" transform=\"scale(0.015625)\"/>\n     </defs>\n     <use xlink:href=\"#DejaVuSans-3e\"/>\n     <use xlink:href=\"#DejaVuSans-35\" transform=\"translate(83.789062 0)\"/>\n     <use xlink:href=\"#DejaVuSans-30\" transform=\"translate(147.412109 0)\"/>\n     <use xlink:href=\"#DejaVuSans-4b\" transform=\"translate(211.035156 0)\"/>\n    </g>\n   </g>\n   <g id=\"text_6\">\n    <!-- 16.1% -->\n    <g transform=\"translate(165.911658 219.626733) scale(0.1 -0.1)\">\n     <defs>\n      <path id=\"DejaVuSans-31\" d=\"M 794 531 \nL 1825 531 \nL 1825 4091 \nL 703 3866 \nL 703 4441 \nL 1819 4666 \nL 2450 4666 \nL 2450 531 \nL 3481 531 \nL 3481 0 \nL 794 0 \nL 794 531 \nz\n\" transform=\"scale(0.015625)\"/>\n     </defs>\n     <use xlink:href=\"#DejaVuSans-31\"/>\n     <use xlink:href=\"#DejaVuSans-36\" transform=\"translate(63.623047 0)\"/>\n     <use xlink:href=\"#DejaVuSans-2e\" transform=\"translate(127.246094 0)\"/>\n     <use xlink:href=\"#DejaVuSans-31\" transform=\"translate(159.033203 0)\"/>\n     <use xlink:href=\"#DejaVuSans-25\" transform=\"translate(222.65625 0)\"/>\n    </g>\n   </g>\n   <g id=\"text_7\">\n    <!-- &gt;50K. -->\n    <g transform=\"translate(264.054947 193.543207) scale(0.1 -0.1)\">\n     <use xlink:href=\"#DejaVuSans-3e\"/>\n     <use xlink:href=\"#DejaVuSans-35\" transform=\"translate(83.789062 0)\"/>\n     <use xlink:href=\"#DejaVuSans-30\" transform=\"translate(147.412109 0)\"/>\n     <use xlink:href=\"#DejaVuSans-4b\" transform=\"translate(211.035156 0)\"/>\n     <use xlink:href=\"#DejaVuSans-2e\" transform=\"translate(276.611328 0)\"/>\n    </g>\n   </g>\n   <g id=\"text_8\">\n    <!-- 7.9% -->\n    <g transform=\"translate(197.600355 179.967886) scale(0.1 -0.1)\">\n     <defs>\n      <path id=\"DejaVuSans-37\" d=\"M 525 4666 \nL 3525 4666 \nL 3525 4397 \nL 1831 0 \nL 1172 0 \nL 2766 4134 \nL 525 4134 \nL 525 4666 \nz\n\" transform=\"scale(0.015625)\"/>\n      <path id=\"DejaVuSans-39\" d=\"M 703 97 \nL 703 672 \nQ 941 559 1184 500 \nQ 1428 441 1663 441 \nQ 2288 441 2617 861 \nQ 2947 1281 2994 2138 \nQ 2813 1869 2534 1725 \nQ 2256 1581 1919 1581 \nQ 1219 1581 811 2004 \nQ 403 2428 403 3163 \nQ 403 3881 828 4315 \nQ 1253 4750 1959 4750 \nQ 2769 4750 3195 4129 \nQ 3622 3509 3622 2328 \nQ 3622 1225 3098 567 \nQ 2575 -91 1691 -91 \nQ 1453 -91 1209 -44 \nQ 966 3 703 97 \nz\nM 1959 2075 \nQ 2384 2075 2632 2365 \nQ 2881 2656 2881 3163 \nQ 2881 3666 2632 3958 \nQ 2384 4250 1959 4250 \nQ 1534 4250 1286 3958 \nQ 1038 3666 1038 3163 \nQ 1038 2656 1286 2365 \nQ 1534 2075 1959 2075 \nz\n\" transform=\"scale(0.015625)\"/>\n     </defs>\n     <use xlink:href=\"#DejaVuSans-37\"/>\n     <use xlink:href=\"#DejaVuSans-2e\" transform=\"translate(63.623047 0)\"/>\n     <use xlink:href=\"#DejaVuSans-39\" transform=\"translate(95.410156 0)\"/>\n     <use xlink:href=\"#DejaVuSans-25\" transform=\"translate(159.033203 0)\"/>\n    </g>\n   </g>\n   <g id=\"text_9\">\n    <!-- Distribution of Income -->\n    <g transform=\"translate(79.12125 16.318125) scale(0.12 -0.12)\">\n     <defs>\n      <path id=\"DejaVuSans-44\" d=\"M 1259 4147 \nL 1259 519 \nL 2022 519 \nQ 2988 519 3436 956 \nQ 3884 1394 3884 2338 \nQ 3884 3275 3436 3711 \nQ 2988 4147 2022 4147 \nL 1259 4147 \nz\nM 628 4666 \nL 1925 4666 \nQ 3281 4666 3915 4102 \nQ 4550 3538 4550 2338 \nQ 4550 1131 3912 565 \nQ 3275 0 1925 0 \nL 628 0 \nL 628 4666 \nz\n\" transform=\"scale(0.015625)\"/>\n      <path id=\"DejaVuSans-69\" d=\"M 603 3500 \nL 1178 3500 \nL 1178 0 \nL 603 0 \nL 603 3500 \nz\nM 603 4863 \nL 1178 4863 \nL 1178 4134 \nL 603 4134 \nL 603 4863 \nz\n\" transform=\"scale(0.015625)\"/>\n      <path id=\"DejaVuSans-73\" d=\"M 2834 3397 \nL 2834 2853 \nQ 2591 2978 2328 3040 \nQ 2066 3103 1784 3103 \nQ 1356 3103 1142 2972 \nQ 928 2841 928 2578 \nQ 928 2378 1081 2264 \nQ 1234 2150 1697 2047 \nL 1894 2003 \nQ 2506 1872 2764 1633 \nQ 3022 1394 3022 966 \nQ 3022 478 2636 193 \nQ 2250 -91 1575 -91 \nQ 1294 -91 989 -36 \nQ 684 19 347 128 \nL 347 722 \nQ 666 556 975 473 \nQ 1284 391 1588 391 \nQ 1994 391 2212 530 \nQ 2431 669 2431 922 \nQ 2431 1156 2273 1281 \nQ 2116 1406 1581 1522 \nL 1381 1569 \nQ 847 1681 609 1914 \nQ 372 2147 372 2553 \nQ 372 3047 722 3315 \nQ 1072 3584 1716 3584 \nQ 2034 3584 2315 3537 \nQ 2597 3491 2834 3397 \nz\n\" transform=\"scale(0.015625)\"/>\n      <path id=\"DejaVuSans-74\" d=\"M 1172 4494 \nL 1172 3500 \nL 2356 3500 \nL 2356 3053 \nL 1172 3053 \nL 1172 1153 \nQ 1172 725 1289 603 \nQ 1406 481 1766 481 \nL 2356 481 \nL 2356 0 \nL 1766 0 \nQ 1100 0 847 248 \nQ 594 497 594 1153 \nL 594 3053 \nL 172 3053 \nL 172 3500 \nL 594 3500 \nL 594 4494 \nL 1172 4494 \nz\n\" transform=\"scale(0.015625)\"/>\n      <path id=\"DejaVuSans-72\" d=\"M 2631 2963 \nQ 2534 3019 2420 3045 \nQ 2306 3072 2169 3072 \nQ 1681 3072 1420 2755 \nQ 1159 2438 1159 1844 \nL 1159 0 \nL 581 0 \nL 581 3500 \nL 1159 3500 \nL 1159 2956 \nQ 1341 3275 1631 3429 \nQ 1922 3584 2338 3584 \nQ 2397 3584 2469 3576 \nQ 2541 3569 2628 3553 \nL 2631 2963 \nz\n\" transform=\"scale(0.015625)\"/>\n      <path id=\"DejaVuSans-62\" d=\"M 3116 1747 \nQ 3116 2381 2855 2742 \nQ 2594 3103 2138 3103 \nQ 1681 3103 1420 2742 \nQ 1159 2381 1159 1747 \nQ 1159 1113 1420 752 \nQ 1681 391 2138 391 \nQ 2594 391 2855 752 \nQ 3116 1113 3116 1747 \nz\nM 1159 2969 \nQ 1341 3281 1617 3432 \nQ 1894 3584 2278 3584 \nQ 2916 3584 3314 3078 \nQ 3713 2572 3713 1747 \nQ 3713 922 3314 415 \nQ 2916 -91 2278 -91 \nQ 1894 -91 1617 61 \nQ 1341 213 1159 525 \nL 1159 0 \nL 581 0 \nL 581 4863 \nL 1159 4863 \nL 1159 2969 \nz\n\" transform=\"scale(0.015625)\"/>\n      <path id=\"DejaVuSans-75\" d=\"M 544 1381 \nL 544 3500 \nL 1119 3500 \nL 1119 1403 \nQ 1119 906 1312 657 \nQ 1506 409 1894 409 \nQ 2359 409 2629 706 \nQ 2900 1003 2900 1516 \nL 2900 3500 \nL 3475 3500 \nL 3475 0 \nL 2900 0 \nL 2900 538 \nQ 2691 219 2414 64 \nQ 2138 -91 1772 -91 \nQ 1169 -91 856 284 \nQ 544 659 544 1381 \nz\nM 1991 3584 \nL 1991 3584 \nz\n\" transform=\"scale(0.015625)\"/>\n      <path id=\"DejaVuSans-6f\" d=\"M 1959 3097 \nQ 1497 3097 1228 2736 \nQ 959 2375 959 1747 \nQ 959 1119 1226 758 \nQ 1494 397 1959 397 \nQ 2419 397 2687 759 \nQ 2956 1122 2956 1747 \nQ 2956 2369 2687 2733 \nQ 2419 3097 1959 3097 \nz\nM 1959 3584 \nQ 2709 3584 3137 3096 \nQ 3566 2609 3566 1747 \nQ 3566 888 3137 398 \nQ 2709 -91 1959 -91 \nQ 1206 -91 779 398 \nQ 353 888 353 1747 \nQ 353 2609 779 3096 \nQ 1206 3584 1959 3584 \nz\n\" transform=\"scale(0.015625)\"/>\n      <path id=\"DejaVuSans-6e\" d=\"M 3513 2113 \nL 3513 0 \nL 2938 0 \nL 2938 2094 \nQ 2938 2591 2744 2837 \nQ 2550 3084 2163 3084 \nQ 1697 3084 1428 2787 \nQ 1159 2491 1159 1978 \nL 1159 0 \nL 581 0 \nL 581 3500 \nL 1159 3500 \nL 1159 2956 \nQ 1366 3272 1645 3428 \nQ 1925 3584 2291 3584 \nQ 2894 3584 3203 3211 \nQ 3513 2838 3513 2113 \nz\n\" transform=\"scale(0.015625)\"/>\n      <path id=\"DejaVuSans-20\" transform=\"scale(0.015625)\"/>\n      <path id=\"DejaVuSans-66\" d=\"M 2375 4863 \nL 2375 4384 \nL 1825 4384 \nQ 1516 4384 1395 4259 \nQ 1275 4134 1275 3809 \nL 1275 3500 \nL 2222 3500 \nL 2222 3053 \nL 1275 3053 \nL 1275 0 \nL 697 0 \nL 697 3053 \nL 147 3053 \nL 147 3500 \nL 697 3500 \nL 697 3744 \nQ 697 4328 969 4595 \nQ 1241 4863 1831 4863 \nL 2375 4863 \nz\n\" transform=\"scale(0.015625)\"/>\n      <path id=\"DejaVuSans-49\" d=\"M 628 4666 \nL 1259 4666 \nL 1259 0 \nL 628 0 \nL 628 4666 \nz\n\" transform=\"scale(0.015625)\"/>\n      <path id=\"DejaVuSans-63\" d=\"M 3122 3366 \nL 3122 2828 \nQ 2878 2963 2633 3030 \nQ 2388 3097 2138 3097 \nQ 1578 3097 1268 2742 \nQ 959 2388 959 1747 \nQ 959 1106 1268 751 \nQ 1578 397 2138 397 \nQ 2388 397 2633 464 \nQ 2878 531 3122 666 \nL 3122 134 \nQ 2881 22 2623 -34 \nQ 2366 -91 2075 -91 \nQ 1284 -91 818 406 \nQ 353 903 353 1747 \nQ 353 2603 823 3093 \nQ 1294 3584 2113 3584 \nQ 2378 3584 2631 3529 \nQ 2884 3475 3122 3366 \nz\n\" transform=\"scale(0.015625)\"/>\n      <path id=\"DejaVuSans-6d\" d=\"M 3328 2828 \nQ 3544 3216 3844 3400 \nQ 4144 3584 4550 3584 \nQ 5097 3584 5394 3201 \nQ 5691 2819 5691 2113 \nL 5691 0 \nL 5113 0 \nL 5113 2094 \nQ 5113 2597 4934 2840 \nQ 4756 3084 4391 3084 \nQ 3944 3084 3684 2787 \nQ 3425 2491 3425 1978 \nL 3425 0 \nL 2847 0 \nL 2847 2094 \nQ 2847 2600 2669 2842 \nQ 2491 3084 2119 3084 \nQ 1678 3084 1418 2786 \nQ 1159 2488 1159 1978 \nL 1159 0 \nL 581 0 \nL 581 3500 \nL 1159 3500 \nL 1159 2956 \nQ 1356 3278 1631 3431 \nQ 1906 3584 2284 3584 \nQ 2666 3584 2933 3390 \nQ 3200 3197 3328 2828 \nz\n\" transform=\"scale(0.015625)\"/>\n      <path id=\"DejaVuSans-65\" d=\"M 3597 1894 \nL 3597 1613 \nL 953 1613 \nQ 991 1019 1311 708 \nQ 1631 397 2203 397 \nQ 2534 397 2845 478 \nQ 3156 559 3463 722 \nL 3463 178 \nQ 3153 47 2828 -22 \nQ 2503 -91 2169 -91 \nQ 1331 -91 842 396 \nQ 353 884 353 1716 \nQ 353 2575 817 3079 \nQ 1281 3584 2069 3584 \nQ 2775 3584 3186 3129 \nQ 3597 2675 3597 1894 \nz\nM 3022 2063 \nQ 3016 2534 2758 2815 \nQ 2500 3097 2075 3097 \nQ 1594 3097 1305 2825 \nQ 1016 2553 972 2059 \nL 3022 2063 \nz\n\" transform=\"scale(0.015625)\"/>\n     </defs>\n     <use xlink:href=\"#DejaVuSans-44\"/>\n     <use xlink:href=\"#DejaVuSans-69\" transform=\"translate(77.001953 0)\"/>\n     <use xlink:href=\"#DejaVuSans-73\" transform=\"translate(104.785156 0)\"/>\n     <use xlink:href=\"#DejaVuSans-74\" transform=\"translate(156.884766 0)\"/>\n     <use xlink:href=\"#DejaVuSans-72\" transform=\"translate(196.09375 0)\"/>\n     <use xlink:href=\"#DejaVuSans-69\" transform=\"translate(237.207031 0)\"/>\n     <use xlink:href=\"#DejaVuSans-62\" transform=\"translate(264.990234 0)\"/>\n     <use xlink:href=\"#DejaVuSans-75\" transform=\"translate(328.466797 0)\"/>\n     <use xlink:href=\"#DejaVuSans-74\" transform=\"translate(391.845703 0)\"/>\n     <use xlink:href=\"#DejaVuSans-69\" transform=\"translate(431.054688 0)\"/>\n     <use xlink:href=\"#DejaVuSans-6f\" transform=\"translate(458.837891 0)\"/>\n     <use xlink:href=\"#DejaVuSans-6e\" transform=\"translate(520.019531 0)\"/>\n     <use xlink:href=\"#DejaVuSans-20\" transform=\"translate(583.398438 0)\"/>\n     <use xlink:href=\"#DejaVuSans-6f\" transform=\"translate(615.185547 0)\"/>\n     <use xlink:href=\"#DejaVuSans-66\" transform=\"translate(676.367188 0)\"/>\n     <use xlink:href=\"#DejaVuSans-20\" transform=\"translate(711.572266 0)\"/>\n     <use xlink:href=\"#DejaVuSans-49\" transform=\"translate(743.359375 0)\"/>\n     <use xlink:href=\"#DejaVuSans-6e\" transform=\"translate(772.851562 0)\"/>\n     <use xlink:href=\"#DejaVuSans-63\" transform=\"translate(836.230469 0)\"/>\n     <use xlink:href=\"#DejaVuSans-6f\" transform=\"translate(891.210938 0)\"/>\n     <use xlink:href=\"#DejaVuSans-6d\" transform=\"translate(952.392578 0)\"/>\n     <use xlink:href=\"#DejaVuSans-65\" transform=\"translate(1049.804688 0)\"/>\n    </g>\n   </g>\n  </g>\n </g>\n</svg>\n"
          },
          "metadata": {}
        }
      ]
    },
    {
      "cell_type": "code",
      "source": [
        "data.groupby('sex')['age'].plot(kind='kde', legend=True)\n",
        "plt.title('Age Distribution by Gender')\n",
        "plt.xlabel('Age')\n",
        "plt.ylabel('')"
      ],
      "metadata": {
        "colab": {
          "base_uri": "https://localhost:8080/",
          "height": 488
        },
        "id": "-WZ0OT6qk5iL",
        "outputId": "37cac7e2-8194-4cea-ec02-08ece3c6237a"
      },
      "execution_count": 38,
      "outputs": [
        {
          "output_type": "execute_result",
          "data": {
            "text/plain": [
              "Text(0, 0.5, '')"
            ]
          },
          "metadata": {},
          "execution_count": 38
        },
        {
          "output_type": "display_data",
          "data": {
            "text/plain": [
              "<Figure size 1500x500 with 1 Axes>"
            ],
            "image/svg+xml": "<?xml version=\"1.0\" encoding=\"utf-8\" standalone=\"no\"?>\n<!DOCTYPE svg PUBLIC \"-//W3C//DTD SVG 1.1//EN\"\n  \"http://www.w3.org/Graphics/SVG/1.1/DTD/svg11.dtd\">\n<svg xmlns:xlink=\"http://www.w3.org/1999/xlink\" width=\"887.028125pt\" height=\"337.074375pt\" viewBox=\"0 0 887.028125 337.074375\" xmlns=\"http://www.w3.org/2000/svg\" version=\"1.1\">\n <metadata>\n  <rdf:RDF xmlns:dc=\"http://purl.org/dc/elements/1.1/\" xmlns:cc=\"http://creativecommons.org/ns#\" xmlns:rdf=\"http://www.w3.org/1999/02/22-rdf-syntax-ns#\">\n   <cc:Work>\n    <dc:type rdf:resource=\"http://purl.org/dc/dcmitype/StillImage\"/>\n    <dc:date>2025-07-09T17:26:00.022093</dc:date>\n    <dc:format>image/svg+xml</dc:format>\n    <dc:creator>\n     <cc:Agent>\n      <dc:title>Matplotlib v3.10.0, https://matplotlib.org/</dc:title>\n     </cc:Agent>\n    </dc:creator>\n   </cc:Work>\n  </rdf:RDF>\n </metadata>\n <defs>\n  <style type=\"text/css\">*{stroke-linejoin: round; stroke-linecap: butt}</style>\n </defs>\n <g id=\"figure_1\">\n  <g id=\"patch_1\">\n   <path d=\"M 0 337.074375 \nL 887.028125 337.074375 \nL 887.028125 0 \nL 0 0 \nz\n\" style=\"fill: #ffffff\"/>\n  </g>\n  <g id=\"axes_1\">\n   <g id=\"patch_2\">\n    <path d=\"M 42.828125 299.518125 \nL 879.828125 299.518125 \nL 879.828125 22.318125 \nL 42.828125 22.318125 \nz\n\" style=\"fill: #ffffff\"/>\n   </g>\n   <g id=\"matplotlib.axis_1\">\n    <g id=\"xtick_1\">\n     <g id=\"line2d_1\">\n      <defs>\n       <path id=\"m73d67e86b5\" d=\"M 0 0 \nL 0 3.5 \n\" style=\"stroke: #000000; stroke-width: 0.8\"/>\n      </defs>\n      <g>\n       <use xlink:href=\"#m73d67e86b5\" x=\"78.267726\" y=\"299.518125\" style=\"stroke: #000000; stroke-width: 0.8\"/>\n      </g>\n     </g>\n     <g id=\"text_1\">\n      <!-- −20 -->\n      <g transform=\"translate(67.715383 314.116563) scale(0.1 -0.1)\">\n       <defs>\n        <path id=\"DejaVuSans-2212\" d=\"M 678 2272 \nL 4684 2272 \nL 4684 1741 \nL 678 1741 \nL 678 2272 \nz\n\" transform=\"scale(0.015625)\"/>\n        <path id=\"DejaVuSans-32\" d=\"M 1228 531 \nL 3431 531 \nL 3431 0 \nL 469 0 \nL 469 531 \nQ 828 903 1448 1529 \nQ 2069 2156 2228 2338 \nQ 2531 2678 2651 2914 \nQ 2772 3150 2772 3378 \nQ 2772 3750 2511 3984 \nQ 2250 4219 1831 4219 \nQ 1534 4219 1204 4116 \nQ 875 4013 500 3803 \nL 500 4441 \nQ 881 4594 1212 4672 \nQ 1544 4750 1819 4750 \nQ 2544 4750 2975 4387 \nQ 3406 4025 3406 3419 \nQ 3406 3131 3298 2873 \nQ 3191 2616 2906 2266 \nQ 2828 2175 2409 1742 \nQ 1991 1309 1228 531 \nz\n\" transform=\"scale(0.015625)\"/>\n        <path id=\"DejaVuSans-30\" d=\"M 2034 4250 \nQ 1547 4250 1301 3770 \nQ 1056 3291 1056 2328 \nQ 1056 1369 1301 889 \nQ 1547 409 2034 409 \nQ 2525 409 2770 889 \nQ 3016 1369 3016 2328 \nQ 3016 3291 2770 3770 \nQ 2525 4250 2034 4250 \nz\nM 2034 4750 \nQ 2819 4750 3233 4129 \nQ 3647 3509 3647 2328 \nQ 3647 1150 3233 529 \nQ 2819 -91 2034 -91 \nQ 1250 -91 836 529 \nQ 422 1150 422 2328 \nQ 422 3509 836 4129 \nQ 1250 4750 2034 4750 \nz\n\" transform=\"scale(0.015625)\"/>\n       </defs>\n       <use xlink:href=\"#DejaVuSans-2212\"/>\n       <use xlink:href=\"#DejaVuSans-32\" transform=\"translate(83.789062 0)\"/>\n       <use xlink:href=\"#DejaVuSans-30\" transform=\"translate(147.412109 0)\"/>\n      </g>\n     </g>\n    </g>\n    <g id=\"xtick_2\">\n     <g id=\"line2d_2\">\n      <g>\n       <use xlink:href=\"#m73d67e86b5\" x=\"182.501849\" y=\"299.518125\" style=\"stroke: #000000; stroke-width: 0.8\"/>\n      </g>\n     </g>\n     <g id=\"text_2\">\n      <!-- 0 -->\n      <g transform=\"translate(179.320599 314.116563) scale(0.1 -0.1)\">\n       <use xlink:href=\"#DejaVuSans-30\"/>\n      </g>\n     </g>\n    </g>\n    <g id=\"xtick_3\">\n     <g id=\"line2d_3\">\n      <g>\n       <use xlink:href=\"#m73d67e86b5\" x=\"286.735971\" y=\"299.518125\" style=\"stroke: #000000; stroke-width: 0.8\"/>\n      </g>\n     </g>\n     <g id=\"text_3\">\n      <!-- 20 -->\n      <g transform=\"translate(280.373471 314.116563) scale(0.1 -0.1)\">\n       <use xlink:href=\"#DejaVuSans-32\"/>\n       <use xlink:href=\"#DejaVuSans-30\" transform=\"translate(63.623047 0)\"/>\n      </g>\n     </g>\n    </g>\n    <g id=\"xtick_4\">\n     <g id=\"line2d_4\">\n      <g>\n       <use xlink:href=\"#m73d67e86b5\" x=\"390.970093\" y=\"299.518125\" style=\"stroke: #000000; stroke-width: 0.8\"/>\n      </g>\n     </g>\n     <g id=\"text_4\">\n      <!-- 40 -->\n      <g transform=\"translate(384.607593 314.116563) scale(0.1 -0.1)\">\n       <defs>\n        <path id=\"DejaVuSans-34\" d=\"M 2419 4116 \nL 825 1625 \nL 2419 1625 \nL 2419 4116 \nz\nM 2253 4666 \nL 3047 4666 \nL 3047 1625 \nL 3713 1625 \nL 3713 1100 \nL 3047 1100 \nL 3047 0 \nL 2419 0 \nL 2419 1100 \nL 313 1100 \nL 313 1709 \nL 2253 4666 \nz\n\" transform=\"scale(0.015625)\"/>\n       </defs>\n       <use xlink:href=\"#DejaVuSans-34\"/>\n       <use xlink:href=\"#DejaVuSans-30\" transform=\"translate(63.623047 0)\"/>\n      </g>\n     </g>\n    </g>\n    <g id=\"xtick_5\">\n     <g id=\"line2d_5\">\n      <g>\n       <use xlink:href=\"#m73d67e86b5\" x=\"495.204215\" y=\"299.518125\" style=\"stroke: #000000; stroke-width: 0.8\"/>\n      </g>\n     </g>\n     <g id=\"text_5\">\n      <!-- 60 -->\n      <g transform=\"translate(488.841715 314.116563) scale(0.1 -0.1)\">\n       <defs>\n        <path id=\"DejaVuSans-36\" d=\"M 2113 2584 \nQ 1688 2584 1439 2293 \nQ 1191 2003 1191 1497 \nQ 1191 994 1439 701 \nQ 1688 409 2113 409 \nQ 2538 409 2786 701 \nQ 3034 994 3034 1497 \nQ 3034 2003 2786 2293 \nQ 2538 2584 2113 2584 \nz\nM 3366 4563 \nL 3366 3988 \nQ 3128 4100 2886 4159 \nQ 2644 4219 2406 4219 \nQ 1781 4219 1451 3797 \nQ 1122 3375 1075 2522 \nQ 1259 2794 1537 2939 \nQ 1816 3084 2150 3084 \nQ 2853 3084 3261 2657 \nQ 3669 2231 3669 1497 \nQ 3669 778 3244 343 \nQ 2819 -91 2113 -91 \nQ 1303 -91 875 529 \nQ 447 1150 447 2328 \nQ 447 3434 972 4092 \nQ 1497 4750 2381 4750 \nQ 2619 4750 2861 4703 \nQ 3103 4656 3366 4563 \nz\n\" transform=\"scale(0.015625)\"/>\n       </defs>\n       <use xlink:href=\"#DejaVuSans-36\"/>\n       <use xlink:href=\"#DejaVuSans-30\" transform=\"translate(63.623047 0)\"/>\n      </g>\n     </g>\n    </g>\n    <g id=\"xtick_6\">\n     <g id=\"line2d_6\">\n      <g>\n       <use xlink:href=\"#m73d67e86b5\" x=\"599.438337\" y=\"299.518125\" style=\"stroke: #000000; stroke-width: 0.8\"/>\n      </g>\n     </g>\n     <g id=\"text_6\">\n      <!-- 80 -->\n      <g transform=\"translate(593.075837 314.116563) scale(0.1 -0.1)\">\n       <defs>\n        <path id=\"DejaVuSans-38\" d=\"M 2034 2216 \nQ 1584 2216 1326 1975 \nQ 1069 1734 1069 1313 \nQ 1069 891 1326 650 \nQ 1584 409 2034 409 \nQ 2484 409 2743 651 \nQ 3003 894 3003 1313 \nQ 3003 1734 2745 1975 \nQ 2488 2216 2034 2216 \nz\nM 1403 2484 \nQ 997 2584 770 2862 \nQ 544 3141 544 3541 \nQ 544 4100 942 4425 \nQ 1341 4750 2034 4750 \nQ 2731 4750 3128 4425 \nQ 3525 4100 3525 3541 \nQ 3525 3141 3298 2862 \nQ 3072 2584 2669 2484 \nQ 3125 2378 3379 2068 \nQ 3634 1759 3634 1313 \nQ 3634 634 3220 271 \nQ 2806 -91 2034 -91 \nQ 1263 -91 848 271 \nQ 434 634 434 1313 \nQ 434 1759 690 2068 \nQ 947 2378 1403 2484 \nz\nM 1172 3481 \nQ 1172 3119 1398 2916 \nQ 1625 2713 2034 2713 \nQ 2441 2713 2670 2916 \nQ 2900 3119 2900 3481 \nQ 2900 3844 2670 4047 \nQ 2441 4250 2034 4250 \nQ 1625 4250 1398 4047 \nQ 1172 3844 1172 3481 \nz\n\" transform=\"scale(0.015625)\"/>\n       </defs>\n       <use xlink:href=\"#DejaVuSans-38\"/>\n       <use xlink:href=\"#DejaVuSans-30\" transform=\"translate(63.623047 0)\"/>\n      </g>\n     </g>\n    </g>\n    <g id=\"xtick_7\">\n     <g id=\"line2d_7\">\n      <g>\n       <use xlink:href=\"#m73d67e86b5\" x=\"703.672459\" y=\"299.518125\" style=\"stroke: #000000; stroke-width: 0.8\"/>\n      </g>\n     </g>\n     <g id=\"text_7\">\n      <!-- 100 -->\n      <g transform=\"translate(694.128709 314.116563) scale(0.1 -0.1)\">\n       <defs>\n        <path id=\"DejaVuSans-31\" d=\"M 794 531 \nL 1825 531 \nL 1825 4091 \nL 703 3866 \nL 703 4441 \nL 1819 4666 \nL 2450 4666 \nL 2450 531 \nL 3481 531 \nL 3481 0 \nL 794 0 \nL 794 531 \nz\n\" transform=\"scale(0.015625)\"/>\n       </defs>\n       <use xlink:href=\"#DejaVuSans-31\"/>\n       <use xlink:href=\"#DejaVuSans-30\" transform=\"translate(63.623047 0)\"/>\n       <use xlink:href=\"#DejaVuSans-30\" transform=\"translate(127.246094 0)\"/>\n      </g>\n     </g>\n    </g>\n    <g id=\"xtick_8\">\n     <g id=\"line2d_8\">\n      <g>\n       <use xlink:href=\"#m73d67e86b5\" x=\"807.906581\" y=\"299.518125\" style=\"stroke: #000000; stroke-width: 0.8\"/>\n      </g>\n     </g>\n     <g id=\"text_8\">\n      <!-- 120 -->\n      <g transform=\"translate(798.362831 314.116563) scale(0.1 -0.1)\">\n       <use xlink:href=\"#DejaVuSans-31\"/>\n       <use xlink:href=\"#DejaVuSans-32\" transform=\"translate(63.623047 0)\"/>\n       <use xlink:href=\"#DejaVuSans-30\" transform=\"translate(127.246094 0)\"/>\n      </g>\n     </g>\n    </g>\n    <g id=\"text_9\">\n     <!-- Age -->\n     <g transform=\"translate(451.657031 327.794688) scale(0.1 -0.1)\">\n      <defs>\n       <path id=\"DejaVuSans-41\" d=\"M 2188 4044 \nL 1331 1722 \nL 3047 1722 \nL 2188 4044 \nz\nM 1831 4666 \nL 2547 4666 \nL 4325 0 \nL 3669 0 \nL 3244 1197 \nL 1141 1197 \nL 716 0 \nL 50 0 \nL 1831 4666 \nz\n\" transform=\"scale(0.015625)\"/>\n       <path id=\"DejaVuSans-67\" d=\"M 2906 1791 \nQ 2906 2416 2648 2759 \nQ 2391 3103 1925 3103 \nQ 1463 3103 1205 2759 \nQ 947 2416 947 1791 \nQ 947 1169 1205 825 \nQ 1463 481 1925 481 \nQ 2391 481 2648 825 \nQ 2906 1169 2906 1791 \nz\nM 3481 434 \nQ 3481 -459 3084 -895 \nQ 2688 -1331 1869 -1331 \nQ 1566 -1331 1297 -1286 \nQ 1028 -1241 775 -1147 \nL 775 -588 \nQ 1028 -725 1275 -790 \nQ 1522 -856 1778 -856 \nQ 2344 -856 2625 -561 \nQ 2906 -266 2906 331 \nL 2906 616 \nQ 2728 306 2450 153 \nQ 2172 0 1784 0 \nQ 1141 0 747 490 \nQ 353 981 353 1791 \nQ 353 2603 747 3093 \nQ 1141 3584 1784 3584 \nQ 2172 3584 2450 3431 \nQ 2728 3278 2906 2969 \nL 2906 3500 \nL 3481 3500 \nL 3481 434 \nz\n\" transform=\"scale(0.015625)\"/>\n       <path id=\"DejaVuSans-65\" d=\"M 3597 1894 \nL 3597 1613 \nL 953 1613 \nQ 991 1019 1311 708 \nQ 1631 397 2203 397 \nQ 2534 397 2845 478 \nQ 3156 559 3463 722 \nL 3463 178 \nQ 3153 47 2828 -22 \nQ 2503 -91 2169 -91 \nQ 1331 -91 842 396 \nQ 353 884 353 1716 \nQ 353 2575 817 3079 \nQ 1281 3584 2069 3584 \nQ 2775 3584 3186 3129 \nQ 3597 2675 3597 1894 \nz\nM 3022 2063 \nQ 3016 2534 2758 2815 \nQ 2500 3097 2075 3097 \nQ 1594 3097 1305 2825 \nQ 1016 2553 972 2059 \nL 3022 2063 \nz\n\" transform=\"scale(0.015625)\"/>\n      </defs>\n      <use xlink:href=\"#DejaVuSans-41\"/>\n      <use xlink:href=\"#DejaVuSans-67\" transform=\"translate(68.408203 0)\"/>\n      <use xlink:href=\"#DejaVuSans-65\" transform=\"translate(131.884766 0)\"/>\n     </g>\n    </g>\n   </g>\n   <g id=\"matplotlib.axis_2\">\n    <g id=\"ytick_1\">\n     <g id=\"line2d_9\">\n      <defs>\n       <path id=\"m8bd5dd1591\" d=\"M 0 0 \nL -3.5 0 \n\" style=\"stroke: #000000; stroke-width: 0.8\"/>\n      </defs>\n      <g>\n       <use xlink:href=\"#m8bd5dd1591\" x=\"42.828125\" y=\"286.918125\" style=\"stroke: #000000; stroke-width: 0.8\"/>\n      </g>\n     </g>\n     <g id=\"text_10\">\n      <!-- 0.000 -->\n      <g transform=\"translate(7.2 290.717344) scale(0.1 -0.1)\">\n       <defs>\n        <path id=\"DejaVuSans-2e\" d=\"M 684 794 \nL 1344 794 \nL 1344 0 \nL 684 0 \nL 684 794 \nz\n\" transform=\"scale(0.015625)\"/>\n       </defs>\n       <use xlink:href=\"#DejaVuSans-30\"/>\n       <use xlink:href=\"#DejaVuSans-2e\" transform=\"translate(63.623047 0)\"/>\n       <use xlink:href=\"#DejaVuSans-30\" transform=\"translate(95.410156 0)\"/>\n       <use xlink:href=\"#DejaVuSans-30\" transform=\"translate(159.033203 0)\"/>\n       <use xlink:href=\"#DejaVuSans-30\" transform=\"translate(222.65625 0)\"/>\n      </g>\n     </g>\n    </g>\n    <g id=\"ytick_2\">\n     <g id=\"line2d_10\">\n      <g>\n       <use xlink:href=\"#m8bd5dd1591\" x=\"42.828125\" y=\"246.452567\" style=\"stroke: #000000; stroke-width: 0.8\"/>\n      </g>\n     </g>\n     <g id=\"text_11\">\n      <!-- 0.005 -->\n      <g transform=\"translate(7.2 250.251786) scale(0.1 -0.1)\">\n       <defs>\n        <path id=\"DejaVuSans-35\" d=\"M 691 4666 \nL 3169 4666 \nL 3169 4134 \nL 1269 4134 \nL 1269 2991 \nQ 1406 3038 1543 3061 \nQ 1681 3084 1819 3084 \nQ 2600 3084 3056 2656 \nQ 3513 2228 3513 1497 \nQ 3513 744 3044 326 \nQ 2575 -91 1722 -91 \nQ 1428 -91 1123 -41 \nQ 819 9 494 109 \nL 494 744 \nQ 775 591 1075 516 \nQ 1375 441 1709 441 \nQ 2250 441 2565 725 \nQ 2881 1009 2881 1497 \nQ 2881 1984 2565 2268 \nQ 2250 2553 1709 2553 \nQ 1456 2553 1204 2497 \nQ 953 2441 691 2322 \nL 691 4666 \nz\n\" transform=\"scale(0.015625)\"/>\n       </defs>\n       <use xlink:href=\"#DejaVuSans-30\"/>\n       <use xlink:href=\"#DejaVuSans-2e\" transform=\"translate(63.623047 0)\"/>\n       <use xlink:href=\"#DejaVuSans-30\" transform=\"translate(95.410156 0)\"/>\n       <use xlink:href=\"#DejaVuSans-30\" transform=\"translate(159.033203 0)\"/>\n       <use xlink:href=\"#DejaVuSans-35\" transform=\"translate(222.65625 0)\"/>\n      </g>\n     </g>\n    </g>\n    <g id=\"ytick_3\">\n     <g id=\"line2d_11\">\n      <g>\n       <use xlink:href=\"#m8bd5dd1591\" x=\"42.828125\" y=\"205.98701\" style=\"stroke: #000000; stroke-width: 0.8\"/>\n      </g>\n     </g>\n     <g id=\"text_12\">\n      <!-- 0.010 -->\n      <g transform=\"translate(7.2 209.786229) scale(0.1 -0.1)\">\n       <use xlink:href=\"#DejaVuSans-30\"/>\n       <use xlink:href=\"#DejaVuSans-2e\" transform=\"translate(63.623047 0)\"/>\n       <use xlink:href=\"#DejaVuSans-30\" transform=\"translate(95.410156 0)\"/>\n       <use xlink:href=\"#DejaVuSans-31\" transform=\"translate(159.033203 0)\"/>\n       <use xlink:href=\"#DejaVuSans-30\" transform=\"translate(222.65625 0)\"/>\n      </g>\n     </g>\n    </g>\n    <g id=\"ytick_4\">\n     <g id=\"line2d_12\">\n      <g>\n       <use xlink:href=\"#m8bd5dd1591\" x=\"42.828125\" y=\"165.521452\" style=\"stroke: #000000; stroke-width: 0.8\"/>\n      </g>\n     </g>\n     <g id=\"text_13\">\n      <!-- 0.015 -->\n      <g transform=\"translate(7.2 169.320671) scale(0.1 -0.1)\">\n       <use xlink:href=\"#DejaVuSans-30\"/>\n       <use xlink:href=\"#DejaVuSans-2e\" transform=\"translate(63.623047 0)\"/>\n       <use xlink:href=\"#DejaVuSans-30\" transform=\"translate(95.410156 0)\"/>\n       <use xlink:href=\"#DejaVuSans-31\" transform=\"translate(159.033203 0)\"/>\n       <use xlink:href=\"#DejaVuSans-35\" transform=\"translate(222.65625 0)\"/>\n      </g>\n     </g>\n    </g>\n    <g id=\"ytick_5\">\n     <g id=\"line2d_13\">\n      <g>\n       <use xlink:href=\"#m8bd5dd1591\" x=\"42.828125\" y=\"125.055895\" style=\"stroke: #000000; stroke-width: 0.8\"/>\n      </g>\n     </g>\n     <g id=\"text_14\">\n      <!-- 0.020 -->\n      <g transform=\"translate(7.2 128.855113) scale(0.1 -0.1)\">\n       <use xlink:href=\"#DejaVuSans-30\"/>\n       <use xlink:href=\"#DejaVuSans-2e\" transform=\"translate(63.623047 0)\"/>\n       <use xlink:href=\"#DejaVuSans-30\" transform=\"translate(95.410156 0)\"/>\n       <use xlink:href=\"#DejaVuSans-32\" transform=\"translate(159.033203 0)\"/>\n       <use xlink:href=\"#DejaVuSans-30\" transform=\"translate(222.65625 0)\"/>\n      </g>\n     </g>\n    </g>\n    <g id=\"ytick_6\">\n     <g id=\"line2d_14\">\n      <g>\n       <use xlink:href=\"#m8bd5dd1591\" x=\"42.828125\" y=\"84.590337\" style=\"stroke: #000000; stroke-width: 0.8\"/>\n      </g>\n     </g>\n     <g id=\"text_15\">\n      <!-- 0.025 -->\n      <g transform=\"translate(7.2 88.389556) scale(0.1 -0.1)\">\n       <use xlink:href=\"#DejaVuSans-30\"/>\n       <use xlink:href=\"#DejaVuSans-2e\" transform=\"translate(63.623047 0)\"/>\n       <use xlink:href=\"#DejaVuSans-30\" transform=\"translate(95.410156 0)\"/>\n       <use xlink:href=\"#DejaVuSans-32\" transform=\"translate(159.033203 0)\"/>\n       <use xlink:href=\"#DejaVuSans-35\" transform=\"translate(222.65625 0)\"/>\n      </g>\n     </g>\n    </g>\n    <g id=\"ytick_7\">\n     <g id=\"line2d_15\">\n      <g>\n       <use xlink:href=\"#m8bd5dd1591\" x=\"42.828125\" y=\"44.124779\" style=\"stroke: #000000; stroke-width: 0.8\"/>\n      </g>\n     </g>\n     <g id=\"text_16\">\n      <!-- 0.030 -->\n      <g transform=\"translate(7.2 47.923998) scale(0.1 -0.1)\">\n       <defs>\n        <path id=\"DejaVuSans-33\" d=\"M 2597 2516 \nQ 3050 2419 3304 2112 \nQ 3559 1806 3559 1356 \nQ 3559 666 3084 287 \nQ 2609 -91 1734 -91 \nQ 1441 -91 1130 -33 \nQ 819 25 488 141 \nL 488 750 \nQ 750 597 1062 519 \nQ 1375 441 1716 441 \nQ 2309 441 2620 675 \nQ 2931 909 2931 1356 \nQ 2931 1769 2642 2001 \nQ 2353 2234 1838 2234 \nL 1294 2234 \nL 1294 2753 \nL 1863 2753 \nQ 2328 2753 2575 2939 \nQ 2822 3125 2822 3475 \nQ 2822 3834 2567 4026 \nQ 2313 4219 1838 4219 \nQ 1578 4219 1281 4162 \nQ 984 4106 628 3988 \nL 628 4550 \nQ 988 4650 1302 4700 \nQ 1616 4750 1894 4750 \nQ 2613 4750 3031 4423 \nQ 3450 4097 3450 3541 \nQ 3450 3153 3228 2886 \nQ 3006 2619 2597 2516 \nz\n\" transform=\"scale(0.015625)\"/>\n       </defs>\n       <use xlink:href=\"#DejaVuSans-30\"/>\n       <use xlink:href=\"#DejaVuSans-2e\" transform=\"translate(63.623047 0)\"/>\n       <use xlink:href=\"#DejaVuSans-30\" transform=\"translate(95.410156 0)\"/>\n       <use xlink:href=\"#DejaVuSans-33\" transform=\"translate(159.033203 0)\"/>\n       <use xlink:href=\"#DejaVuSans-30\" transform=\"translate(222.65625 0)\"/>\n      </g>\n     </g>\n    </g>\n   </g>\n   <g id=\"line2d_16\">\n    <path d=\"M 80.87358 286.918125 \nL 234.731073 286.814928 \nL 238.539427 286.569818 \nL 240.824439 286.235592 \nL 243.109452 285.636061 \nL 244.632793 285.011194 \nL 246.156135 284.133503 \nL 247.679476 282.92527 \nL 249.202818 281.295058 \nL 250.726159 279.139027 \nL 252.249501 276.343789 \nL 253.772842 272.790964 \nL 255.296184 268.36344 \nL 256.819525 262.953109 \nL 258.342867 256.469614 \nL 259.866209 248.849418 \nL 261.38955 240.064329 \nL 262.912892 230.12852 \nL 265.197904 213.214304 \nL 267.482916 194.268779 \nL 270.529599 166.957239 \nL 275.861295 118.929697 \nL 278.146307 100.34096 \nL 280.431319 83.853897 \nL 281.954661 74.215432 \nL 283.478002 65.725307 \nL 285.001344 58.39462 \nL 286.524685 52.200214 \nL 288.048027 47.091977 \nL 289.571368 43.000759 \nL 291.09471 39.846049 \nL 292.618051 37.542703 \nL 293.379722 36.683746 \nL 294.141393 36.0062 \nL 294.903064 35.500175 \nL 295.664734 35.156164 \nL 296.426405 34.965054 \nL 297.188076 34.918125 \nL 297.949747 35.007023 \nL 298.711417 35.223721 \nL 300.234759 36.009714 \nL 301.7581 37.216313 \nL 303.281442 38.785301 \nL 304.804783 40.658433 \nL 307.089796 43.908498 \nL 310.136479 48.74636 \nL 315.468174 57.319717 \nL 317.753186 60.642416 \nL 320.038199 63.631191 \nL 322.323211 66.273036 \nL 324.608223 68.601743 \nL 327.654906 71.336379 \nL 332.224931 75.029423 \nL 340.603309 81.772799 \nL 345.935005 85.984263 \nL 348.981688 88.109697 \nL 351.2667 89.49237 \nL 353.551712 90.674205 \nL 356.598395 91.958969 \nL 360.406749 93.239814 \nL 366.500115 95.208946 \nL 370.308469 96.725716 \nL 374.878494 98.863878 \nL 382.495201 102.727627 \nL 386.303555 104.862842 \nL 389.350238 106.862447 \nL 391.63525 108.603288 \nL 394.681933 111.262291 \nL 398.490287 114.981703 \nL 403.060312 119.469038 \nL 406.106995 122.104986 \nL 408.392007 123.793343 \nL 410.677019 125.242403 \nL 414.485373 127.340461 \nL 417.532056 129.088919 \nL 419.817068 130.679348 \nL 421.34041 131.947268 \nL 422.863752 133.413751 \nL 425.148764 136.013478 \nL 427.433776 139.081648 \nL 429.718788 142.54888 \nL 432.765471 147.590882 \nL 440.382179 160.459298 \nL 444.190533 166.400975 \nL 448.760557 173.111794 \nL 454.853924 181.649458 \nL 458.662277 186.658666 \nL 461.70896 190.3464 \nL 464.755643 193.683841 \nL 467.802326 196.676231 \nL 471.61068 200.032238 \nL 476.942376 204.337972 \nL 488.367437 213.456925 \nL 495.984145 219.873123 \nL 524.165963 244.281286 \nL 537.876037 256.487047 \nL 540.92272 258.864571 \nL 543.969403 260.971139 \nL 547.016086 262.770949 \nL 550.062769 264.270679 \nL 553.109452 265.521426 \nL 557.679476 267.118202 \nL 565.296184 269.757335 \nL 569.866209 271.59194 \nL 575.959575 274.305754 \nL 583.576282 277.703152 \nL 587.384636 279.180497 \nL 591.19299 280.402973 \nL 595.001344 281.354122 \nL 599.571368 282.208536 \nL 606.426405 283.206891 \nL 618.613137 284.765557 \nL 625.468174 285.402833 \nL 630.799869 285.675217 \nL 635.369894 285.698811 \nL 640.701589 285.494965 \nL 649.079968 285.122188 \nL 653.649992 285.191435 \nL 658.220017 285.507102 \nL 671.930091 286.653237 \nL 678.785127 286.856264 \nL 690.97186 286.916458 \nL 841.78267 286.918125 \nL 841.78267 286.918125 \n\" clip-path=\"url(#p2c2845168e)\" style=\"fill: none; stroke: #1f77b4; stroke-width: 1.5; stroke-linecap: square\"/>\n   </g>\n   <g id=\"line2d_17\">\n    <path d=\"M 80.87358 286.918125 \nL 242.347781 286.8237 \nL 245.394464 286.627059 \nL 247.679476 286.288928 \nL 249.202818 285.901813 \nL 250.726159 285.320534 \nL 252.249501 284.473226 \nL 253.772842 283.274035 \nL 255.296184 281.625808 \nL 256.819525 279.425247 \nL 258.342867 276.570551 \nL 259.866209 272.971098 \nL 261.38955 268.558191 \nL 262.912892 263.295464 \nL 264.436233 257.187342 \nL 265.959575 250.283977 \nL 268.244587 238.659728 \nL 271.29127 221.593278 \nL 275.861295 195.617524 \nL 278.146307 183.668874 \nL 280.431319 172.880151 \nL 282.716331 163.34993 \nL 285.001344 154.999467 \nL 287.286356 147.633491 \nL 289.571368 141.016564 \nL 292.618051 133.020452 \nL 295.664734 125.768181 \nL 297.949747 120.846933 \nL 300.234759 116.471519 \nL 302.519771 112.729539 \nL 304.043113 110.602459 \nL 305.566454 108.75369 \nL 307.851467 106.420225 \nL 310.136479 104.446648 \nL 315.468174 100.06055 \nL 317.753186 97.906843 \nL 320.799869 94.679598 \nL 325.369894 89.376628 \nL 332.986602 80.54069 \nL 340.603309 72.047563 \nL 344.411663 68.078278 \nL 347.458346 65.178595 \nL 350.505029 62.594622 \nL 352.790041 60.894294 \nL 355.075054 59.422045 \nL 357.360066 58.204886 \nL 359.645078 57.276625 \nL 361.930091 56.677717 \nL 363.453432 56.483306 \nL 364.976774 56.468028 \nL 366.500115 56.643585 \nL 368.023457 57.019217 \nL 369.546798 57.600503 \nL 371.07014 58.388172 \nL 372.593481 59.376991 \nL 374.878494 61.20861 \nL 377.163506 63.389582 \nL 380.97186 67.478371 \nL 384.780213 71.536612 \nL 387.065226 73.696202 \nL 389.350238 75.566362 \nL 391.63525 77.170316 \nL 400.013629 82.606335 \nL 403.060312 85.080297 \nL 406.868666 88.544333 \nL 415.247044 96.50536 \nL 417.532056 98.924531 \nL 419.817068 101.669904 \nL 422.102081 104.843804 \nL 424.387093 108.470331 \nL 427.433776 113.854177 \nL 432.003801 122.120993 \nL 434.288813 125.847492 \nL 436.573825 129.121998 \nL 438.858838 131.968234 \nL 442.667191 136.197906 \nL 445.713874 139.719052 \nL 447.998887 142.733447 \nL 450.283899 146.159085 \nL 452.568911 149.972332 \nL 456.377265 156.906461 \nL 462.470631 168.09415 \nL 465.517314 173.132392 \nL 467.802326 176.512152 \nL 470.087339 179.507677 \nL 472.372351 182.118345 \nL 474.657363 184.382718 \nL 477.704046 187.001009 \nL 485.320754 193.205928 \nL 487.605766 195.383384 \nL 490.652449 198.646636 \nL 493.699132 202.283642 \nL 497.507486 207.203382 \nL 505.885865 218.555543 \nL 512.740901 227.632009 \nL 518.834268 235.313142 \nL 524.165963 241.678226 \nL 528.735987 246.824333 \nL 533.306012 251.665813 \nL 537.114366 255.404012 \nL 540.161049 258.123605 \nL 543.207732 260.546464 \nL 546.254415 262.657978 \nL 549.301098 264.490519 \nL 553.109452 266.49551 \nL 559.202818 269.390823 \nL 566.057855 272.447543 \nL 570.627879 274.240181 \nL 575.197904 275.757119 \nL 580.529599 277.27292 \nL 586.622965 278.793962 \nL 591.954661 279.880348 \nL 608.711417 282.957202 \nL 616.328125 284.533554 \nL 620.89815 285.261791 \nL 625.468174 285.76625 \nL 629.276528 285.985844 \nL 633.084882 285.987423 \nL 636.893236 285.751924 \nL 641.46326 285.214172 \nL 647.556626 284.499392 \nL 650.603309 284.390302 \nL 653.649992 284.5365 \nL 656.696675 284.907659 \nL 667.360066 286.470771 \nL 671.930091 286.767536 \nL 678.023457 286.894974 \nL 696.303555 286.91812 \nL 841.78267 286.918125 \nL 841.78267 286.918125 \n\" clip-path=\"url(#p2c2845168e)\" style=\"fill: none; stroke: #ff7f0e; stroke-width: 1.5; stroke-linecap: square\"/>\n   </g>\n   <g id=\"patch_3\">\n    <path d=\"M 42.828125 299.518125 \nL 42.828125 22.318125 \n\" style=\"fill: none; stroke: #000000; stroke-width: 0.8; stroke-linejoin: miter; stroke-linecap: square\"/>\n   </g>\n   <g id=\"patch_4\">\n    <path d=\"M 879.828125 299.518125 \nL 879.828125 22.318125 \n\" style=\"fill: none; stroke: #000000; stroke-width: 0.8; stroke-linejoin: miter; stroke-linecap: square\"/>\n   </g>\n   <g id=\"patch_5\">\n    <path d=\"M 42.828125 299.518125 \nL 879.828125 299.518125 \n\" style=\"fill: none; stroke: #000000; stroke-width: 0.8; stroke-linejoin: miter; stroke-linecap: square\"/>\n   </g>\n   <g id=\"patch_6\">\n    <path d=\"M 42.828125 22.318125 \nL 879.828125 22.318125 \n\" style=\"fill: none; stroke: #000000; stroke-width: 0.8; stroke-linejoin: miter; stroke-linecap: square\"/>\n   </g>\n   <g id=\"text_17\">\n    <!-- Age Distribution by Gender -->\n    <g transform=\"translate(379.528437 16.318125) scale(0.12 -0.12)\">\n     <defs>\n      <path id=\"DejaVuSans-20\" transform=\"scale(0.015625)\"/>\n      <path id=\"DejaVuSans-44\" d=\"M 1259 4147 \nL 1259 519 \nL 2022 519 \nQ 2988 519 3436 956 \nQ 3884 1394 3884 2338 \nQ 3884 3275 3436 3711 \nQ 2988 4147 2022 4147 \nL 1259 4147 \nz\nM 628 4666 \nL 1925 4666 \nQ 3281 4666 3915 4102 \nQ 4550 3538 4550 2338 \nQ 4550 1131 3912 565 \nQ 3275 0 1925 0 \nL 628 0 \nL 628 4666 \nz\n\" transform=\"scale(0.015625)\"/>\n      <path id=\"DejaVuSans-69\" d=\"M 603 3500 \nL 1178 3500 \nL 1178 0 \nL 603 0 \nL 603 3500 \nz\nM 603 4863 \nL 1178 4863 \nL 1178 4134 \nL 603 4134 \nL 603 4863 \nz\n\" transform=\"scale(0.015625)\"/>\n      <path id=\"DejaVuSans-73\" d=\"M 2834 3397 \nL 2834 2853 \nQ 2591 2978 2328 3040 \nQ 2066 3103 1784 3103 \nQ 1356 3103 1142 2972 \nQ 928 2841 928 2578 \nQ 928 2378 1081 2264 \nQ 1234 2150 1697 2047 \nL 1894 2003 \nQ 2506 1872 2764 1633 \nQ 3022 1394 3022 966 \nQ 3022 478 2636 193 \nQ 2250 -91 1575 -91 \nQ 1294 -91 989 -36 \nQ 684 19 347 128 \nL 347 722 \nQ 666 556 975 473 \nQ 1284 391 1588 391 \nQ 1994 391 2212 530 \nQ 2431 669 2431 922 \nQ 2431 1156 2273 1281 \nQ 2116 1406 1581 1522 \nL 1381 1569 \nQ 847 1681 609 1914 \nQ 372 2147 372 2553 \nQ 372 3047 722 3315 \nQ 1072 3584 1716 3584 \nQ 2034 3584 2315 3537 \nQ 2597 3491 2834 3397 \nz\n\" transform=\"scale(0.015625)\"/>\n      <path id=\"DejaVuSans-74\" d=\"M 1172 4494 \nL 1172 3500 \nL 2356 3500 \nL 2356 3053 \nL 1172 3053 \nL 1172 1153 \nQ 1172 725 1289 603 \nQ 1406 481 1766 481 \nL 2356 481 \nL 2356 0 \nL 1766 0 \nQ 1100 0 847 248 \nQ 594 497 594 1153 \nL 594 3053 \nL 172 3053 \nL 172 3500 \nL 594 3500 \nL 594 4494 \nL 1172 4494 \nz\n\" transform=\"scale(0.015625)\"/>\n      <path id=\"DejaVuSans-72\" d=\"M 2631 2963 \nQ 2534 3019 2420 3045 \nQ 2306 3072 2169 3072 \nQ 1681 3072 1420 2755 \nQ 1159 2438 1159 1844 \nL 1159 0 \nL 581 0 \nL 581 3500 \nL 1159 3500 \nL 1159 2956 \nQ 1341 3275 1631 3429 \nQ 1922 3584 2338 3584 \nQ 2397 3584 2469 3576 \nQ 2541 3569 2628 3553 \nL 2631 2963 \nz\n\" transform=\"scale(0.015625)\"/>\n      <path id=\"DejaVuSans-62\" d=\"M 3116 1747 \nQ 3116 2381 2855 2742 \nQ 2594 3103 2138 3103 \nQ 1681 3103 1420 2742 \nQ 1159 2381 1159 1747 \nQ 1159 1113 1420 752 \nQ 1681 391 2138 391 \nQ 2594 391 2855 752 \nQ 3116 1113 3116 1747 \nz\nM 1159 2969 \nQ 1341 3281 1617 3432 \nQ 1894 3584 2278 3584 \nQ 2916 3584 3314 3078 \nQ 3713 2572 3713 1747 \nQ 3713 922 3314 415 \nQ 2916 -91 2278 -91 \nQ 1894 -91 1617 61 \nQ 1341 213 1159 525 \nL 1159 0 \nL 581 0 \nL 581 4863 \nL 1159 4863 \nL 1159 2969 \nz\n\" transform=\"scale(0.015625)\"/>\n      <path id=\"DejaVuSans-75\" d=\"M 544 1381 \nL 544 3500 \nL 1119 3500 \nL 1119 1403 \nQ 1119 906 1312 657 \nQ 1506 409 1894 409 \nQ 2359 409 2629 706 \nQ 2900 1003 2900 1516 \nL 2900 3500 \nL 3475 3500 \nL 3475 0 \nL 2900 0 \nL 2900 538 \nQ 2691 219 2414 64 \nQ 2138 -91 1772 -91 \nQ 1169 -91 856 284 \nQ 544 659 544 1381 \nz\nM 1991 3584 \nL 1991 3584 \nz\n\" transform=\"scale(0.015625)\"/>\n      <path id=\"DejaVuSans-6f\" d=\"M 1959 3097 \nQ 1497 3097 1228 2736 \nQ 959 2375 959 1747 \nQ 959 1119 1226 758 \nQ 1494 397 1959 397 \nQ 2419 397 2687 759 \nQ 2956 1122 2956 1747 \nQ 2956 2369 2687 2733 \nQ 2419 3097 1959 3097 \nz\nM 1959 3584 \nQ 2709 3584 3137 3096 \nQ 3566 2609 3566 1747 \nQ 3566 888 3137 398 \nQ 2709 -91 1959 -91 \nQ 1206 -91 779 398 \nQ 353 888 353 1747 \nQ 353 2609 779 3096 \nQ 1206 3584 1959 3584 \nz\n\" transform=\"scale(0.015625)\"/>\n      <path id=\"DejaVuSans-6e\" d=\"M 3513 2113 \nL 3513 0 \nL 2938 0 \nL 2938 2094 \nQ 2938 2591 2744 2837 \nQ 2550 3084 2163 3084 \nQ 1697 3084 1428 2787 \nQ 1159 2491 1159 1978 \nL 1159 0 \nL 581 0 \nL 581 3500 \nL 1159 3500 \nL 1159 2956 \nQ 1366 3272 1645 3428 \nQ 1925 3584 2291 3584 \nQ 2894 3584 3203 3211 \nQ 3513 2838 3513 2113 \nz\n\" transform=\"scale(0.015625)\"/>\n      <path id=\"DejaVuSans-79\" d=\"M 2059 -325 \nQ 1816 -950 1584 -1140 \nQ 1353 -1331 966 -1331 \nL 506 -1331 \nL 506 -850 \nL 844 -850 \nQ 1081 -850 1212 -737 \nQ 1344 -625 1503 -206 \nL 1606 56 \nL 191 3500 \nL 800 3500 \nL 1894 763 \nL 2988 3500 \nL 3597 3500 \nL 2059 -325 \nz\n\" transform=\"scale(0.015625)\"/>\n      <path id=\"DejaVuSans-47\" d=\"M 3809 666 \nL 3809 1919 \nL 2778 1919 \nL 2778 2438 \nL 4434 2438 \nL 4434 434 \nQ 4069 175 3628 42 \nQ 3188 -91 2688 -91 \nQ 1594 -91 976 548 \nQ 359 1188 359 2328 \nQ 359 3472 976 4111 \nQ 1594 4750 2688 4750 \nQ 3144 4750 3555 4637 \nQ 3966 4525 4313 4306 \nL 4313 3634 \nQ 3963 3931 3569 4081 \nQ 3175 4231 2741 4231 \nQ 1884 4231 1454 3753 \nQ 1025 3275 1025 2328 \nQ 1025 1384 1454 906 \nQ 1884 428 2741 428 \nQ 3075 428 3337 486 \nQ 3600 544 3809 666 \nz\n\" transform=\"scale(0.015625)\"/>\n      <path id=\"DejaVuSans-64\" d=\"M 2906 2969 \nL 2906 4863 \nL 3481 4863 \nL 3481 0 \nL 2906 0 \nL 2906 525 \nQ 2725 213 2448 61 \nQ 2172 -91 1784 -91 \nQ 1150 -91 751 415 \nQ 353 922 353 1747 \nQ 353 2572 751 3078 \nQ 1150 3584 1784 3584 \nQ 2172 3584 2448 3432 \nQ 2725 3281 2906 2969 \nz\nM 947 1747 \nQ 947 1113 1208 752 \nQ 1469 391 1925 391 \nQ 2381 391 2643 752 \nQ 2906 1113 2906 1747 \nQ 2906 2381 2643 2742 \nQ 2381 3103 1925 3103 \nQ 1469 3103 1208 2742 \nQ 947 2381 947 1747 \nz\n\" transform=\"scale(0.015625)\"/>\n     </defs>\n     <use xlink:href=\"#DejaVuSans-41\"/>\n     <use xlink:href=\"#DejaVuSans-67\" transform=\"translate(68.408203 0)\"/>\n     <use xlink:href=\"#DejaVuSans-65\" transform=\"translate(131.884766 0)\"/>\n     <use xlink:href=\"#DejaVuSans-20\" transform=\"translate(193.408203 0)\"/>\n     <use xlink:href=\"#DejaVuSans-44\" transform=\"translate(225.195312 0)\"/>\n     <use xlink:href=\"#DejaVuSans-69\" transform=\"translate(302.197266 0)\"/>\n     <use xlink:href=\"#DejaVuSans-73\" transform=\"translate(329.980469 0)\"/>\n     <use xlink:href=\"#DejaVuSans-74\" transform=\"translate(382.080078 0)\"/>\n     <use xlink:href=\"#DejaVuSans-72\" transform=\"translate(421.289062 0)\"/>\n     <use xlink:href=\"#DejaVuSans-69\" transform=\"translate(462.402344 0)\"/>\n     <use xlink:href=\"#DejaVuSans-62\" transform=\"translate(490.185547 0)\"/>\n     <use xlink:href=\"#DejaVuSans-75\" transform=\"translate(553.662109 0)\"/>\n     <use xlink:href=\"#DejaVuSans-74\" transform=\"translate(617.041016 0)\"/>\n     <use xlink:href=\"#DejaVuSans-69\" transform=\"translate(656.25 0)\"/>\n     <use xlink:href=\"#DejaVuSans-6f\" transform=\"translate(684.033203 0)\"/>\n     <use xlink:href=\"#DejaVuSans-6e\" transform=\"translate(745.214844 0)\"/>\n     <use xlink:href=\"#DejaVuSans-20\" transform=\"translate(808.59375 0)\"/>\n     <use xlink:href=\"#DejaVuSans-62\" transform=\"translate(840.380859 0)\"/>\n     <use xlink:href=\"#DejaVuSans-79\" transform=\"translate(903.857422 0)\"/>\n     <use xlink:href=\"#DejaVuSans-20\" transform=\"translate(963.037109 0)\"/>\n     <use xlink:href=\"#DejaVuSans-47\" transform=\"translate(994.824219 0)\"/>\n     <use xlink:href=\"#DejaVuSans-65\" transform=\"translate(1072.314453 0)\"/>\n     <use xlink:href=\"#DejaVuSans-6e\" transform=\"translate(1133.837891 0)\"/>\n     <use xlink:href=\"#DejaVuSans-64\" transform=\"translate(1197.216797 0)\"/>\n     <use xlink:href=\"#DejaVuSans-65\" transform=\"translate(1260.693359 0)\"/>\n     <use xlink:href=\"#DejaVuSans-72\" transform=\"translate(1322.216797 0)\"/>\n    </g>\n   </g>\n   <g id=\"legend_1\">\n    <g id=\"patch_7\">\n     <path d=\"M 804.673437 59.674375 \nL 872.828125 59.674375 \nQ 874.828125 59.674375 874.828125 57.674375 \nL 874.828125 29.318125 \nQ 874.828125 27.318125 872.828125 27.318125 \nL 804.673437 27.318125 \nQ 802.673437 27.318125 802.673437 29.318125 \nL 802.673437 57.674375 \nQ 802.673437 59.674375 804.673437 59.674375 \nz\n\" style=\"fill: #ffffff; opacity: 0.8; stroke: #cccccc; stroke-linejoin: miter\"/>\n    </g>\n    <g id=\"line2d_18\">\n     <path d=\"M 806.673437 35.416562 \nL 816.673437 35.416562 \nL 826.673437 35.416562 \n\" style=\"fill: none; stroke: #1f77b4; stroke-width: 1.5; stroke-linecap: square\"/>\n    </g>\n    <g id=\"text_18\">\n     <!-- Female -->\n     <g transform=\"translate(834.673437 38.916562) scale(0.1 -0.1)\">\n      <defs>\n       <path id=\"DejaVuSans-46\" d=\"M 628 4666 \nL 3309 4666 \nL 3309 4134 \nL 1259 4134 \nL 1259 2759 \nL 3109 2759 \nL 3109 2228 \nL 1259 2228 \nL 1259 0 \nL 628 0 \nL 628 4666 \nz\n\" transform=\"scale(0.015625)\"/>\n       <path id=\"DejaVuSans-6d\" d=\"M 3328 2828 \nQ 3544 3216 3844 3400 \nQ 4144 3584 4550 3584 \nQ 5097 3584 5394 3201 \nQ 5691 2819 5691 2113 \nL 5691 0 \nL 5113 0 \nL 5113 2094 \nQ 5113 2597 4934 2840 \nQ 4756 3084 4391 3084 \nQ 3944 3084 3684 2787 \nQ 3425 2491 3425 1978 \nL 3425 0 \nL 2847 0 \nL 2847 2094 \nQ 2847 2600 2669 2842 \nQ 2491 3084 2119 3084 \nQ 1678 3084 1418 2786 \nQ 1159 2488 1159 1978 \nL 1159 0 \nL 581 0 \nL 581 3500 \nL 1159 3500 \nL 1159 2956 \nQ 1356 3278 1631 3431 \nQ 1906 3584 2284 3584 \nQ 2666 3584 2933 3390 \nQ 3200 3197 3328 2828 \nz\n\" transform=\"scale(0.015625)\"/>\n       <path id=\"DejaVuSans-61\" d=\"M 2194 1759 \nQ 1497 1759 1228 1600 \nQ 959 1441 959 1056 \nQ 959 750 1161 570 \nQ 1363 391 1709 391 \nQ 2188 391 2477 730 \nQ 2766 1069 2766 1631 \nL 2766 1759 \nL 2194 1759 \nz\nM 3341 1997 \nL 3341 0 \nL 2766 0 \nL 2766 531 \nQ 2569 213 2275 61 \nQ 1981 -91 1556 -91 \nQ 1019 -91 701 211 \nQ 384 513 384 1019 \nQ 384 1609 779 1909 \nQ 1175 2209 1959 2209 \nL 2766 2209 \nL 2766 2266 \nQ 2766 2663 2505 2880 \nQ 2244 3097 1772 3097 \nQ 1472 3097 1187 3025 \nQ 903 2953 641 2809 \nL 641 3341 \nQ 956 3463 1253 3523 \nQ 1550 3584 1831 3584 \nQ 2591 3584 2966 3190 \nQ 3341 2797 3341 1997 \nz\n\" transform=\"scale(0.015625)\"/>\n       <path id=\"DejaVuSans-6c\" d=\"M 603 4863 \nL 1178 4863 \nL 1178 0 \nL 603 0 \nL 603 4863 \nz\n\" transform=\"scale(0.015625)\"/>\n      </defs>\n      <use xlink:href=\"#DejaVuSans-46\"/>\n      <use xlink:href=\"#DejaVuSans-65\" transform=\"translate(52.019531 0)\"/>\n      <use xlink:href=\"#DejaVuSans-6d\" transform=\"translate(113.542969 0)\"/>\n      <use xlink:href=\"#DejaVuSans-61\" transform=\"translate(210.955078 0)\"/>\n      <use xlink:href=\"#DejaVuSans-6c\" transform=\"translate(272.234375 0)\"/>\n      <use xlink:href=\"#DejaVuSans-65\" transform=\"translate(300.017578 0)\"/>\n     </g>\n    </g>\n    <g id=\"line2d_19\">\n     <path d=\"M 806.673437 50.094688 \nL 816.673437 50.094688 \nL 826.673437 50.094688 \n\" style=\"fill: none; stroke: #ff7f0e; stroke-width: 1.5; stroke-linecap: square\"/>\n    </g>\n    <g id=\"text_19\">\n     <!-- Male -->\n     <g transform=\"translate(834.673437 53.594688) scale(0.1 -0.1)\">\n      <defs>\n       <path id=\"DejaVuSans-4d\" d=\"M 628 4666 \nL 1569 4666 \nL 2759 1491 \nL 3956 4666 \nL 4897 4666 \nL 4897 0 \nL 4281 0 \nL 4281 4097 \nL 3078 897 \nL 2444 897 \nL 1241 4097 \nL 1241 0 \nL 628 0 \nL 628 4666 \nz\n\" transform=\"scale(0.015625)\"/>\n      </defs>\n      <use xlink:href=\"#DejaVuSans-4d\"/>\n      <use xlink:href=\"#DejaVuSans-61\" transform=\"translate(86.279297 0)\"/>\n      <use xlink:href=\"#DejaVuSans-6c\" transform=\"translate(147.558594 0)\"/>\n      <use xlink:href=\"#DejaVuSans-65\" transform=\"translate(175.341797 0)\"/>\n     </g>\n    </g>\n   </g>\n  </g>\n </g>\n <defs>\n  <clipPath id=\"p2c2845168e\">\n   <rect x=\"42.828125\" y=\"22.318125\" width=\"837\" height=\"277.2\"/>\n  </clipPath>\n </defs>\n</svg>\n"
          },
          "metadata": {}
        }
      ]
    },
    {
      "cell_type": "code",
      "source": [
        "data.groupby('income')[['capital-gain', 'capital-loss']].mean().plot(kind='bar', title='Average Capital Gain/Loss by Income')\n",
        "plt.ylabel('Amount ($)')"
      ],
      "metadata": {
        "colab": {
          "base_uri": "https://localhost:8080/",
          "height": 527
        },
        "id": "98YlTH4glH42",
        "outputId": "7ce067bf-5cea-430b-fd8e-c7cd72789b07"
      },
      "execution_count": 39,
      "outputs": [
        {
          "output_type": "execute_result",
          "data": {
            "text/plain": [
              "Text(0, 0.5, 'Amount ($)')"
            ]
          },
          "metadata": {},
          "execution_count": 39
        },
        {
          "output_type": "display_data",
          "data": {
            "text/plain": [
              "<Figure size 1500x500 with 1 Axes>"
            ],
            "image/svg+xml": "<?xml version=\"1.0\" encoding=\"utf-8\" standalone=\"no\"?>\n<!DOCTYPE svg PUBLIC \"-//W3C//DTD SVG 1.1//EN\"\n  \"http://www.w3.org/Graphics/SVG/1.1/DTD/svg11.dtd\">\n<svg xmlns:xlink=\"http://www.w3.org/1999/xlink\" width=\"897.528125pt\" height=\"366.616563pt\" viewBox=\"0 0 897.528125 366.616563\" xmlns=\"http://www.w3.org/2000/svg\" version=\"1.1\">\n <metadata>\n  <rdf:RDF xmlns:dc=\"http://purl.org/dc/elements/1.1/\" xmlns:cc=\"http://creativecommons.org/ns#\" xmlns:rdf=\"http://www.w3.org/1999/02/22-rdf-syntax-ns#\">\n   <cc:Work>\n    <dc:type rdf:resource=\"http://purl.org/dc/dcmitype/StillImage\"/>\n    <dc:date>2025-07-09T17:26:20.540146</dc:date>\n    <dc:format>image/svg+xml</dc:format>\n    <dc:creator>\n     <cc:Agent>\n      <dc:title>Matplotlib v3.10.0, https://matplotlib.org/</dc:title>\n     </cc:Agent>\n    </dc:creator>\n   </cc:Work>\n  </rdf:RDF>\n </metadata>\n <defs>\n  <style type=\"text/css\">*{stroke-linejoin: round; stroke-linecap: butt}</style>\n </defs>\n <g id=\"figure_1\">\n  <g id=\"patch_1\">\n   <path d=\"M 0 366.616563 \nL 897.528125 366.616563 \nL 897.528125 0 \nL 0 0 \nz\n\" style=\"fill: #ffffff\"/>\n  </g>\n  <g id=\"axes_1\">\n   <g id=\"patch_2\">\n    <path d=\"M 53.328125 299.518125 \nL 890.328125 299.518125 \nL 890.328125 22.318125 \nL 53.328125 22.318125 \nz\n\" style=\"fill: #ffffff\"/>\n   </g>\n   <g id=\"patch_3\">\n    <path d=\"M 105.640625 299.518125 \nL 157.953125 299.518125 \nL 157.953125 289.976761 \nL 105.640625 289.976761 \nz\n\" clip-path=\"url(#p00957ce82a)\" style=\"fill: #1f77b4\"/>\n   </g>\n   <g id=\"patch_4\">\n    <path d=\"M 314.890625 299.518125 \nL 367.203125 299.518125 \nL 367.203125 290.310653 \nL 314.890625 290.310653 \nz\n\" clip-path=\"url(#p00957ce82a)\" style=\"fill: #1f77b4\"/>\n   </g>\n   <g id=\"patch_5\">\n    <path d=\"M 524.140625 299.518125 \nL 576.453125 299.518125 \nL 576.453125 42.553895 \nL 524.140625 42.553895 \nz\n\" clip-path=\"url(#p00957ce82a)\" style=\"fill: #1f77b4\"/>\n   </g>\n   <g id=\"patch_6\">\n    <path d=\"M 733.390625 299.518125 \nL 785.703125 299.518125 \nL 785.703125 35.518125 \nL 733.390625 35.518125 \nz\n\" clip-path=\"url(#p00957ce82a)\" style=\"fill: #1f77b4\"/>\n   </g>\n   <g id=\"patch_7\">\n    <path d=\"M 157.953125 299.518125 \nL 210.265625 299.518125 \nL 210.265625 296.109402 \nL 157.953125 296.109402 \nz\n\" clip-path=\"url(#p00957ce82a)\" style=\"fill: #ff7f0e\"/>\n   </g>\n   <g id=\"patch_8\">\n    <path d=\"M 367.203125 299.518125 \nL 419.515625 299.518125 \nL 419.515625 295.916021 \nL 367.203125 295.916021 \nz\n\" clip-path=\"url(#p00957ce82a)\" style=\"fill: #ff7f0e\"/>\n   </g>\n   <g id=\"patch_9\">\n    <path d=\"M 576.453125 299.518125 \nL 628.765625 299.518125 \nL 628.765625 287.010228 \nL 576.453125 287.010228 \nz\n\" clip-path=\"url(#p00957ce82a)\" style=\"fill: #ff7f0e\"/>\n   </g>\n   <g id=\"patch_10\">\n    <path d=\"M 785.703125 299.518125 \nL 838.015625 299.518125 \nL 838.015625 287.29725 \nL 785.703125 287.29725 \nz\n\" clip-path=\"url(#p00957ce82a)\" style=\"fill: #ff7f0e\"/>\n   </g>\n   <g id=\"matplotlib.axis_1\">\n    <g id=\"xtick_1\">\n     <g id=\"line2d_1\">\n      <defs>\n       <path id=\"m777a911c76\" d=\"M 0 0 \nL 0 3.5 \n\" style=\"stroke: #000000; stroke-width: 0.8\"/>\n      </defs>\n      <g>\n       <use xlink:href=\"#m777a911c76\" x=\"157.953125\" y=\"299.518125\" style=\"stroke: #000000; stroke-width: 0.8\"/>\n      </g>\n     </g>\n     <g id=\"text_1\">\n      <!-- &lt;=50K -->\n      <g transform=\"translate(160.7125 342.560313) rotate(-90) scale(0.1 -0.1)\">\n       <defs>\n        <path id=\"DejaVuSans-3c\" d=\"M 4684 3150 \nL 1459 2003 \nL 4684 863 \nL 4684 294 \nL 678 1747 \nL 678 2266 \nL 4684 3719 \nL 4684 3150 \nz\n\" transform=\"scale(0.015625)\"/>\n        <path id=\"DejaVuSans-3d\" d=\"M 678 2906 \nL 4684 2906 \nL 4684 2381 \nL 678 2381 \nL 678 2906 \nz\nM 678 1631 \nL 4684 1631 \nL 4684 1100 \nL 678 1100 \nL 678 1631 \nz\n\" transform=\"scale(0.015625)\"/>\n        <path id=\"DejaVuSans-35\" d=\"M 691 4666 \nL 3169 4666 \nL 3169 4134 \nL 1269 4134 \nL 1269 2991 \nQ 1406 3038 1543 3061 \nQ 1681 3084 1819 3084 \nQ 2600 3084 3056 2656 \nQ 3513 2228 3513 1497 \nQ 3513 744 3044 326 \nQ 2575 -91 1722 -91 \nQ 1428 -91 1123 -41 \nQ 819 9 494 109 \nL 494 744 \nQ 775 591 1075 516 \nQ 1375 441 1709 441 \nQ 2250 441 2565 725 \nQ 2881 1009 2881 1497 \nQ 2881 1984 2565 2268 \nQ 2250 2553 1709 2553 \nQ 1456 2553 1204 2497 \nQ 953 2441 691 2322 \nL 691 4666 \nz\n\" transform=\"scale(0.015625)\"/>\n        <path id=\"DejaVuSans-30\" d=\"M 2034 4250 \nQ 1547 4250 1301 3770 \nQ 1056 3291 1056 2328 \nQ 1056 1369 1301 889 \nQ 1547 409 2034 409 \nQ 2525 409 2770 889 \nQ 3016 1369 3016 2328 \nQ 3016 3291 2770 3770 \nQ 2525 4250 2034 4250 \nz\nM 2034 4750 \nQ 2819 4750 3233 4129 \nQ 3647 3509 3647 2328 \nQ 3647 1150 3233 529 \nQ 2819 -91 2034 -91 \nQ 1250 -91 836 529 \nQ 422 1150 422 2328 \nQ 422 3509 836 4129 \nQ 1250 4750 2034 4750 \nz\n\" transform=\"scale(0.015625)\"/>\n        <path id=\"DejaVuSans-4b\" d=\"M 628 4666 \nL 1259 4666 \nL 1259 2694 \nL 3353 4666 \nL 4166 4666 \nL 1850 2491 \nL 4331 0 \nL 3500 0 \nL 1259 2247 \nL 1259 0 \nL 628 0 \nL 628 4666 \nz\n\" transform=\"scale(0.015625)\"/>\n       </defs>\n       <use xlink:href=\"#DejaVuSans-3c\"/>\n       <use xlink:href=\"#DejaVuSans-3d\" transform=\"translate(83.789062 0)\"/>\n       <use xlink:href=\"#DejaVuSans-35\" transform=\"translate(167.578125 0)\"/>\n       <use xlink:href=\"#DejaVuSans-30\" transform=\"translate(231.201172 0)\"/>\n       <use xlink:href=\"#DejaVuSans-4b\" transform=\"translate(294.824219 0)\"/>\n      </g>\n     </g>\n    </g>\n    <g id=\"xtick_2\">\n     <g id=\"line2d_2\">\n      <g>\n       <use xlink:href=\"#m777a911c76\" x=\"367.203125\" y=\"299.518125\" style=\"stroke: #000000; stroke-width: 0.8\"/>\n      </g>\n     </g>\n     <g id=\"text_2\">\n      <!-- &lt;=50K. -->\n      <g transform=\"translate(369.9625 345.738438) rotate(-90) scale(0.1 -0.1)\">\n       <defs>\n        <path id=\"DejaVuSans-2e\" d=\"M 684 794 \nL 1344 794 \nL 1344 0 \nL 684 0 \nL 684 794 \nz\n\" transform=\"scale(0.015625)\"/>\n       </defs>\n       <use xlink:href=\"#DejaVuSans-3c\"/>\n       <use xlink:href=\"#DejaVuSans-3d\" transform=\"translate(83.789062 0)\"/>\n       <use xlink:href=\"#DejaVuSans-35\" transform=\"translate(167.578125 0)\"/>\n       <use xlink:href=\"#DejaVuSans-30\" transform=\"translate(231.201172 0)\"/>\n       <use xlink:href=\"#DejaVuSans-4b\" transform=\"translate(294.824219 0)\"/>\n       <use xlink:href=\"#DejaVuSans-2e\" transform=\"translate(360.400391 0)\"/>\n      </g>\n     </g>\n    </g>\n    <g id=\"xtick_3\">\n     <g id=\"line2d_3\">\n      <g>\n       <use xlink:href=\"#m777a911c76\" x=\"576.453125\" y=\"299.518125\" style=\"stroke: #000000; stroke-width: 0.8\"/>\n      </g>\n     </g>\n     <g id=\"text_3\">\n      <!-- &gt;50K -->\n      <g transform=\"translate(579.2125 334.180625) rotate(-90) scale(0.1 -0.1)\">\n       <defs>\n        <path id=\"DejaVuSans-3e\" d=\"M 678 3150 \nL 678 3719 \nL 4684 2266 \nL 4684 1747 \nL 678 294 \nL 678 863 \nL 3897 2003 \nL 678 3150 \nz\n\" transform=\"scale(0.015625)\"/>\n       </defs>\n       <use xlink:href=\"#DejaVuSans-3e\"/>\n       <use xlink:href=\"#DejaVuSans-35\" transform=\"translate(83.789062 0)\"/>\n       <use xlink:href=\"#DejaVuSans-30\" transform=\"translate(147.412109 0)\"/>\n       <use xlink:href=\"#DejaVuSans-4b\" transform=\"translate(211.035156 0)\"/>\n      </g>\n     </g>\n    </g>\n    <g id=\"xtick_4\">\n     <g id=\"line2d_4\">\n      <g>\n       <use xlink:href=\"#m777a911c76\" x=\"785.703125\" y=\"299.518125\" style=\"stroke: #000000; stroke-width: 0.8\"/>\n      </g>\n     </g>\n     <g id=\"text_4\">\n      <!-- &gt;50K. -->\n      <g transform=\"translate(788.4625 337.35875) rotate(-90) scale(0.1 -0.1)\">\n       <use xlink:href=\"#DejaVuSans-3e\"/>\n       <use xlink:href=\"#DejaVuSans-35\" transform=\"translate(83.789062 0)\"/>\n       <use xlink:href=\"#DejaVuSans-30\" transform=\"translate(147.412109 0)\"/>\n       <use xlink:href=\"#DejaVuSans-4b\" transform=\"translate(211.035156 0)\"/>\n       <use xlink:href=\"#DejaVuSans-2e\" transform=\"translate(276.611328 0)\"/>\n      </g>\n     </g>\n    </g>\n    <g id=\"text_5\">\n     <!-- income -->\n     <g transform=\"translate(453.514844 357.336875) scale(0.1 -0.1)\">\n      <defs>\n       <path id=\"DejaVuSans-69\" d=\"M 603 3500 \nL 1178 3500 \nL 1178 0 \nL 603 0 \nL 603 3500 \nz\nM 603 4863 \nL 1178 4863 \nL 1178 4134 \nL 603 4134 \nL 603 4863 \nz\n\" transform=\"scale(0.015625)\"/>\n       <path id=\"DejaVuSans-6e\" d=\"M 3513 2113 \nL 3513 0 \nL 2938 0 \nL 2938 2094 \nQ 2938 2591 2744 2837 \nQ 2550 3084 2163 3084 \nQ 1697 3084 1428 2787 \nQ 1159 2491 1159 1978 \nL 1159 0 \nL 581 0 \nL 581 3500 \nL 1159 3500 \nL 1159 2956 \nQ 1366 3272 1645 3428 \nQ 1925 3584 2291 3584 \nQ 2894 3584 3203 3211 \nQ 3513 2838 3513 2113 \nz\n\" transform=\"scale(0.015625)\"/>\n       <path id=\"DejaVuSans-63\" d=\"M 3122 3366 \nL 3122 2828 \nQ 2878 2963 2633 3030 \nQ 2388 3097 2138 3097 \nQ 1578 3097 1268 2742 \nQ 959 2388 959 1747 \nQ 959 1106 1268 751 \nQ 1578 397 2138 397 \nQ 2388 397 2633 464 \nQ 2878 531 3122 666 \nL 3122 134 \nQ 2881 22 2623 -34 \nQ 2366 -91 2075 -91 \nQ 1284 -91 818 406 \nQ 353 903 353 1747 \nQ 353 2603 823 3093 \nQ 1294 3584 2113 3584 \nQ 2378 3584 2631 3529 \nQ 2884 3475 3122 3366 \nz\n\" transform=\"scale(0.015625)\"/>\n       <path id=\"DejaVuSans-6f\" d=\"M 1959 3097 \nQ 1497 3097 1228 2736 \nQ 959 2375 959 1747 \nQ 959 1119 1226 758 \nQ 1494 397 1959 397 \nQ 2419 397 2687 759 \nQ 2956 1122 2956 1747 \nQ 2956 2369 2687 2733 \nQ 2419 3097 1959 3097 \nz\nM 1959 3584 \nQ 2709 3584 3137 3096 \nQ 3566 2609 3566 1747 \nQ 3566 888 3137 398 \nQ 2709 -91 1959 -91 \nQ 1206 -91 779 398 \nQ 353 888 353 1747 \nQ 353 2609 779 3096 \nQ 1206 3584 1959 3584 \nz\n\" transform=\"scale(0.015625)\"/>\n       <path id=\"DejaVuSans-6d\" d=\"M 3328 2828 \nQ 3544 3216 3844 3400 \nQ 4144 3584 4550 3584 \nQ 5097 3584 5394 3201 \nQ 5691 2819 5691 2113 \nL 5691 0 \nL 5113 0 \nL 5113 2094 \nQ 5113 2597 4934 2840 \nQ 4756 3084 4391 3084 \nQ 3944 3084 3684 2787 \nQ 3425 2491 3425 1978 \nL 3425 0 \nL 2847 0 \nL 2847 2094 \nQ 2847 2600 2669 2842 \nQ 2491 3084 2119 3084 \nQ 1678 3084 1418 2786 \nQ 1159 2488 1159 1978 \nL 1159 0 \nL 581 0 \nL 581 3500 \nL 1159 3500 \nL 1159 2956 \nQ 1356 3278 1631 3431 \nQ 1906 3584 2284 3584 \nQ 2666 3584 2933 3390 \nQ 3200 3197 3328 2828 \nz\n\" transform=\"scale(0.015625)\"/>\n       <path id=\"DejaVuSans-65\" d=\"M 3597 1894 \nL 3597 1613 \nL 953 1613 \nQ 991 1019 1311 708 \nQ 1631 397 2203 397 \nQ 2534 397 2845 478 \nQ 3156 559 3463 722 \nL 3463 178 \nQ 3153 47 2828 -22 \nQ 2503 -91 2169 -91 \nQ 1331 -91 842 396 \nQ 353 884 353 1716 \nQ 353 2575 817 3079 \nQ 1281 3584 2069 3584 \nQ 2775 3584 3186 3129 \nQ 3597 2675 3597 1894 \nz\nM 3022 2063 \nQ 3016 2534 2758 2815 \nQ 2500 3097 2075 3097 \nQ 1594 3097 1305 2825 \nQ 1016 2553 972 2059 \nL 3022 2063 \nz\n\" transform=\"scale(0.015625)\"/>\n      </defs>\n      <use xlink:href=\"#DejaVuSans-69\"/>\n      <use xlink:href=\"#DejaVuSans-6e\" transform=\"translate(27.783203 0)\"/>\n      <use xlink:href=\"#DejaVuSans-63\" transform=\"translate(91.162109 0)\"/>\n      <use xlink:href=\"#DejaVuSans-6f\" transform=\"translate(146.142578 0)\"/>\n      <use xlink:href=\"#DejaVuSans-6d\" transform=\"translate(207.324219 0)\"/>\n      <use xlink:href=\"#DejaVuSans-65\" transform=\"translate(304.736328 0)\"/>\n     </g>\n    </g>\n   </g>\n   <g id=\"matplotlib.axis_2\">\n    <g id=\"ytick_1\">\n     <g id=\"line2d_5\">\n      <defs>\n       <path id=\"mf3e8679c9b\" d=\"M 0 0 \nL -3.5 0 \n\" style=\"stroke: #000000; stroke-width: 0.8\"/>\n      </defs>\n      <g>\n       <use xlink:href=\"#mf3e8679c9b\" x=\"53.328125\" y=\"299.518125\" style=\"stroke: #000000; stroke-width: 0.8\"/>\n      </g>\n     </g>\n     <g id=\"text_6\">\n      <!-- 0 -->\n      <g transform=\"translate(39.965625 303.317344) scale(0.1 -0.1)\">\n       <use xlink:href=\"#DejaVuSans-30\"/>\n      </g>\n     </g>\n    </g>\n    <g id=\"ytick_2\">\n     <g id=\"line2d_6\">\n      <g>\n       <use xlink:href=\"#mf3e8679c9b\" x=\"53.328125\" y=\"267.446845\" style=\"stroke: #000000; stroke-width: 0.8\"/>\n      </g>\n     </g>\n     <g id=\"text_7\">\n      <!-- 500 -->\n      <g transform=\"translate(27.240625 271.246064) scale(0.1 -0.1)\">\n       <use xlink:href=\"#DejaVuSans-35\"/>\n       <use xlink:href=\"#DejaVuSans-30\" transform=\"translate(63.623047 0)\"/>\n       <use xlink:href=\"#DejaVuSans-30\" transform=\"translate(127.246094 0)\"/>\n      </g>\n     </g>\n    </g>\n    <g id=\"ytick_3\">\n     <g id=\"line2d_7\">\n      <g>\n       <use xlink:href=\"#mf3e8679c9b\" x=\"53.328125\" y=\"235.375566\" style=\"stroke: #000000; stroke-width: 0.8\"/>\n      </g>\n     </g>\n     <g id=\"text_8\">\n      <!-- 1000 -->\n      <g transform=\"translate(20.878125 239.174785) scale(0.1 -0.1)\">\n       <defs>\n        <path id=\"DejaVuSans-31\" d=\"M 794 531 \nL 1825 531 \nL 1825 4091 \nL 703 3866 \nL 703 4441 \nL 1819 4666 \nL 2450 4666 \nL 2450 531 \nL 3481 531 \nL 3481 0 \nL 794 0 \nL 794 531 \nz\n\" transform=\"scale(0.015625)\"/>\n       </defs>\n       <use xlink:href=\"#DejaVuSans-31\"/>\n       <use xlink:href=\"#DejaVuSans-30\" transform=\"translate(63.623047 0)\"/>\n       <use xlink:href=\"#DejaVuSans-30\" transform=\"translate(127.246094 0)\"/>\n       <use xlink:href=\"#DejaVuSans-30\" transform=\"translate(190.869141 0)\"/>\n      </g>\n     </g>\n    </g>\n    <g id=\"ytick_4\">\n     <g id=\"line2d_8\">\n      <g>\n       <use xlink:href=\"#mf3e8679c9b\" x=\"53.328125\" y=\"203.304286\" style=\"stroke: #000000; stroke-width: 0.8\"/>\n      </g>\n     </g>\n     <g id=\"text_9\">\n      <!-- 1500 -->\n      <g transform=\"translate(20.878125 207.103505) scale(0.1 -0.1)\">\n       <use xlink:href=\"#DejaVuSans-31\"/>\n       <use xlink:href=\"#DejaVuSans-35\" transform=\"translate(63.623047 0)\"/>\n       <use xlink:href=\"#DejaVuSans-30\" transform=\"translate(127.246094 0)\"/>\n       <use xlink:href=\"#DejaVuSans-30\" transform=\"translate(190.869141 0)\"/>\n      </g>\n     </g>\n    </g>\n    <g id=\"ytick_5\">\n     <g id=\"line2d_9\">\n      <g>\n       <use xlink:href=\"#mf3e8679c9b\" x=\"53.328125\" y=\"171.233007\" style=\"stroke: #000000; stroke-width: 0.8\"/>\n      </g>\n     </g>\n     <g id=\"text_10\">\n      <!-- 2000 -->\n      <g transform=\"translate(20.878125 175.032225) scale(0.1 -0.1)\">\n       <defs>\n        <path id=\"DejaVuSans-32\" d=\"M 1228 531 \nL 3431 531 \nL 3431 0 \nL 469 0 \nL 469 531 \nQ 828 903 1448 1529 \nQ 2069 2156 2228 2338 \nQ 2531 2678 2651 2914 \nQ 2772 3150 2772 3378 \nQ 2772 3750 2511 3984 \nQ 2250 4219 1831 4219 \nQ 1534 4219 1204 4116 \nQ 875 4013 500 3803 \nL 500 4441 \nQ 881 4594 1212 4672 \nQ 1544 4750 1819 4750 \nQ 2544 4750 2975 4387 \nQ 3406 4025 3406 3419 \nQ 3406 3131 3298 2873 \nQ 3191 2616 2906 2266 \nQ 2828 2175 2409 1742 \nQ 1991 1309 1228 531 \nz\n\" transform=\"scale(0.015625)\"/>\n       </defs>\n       <use xlink:href=\"#DejaVuSans-32\"/>\n       <use xlink:href=\"#DejaVuSans-30\" transform=\"translate(63.623047 0)\"/>\n       <use xlink:href=\"#DejaVuSans-30\" transform=\"translate(127.246094 0)\"/>\n       <use xlink:href=\"#DejaVuSans-30\" transform=\"translate(190.869141 0)\"/>\n      </g>\n     </g>\n    </g>\n    <g id=\"ytick_6\">\n     <g id=\"line2d_10\">\n      <g>\n       <use xlink:href=\"#mf3e8679c9b\" x=\"53.328125\" y=\"139.161727\" style=\"stroke: #000000; stroke-width: 0.8\"/>\n      </g>\n     </g>\n     <g id=\"text_11\">\n      <!-- 2500 -->\n      <g transform=\"translate(20.878125 142.960946) scale(0.1 -0.1)\">\n       <use xlink:href=\"#DejaVuSans-32\"/>\n       <use xlink:href=\"#DejaVuSans-35\" transform=\"translate(63.623047 0)\"/>\n       <use xlink:href=\"#DejaVuSans-30\" transform=\"translate(127.246094 0)\"/>\n       <use xlink:href=\"#DejaVuSans-30\" transform=\"translate(190.869141 0)\"/>\n      </g>\n     </g>\n    </g>\n    <g id=\"ytick_7\">\n     <g id=\"line2d_11\">\n      <g>\n       <use xlink:href=\"#mf3e8679c9b\" x=\"53.328125\" y=\"107.090447\" style=\"stroke: #000000; stroke-width: 0.8\"/>\n      </g>\n     </g>\n     <g id=\"text_12\">\n      <!-- 3000 -->\n      <g transform=\"translate(20.878125 110.889666) scale(0.1 -0.1)\">\n       <defs>\n        <path id=\"DejaVuSans-33\" d=\"M 2597 2516 \nQ 3050 2419 3304 2112 \nQ 3559 1806 3559 1356 \nQ 3559 666 3084 287 \nQ 2609 -91 1734 -91 \nQ 1441 -91 1130 -33 \nQ 819 25 488 141 \nL 488 750 \nQ 750 597 1062 519 \nQ 1375 441 1716 441 \nQ 2309 441 2620 675 \nQ 2931 909 2931 1356 \nQ 2931 1769 2642 2001 \nQ 2353 2234 1838 2234 \nL 1294 2234 \nL 1294 2753 \nL 1863 2753 \nQ 2328 2753 2575 2939 \nQ 2822 3125 2822 3475 \nQ 2822 3834 2567 4026 \nQ 2313 4219 1838 4219 \nQ 1578 4219 1281 4162 \nQ 984 4106 628 3988 \nL 628 4550 \nQ 988 4650 1302 4700 \nQ 1616 4750 1894 4750 \nQ 2613 4750 3031 4423 \nQ 3450 4097 3450 3541 \nQ 3450 3153 3228 2886 \nQ 3006 2619 2597 2516 \nz\n\" transform=\"scale(0.015625)\"/>\n       </defs>\n       <use xlink:href=\"#DejaVuSans-33\"/>\n       <use xlink:href=\"#DejaVuSans-30\" transform=\"translate(63.623047 0)\"/>\n       <use xlink:href=\"#DejaVuSans-30\" transform=\"translate(127.246094 0)\"/>\n       <use xlink:href=\"#DejaVuSans-30\" transform=\"translate(190.869141 0)\"/>\n      </g>\n     </g>\n    </g>\n    <g id=\"ytick_8\">\n     <g id=\"line2d_12\">\n      <g>\n       <use xlink:href=\"#mf3e8679c9b\" x=\"53.328125\" y=\"75.019168\" style=\"stroke: #000000; stroke-width: 0.8\"/>\n      </g>\n     </g>\n     <g id=\"text_13\">\n      <!-- 3500 -->\n      <g transform=\"translate(20.878125 78.818386) scale(0.1 -0.1)\">\n       <use xlink:href=\"#DejaVuSans-33\"/>\n       <use xlink:href=\"#DejaVuSans-35\" transform=\"translate(63.623047 0)\"/>\n       <use xlink:href=\"#DejaVuSans-30\" transform=\"translate(127.246094 0)\"/>\n       <use xlink:href=\"#DejaVuSans-30\" transform=\"translate(190.869141 0)\"/>\n      </g>\n     </g>\n    </g>\n    <g id=\"ytick_9\">\n     <g id=\"line2d_13\">\n      <g>\n       <use xlink:href=\"#mf3e8679c9b\" x=\"53.328125\" y=\"42.947888\" style=\"stroke: #000000; stroke-width: 0.8\"/>\n      </g>\n     </g>\n     <g id=\"text_14\">\n      <!-- 4000 -->\n      <g transform=\"translate(20.878125 46.747107) scale(0.1 -0.1)\">\n       <defs>\n        <path id=\"DejaVuSans-34\" d=\"M 2419 4116 \nL 825 1625 \nL 2419 1625 \nL 2419 4116 \nz\nM 2253 4666 \nL 3047 4666 \nL 3047 1625 \nL 3713 1625 \nL 3713 1100 \nL 3047 1100 \nL 3047 0 \nL 2419 0 \nL 2419 1100 \nL 313 1100 \nL 313 1709 \nL 2253 4666 \nz\n\" transform=\"scale(0.015625)\"/>\n       </defs>\n       <use xlink:href=\"#DejaVuSans-34\"/>\n       <use xlink:href=\"#DejaVuSans-30\" transform=\"translate(63.623047 0)\"/>\n       <use xlink:href=\"#DejaVuSans-30\" transform=\"translate(127.246094 0)\"/>\n       <use xlink:href=\"#DejaVuSans-30\" transform=\"translate(190.869141 0)\"/>\n      </g>\n     </g>\n    </g>\n    <g id=\"text_15\">\n     <!-- Amount ($) -->\n     <g transform=\"translate(14.798438 189.237656) rotate(-90) scale(0.1 -0.1)\">\n      <defs>\n       <path id=\"DejaVuSans-41\" d=\"M 2188 4044 \nL 1331 1722 \nL 3047 1722 \nL 2188 4044 \nz\nM 1831 4666 \nL 2547 4666 \nL 4325 0 \nL 3669 0 \nL 3244 1197 \nL 1141 1197 \nL 716 0 \nL 50 0 \nL 1831 4666 \nz\n\" transform=\"scale(0.015625)\"/>\n       <path id=\"DejaVuSans-75\" d=\"M 544 1381 \nL 544 3500 \nL 1119 3500 \nL 1119 1403 \nQ 1119 906 1312 657 \nQ 1506 409 1894 409 \nQ 2359 409 2629 706 \nQ 2900 1003 2900 1516 \nL 2900 3500 \nL 3475 3500 \nL 3475 0 \nL 2900 0 \nL 2900 538 \nQ 2691 219 2414 64 \nQ 2138 -91 1772 -91 \nQ 1169 -91 856 284 \nQ 544 659 544 1381 \nz\nM 1991 3584 \nL 1991 3584 \nz\n\" transform=\"scale(0.015625)\"/>\n       <path id=\"DejaVuSans-74\" d=\"M 1172 4494 \nL 1172 3500 \nL 2356 3500 \nL 2356 3053 \nL 1172 3053 \nL 1172 1153 \nQ 1172 725 1289 603 \nQ 1406 481 1766 481 \nL 2356 481 \nL 2356 0 \nL 1766 0 \nQ 1100 0 847 248 \nQ 594 497 594 1153 \nL 594 3053 \nL 172 3053 \nL 172 3500 \nL 594 3500 \nL 594 4494 \nL 1172 4494 \nz\n\" transform=\"scale(0.015625)\"/>\n       <path id=\"DejaVuSans-20\" transform=\"scale(0.015625)\"/>\n       <path id=\"DejaVuSans-28\" d=\"M 1984 4856 \nQ 1566 4138 1362 3434 \nQ 1159 2731 1159 2009 \nQ 1159 1288 1364 580 \nQ 1569 -128 1984 -844 \nL 1484 -844 \nQ 1016 -109 783 600 \nQ 550 1309 550 2009 \nQ 550 2706 781 3412 \nQ 1013 4119 1484 4856 \nL 1984 4856 \nz\n\" transform=\"scale(0.015625)\"/>\n       <path id=\"DejaVuSans-24\" d=\"M 2163 -941 \nL 1850 -941 \nL 1847 0 \nQ 1519 6 1191 76 \nQ 863 147 531 288 \nL 531 850 \nQ 850 650 1176 548 \nQ 1503 447 1850 444 \nL 1850 1869 \nQ 1159 1981 845 2250 \nQ 531 2519 531 2988 \nQ 531 3497 872 3790 \nQ 1213 4084 1850 4128 \nL 1850 4863 \nL 2163 4863 \nL 2163 4138 \nQ 2453 4125 2725 4076 \nQ 2997 4028 3256 3944 \nL 3256 3397 \nQ 2997 3528 2723 3600 \nQ 2450 3672 2163 3684 \nL 2163 2350 \nQ 2872 2241 3206 1959 \nQ 3541 1678 3541 1191 \nQ 3541 663 3186 358 \nQ 2831 53 2163 6 \nL 2163 -941 \nz\nM 1850 2406 \nL 1850 3688 \nQ 1488 3647 1297 3481 \nQ 1106 3316 1106 3041 \nQ 1106 2772 1282 2622 \nQ 1459 2472 1850 2406 \nz\nM 2163 1806 \nL 2163 453 \nQ 2559 506 2761 678 \nQ 2963 850 2963 1131 \nQ 2963 1406 2770 1568 \nQ 2578 1731 2163 1806 \nz\n\" transform=\"scale(0.015625)\"/>\n       <path id=\"DejaVuSans-29\" d=\"M 513 4856 \nL 1013 4856 \nQ 1481 4119 1714 3412 \nQ 1947 2706 1947 2009 \nQ 1947 1309 1714 600 \nQ 1481 -109 1013 -844 \nL 513 -844 \nQ 928 -128 1133 580 \nQ 1338 1288 1338 2009 \nQ 1338 2731 1133 3434 \nQ 928 4138 513 4856 \nz\n\" transform=\"scale(0.015625)\"/>\n      </defs>\n      <use xlink:href=\"#DejaVuSans-41\"/>\n      <use xlink:href=\"#DejaVuSans-6d\" transform=\"translate(68.408203 0)\"/>\n      <use xlink:href=\"#DejaVuSans-6f\" transform=\"translate(165.820312 0)\"/>\n      <use xlink:href=\"#DejaVuSans-75\" transform=\"translate(227.001953 0)\"/>\n      <use xlink:href=\"#DejaVuSans-6e\" transform=\"translate(290.380859 0)\"/>\n      <use xlink:href=\"#DejaVuSans-74\" transform=\"translate(353.759766 0)\"/>\n      <use xlink:href=\"#DejaVuSans-20\" transform=\"translate(392.96875 0)\"/>\n      <use xlink:href=\"#DejaVuSans-28\" transform=\"translate(424.755859 0)\"/>\n      <use xlink:href=\"#DejaVuSans-24\" transform=\"translate(463.769531 0)\"/>\n      <use xlink:href=\"#DejaVuSans-29\" transform=\"translate(527.392578 0)\"/>\n     </g>\n    </g>\n   </g>\n   <g id=\"patch_11\">\n    <path d=\"M 53.328125 299.518125 \nL 53.328125 22.318125 \n\" style=\"fill: none; stroke: #000000; stroke-width: 0.8; stroke-linejoin: miter; stroke-linecap: square\"/>\n   </g>\n   <g id=\"patch_12\">\n    <path d=\"M 890.328125 299.518125 \nL 890.328125 22.318125 \n\" style=\"fill: none; stroke: #000000; stroke-width: 0.8; stroke-linejoin: miter; stroke-linecap: square\"/>\n   </g>\n   <g id=\"patch_13\">\n    <path d=\"M 53.328125 299.518125 \nL 890.328125 299.518125 \n\" style=\"fill: none; stroke: #000000; stroke-width: 0.8; stroke-linejoin: miter; stroke-linecap: square\"/>\n   </g>\n   <g id=\"patch_14\">\n    <path d=\"M 53.328125 22.318125 \nL 890.328125 22.318125 \n\" style=\"fill: none; stroke: #000000; stroke-width: 0.8; stroke-linejoin: miter; stroke-linecap: square\"/>\n   </g>\n   <g id=\"text_16\">\n    <!-- Average Capital Gain/Loss by Income -->\n    <g transform=\"translate(360.10625 16.318125) scale(0.12 -0.12)\">\n     <defs>\n      <path id=\"DejaVuSans-76\" d=\"M 191 3500 \nL 800 3500 \nL 1894 563 \nL 2988 3500 \nL 3597 3500 \nL 2284 0 \nL 1503 0 \nL 191 3500 \nz\n\" transform=\"scale(0.015625)\"/>\n      <path id=\"DejaVuSans-72\" d=\"M 2631 2963 \nQ 2534 3019 2420 3045 \nQ 2306 3072 2169 3072 \nQ 1681 3072 1420 2755 \nQ 1159 2438 1159 1844 \nL 1159 0 \nL 581 0 \nL 581 3500 \nL 1159 3500 \nL 1159 2956 \nQ 1341 3275 1631 3429 \nQ 1922 3584 2338 3584 \nQ 2397 3584 2469 3576 \nQ 2541 3569 2628 3553 \nL 2631 2963 \nz\n\" transform=\"scale(0.015625)\"/>\n      <path id=\"DejaVuSans-61\" d=\"M 2194 1759 \nQ 1497 1759 1228 1600 \nQ 959 1441 959 1056 \nQ 959 750 1161 570 \nQ 1363 391 1709 391 \nQ 2188 391 2477 730 \nQ 2766 1069 2766 1631 \nL 2766 1759 \nL 2194 1759 \nz\nM 3341 1997 \nL 3341 0 \nL 2766 0 \nL 2766 531 \nQ 2569 213 2275 61 \nQ 1981 -91 1556 -91 \nQ 1019 -91 701 211 \nQ 384 513 384 1019 \nQ 384 1609 779 1909 \nQ 1175 2209 1959 2209 \nL 2766 2209 \nL 2766 2266 \nQ 2766 2663 2505 2880 \nQ 2244 3097 1772 3097 \nQ 1472 3097 1187 3025 \nQ 903 2953 641 2809 \nL 641 3341 \nQ 956 3463 1253 3523 \nQ 1550 3584 1831 3584 \nQ 2591 3584 2966 3190 \nQ 3341 2797 3341 1997 \nz\n\" transform=\"scale(0.015625)\"/>\n      <path id=\"DejaVuSans-67\" d=\"M 2906 1791 \nQ 2906 2416 2648 2759 \nQ 2391 3103 1925 3103 \nQ 1463 3103 1205 2759 \nQ 947 2416 947 1791 \nQ 947 1169 1205 825 \nQ 1463 481 1925 481 \nQ 2391 481 2648 825 \nQ 2906 1169 2906 1791 \nz\nM 3481 434 \nQ 3481 -459 3084 -895 \nQ 2688 -1331 1869 -1331 \nQ 1566 -1331 1297 -1286 \nQ 1028 -1241 775 -1147 \nL 775 -588 \nQ 1028 -725 1275 -790 \nQ 1522 -856 1778 -856 \nQ 2344 -856 2625 -561 \nQ 2906 -266 2906 331 \nL 2906 616 \nQ 2728 306 2450 153 \nQ 2172 0 1784 0 \nQ 1141 0 747 490 \nQ 353 981 353 1791 \nQ 353 2603 747 3093 \nQ 1141 3584 1784 3584 \nQ 2172 3584 2450 3431 \nQ 2728 3278 2906 2969 \nL 2906 3500 \nL 3481 3500 \nL 3481 434 \nz\n\" transform=\"scale(0.015625)\"/>\n      <path id=\"DejaVuSans-43\" d=\"M 4122 4306 \nL 4122 3641 \nQ 3803 3938 3442 4084 \nQ 3081 4231 2675 4231 \nQ 1875 4231 1450 3742 \nQ 1025 3253 1025 2328 \nQ 1025 1406 1450 917 \nQ 1875 428 2675 428 \nQ 3081 428 3442 575 \nQ 3803 722 4122 1019 \nL 4122 359 \nQ 3791 134 3420 21 \nQ 3050 -91 2638 -91 \nQ 1578 -91 968 557 \nQ 359 1206 359 2328 \nQ 359 3453 968 4101 \nQ 1578 4750 2638 4750 \nQ 3056 4750 3426 4639 \nQ 3797 4528 4122 4306 \nz\n\" transform=\"scale(0.015625)\"/>\n      <path id=\"DejaVuSans-70\" d=\"M 1159 525 \nL 1159 -1331 \nL 581 -1331 \nL 581 3500 \nL 1159 3500 \nL 1159 2969 \nQ 1341 3281 1617 3432 \nQ 1894 3584 2278 3584 \nQ 2916 3584 3314 3078 \nQ 3713 2572 3713 1747 \nQ 3713 922 3314 415 \nQ 2916 -91 2278 -91 \nQ 1894 -91 1617 61 \nQ 1341 213 1159 525 \nz\nM 3116 1747 \nQ 3116 2381 2855 2742 \nQ 2594 3103 2138 3103 \nQ 1681 3103 1420 2742 \nQ 1159 2381 1159 1747 \nQ 1159 1113 1420 752 \nQ 1681 391 2138 391 \nQ 2594 391 2855 752 \nQ 3116 1113 3116 1747 \nz\n\" transform=\"scale(0.015625)\"/>\n      <path id=\"DejaVuSans-6c\" d=\"M 603 4863 \nL 1178 4863 \nL 1178 0 \nL 603 0 \nL 603 4863 \nz\n\" transform=\"scale(0.015625)\"/>\n      <path id=\"DejaVuSans-47\" d=\"M 3809 666 \nL 3809 1919 \nL 2778 1919 \nL 2778 2438 \nL 4434 2438 \nL 4434 434 \nQ 4069 175 3628 42 \nQ 3188 -91 2688 -91 \nQ 1594 -91 976 548 \nQ 359 1188 359 2328 \nQ 359 3472 976 4111 \nQ 1594 4750 2688 4750 \nQ 3144 4750 3555 4637 \nQ 3966 4525 4313 4306 \nL 4313 3634 \nQ 3963 3931 3569 4081 \nQ 3175 4231 2741 4231 \nQ 1884 4231 1454 3753 \nQ 1025 3275 1025 2328 \nQ 1025 1384 1454 906 \nQ 1884 428 2741 428 \nQ 3075 428 3337 486 \nQ 3600 544 3809 666 \nz\n\" transform=\"scale(0.015625)\"/>\n      <path id=\"DejaVuSans-2f\" d=\"M 1625 4666 \nL 2156 4666 \nL 531 -594 \nL 0 -594 \nL 1625 4666 \nz\n\" transform=\"scale(0.015625)\"/>\n      <path id=\"DejaVuSans-4c\" d=\"M 628 4666 \nL 1259 4666 \nL 1259 531 \nL 3531 531 \nL 3531 0 \nL 628 0 \nL 628 4666 \nz\n\" transform=\"scale(0.015625)\"/>\n      <path id=\"DejaVuSans-73\" d=\"M 2834 3397 \nL 2834 2853 \nQ 2591 2978 2328 3040 \nQ 2066 3103 1784 3103 \nQ 1356 3103 1142 2972 \nQ 928 2841 928 2578 \nQ 928 2378 1081 2264 \nQ 1234 2150 1697 2047 \nL 1894 2003 \nQ 2506 1872 2764 1633 \nQ 3022 1394 3022 966 \nQ 3022 478 2636 193 \nQ 2250 -91 1575 -91 \nQ 1294 -91 989 -36 \nQ 684 19 347 128 \nL 347 722 \nQ 666 556 975 473 \nQ 1284 391 1588 391 \nQ 1994 391 2212 530 \nQ 2431 669 2431 922 \nQ 2431 1156 2273 1281 \nQ 2116 1406 1581 1522 \nL 1381 1569 \nQ 847 1681 609 1914 \nQ 372 2147 372 2553 \nQ 372 3047 722 3315 \nQ 1072 3584 1716 3584 \nQ 2034 3584 2315 3537 \nQ 2597 3491 2834 3397 \nz\n\" transform=\"scale(0.015625)\"/>\n      <path id=\"DejaVuSans-62\" d=\"M 3116 1747 \nQ 3116 2381 2855 2742 \nQ 2594 3103 2138 3103 \nQ 1681 3103 1420 2742 \nQ 1159 2381 1159 1747 \nQ 1159 1113 1420 752 \nQ 1681 391 2138 391 \nQ 2594 391 2855 752 \nQ 3116 1113 3116 1747 \nz\nM 1159 2969 \nQ 1341 3281 1617 3432 \nQ 1894 3584 2278 3584 \nQ 2916 3584 3314 3078 \nQ 3713 2572 3713 1747 \nQ 3713 922 3314 415 \nQ 2916 -91 2278 -91 \nQ 1894 -91 1617 61 \nQ 1341 213 1159 525 \nL 1159 0 \nL 581 0 \nL 581 4863 \nL 1159 4863 \nL 1159 2969 \nz\n\" transform=\"scale(0.015625)\"/>\n      <path id=\"DejaVuSans-79\" d=\"M 2059 -325 \nQ 1816 -950 1584 -1140 \nQ 1353 -1331 966 -1331 \nL 506 -1331 \nL 506 -850 \nL 844 -850 \nQ 1081 -850 1212 -737 \nQ 1344 -625 1503 -206 \nL 1606 56 \nL 191 3500 \nL 800 3500 \nL 1894 763 \nL 2988 3500 \nL 3597 3500 \nL 2059 -325 \nz\n\" transform=\"scale(0.015625)\"/>\n      <path id=\"DejaVuSans-49\" d=\"M 628 4666 \nL 1259 4666 \nL 1259 0 \nL 628 0 \nL 628 4666 \nz\n\" transform=\"scale(0.015625)\"/>\n     </defs>\n     <use xlink:href=\"#DejaVuSans-41\"/>\n     <use xlink:href=\"#DejaVuSans-76\" transform=\"translate(62.533203 0)\"/>\n     <use xlink:href=\"#DejaVuSans-65\" transform=\"translate(121.712891 0)\"/>\n     <use xlink:href=\"#DejaVuSans-72\" transform=\"translate(183.236328 0)\"/>\n     <use xlink:href=\"#DejaVuSans-61\" transform=\"translate(224.349609 0)\"/>\n     <use xlink:href=\"#DejaVuSans-67\" transform=\"translate(285.628906 0)\"/>\n     <use xlink:href=\"#DejaVuSans-65\" transform=\"translate(349.105469 0)\"/>\n     <use xlink:href=\"#DejaVuSans-20\" transform=\"translate(410.628906 0)\"/>\n     <use xlink:href=\"#DejaVuSans-43\" transform=\"translate(442.416016 0)\"/>\n     <use xlink:href=\"#DejaVuSans-61\" transform=\"translate(512.240234 0)\"/>\n     <use xlink:href=\"#DejaVuSans-70\" transform=\"translate(573.519531 0)\"/>\n     <use xlink:href=\"#DejaVuSans-69\" transform=\"translate(636.996094 0)\"/>\n     <use xlink:href=\"#DejaVuSans-74\" transform=\"translate(664.779297 0)\"/>\n     <use xlink:href=\"#DejaVuSans-61\" transform=\"translate(703.988281 0)\"/>\n     <use xlink:href=\"#DejaVuSans-6c\" transform=\"translate(765.267578 0)\"/>\n     <use xlink:href=\"#DejaVuSans-20\" transform=\"translate(793.050781 0)\"/>\n     <use xlink:href=\"#DejaVuSans-47\" transform=\"translate(824.837891 0)\"/>\n     <use xlink:href=\"#DejaVuSans-61\" transform=\"translate(902.328125 0)\"/>\n     <use xlink:href=\"#DejaVuSans-69\" transform=\"translate(963.607422 0)\"/>\n     <use xlink:href=\"#DejaVuSans-6e\" transform=\"translate(991.390625 0)\"/>\n     <use xlink:href=\"#DejaVuSans-2f\" transform=\"translate(1054.769531 0)\"/>\n     <use xlink:href=\"#DejaVuSans-4c\" transform=\"translate(1088.460938 0)\"/>\n     <use xlink:href=\"#DejaVuSans-6f\" transform=\"translate(1142.423828 0)\"/>\n     <use xlink:href=\"#DejaVuSans-73\" transform=\"translate(1203.605469 0)\"/>\n     <use xlink:href=\"#DejaVuSans-73\" transform=\"translate(1255.705078 0)\"/>\n     <use xlink:href=\"#DejaVuSans-20\" transform=\"translate(1307.804688 0)\"/>\n     <use xlink:href=\"#DejaVuSans-62\" transform=\"translate(1339.591797 0)\"/>\n     <use xlink:href=\"#DejaVuSans-79\" transform=\"translate(1403.068359 0)\"/>\n     <use xlink:href=\"#DejaVuSans-20\" transform=\"translate(1462.248047 0)\"/>\n     <use xlink:href=\"#DejaVuSans-49\" transform=\"translate(1494.035156 0)\"/>\n     <use xlink:href=\"#DejaVuSans-6e\" transform=\"translate(1523.527344 0)\"/>\n     <use xlink:href=\"#DejaVuSans-63\" transform=\"translate(1586.90625 0)\"/>\n     <use xlink:href=\"#DejaVuSans-6f\" transform=\"translate(1641.886719 0)\"/>\n     <use xlink:href=\"#DejaVuSans-6d\" transform=\"translate(1703.068359 0)\"/>\n     <use xlink:href=\"#DejaVuSans-65\" transform=\"translate(1800.480469 0)\"/>\n    </g>\n   </g>\n   <g id=\"legend_1\">\n    <g id=\"patch_15\">\n     <path d=\"M 792.548437 59.674375 \nL 883.328125 59.674375 \nQ 885.328125 59.674375 885.328125 57.674375 \nL 885.328125 29.318125 \nQ 885.328125 27.318125 883.328125 27.318125 \nL 792.548437 27.318125 \nQ 790.548437 27.318125 790.548437 29.318125 \nL 790.548437 57.674375 \nQ 790.548437 59.674375 792.548437 59.674375 \nz\n\" style=\"fill: #ffffff; opacity: 0.8; stroke: #cccccc; stroke-linejoin: miter\"/>\n    </g>\n    <g id=\"patch_16\">\n     <path d=\"M 794.548437 38.916563 \nL 814.548437 38.916563 \nL 814.548437 31.916563 \nL 794.548437 31.916563 \nz\n\" style=\"fill: #1f77b4\"/>\n    </g>\n    <g id=\"text_17\">\n     <!-- capital-gain -->\n     <g transform=\"translate(822.548437 38.916563) scale(0.1 -0.1)\">\n      <defs>\n       <path id=\"DejaVuSans-2d\" d=\"M 313 2009 \nL 1997 2009 \nL 1997 1497 \nL 313 1497 \nL 313 2009 \nz\n\" transform=\"scale(0.015625)\"/>\n      </defs>\n      <use xlink:href=\"#DejaVuSans-63\"/>\n      <use xlink:href=\"#DejaVuSans-61\" transform=\"translate(54.980469 0)\"/>\n      <use xlink:href=\"#DejaVuSans-70\" transform=\"translate(116.259766 0)\"/>\n      <use xlink:href=\"#DejaVuSans-69\" transform=\"translate(179.736328 0)\"/>\n      <use xlink:href=\"#DejaVuSans-74\" transform=\"translate(207.519531 0)\"/>\n      <use xlink:href=\"#DejaVuSans-61\" transform=\"translate(246.728516 0)\"/>\n      <use xlink:href=\"#DejaVuSans-6c\" transform=\"translate(308.007812 0)\"/>\n      <use xlink:href=\"#DejaVuSans-2d\" transform=\"translate(335.791016 0)\"/>\n      <use xlink:href=\"#DejaVuSans-67\" transform=\"translate(371.875 0)\"/>\n      <use xlink:href=\"#DejaVuSans-61\" transform=\"translate(435.351562 0)\"/>\n      <use xlink:href=\"#DejaVuSans-69\" transform=\"translate(496.630859 0)\"/>\n      <use xlink:href=\"#DejaVuSans-6e\" transform=\"translate(524.414062 0)\"/>\n     </g>\n    </g>\n    <g id=\"patch_17\">\n     <path d=\"M 794.548437 53.594688 \nL 814.548437 53.594688 \nL 814.548437 46.594688 \nL 794.548437 46.594688 \nz\n\" style=\"fill: #ff7f0e\"/>\n    </g>\n    <g id=\"text_18\">\n     <!-- capital-loss -->\n     <g transform=\"translate(822.548437 53.594688) scale(0.1 -0.1)\">\n      <use xlink:href=\"#DejaVuSans-63\"/>\n      <use xlink:href=\"#DejaVuSans-61\" transform=\"translate(54.980469 0)\"/>\n      <use xlink:href=\"#DejaVuSans-70\" transform=\"translate(116.259766 0)\"/>\n      <use xlink:href=\"#DejaVuSans-69\" transform=\"translate(179.736328 0)\"/>\n      <use xlink:href=\"#DejaVuSans-74\" transform=\"translate(207.519531 0)\"/>\n      <use xlink:href=\"#DejaVuSans-61\" transform=\"translate(246.728516 0)\"/>\n      <use xlink:href=\"#DejaVuSans-6c\" transform=\"translate(308.007812 0)\"/>\n      <use xlink:href=\"#DejaVuSans-2d\" transform=\"translate(335.791016 0)\"/>\n      <use xlink:href=\"#DejaVuSans-6c\" transform=\"translate(371.875 0)\"/>\n      <use xlink:href=\"#DejaVuSans-6f\" transform=\"translate(399.658203 0)\"/>\n      <use xlink:href=\"#DejaVuSans-73\" transform=\"translate(460.839844 0)\"/>\n      <use xlink:href=\"#DejaVuSans-73\" transform=\"translate(512.939453 0)\"/>\n     </g>\n    </g>\n   </g>\n  </g>\n </g>\n <defs>\n  <clipPath id=\"p00957ce82a\">\n   <rect x=\"53.328125\" y=\"22.318125\" width=\"837\" height=\"277.2\"/>\n  </clipPath>\n </defs>\n</svg>\n"
          },
          "metadata": {}
        }
      ]
    }
  ]
}